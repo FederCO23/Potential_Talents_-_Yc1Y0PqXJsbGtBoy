{
 "cells": [
  {
   "cell_type": "markdown",
   "id": "b22c4196",
   "metadata": {},
   "source": [
    "## Potential Talents - Part 2"
   ]
  },
  {
   "cell_type": "markdown",
   "id": "2956a14e",
   "metadata": {},
   "source": [
    "----"
   ]
  },
  {
   "cell_type": "markdown",
   "id": "c1c6c4f9",
   "metadata": {},
   "source": [
    "This notebook trains a **mini Word2Vec** model using **Skip-gram with Negative Sampling (SGNS)** on a small corpus, then provides utilities to **explore the vector space**: cosine similarity, nearest neighbors, and classical analogies.\n"
   ]
  },
  {
   "cell_type": "markdown",
   "id": "716b8abb",
   "metadata": {},
   "source": [
    "#### Objectives:\n",
    "\n",
    "- Prepare a small text corpus\n",
    "- Build a vocabulary with `min_count` and subsampling.\n",
    "- Train SGNS in PyTorch using `nn.Embedding` for input/output embeddings.\n",
    "- Save/load checkpoints.\n",
    "- Explore results with similarity/analogy functions.\n",
    "\n",
    "    \n",
    "    "
   ]
  },
  {
   "cell_type": "markdown",
   "id": "b8e935cd",
   "metadata": {},
   "source": [
    "----\n"
   ]
  },
  {
   "cell_type": "markdown",
   "id": "6250d260",
   "metadata": {},
   "source": [
    "## 0) Envorinment and GPU setup\n",
    "\n",
    "\n"
   ]
  },
  {
   "cell_type": "code",
   "execution_count": 1,
   "id": "d1e75813",
   "metadata": {},
   "outputs": [],
   "source": [
    "import re\n",
    "import math\n",
    "import random\n",
    "from collections import Counter\n",
    "from typing import List, Tuple, Dict\n",
    "\n",
    "import numpy as np\n",
    "import torch\n",
    "from torch import nn\n",
    "from torch.utils.data import Dataset, DataLoader\n",
    "\n",
    "import sys, torch, platform"
   ]
  },
  {
   "cell_type": "code",
   "execution_count": 2,
   "id": "e824e6fe",
   "metadata": {},
   "outputs": [
    {
     "name": "stdout",
     "output_type": "stream",
     "text": [
      "python: e:\\Devs\\pyEnv-1\\venvs\\Pot-Tals_env\\Scripts\\python.exe\n",
      "torch file: e:\\Devs\\pyEnv-1\\venvs\\Pot-Tals_env\\Lib\\site-packages\\torch\\__init__.py\n",
      "torch version: 2.6.0+cu124\n",
      "torch.version.cuda: 12.4\n",
      "cuda available: True\n"
     ]
    }
   ],
   "source": [
    "print(\"python:\", sys.executable)\n",
    "print(\"torch file:\", torch.__file__)\n",
    "print(\"torch version:\", torch.__version__)\n",
    "print(\"torch.version.cuda:\", torch.version.cuda)\n",
    "print(\"cuda available:\", torch.cuda.is_available())\n"
   ]
  },
  {
   "cell_type": "code",
   "execution_count": 3,
   "id": "ce9ce329",
   "metadata": {},
   "outputs": [],
   "source": [
    "#SEED = random.randint(10000, 99999)\n",
    "#SEED\n",
    "SEED = 23"
   ]
  },
  {
   "cell_type": "code",
   "execution_count": 4,
   "id": "38727c32",
   "metadata": {},
   "outputs": [
    {
     "name": "stdout",
     "output_type": "stream",
     "text": [
      "Using device: cuda\n"
     ]
    }
   ],
   "source": [
    "random.seed(SEED)\n",
    "np.random.seed(SEED)\n",
    "torch.manual_seed(SEED)\n",
    "torch.cuda.manual_seed_all(SEED)\n",
    "device = torch.device('cuda' if torch.cuda.is_available() else 'cpu')\n",
    "print(f'Using device: {device}')"
   ]
  },
  {
   "cell_type": "markdown",
   "id": "e9d69965",
   "metadata": {},
   "source": [
    "## 1) Load / prepare a corpus\n",
    "\n"
   ]
  },
  {
   "cell_type": "markdown",
   "id": "3f1e64c5",
   "metadata": {},
   "source": [
    "In this section we load a compact Wikipedia subset (**text8**, ~17 MB, from Matt Mahoney's site), which is already lowercased and whitespace-tokenized, perfect for fast Word2Vec experiments without heavy preprocessing. \n",
    "We’ll read the file, split into tokens, and keep them intact (no stopword removal) since frequency effects will be handled later via `min_count` and subsampling.\n"
   ]
  },
  {
   "cell_type": "code",
   "execution_count": 5,
   "id": "60767c94",
   "metadata": {},
   "outputs": [],
   "source": [
    "import os, zipfile, urllib.request"
   ]
  },
  {
   "cell_type": "code",
   "execution_count": 6,
   "id": "059b411a",
   "metadata": {},
   "outputs": [],
   "source": [
    "DATA_DIR = \"data\"\n",
    "os.makedirs(DATA_DIR, exist_ok=True)"
   ]
  },
  {
   "cell_type": "code",
   "execution_count": 7,
   "id": "5d23c68f",
   "metadata": {},
   "outputs": [],
   "source": [
    "URL = \"http://mattmahoney.net/dc/text8.zip\"\n",
    "ZIP_PATH = os.path.join(DATA_DIR, \"text8.zip\")\n",
    "TXT_PATH = os.path.join(DATA_DIR, \"text8\")  # file inside the zip is named 'text8' (no .txt)\n"
   ]
  },
  {
   "cell_type": "code",
   "execution_count": 8,
   "id": "fdb591ab",
   "metadata": {},
   "outputs": [],
   "source": [
    "# Download the dataset\n",
    "if not os.path.exists(ZIP_PATH) and not os.path.exists(TXT_PATH):\n",
    "    print(\"Downloading text8...\")\n",
    "    urllib.request.urlretrieve(URL, ZIP_PATH)\n",
    "    print(\"Done.\")"
   ]
  },
  {
   "cell_type": "code",
   "execution_count": 9,
   "id": "0c0a4138",
   "metadata": {},
   "outputs": [],
   "source": [
    "# Extraction\n",
    "if os.path.exists(ZIP_PATH) and not os.path.exists(TXT_PATH):\n",
    "    print(\"Extracting...\")\n",
    "    with zipfile.ZipFile(ZIP_PATH) as zf:\n",
    "        zf.extractall(DATA_DIR)\n",
    "    print(\"Done.\")\n"
   ]
  },
  {
   "cell_type": "code",
   "execution_count": 10,
   "id": "6e3a0ba8",
   "metadata": {},
   "outputs": [
    {
     "name": "stdout",
     "output_type": "stream",
     "text": [
      "Total tokens: 17,005,207\n",
      "Sample: ['anarchism', 'originated', 'as', 'a', 'term', 'of', 'abuse', 'first', 'used', 'against', 'early', 'working', 'class', 'radicals', 'including', 'the', 'diggers', 'of', 'the', 'english']\n"
     ]
    }
   ],
   "source": [
    "# Load tokens (text8 is already lowercased and space-separated)\n",
    "with open(TXT_PATH, \"r\", encoding=\"utf-8\") as f:\n",
    "    text = f.read()\n",
    "tokens = text.split()\n",
    "print(f\"Total tokens: {len(tokens):,}\")\n",
    "print(\"Sample:\", tokens[:20])"
   ]
  },
  {
   "cell_type": "markdown",
   "id": "0f062592",
   "metadata": {},
   "source": [
    "## 2) Build vocabulary (+ min_count)"
   ]
  },
  {
   "cell_type": "markdown",
   "id": "14fe3ee9",
   "metadata": {},
   "source": [
    "In this step we build the vocabulary and map tokens to integer IDs. We keep only words that appear at least `min_count` times (to drop rare noise and speed up training), create `stoi/itos` mappings, and convert the corpus into an ID sequence (`ids`). \n",
    "**We’re not removing stopwords here, frequency effects will be handled later via subsampling**.\n"
   ]
  },
  {
   "cell_type": "code",
   "execution_count": 11,
   "id": "332c9744",
   "metadata": {},
   "outputs": [],
   "source": [
    "MIN_COUNT = 5  # keep words that appear at least 5 times. I'll tweak it later... <--#\n",
    "\n",
    "freq = Counter(tokens)\n",
    "\n",
    "vocab = {w:c for w,c in freq.items() if c >= MIN_COUNT}\n"
   ]
  },
  {
   "cell_type": "code",
   "execution_count": 12,
   "id": "0194725c",
   "metadata": {},
   "outputs": [],
   "source": [
    "# index -> string\n",
    "itos = sorted(vocab.keys())\n",
    "\n",
    "# string -> index                   \n",
    "stoi = {w:i for i,w in enumerate(itos)}\n",
    "\n",
    "# Map corpus to ids, dropping rare words\n",
    "ids = [stoi[w] for w in tokens if w in stoi]"
   ]
  },
  {
   "cell_type": "code",
   "execution_count": 17,
   "id": "d7ae3af3",
   "metadata": {},
   "outputs": [
    {
     "name": "stdout",
     "output_type": "stream",
     "text": [
      "['a', 'aa', 'aaa', 'aaaa', 'aaai', 'aaas', 'aac', 'aachen', 'aafc', 'aage']\n"
     ]
    }
   ],
   "source": [
    "print(itos[:10])\n"
   ]
  },
  {
   "cell_type": "code",
   "execution_count": 14,
   "id": "879c654e",
   "metadata": {},
   "outputs": [
    {
     "name": "stdout",
     "output_type": "stream",
     "text": [
      "a 0\n",
      "aa 1\n",
      "aaa 2\n",
      "aaaa 3\n",
      "aaai 4\n",
      "aaas 5\n",
      "aac 6\n",
      "aachen 7\n",
      "aafc 8\n",
      "aage 9\n"
     ]
    }
   ],
   "source": [
    "for k in sorted(stoi)[:10]:\n",
    "    print(k, stoi[k])\n"
   ]
  },
  {
   "cell_type": "code",
   "execution_count": 16,
   "id": "66568cf8",
   "metadata": {},
   "outputs": [
    {
     "name": "stdout",
     "output_type": "stream",
     "text": [
      "[2588, 46291, 4079, 0, 63653, 45639, 339, 23735, 67385, 1223]\n"
     ]
    }
   ],
   "source": [
    "print(ids[:10])"
   ]
  },
  {
   "cell_type": "code",
   "execution_count": 21,
   "id": "76b866d7",
   "metadata": {},
   "outputs": [
    {
     "data": {
      "text/plain": [
       "0.9831602755555989"
      ]
     },
     "execution_count": 21,
     "metadata": {},
     "output_type": "execute_result"
    }
   ],
   "source": [
    "len(ids)/len(tokens)"
   ]
  },
  {
   "cell_type": "code",
   "execution_count": 18,
   "id": "8508b32a",
   "metadata": {},
   "outputs": [
    {
     "name": "stdout",
     "output_type": "stream",
     "text": [
      "Vocab size: 71,290\n",
      "Corpus length (ids): 16,718,844, filtered from rare words (which appear less than 5 times)\n",
      "Top 10 most common: [('the', 1061396), ('of', 593677), ('and', 416629), ('one', 411764), ('in', 372201), ('a', 325873), ('to', 316376), ('zero', 264975), ('nine', 250430), ('two', 192644)]\n"
     ]
    }
   ],
   "source": [
    "print(f\"Vocab size: {len(itos):,}\")\n",
    "print(f\"Corpus length (ids): {len(ids):,}, filtered from rare words (which appear less than {MIN_COUNT} times)\")\n",
    "print(\"Top 10 most common:\", freq.most_common(10))"
   ]
  },
  {
   "cell_type": "markdown",
   "id": "f726ea7c",
   "metadata": {},
   "source": [
    "## 3) How to address the extensive needed Neural Network size to train the model?"
   ]
  },
  {
   "cell_type": "markdown",
   "id": "b01ab5a7",
   "metadata": {},
   "source": [
    "### Problem\n",
    "\n",
    "- Vocabulary size $|V| = 71{,}290$, embedding size $D = 300$.\n",
    "- Skip-gram uses **two** $D \\times |V|$ matrices (input + output):\n",
    "  $$\n",
    "  2 \\times |V| \\times D = 2 \\times 71{,}290 \\times 300 = 42{,}774{,}000\n",
    "  $$\n",
    "  → a **large network** plus an expensive full softmax over $|V|$ for every training pair.\n",
    "\n",
    "### Solution\n",
    "\n",
    "**Subsampling (frequent tokens)**\n",
    "- Keep each token $w$ with probability $p_{\\text{keep}}(w)$ that decreases with its frequency.\n",
    "- Greatly **reduces the number of training pairs** while preserving co-occurrence structure in expectation.\n",
    "\n",
    "**Negative Sampling (SGNS)**\n",
    "- Replace the full softmax with a small set of **binary** predictions per pair (one positive context, a few sampled negatives), so **each update touches only a tiny subset of embeddings**, making training scalable.\n",
    "\n"
   ]
  },
  {
   "cell_type": "markdown",
   "id": "d6509e32",
   "metadata": {},
   "source": [
    "## 4) Subsampling"
   ]
  },
  {
   "cell_type": "markdown",
   "id": "d9166e90",
   "metadata": {},
   "source": [
    "**Subsampling: keep probability $p_{\\text{keep}}(w)$**\n",
    "$$\n",
    "\n",
    "$$\n",
    "\n",
    "**Goal.** Thin very frequent words without deleting them outright, speed up training while preserving context geometry.\n",
    "\n",
    "**Definitions**\n",
    "- $f(w)$: relative frequency of word \\(w\\) in the original token stream: $\\text{count}(w)/\\text{total tokens}$.\n",
    "- $t$: small threshold, typically $10^{-5}$ – $10^{-4}$.\n",
    "\n",
    "**Original (Mikolov, 2013)**  \n",
    "$$\n",
    "p_{\\text{keep}}(w)=\\min\\!\\left(1,\\ \\sqrt{\\frac{t}{f(w)}}\\right)\n",
    "$$\n",
    "\n",
    "**Gensim-style (more forgiving for mid/low frequencies)**  \n",
    "$$\n",
    "p_{\\text{keep}}(w)=\\min\\!\\left(1,\\ \\sqrt{\\frac{t}{f(w)}}+\\frac{t}{f(w)}\\right)\n",
    "$$\n",
    "\n",
    "**Behavior**\n",
    "- If $f(w)\\le t$: $p_{\\text{keep}}\\approx 1$ (rare words kept).\n",
    "- If $f(w)\\gg t$: $p_{\\text{keep}}$ is small (frequent words thinned).\n",
    "- If a word occurs $c_w$ times, kept count $\\tilde c_w \\sim \\mathrm{Binomial}(c_w, p_{\\text{keep}})$ with $\\mathbb{E}[\\tilde c_w]=c_w\\,p_{\\text{keep}}$."
   ]
  },
  {
   "cell_type": "markdown",
   "id": "c3d44a78",
   "metadata": {},
   "source": [
    "Let's plot the previous formulas to better understand the dinamics of subsampling"
   ]
  },
  {
   "cell_type": "code",
   "execution_count": 23,
   "id": "512aea27",
   "metadata": {},
   "outputs": [],
   "source": [
    "import matplotlib.pyplot as plt"
   ]
  },
  {
   "cell_type": "code",
   "execution_count": 27,
   "id": "8fe3e141",
   "metadata": {},
   "outputs": [
    {
     "data": {
      "image/png": "[encoded data removed]",
      "text/plain": [
       "<Figure size 1200x800 with 4 Axes>"
      ]
     },
     "metadata": {},
     "output_type": "display_data"
    }
   ],
   "source": [
    "import matplotlib.pyplot as plt\n",
    "\n",
    "# keep-probability formulas:\n",
    "# classic\n",
    "def p_keep_classic(f, t):\n",
    "    f = np.asarray(f, dtype=float)\n",
    "    return np.minimum(1.0, np.sqrt(t / f))\n",
    "\n",
    "# gensim-style\n",
    "def p_keep_gensim(f, t):\n",
    "    f = np.asarray(f, dtype=float)\n",
    "    return np.minimum(1.0, np.sqrt(t / f) + (t / f))\n",
    "\n",
    "# build frequency grid from corpus\n",
    "total_tokens = sum(freq.values())\n",
    "freq_prop = np.array([freq[w] / total_tokens for w in vocab.keys()], dtype=float)\n",
    "\n",
    "f_min = float(freq_prop.min()) if len(freq_prop) else 1.0 / max(total_tokens, 1)\n",
    "f_max = float(freq_prop.max()) if len(freq_prop) else f_min * 10\n",
    "\n",
    "# ensure strictly positive\n",
    "f_min = max(f_min, 1.0 / total_tokens)\n",
    "if not np.isfinite(f_min) or not np.isfinite(f_max) or f_min >= f_max:\n",
    "    f_min, f_max = 1e-8, 1e-1\n",
    "\n",
    "f_grid = np.logspace(np.log10(f_min), np.log10(f_max), 400)\n",
    "\n",
    "# plot: 2x2 figure\n",
    "fig, axs = plt.subplots(2, 2, figsize=(12, 8), sharex=True, sharey=True)\n",
    "\n",
    "settings = [\n",
    "    (\"Classic\", 1e-5, p_keep_classic),\n",
    "    (\"Gensim-style\", 1e-5, p_keep_gensim),\n",
    "    (\"Classic\", 1e-4, p_keep_classic),\n",
    "    (\"Gensim-style\", 1e-4, p_keep_gensim),\n",
    "]\n",
    "\n",
    "for ax, (label, t, fn) in zip(axs.ravel(), settings):\n",
    "    y = fn(f_grid, t)\n",
    "    ax.semilogx(f_grid, y)\n",
    "    ax.set_ylim(0, 1.05)\n",
    "    ax.grid(True, which=\"both\")\n",
    "    ax.set_title(f\"Subsampling ({label}) — t = {t:g}\")\n",
    "\n",
    "fig.text(0.5, 0.04, \"Relative frequency f(w) (log scale)\", ha=\"center\")\n",
    "fig.text(0.04, 0.5, \"Keep probability p_keep\", va=\"center\", rotation=\"vertical\")\n",
    "\n",
    "plt.tight_layout(rect=[0.06, 0.06, 1, 1])\n",
    "plt.show()\n"
   ]
  },
  {
   "cell_type": "markdown",
   "id": "2c175bfb",
   "metadata": {},
   "source": [
    "**Conclusion (Subsampling)**\n",
    "- Words with **high relative frequency** (e.g., stopwords) have a **low keep probability** and are **heavily thinned**.\n",
    "- Because thinning is **probabilistic per token** (Bernoulli with $p_{\\text{keep}}(w)$), very frequent words are **not removed entirely**; a small, representative sample remains, which helps **preserve co-occurrence structure** while reducing compute.\n",
    "- **Rare words** ($f(w)\\le t$) are **largely unaffected** ($p_{\\text{keep}}\\approx 1$).\n",
    "- Increasing $t$ (e.g., $10^{-5}\\rightarrow10^{-4}$) **raises** $p_{\\text{keep}}$ for a given $f$ and shifts the drop-off to the right, making subsampling **less aggressive** (more tokens kept).\n",
    "- The **Gensim-style** rule keeps slightly **more** mid-frequency words than the classic rule; at very high $f$, both behave similarly.\n"
   ]
  },
  {
   "cell_type": "code",
   "execution_count": 28,
   "id": "5fdf39d3",
   "metadata": {},
   "outputs": [],
   "source": [
    "# Subsampling config:\n",
    "SUBSAMPLE_T = 1e-5        \n",
    "USE_GENSIM_STYLE = True   "
   ]
  },
  {
   "cell_type": "code",
   "execution_count": 29,
   "id": "b430450b",
   "metadata": {},
   "outputs": [],
   "source": [
    "# Relative frequencies computed on the ORIGINAL stream (before min_count filtering)\n",
    "total_tokens = sum(freq.values())\n",
    "freq_prop = {w: freq[w] / total_tokens for w in vocab} "
   ]
  },
  {
   "cell_type": "code",
   "execution_count": 30,
   "id": "2132cdc6",
   "metadata": {},
   "outputs": [],
   "source": [
    "# p_keep function\n",
    "def keep_probability(f, t=SUBSAMPLE_T, gensim_style=USE_GENSIM_STYLE):\n",
    "    if t is None:\n",
    "        return 1.0\n",
    "    base = math.sqrt(t / f)\n",
    "    return min(1.0, base + (t / f)) if gensim_style else min(1.0, base)\n"
   ]
  },
  {
   "cell_type": "code",
   "execution_count": 31,
   "id": "2c00ac87",
   "metadata": {},
   "outputs": [],
   "source": [
    "# Apply subsampling over the original tokens\n",
    "tokens_sub = []\n",
    "dropped = 0\n",
    "for w in tokens:\n",
    "    if w not in stoi:         # we skip the words removed by min_count\n",
    "        continue\n",
    "    f = freq_prop[w]\n",
    "    if random.random() < keep_probability(f):\n",
    "        tokens_sub.append(w)\n",
    "    else:\n",
    "        dropped += 1\n"
   ]
  },
  {
   "cell_type": "code",
   "execution_count": 37,
   "id": "8fa2b2c7",
   "metadata": {},
   "outputs": [
    {
     "name": "stdout",
     "output_type": "stream",
     "text": [
      "Before subsampling: 17,005,207 tokens\n",
      "After  subsampling: 5,595,988 tokens  (dropped 11,122,856 -> 65.4%)\n",
      "IDs length (post-subsample): 5,595,988\n"
     ]
    }
   ],
   "source": [
    "# print results\n",
    "print(f\"Before subsampling: {len(tokens):,} tokens\")\n",
    "print(f\"After  subsampling: {len(tokens_sub):,} tokens  \"\n",
    "      f\"(dropped {dropped:,} -> {dropped/len(tokens):.1%})\")\n",
    "\n",
    "# Re-map to ids for training on the subsampled stream\n",
    "ids = [stoi[w] for w in tokens_sub]\n",
    "print(f\"IDs length (post-subsample): {len(ids):,}\")\n"
   ]
  },
  {
   "cell_type": "code",
   "execution_count": null,
   "id": "fd22c056",
   "metadata": {},
   "outputs": [],
   "source": [
    "import pandas as pd"
   ]
  },
  {
   "cell_type": "code",
   "execution_count": null,
   "id": "17a69fe8",
   "metadata": {},
   "outputs": [
    {
     "data": {
      "text/html": [
       "<div>\n",
       "<style scoped>\n",
       "    .dataframe tbody tr th:only-of-type {\n",
       "        vertical-align: middle;\n",
       "    }\n",
       "\n",
       "    .dataframe tbody tr th {\n",
       "        vertical-align: top;\n",
       "    }\n",
       "\n",
       "    .dataframe thead th {\n",
       "        text-align: right;\n",
       "    }\n",
       "</style>\n",
       "<table border=\"1\" class=\"dataframe\">\n",
       "  <thead>\n",
       "    <tr style=\"text-align: right;\">\n",
       "      <th></th>\n",
       "      <th>word</th>\n",
       "      <th>count_before</th>\n",
       "      <th>count_after</th>\n",
       "      <th>expected_kept</th>\n",
       "      <th>kept_pct_actual</th>\n",
       "      <th>p_keep_theory</th>\n",
       "      <th>abs_diff_pct</th>\n",
       "    </tr>\n",
       "  </thead>\n",
       "  <tbody>\n",
       "    <tr>\n",
       "      <th>0</th>\n",
       "      <td>the</td>\n",
       "      <td>1061396</td>\n",
       "      <td>13654</td>\n",
       "      <td>13605</td>\n",
       "      <td>1.29</td>\n",
       "      <td>1.28</td>\n",
       "      <td>0.00</td>\n",
       "    </tr>\n",
       "    <tr>\n",
       "      <th>1</th>\n",
       "      <td>of</td>\n",
       "      <td>593677</td>\n",
       "      <td>10291</td>\n",
       "      <td>10218</td>\n",
       "      <td>1.73</td>\n",
       "      <td>1.72</td>\n",
       "      <td>0.01</td>\n",
       "    </tr>\n",
       "    <tr>\n",
       "      <th>2</th>\n",
       "      <td>and</td>\n",
       "      <td>416629</td>\n",
       "      <td>8470</td>\n",
       "      <td>8587</td>\n",
       "      <td>2.03</td>\n",
       "      <td>2.06</td>\n",
       "      <td>0.03</td>\n",
       "    </tr>\n",
       "    <tr>\n",
       "      <th>3</th>\n",
       "      <td>one</td>\n",
       "      <td>411764</td>\n",
       "      <td>8496</td>\n",
       "      <td>8538</td>\n",
       "      <td>2.06</td>\n",
       "      <td>2.07</td>\n",
       "      <td>0.01</td>\n",
       "    </tr>\n",
       "    <tr>\n",
       "      <th>4</th>\n",
       "      <td>in</td>\n",
       "      <td>372201</td>\n",
       "      <td>8063</td>\n",
       "      <td>8126</td>\n",
       "      <td>2.17</td>\n",
       "      <td>2.18</td>\n",
       "      <td>0.02</td>\n",
       "    </tr>\n",
       "    <tr>\n",
       "      <th>5</th>\n",
       "      <td>a</td>\n",
       "      <td>325873</td>\n",
       "      <td>7585</td>\n",
       "      <td>7614</td>\n",
       "      <td>2.33</td>\n",
       "      <td>2.34</td>\n",
       "      <td>0.01</td>\n",
       "    </tr>\n",
       "    <tr>\n",
       "      <th>6</th>\n",
       "      <td>to</td>\n",
       "      <td>316376</td>\n",
       "      <td>7483</td>\n",
       "      <td>7505</td>\n",
       "      <td>2.37</td>\n",
       "      <td>2.37</td>\n",
       "      <td>0.01</td>\n",
       "    </tr>\n",
       "    <tr>\n",
       "      <th>7</th>\n",
       "      <td>zero</td>\n",
       "      <td>264975</td>\n",
       "      <td>6795</td>\n",
       "      <td>6883</td>\n",
       "      <td>2.56</td>\n",
       "      <td>2.60</td>\n",
       "      <td>0.03</td>\n",
       "    </tr>\n",
       "    <tr>\n",
       "      <th>8</th>\n",
       "      <td>nine</td>\n",
       "      <td>250430</td>\n",
       "      <td>6718</td>\n",
       "      <td>6696</td>\n",
       "      <td>2.68</td>\n",
       "      <td>2.67</td>\n",
       "      <td>0.01</td>\n",
       "    </tr>\n",
       "    <tr>\n",
       "      <th>9</th>\n",
       "      <td>two</td>\n",
       "      <td>192644</td>\n",
       "      <td>5991</td>\n",
       "      <td>5894</td>\n",
       "      <td>3.11</td>\n",
       "      <td>3.06</td>\n",
       "      <td>0.05</td>\n",
       "    </tr>\n",
       "    <tr>\n",
       "      <th>10</th>\n",
       "      <td>is</td>\n",
       "      <td>183153</td>\n",
       "      <td>5750</td>\n",
       "      <td>5751</td>\n",
       "      <td>3.14</td>\n",
       "      <td>3.14</td>\n",
       "      <td>0.00</td>\n",
       "    </tr>\n",
       "    <tr>\n",
       "      <th>11</th>\n",
       "      <td>as</td>\n",
       "      <td>131815</td>\n",
       "      <td>4808</td>\n",
       "      <td>4905</td>\n",
       "      <td>3.65</td>\n",
       "      <td>3.72</td>\n",
       "      <td>0.07</td>\n",
       "    </tr>\n",
       "    <tr>\n",
       "      <th>12</th>\n",
       "      <td>eight</td>\n",
       "      <td>125285</td>\n",
       "      <td>4839</td>\n",
       "      <td>4786</td>\n",
       "      <td>3.86</td>\n",
       "      <td>3.82</td>\n",
       "      <td>0.04</td>\n",
       "    </tr>\n",
       "    <tr>\n",
       "      <th>13</th>\n",
       "      <td>for</td>\n",
       "      <td>118445</td>\n",
       "      <td>4731</td>\n",
       "      <td>4658</td>\n",
       "      <td>3.99</td>\n",
       "      <td>3.93</td>\n",
       "      <td>0.06</td>\n",
       "    </tr>\n",
       "    <tr>\n",
       "      <th>14</th>\n",
       "      <td>s</td>\n",
       "      <td>116710</td>\n",
       "      <td>4630</td>\n",
       "      <td>4625</td>\n",
       "      <td>3.97</td>\n",
       "      <td>3.96</td>\n",
       "      <td>0.00</td>\n",
       "    </tr>\n",
       "    <tr>\n",
       "      <th>15</th>\n",
       "      <td>five</td>\n",
       "      <td>115789</td>\n",
       "      <td>4564</td>\n",
       "      <td>4607</td>\n",
       "      <td>3.94</td>\n",
       "      <td>3.98</td>\n",
       "      <td>0.04</td>\n",
       "    </tr>\n",
       "    <tr>\n",
       "      <th>16</th>\n",
       "      <td>three</td>\n",
       "      <td>114775</td>\n",
       "      <td>4588</td>\n",
       "      <td>4588</td>\n",
       "      <td>4.00</td>\n",
       "      <td>4.00</td>\n",
       "      <td>0.00</td>\n",
       "    </tr>\n",
       "    <tr>\n",
       "      <th>17</th>\n",
       "      <td>was</td>\n",
       "      <td>112807</td>\n",
       "      <td>4446</td>\n",
       "      <td>4550</td>\n",
       "      <td>3.94</td>\n",
       "      <td>4.03</td>\n",
       "      <td>0.09</td>\n",
       "    </tr>\n",
       "    <tr>\n",
       "      <th>18</th>\n",
       "      <td>by</td>\n",
       "      <td>111831</td>\n",
       "      <td>4493</td>\n",
       "      <td>4531</td>\n",
       "      <td>4.02</td>\n",
       "      <td>4.05</td>\n",
       "      <td>0.03</td>\n",
       "    </tr>\n",
       "    <tr>\n",
       "      <th>19</th>\n",
       "      <td>that</td>\n",
       "      <td>109510</td>\n",
       "      <td>4403</td>\n",
       "      <td>4485</td>\n",
       "      <td>4.02</td>\n",
       "      <td>4.10</td>\n",
       "      <td>0.08</td>\n",
       "    </tr>\n",
       "  </tbody>\n",
       "</table>\n",
       "</div>"
      ],
      "text/plain": [
       "     word  count_before  count_after  expected_kept  kept_pct_actual  \\\n",
       "0     the       1061396        13654          13605             1.29   \n",
       "1      of        593677        10291          10218             1.73   \n",
       "2     and        416629         8470           8587             2.03   \n",
       "3     one        411764         8496           8538             2.06   \n",
       "4      in        372201         8063           8126             2.17   \n",
       "5       a        325873         7585           7614             2.33   \n",
       "6      to        316376         7483           7505             2.37   \n",
       "7    zero        264975         6795           6883             2.56   \n",
       "8    nine        250430         6718           6696             2.68   \n",
       "9     two        192644         5991           5894             3.11   \n",
       "10     is        183153         5750           5751             3.14   \n",
       "11     as        131815         4808           4905             3.65   \n",
       "12  eight        125285         4839           4786             3.86   \n",
       "13    for        118445         4731           4658             3.99   \n",
       "14      s        116710         4630           4625             3.97   \n",
       "15   five        115789         4564           4607             3.94   \n",
       "16  three        114775         4588           4588             4.00   \n",
       "17    was        112807         4446           4550             3.94   \n",
       "18     by        111831         4493           4531             4.02   \n",
       "19   that        109510         4403           4485             4.02   \n",
       "\n",
       "    p_keep_theory  abs_diff_pct  \n",
       "0            1.28          0.00  \n",
       "1            1.72          0.01  \n",
       "2            2.06          0.03  \n",
       "3            2.07          0.01  \n",
       "4            2.18          0.02  \n",
       "5            2.34          0.01  \n",
       "6            2.37          0.01  \n",
       "7            2.60          0.03  \n",
       "8            2.67          0.01  \n",
       "9            3.06          0.05  \n",
       "10           3.14          0.00  \n",
       "11           3.72          0.07  \n",
       "12           3.82          0.04  \n",
       "13           3.93          0.06  \n",
       "14           3.96          0.00  \n",
       "15           3.98          0.04  \n",
       "16           4.00          0.00  \n",
       "17           4.03          0.09  \n",
       "18           4.05          0.03  \n",
       "19           4.10          0.08  "
      ]
     },
     "execution_count": 39,
     "metadata": {},
     "output_type": "execute_result"
    }
   ],
   "source": [
    "counts_sub = Counter(tokens_sub)\n",
    "N = sum(freq.values())\n",
    "\n",
    "# keep-prob helpers\n",
    "def p_keep_classic(f, t): \n",
    "    return min(1.0, np.sqrt(t/f))\n",
    "def p_keep_gensim(f, t):\n",
    "    return min(1.0, np.sqrt(t/f) + (t/f))\n",
    "\n",
    "def p_keep(f, t=SUBSAMPLE_T, gensim_style=True):\n",
    "    return p_keep_gensim(f, t) if gensim_style else p_keep_classic(f, t)\n",
    "\n",
    "rows = []\n",
    "K = 20\n",
    "for w, c in freq.most_common(K):\n",
    "    f_rel = c / N\n",
    "    pk = p_keep(f_rel, SUBSAMPLE_T, gensim_style=USE_GENSIM_STYLE)\n",
    "    kept = counts_sub[w]\n",
    "    kept_pct = kept / c if c else 0.0\n",
    "    exp_kept = int(round(c * pk))\n",
    "    rows.append({\n",
    "        \"word\": w,\n",
    "        \"count_before\": c,\n",
    "        \"count_after\": kept,\n",
    "        \"kept_pct_actual\": kept_pct,\n",
    "        \"p_keep_theory\": pk,\n",
    "        \"expected_kept\": exp_kept,\n",
    "        \"abs_diff_pct\": abs(kept_pct - pk)\n",
    "    })\n",
    "\n",
    "# convert dec to %\n",
    "df_keep = pd.DataFrame(rows).assign(\n",
    "    kept_pct_actual=lambda d: (d[\"kept_pct_actual\"]*100).round(2),\n",
    "    p_keep_theory=lambda d: (d[\"p_keep_theory\"]*100).round(2),\n",
    "    abs_diff_pct=lambda d: (d[\"abs_diff_pct\"]*100).round(2)\n",
    ")\n",
    "\n",
    "# display\n",
    "cols = [\"word\",\"count_before\",\"count_after\",\"expected_kept\",\"kept_pct_actual\",\"p_keep_theory\",\"abs_diff_pct\"]\n",
    "df_keep[cols]\n"
   ]
  },
  {
   "cell_type": "code",
   "execution_count": 36,
   "id": "2be3d10a",
   "metadata": {},
   "outputs": [
    {
     "data": {
      "text/plain": [
       "Text(0.5, 1.0, 'Top-10 words: before vs after subsampling (and expected)')"
      ]
     },
     "execution_count": 36,
     "metadata": {},
     "output_type": "execute_result"
    },
    {
     "data": {
      "image/png": "[encoded data removed]",
      "text/plain": [
       "<Figure size 1000x500 with 1 Axes>"
      ]
     },
     "metadata": {},
     "output_type": "display_data"
    }
   ],
   "source": [
    "top10 = df_keep.head(10).copy()\n",
    "ax = top10.plot(x=\"word\", y=[\"count_before\",\"count_after\",\"expected_kept\"], kind=\"bar\", figsize=(10,5))\n",
    "ax.set_ylabel(\"count\")\n",
    "ax.set_title(\"Top-10 words: before vs after subsampling (and expected)\")\n"
   ]
  },
  {
   "cell_type": "markdown",
   "id": "7f49896f",
   "metadata": {},
   "source": [
    "Subsampling minimizes compute and preserves co-occurrence structure better than hard stopword removal. We gain a truer geometry and avoid the bias created by collapsing sentences when tokens are deleted.\n"
   ]
  },
  {
   "cell_type": "markdown",
   "id": "27ecd3c1",
   "metadata": {},
   "source": [
    "## 4) Build trainig pairs (skip-gram, dynamic window)"
   ]
  },
  {
   "cell_type": "markdown",
   "id": "191b71c4",
   "metadata": {},
   "source": [
    "We’ll follow the **Skip-gram** architecture from Figure 1 of the paper \"Efficient Estimation of Word Representations in\n",
    "Vector Space\" ref: https://arxiv.org/abs/1301.3781 (Mikolov et al., 2013):  \n",
    "given a **center word** $w_t$, the model predicts its **context words** $w_{t+j}$.\n"
   ]
  },
  {
   "cell_type": "markdown",
   "id": "0245abe2",
   "metadata": {},
   "source": [
    "From "
   ]
  },
  {
   "cell_type": "markdown",
   "id": "98125d19",
   "metadata": {},
   "source": [
    "![./sup_imgs/CBOW_Skip-gram.png](./sup_imgs/CBOW_Skip-gram.png)\n"
   ]
  },
  {
   "cell_type": "markdown",
   "id": "3f8ea31e",
   "metadata": {},
   "source": [
    "**Objective**\n",
    "$$\n",
    "\\max \\sum_{t}\\sum_{j\\in[-r,\\,r]\\setminus\\{0\\}} \\log p\\big(w_{t+j}\\mid w_t\\big)\n",
    "$$\n",
    "\n",
    "**Training recipe (what we implement)**\n",
    "- **Dynamic window**: $r \\sim \\mathrm{Uniform}\\{1,\\dots,W\\}$.\n",
    "- Two embedding matrices: $E_{\\text{in}}$ (center) and $E_{\\text{out}}$ (context).  \n",
    "  The word vector we use after training is the row from $E_{\\text{in}}$.\n",
    "- **Negative Sampling**: for each positive pair $(w_t, w_{t+j})$, draw $k$ negatives to\n",
    "  approximate the softmax efficiently.\n",
    "\n",
    "**Why Skip-gram first?**\n",
    "- Simple to implement, **strong for rare words**, and aligns with the classic Word2Vec setup.\n",
    "(We can add **CBOW** later for a speed/quality comparison.)\n"
   ]
  },
  {
   "cell_type": "markdown",
   "id": "0252fc02",
   "metadata": {},
   "source": [
    "### 4.1) Negative Sampling"
   ]
  },
  {
   "cell_type": "markdown",
   "id": "9298f5e9",
   "metadata": {},
   "source": [
    "Training a neural network usually means **slightly adjusting many weights** for each example. In Skip-gram, that’s a problem: with a large vocabulary, the output layer is huge, so a standard softmax would try to update **every** output weight on **every** pair.\n",
    "\n",
    "**Negative Sampling** changes the game. For each positive pair $(\\text{center}, \\text{context})$, we:\n",
    "- keep the **positive** context word, and\n",
    "- sample a **small set of “negative” words** (words that should score 0 for this center).\n",
    "\n",
    "We then make **binary predictions** only for these $k{+}1$ words (the one positive and a few negatives). The update touches:\n",
    "- the **input embedding** of the center word, and\n",
    "- the **output embeddings** of just the positive and sampled negatives.\n",
    "\n",
    "All other output weights are ignored for this step. The result is that each example updates **only a tiny subset** of parameters, making training **fast and scalable**, while still teaching the model to pull true contexts closer and push random words away.\n"
   ]
  },
  {
   "cell_type": "markdown",
   "id": "72fe3531",
   "metadata": {},
   "source": [
    "### Negative sampling: how we draw negatives\n",
    "\n",
    "We sample “negative” words from a unigram distribution so that more frequent words are more likely to be chosen; the paper uses a smoothed version.\n",
    "\n",
    "**Raw unigram (by relative frequency)**  \n",
    "  $$\n",
    "  P(w_i)=\\frac{f(w_i)}{\\sum_{j=1}^{|V|} f(w_j)}\n",
    "  $$\n",
    "\n",
    "**Smoothed unigram (preferred, with \\(3/4\\) power)**  \n",
    "  $$\n",
    "  P(w_i)=\\frac{f(w_i)^{3/4}}{\\sum_{j=1}^{|V|} f(w_j)^{3/4}}\n",
    "  $$\n",
    "\n",
    "Where $f(w)$ is the corpus count of word $w$. The $3/4$ exponent flattens the distribution: it slightly downweights very common words and upweights less frequent ones, yielding more informative negatives.\n"
   ]
  },
  {
   "cell_type": "code",
   "execution_count": 40,
   "id": "9ba7e95b",
   "metadata": {},
   "outputs": [],
   "source": [
    "from torch.utils.data import IterableDataset, DataLoader"
   ]
  },
  {
   "cell_type": "code",
   "execution_count": null,
   "id": "481c5d2a",
   "metadata": {},
   "outputs": [],
   "source": [
    "# window + negatives\n",
    "WINDOW_MAX   = 5          # dynamic window upper bound\n",
    "NEGATIVE_K   = 5          # negatives per positive\n",
    "BATCH_SIZE   = 4096 if torch.cuda.is_available() else 1024\n",
    "\n",
    "# negative sampling distribution with the unigram^(3/4)\n",
    "power = 0.75\n",
    "counts = np.array([vocab[w] for w in itos], dtype=np.float64)\n",
    "unigram_pow = counts ** power\n",
    "neg_prob = unigram_pow / unigram_pow.sum()\n"
   ]
  },
  {
   "cell_type": "code",
   "execution_count": 45,
   "id": "feb83154",
   "metadata": {},
   "outputs": [
    {
     "data": {
      "image/png": "[encoded data removed]",
      "text/plain": [
       "<Figure size 800x500 with 1 Axes>"
      ]
     },
     "metadata": {},
     "output_type": "display_data"
    }
   ],
   "source": [
    "# Plot the negative sampling distribution\n",
    "\n",
    "# Raw unigram prob and smoothed (unigram^0.75)\n",
    "raw_prob = counts / counts.sum()\n",
    "neg_prob = (counts ** 0.75)\n",
    "neg_prob = neg_prob / neg_prob.sum()\n",
    "\n",
    "# Rank–probability plot (log–log): raw vs smoothed\n",
    "order_raw = np.argsort(-raw_prob)\n",
    "order_neg = np.argsort(-neg_prob)\n",
    "\n",
    "plt.figure(figsize=(8,5))\n",
    "plt.loglog(np.arange(1, len(itos)+1), raw_prob[order_raw], label=\"Raw unigram\")\n",
    "plt.loglog(np.arange(1, len(itos)+1), neg_prob[order_neg], label=\"Unigram$^{0.75}$ (neg. samp.)\")\n",
    "plt.xlabel(\"Rank (1 = most frequent)\")\n",
    "plt.ylabel(\"Probability\")\n",
    "plt.title(\"Negative-sampling distribution vs raw unigram\")\n",
    "plt.legend()\n",
    "plt.grid(True, which=\"both\")\n",
    "plt.show()\n"
   ]
  },
  {
   "cell_type": "markdown",
   "id": "b90be3f8",
   "metadata": {},
   "source": [
    "**Observation**: The unigram^0.75 curve will sit above raw for mid/low-frequency words and below raw for the very top words, that’s the **“flattening”** effect."
   ]
  },
  {
   "cell_type": "markdown",
   "id": "d944a198",
   "metadata": {},
   "source": [
    "##### But, there's an implementation problem:\n",
    "\n",
    "For every positive pair we train on, you need *k* negative words drawn from a non-uniform distribution (`neg_prob`, unigram^0.75).\n",
    "If we have millions of pairs, that’s hundreds of millions of draws!\n",
    "\n",
    "Doing `np.random.choice(..., p=neg_prob)` every time is relatively slow (it has to process the whole probability vector each draw).\n",
    "\n",
    "Then, there's a simple trick to avoid this: prebuild a big jar of tickets (`neg_table`) where **each word ID appears as often as its probability**.\n",
    "\n",
    "Then, when you need negatives, you don’t recompute anything, we just pick random positions in that jar!"
   ]
  },
  {
   "cell_type": "code",
   "execution_count": 47,
   "id": "13c15e2f",
   "metadata": {},
   "outputs": [],
   "source": [
    "# build a big table for fast sampling\n",
    "NEG_TABLE_SIZE = max(1_000_000, 100 * len(itos))\n",
    "neg_table = np.random.choice(len(itos), size=NEG_TABLE_SIZE, p=neg_prob)\n"
   ]
  },
  {
   "cell_type": "code",
   "execution_count": 52,
   "id": "51e91908",
   "metadata": {},
   "outputs": [],
   "source": [
    "def sample_negatives(batch_size: int, k: int) -> torch.Tensor:\n",
    "    idx = np.random.randint(0, NEG_TABLE_SIZE, size=(batch_size, k))\n",
    "    return torch.tensor(neg_table[idx], dtype=torch.long)\n"
   ]
  },
  {
   "cell_type": "code",
   "execution_count": 53,
   "id": "ddee99c1",
   "metadata": {},
   "outputs": [],
   "source": [
    "# iterable dataset: stream (center, context) pairs\n",
    "class SkipGramPairs(IterableDataset):\n",
    "    def __init__(self, ids, window_max):\n",
    "        super().__init__()\n",
    "        self.ids = np.asarray(ids, dtype=np.int32)\n",
    "        self.window_max = window_max\n",
    "\n",
    "    def _iter_range(self, start, end, seed=None):\n",
    "        rng = random.Random(seed)\n",
    "        for i in range(start, end):\n",
    "            center = int(self.ids[i])\n",
    "            r = rng.randint(1, self.window_max)\n",
    "            left  = max(0, i - r)\n",
    "            right = min(len(self.ids), i + r + 1)\n",
    "            for j in range(left, right):\n",
    "                if j == i: \n",
    "                    continue\n",
    "                yield center, int(self.ids[j])\n",
    "\n",
    "    def __iter__(self):\n",
    "        # split work across dataloader workers\n",
    "        info = torch.utils.data.get_worker_info()\n",
    "        n = len(self.ids)\n",
    "        if info is None:\n",
    "            # single worker\n",
    "            yield from self._iter_range(0, n, seed=SEED)\n",
    "        else:\n",
    "            # shard per worker for deterministic coverage\n",
    "            w_id, w_num = info.id, info.num_workers\n",
    "            start = (n * w_id) // w_num\n",
    "            end   = (n * (w_id + 1)) // w_num\n",
    "            yield from self._iter_range(start, end, seed=SEED + w_id)\n"
   ]
  },
  {
   "cell_type": "code",
   "execution_count": 54,
   "id": "757e83f6",
   "metadata": {},
   "outputs": [],
   "source": [
    "dataset = SkipGramPairs(ids, WINDOW_MAX)\n"
   ]
  },
  {
   "cell_type": "code",
   "execution_count": 55,
   "id": "92bb659b",
   "metadata": {},
   "outputs": [],
   "source": [
    "def collate_skipgram(batch):\n",
    "    # batch = list of (center, context)\n",
    "    centers, positives = zip(*batch)\n",
    "    centers  = torch.tensor(centers,  dtype=torch.long)\n",
    "    positives= torch.tensor(positives,dtype=torch.long)\n",
    "    negatives= sample_negatives(len(batch), NEGATIVE_K)\n",
    "    return centers, positives, negatives\n",
    "\n",
    "loader = DataLoader(\n",
    "    dataset,\n",
    "    batch_size=BATCH_SIZE,\n",
    "    collate_fn=collate_skipgram,\n",
    "    num_workers=0,\n",
    "    pin_memory=torch.cuda.is_available(),\n",
    ")\n"
   ]
  },
  {
   "cell_type": "code",
   "execution_count": 56,
   "id": "ab65ef34",
   "metadata": {},
   "outputs": [
    {
     "name": "stdout",
     "output_type": "stream",
     "text": [
      "centers: torch.Size([4096]) positives: torch.Size([4096]) negatives: torch.Size([4096, 5])\n",
      "example pair: 2588 -> 339 | word: anarchism -> abuse\n"
     ]
    }
   ],
   "source": [
    "# quick test: pull one batch and print shapes\n",
    "centers, positives, negatives = next(iter(loader))\n",
    "print(\"centers:\", centers.shape, \"positives:\", positives.shape, \"negatives:\", negatives.shape)\n",
    "print(\"example pair:\", centers[0].item(), \"->\", positives[0].item(), \"| word:\", itos[centers[0].item()], \"->\", itos[positives[0].item()])"
   ]
  },
  {
   "cell_type": "code",
   "execution_count": 60,
   "id": "08233e8c",
   "metadata": {},
   "outputs": [
    {
     "data": {
      "text/plain": [
       "tensor([ 2588,  2588,  2588,   339,   339, 12010, 12010, 52286, 52286, 52286])"
      ]
     },
     "execution_count": 60,
     "metadata": {},
     "output_type": "execute_result"
    }
   ],
   "source": [
    "centers[:10]"
   ]
  },
  {
   "cell_type": "code",
   "execution_count": 61,
   "id": "553caa57",
   "metadata": {},
   "outputs": [
    {
     "data": {
      "text/plain": [
       "tensor([  339, 12010, 52286,  2588, 12010,   339, 52286,  2588,   339, 12010])"
      ]
     },
     "execution_count": 61,
     "metadata": {},
     "output_type": "execute_result"
    }
   ],
   "source": [
    "positives[:10]"
   ]
  },
  {
   "cell_type": "code",
   "execution_count": 63,
   "id": "9ee5e3b0",
   "metadata": {},
   "outputs": [
    {
     "data": {
      "text/plain": [
       "tensor([[45847, 52804, 19557, 29149, 63653],\n",
       "        [11066, 36789, 23445, 66087, 65452],\n",
       "        [54032, 26497, 69558, 63912, 44794],\n",
       "        [45377, 43351, 63879, 29060, 57780],\n",
       "        [63867,  9651, 43207, 15314,     0],\n",
       "        [ 8037, 20551, 56134, 20560, 69579],\n",
       "        [40386,  1163, 34046,  5895, 69316],\n",
       "        [26242, 36863, 45201, 46557, 33802],\n",
       "        [30337, 62115, 13772, 47196, 16015],\n",
       "        [32066, 39180, 45788, 32515,  2637]])"
      ]
     },
     "execution_count": 63,
     "metadata": {},
     "output_type": "execute_result"
    }
   ],
   "source": [
    "negatives[:10]"
   ]
  },
  {
   "cell_type": "markdown",
   "id": "966cbf9f",
   "metadata": {},
   "source": [
    "**Observations**\n",
    "\n",
    "1) centers\n",
    "    - Shape: [4096]\n",
    "    - Meaning: for each training example (one row in the batch), this is the center word id.\n",
    "\n",
    "2) positives\n",
    "    - Shape: [4096]\n",
    "    - Meaning: for each example (i.e., for that specific center occurrence), positives[i] is one context word id produced by the dynamic window at that position.\n",
    "\n",
    "**Notice that same center words are syncronized with different positive words**. That’s why centers repeats and positives varies row-by-row."
   ]
  },
  {
   "cell_type": "markdown",
   "id": "ec9f93ed",
   "metadata": {},
   "source": []
  }
 ],
 "metadata": {
  "kernelspec": {
   "display_name": "Pot-Tals_env",
   "language": "python",
   "name": "pot-tals_env"
  },
  "language_info": {
   "codemirror_mode": {
    "name": "ipython",
    "version": 3
   },
   "file_extension": ".py",
   "mimetype": "text/x-python",
   "name": "python",
   "nbconvert_exporter": "python",
   "pygments_lexer": "ipython3",
   "version": "3.12.7"
  }
 },
 "nbformat": 4,
 "nbformat_minor": 5
}
