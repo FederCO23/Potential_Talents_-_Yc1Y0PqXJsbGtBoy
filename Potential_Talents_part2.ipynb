{
 "cells": [
  {
   "cell_type": "markdown",
   "id": "b22c4196",
   "metadata": {},
   "source": [
    "## Potential Talents - Part 2"
   ]
  },
  {
   "cell_type": "markdown",
   "id": "2956a14e",
   "metadata": {},
   "source": [
    "----"
   ]
  },
  {
   "cell_type": "markdown",
   "id": "c1c6c4f9",
   "metadata": {},
   "source": [
    "This notebook trains a **mini Word2Vec** model using **Skip-gram with Negative Sampling (SGNS)** on a small corpus, then provides utilities to **explore the vector space** (cosine similarity and classic analogies)."
   ]
  },
  {
   "cell_type": "markdown",
   "id": "716b8abb",
   "metadata": {},
   "source": [
    "#### Summary:\n",
    "\n",
    "0) Environment and GPU setup  \n",
    "1) Load and prepare the corpus  \n",
    "2) Build the vocabulary (+ `min_count`)  \n",
    "3) Making training tractable with a large vocabulary  \n",
    "4) Subsampling  \n",
    "5) Build training pairs (Skip-gram, dynamic window)  \n",
    "6) SGNS model, loss, and training  \n",
    "7) Quick playground (neighbors & analogies)\n"
   ]
  },
  {
   "cell_type": "markdown",
   "id": "b8e935cd",
   "metadata": {},
   "source": [
    "----\n"
   ]
  },
  {
   "cell_type": "markdown",
   "id": "6250d260",
   "metadata": {},
   "source": [
    "## 0) Envorinment and GPU setup\n",
    "\n",
    "\n"
   ]
  },
  {
   "cell_type": "code",
   "execution_count": 1,
   "id": "d1e75813",
   "metadata": {},
   "outputs": [],
   "source": [
    "import re\n",
    "import math\n",
    "import random\n",
    "from collections import Counter\n",
    "from typing import List, Tuple, Dict\n",
    "\n",
    "import numpy as np\n",
    "import torch\n",
    "from torch import nn\n",
    "from torch.utils.data import Dataset, DataLoader\n",
    "\n",
    "import sys, torch, platform"
   ]
  },
  {
   "cell_type": "code",
   "execution_count": 2,
   "id": "e824e6fe",
   "metadata": {},
   "outputs": [
    {
     "name": "stdout",
     "output_type": "stream",
     "text": [
      "python: e:\\Devs\\pyEnv-1\\venvs\\Pot-Tals_env\\Scripts\\python.exe\n",
      "torch file: e:\\Devs\\pyEnv-1\\venvs\\Pot-Tals_env\\Lib\\site-packages\\torch\\__init__.py\n",
      "torch version: 2.6.0+cu124\n",
      "torch.version.cuda: 12.4\n",
      "cuda available: True\n"
     ]
    }
   ],
   "source": [
    "print(\"python:\", sys.executable)\n",
    "print(\"torch file:\", torch.__file__)\n",
    "print(\"torch version:\", torch.__version__)\n",
    "print(\"torch.version.cuda:\", torch.version.cuda)\n",
    "print(\"cuda available:\", torch.cuda.is_available())\n"
   ]
  },
  {
   "cell_type": "code",
   "execution_count": 3,
   "id": "ce9ce329",
   "metadata": {},
   "outputs": [],
   "source": [
    "#SEED = random.randint(10000, 99999)\n",
    "#SEED\n",
    "SEED = 23"
   ]
  },
  {
   "cell_type": "code",
   "execution_count": 4,
   "id": "38727c32",
   "metadata": {},
   "outputs": [
    {
     "name": "stdout",
     "output_type": "stream",
     "text": [
      "Using device: cuda\n"
     ]
    }
   ],
   "source": [
    "random.seed(SEED)\n",
    "np.random.seed(SEED)\n",
    "torch.manual_seed(SEED)\n",
    "torch.cuda.manual_seed_all(SEED)\n",
    "device = torch.device('cuda' if torch.cuda.is_available() else 'cpu')\n",
    "print(f'Using device: {device}')"
   ]
  },
  {
   "cell_type": "markdown",
   "id": "e9d69965",
   "metadata": {},
   "source": [
    "## 1) Load / prepare a corpus\n",
    "\n"
   ]
  },
  {
   "cell_type": "markdown",
   "id": "3f1e64c5",
   "metadata": {},
   "source": [
    "In this section we load a compact Wikipedia subset (**text8**, ~17 MB, from Matt Mahoney’s site). It’s already lower-cased and whitespace-tokenized, which makes it perfect for fast Word2Vec experiments without heavy preprocessing.  \n",
    "We read the file, split into tokens, and keep them intact (no stop-word removal) since frequency effects will be handled later via `min_count` and subsampling.\n",
    "\n"
   ]
  },
  {
   "cell_type": "code",
   "execution_count": 5,
   "id": "60767c94",
   "metadata": {},
   "outputs": [],
   "source": [
    "import os, zipfile, urllib.request"
   ]
  },
  {
   "cell_type": "code",
   "execution_count": 6,
   "id": "059b411a",
   "metadata": {},
   "outputs": [],
   "source": [
    "DATA_DIR = \"data\"\n",
    "os.makedirs(DATA_DIR, exist_ok=True)"
   ]
  },
  {
   "cell_type": "code",
   "execution_count": 7,
   "id": "5d23c68f",
   "metadata": {},
   "outputs": [],
   "source": [
    "URL = \"http://mattmahoney.net/dc/text8.zip\"\n",
    "ZIP_PATH = os.path.join(DATA_DIR, \"text8.zip\")\n",
    "TXT_PATH = os.path.join(DATA_DIR, \"text8\")  # file inside the zip is named 'text8' (no .txt)\n"
   ]
  },
  {
   "cell_type": "code",
   "execution_count": 8,
   "id": "fdb591ab",
   "metadata": {},
   "outputs": [],
   "source": [
    "# Download the dataset\n",
    "if not os.path.exists(ZIP_PATH) and not os.path.exists(TXT_PATH):\n",
    "    print(\"Downloading text8...\")\n",
    "    urllib.request.urlretrieve(URL, ZIP_PATH)\n",
    "    print(\"Done.\")"
   ]
  },
  {
   "cell_type": "code",
   "execution_count": 9,
   "id": "0c0a4138",
   "metadata": {},
   "outputs": [],
   "source": [
    "# Extraction\n",
    "if os.path.exists(ZIP_PATH) and not os.path.exists(TXT_PATH):\n",
    "    print(\"Extracting...\")\n",
    "    with zipfile.ZipFile(ZIP_PATH) as zf:\n",
    "        zf.extractall(DATA_DIR)\n",
    "    print(\"Done.\")\n"
   ]
  },
  {
   "cell_type": "code",
   "execution_count": 10,
   "id": "6e3a0ba8",
   "metadata": {},
   "outputs": [
    {
     "name": "stdout",
     "output_type": "stream",
     "text": [
      "Total tokens: 17,005,207\n",
      "Sample: ['anarchism', 'originated', 'as', 'a', 'term', 'of', 'abuse', 'first', 'used', 'against', 'early', 'working', 'class', 'radicals', 'including', 'the', 'diggers', 'of', 'the', 'english']\n"
     ]
    }
   ],
   "source": [
    "# Load tokens (text8 is already lowercased and space-separated)\n",
    "with open(TXT_PATH, \"r\", encoding=\"utf-8\") as f:\n",
    "    text = f.read()\n",
    "tokens = text.split()\n",
    "print(f\"Total tokens: {len(tokens):,}\")\n",
    "print(\"Sample:\", tokens[:20])"
   ]
  },
  {
   "cell_type": "markdown",
   "id": "0f062592",
   "metadata": {},
   "source": [
    "## 2) Build vocabulary (+ min_count)"
   ]
  },
  {
   "cell_type": "markdown",
   "id": "14fe3ee9",
   "metadata": {},
   "source": [
    "We build the vocabulary and map tokens to integer IDs.  \n",
    "Only words that appear at least `min_count` times are kept (drops rare noise and speeds up training). We create `stoi/itos` mappings and convert the corpus into an ID sequence (`ids`).  \n",
    "**Note:** we’re not removing stop-words here, subsampling will thin very frequent words later."
   ]
  },
  {
   "cell_type": "code",
   "execution_count": 11,
   "id": "332c9744",
   "metadata": {},
   "outputs": [],
   "source": [
    "MIN_COUNT = 5  # keep words that appear at least 5 times. I can tweak it later... <--\n",
    "\n",
    "freq = Counter(tokens)\n",
    "\n",
    "vocab = {w:c for w,c in freq.items() if c >= MIN_COUNT}\n"
   ]
  },
  {
   "cell_type": "code",
   "execution_count": 12,
   "id": "0194725c",
   "metadata": {},
   "outputs": [],
   "source": [
    "# index -> string\n",
    "itos = sorted(vocab.keys())\n",
    "\n",
    "# string -> index                   \n",
    "stoi = {w:i for i,w in enumerate(itos)}\n",
    "\n",
    "# Map corpus to ids, dropping rare words\n",
    "ids = [stoi[w] for w in tokens if w in stoi]"
   ]
  },
  {
   "cell_type": "code",
   "execution_count": 13,
   "id": "d7ae3af3",
   "metadata": {},
   "outputs": [
    {
     "name": "stdout",
     "output_type": "stream",
     "text": [
      "['a', 'aa', 'aaa', 'aaaa', 'aaai', 'aaas', 'aac', 'aachen', 'aafc', 'aage']\n"
     ]
    }
   ],
   "source": [
    "print(itos[:10])\n"
   ]
  },
  {
   "cell_type": "code",
   "execution_count": 14,
   "id": "879c654e",
   "metadata": {},
   "outputs": [
    {
     "name": "stdout",
     "output_type": "stream",
     "text": [
      "a 0\n",
      "aa 1\n",
      "aaa 2\n",
      "aaaa 3\n",
      "aaai 4\n",
      "aaas 5\n",
      "aac 6\n",
      "aachen 7\n",
      "aafc 8\n",
      "aage 9\n"
     ]
    }
   ],
   "source": [
    "for k in sorted(stoi)[:10]:\n",
    "    print(k, stoi[k])\n"
   ]
  },
  {
   "cell_type": "code",
   "execution_count": 15,
   "id": "66568cf8",
   "metadata": {},
   "outputs": [
    {
     "name": "stdout",
     "output_type": "stream",
     "text": [
      "[2588, 46291, 4079, 0, 63653, 45639, 339, 23735, 67385, 1223]\n"
     ]
    }
   ],
   "source": [
    "print(ids[:10])"
   ]
  },
  {
   "cell_type": "code",
   "execution_count": 16,
   "id": "76b866d7",
   "metadata": {},
   "outputs": [
    {
     "data": {
      "text/plain": [
       "0.9831602755555989"
      ]
     },
     "execution_count": 16,
     "metadata": {},
     "output_type": "execute_result"
    }
   ],
   "source": [
    "len(ids)/len(tokens)"
   ]
  },
  {
   "cell_type": "code",
   "execution_count": 17,
   "id": "8508b32a",
   "metadata": {},
   "outputs": [
    {
     "name": "stdout",
     "output_type": "stream",
     "text": [
      "Vocab size: 71,290\n",
      "Corpus length (ids): 16,718,844, filtered from rare words (which appear less than 5 times)\n",
      "Top 10 most common: [('the', 1061396), ('of', 593677), ('and', 416629), ('one', 411764), ('in', 372201), ('a', 325873), ('to', 316376), ('zero', 264975), ('nine', 250430), ('two', 192644)]\n"
     ]
    }
   ],
   "source": [
    "print(f\"Vocab size: {len(itos):,}\")\n",
    "print(f\"Corpus length (ids): {len(ids):,}, filtered from rare words (which appear less than {MIN_COUNT} times)\")\n",
    "print(\"Top 10 most common:\", freq.most_common(10))"
   ]
  },
  {
   "cell_type": "markdown",
   "id": "f726ea7c",
   "metadata": {},
   "source": [
    "## 3) Making training tractable with a large vocabulary"
   ]
  },
  {
   "cell_type": "markdown",
   "id": "b01ab5a7",
   "metadata": {},
   "source": [
    "### Problem\n",
    "\n",
    "- Vocabulary size $|V| = 71{,}290$, embedding size $D = 300$.\n",
    "- Skip-gram uses **two** $D \\times |V|$ matrices (input + output):\n",
    "  $$\n",
    "  2 \\times |V| \\times D = 2 \\times 71{,}290 \\times 300 = 42{,}774{,}000\n",
    "  $$\n",
    "  → a **large network** plus an expensive full softmax over $|V|$ for every training pair.\n",
    "\n",
    "### Solution\n",
    "\n",
    "**Subsampling (frequent tokens)**\n",
    "- Keep each token $w$ with probability $p_{\\text{keep}}(w)$ that decreases with its frequency.\n",
    "- Greatly **reduces the number of training pairs** while preserving co-occurrence structure in expectation.\n",
    "\n",
    "**Negative Sampling (SGNS)**\n",
    "- Replace the full softmax with a small set of **binary** predictions per pair (one positive context, a few sampled negatives), so **each update touches only a tiny subset of embeddings**, making training scalable.\n",
    "\n"
   ]
  },
  {
   "cell_type": "markdown",
   "id": "d6509e32",
   "metadata": {},
   "source": [
    "## 4) Subsampling"
   ]
  },
  {
   "cell_type": "markdown",
   "id": "d9166e90",
   "metadata": {},
   "source": [
    "**Subsampling: keep probability $p_{\\text{keep}}(w)$**\n",
    "$$\n",
    "\n",
    "$$\n",
    "\n",
    "**Goal.** Thin very frequent words without deleting them outright, speed up training while preserving context geometry.\n",
    "\n",
    "**Definitions**\n",
    "- $f(w)$: relative frequency of word \\(w\\) in the original token stream: $\\text{count}(w)/\\text{total tokens}$.\n",
    "- $t$: small threshold, typically $10^{-5}$ – $10^{-4}$.\n",
    "\n",
    "**Original (Mikolov, 2013)**  \n",
    "$$\n",
    "p_{\\text{keep}}(w)=\\min\\!\\left(1,\\ \\sqrt{\\frac{t}{f(w)}}\\right)\n",
    "$$\n",
    "\n",
    "**Gensim-style (more forgiving for mid/low frequencies)**  \n",
    "$$\n",
    "p_{\\text{keep}}(w)=\\min\\!\\left(1,\\ \\sqrt{\\frac{t}{f(w)}}+\\frac{t}{f(w)}\\right)\n",
    "$$\n",
    "\n",
    "**Behavior**\n",
    "- If $f(w)\\le t$: $p_{\\text{keep}}\\approx 1$ (rare words kept).\n",
    "- If $f(w)\\gg t$: $p_{\\text{keep}}$ is small (frequent words thinned).\n",
    "- If a word occurs $c_w$ times, kept count $\\tilde c_w \\sim \\mathrm{Binomial}(c_w, p_{\\text{keep}})$ with $\\mathbb{E}[\\tilde c_w]=c_w\\,p_{\\text{keep}}$."
   ]
  },
  {
   "cell_type": "markdown",
   "id": "c3d44a78",
   "metadata": {},
   "source": [
    "Let’s plot these formulas to better understand the **dynamics** of subsampling."
   ]
  },
  {
   "cell_type": "code",
   "execution_count": 18,
   "id": "512aea27",
   "metadata": {},
   "outputs": [],
   "source": [
    "import matplotlib.pyplot as plt"
   ]
  },
  {
   "cell_type": "code",
   "execution_count": 19,
   "id": "8fe3e141",
   "metadata": {},
   "outputs": [
    {
     "data": {
      "image/png": "[encoded data removed]",
      "text/plain": [
       "<Figure size 1200x800 with 4 Axes>"
      ]
     },
     "metadata": {},
     "output_type": "display_data"
    }
   ],
   "source": [
    "# keep-probability formulas:\n",
    "# classic\n",
    "def p_keep_classic(f, t):\n",
    "    f = np.asarray(f, dtype=float)\n",
    "    return np.minimum(1.0, np.sqrt(t / f))\n",
    "\n",
    "# gensim-style\n",
    "def p_keep_gensim(f, t):\n",
    "    f = np.asarray(f, dtype=float)\n",
    "    return np.minimum(1.0, np.sqrt(t / f) + (t / f))\n",
    "\n",
    "# build frequency grid from corpus\n",
    "total_tokens = sum(freq.values())\n",
    "freq_prop = np.array([freq[w] / total_tokens for w in vocab.keys()], dtype=float)\n",
    "\n",
    "f_min = float(freq_prop.min()) if len(freq_prop) else 1.0 / max(total_tokens, 1)\n",
    "f_max = float(freq_prop.max()) if len(freq_prop) else f_min * 10\n",
    "\n",
    "# ensure strictly positive\n",
    "f_min = max(f_min, 1.0 / total_tokens)\n",
    "if not np.isfinite(f_min) or not np.isfinite(f_max) or f_min >= f_max:\n",
    "    f_min, f_max = 1e-8, 1e-1\n",
    "\n",
    "f_grid = np.logspace(np.log10(f_min), np.log10(f_max), 400)\n",
    "\n",
    "# plot: 2x2 figure\n",
    "fig, axs = plt.subplots(2, 2, figsize=(12, 8), sharex=True, sharey=True)\n",
    "\n",
    "settings = [\n",
    "    (\"Classic\", 1e-5, p_keep_classic),\n",
    "    (\"Gensim-style\", 1e-5, p_keep_gensim),\n",
    "    (\"Classic\", 1e-4, p_keep_classic),\n",
    "    (\"Gensim-style\", 1e-4, p_keep_gensim),\n",
    "]\n",
    "\n",
    "for ax, (label, t, fn) in zip(axs.ravel(), settings):\n",
    "    y = fn(f_grid, t)\n",
    "    ax.semilogx(f_grid, y)\n",
    "    ax.set_ylim(0, 1.05)\n",
    "    ax.grid(True, which=\"both\")\n",
    "    ax.set_title(f\"Subsampling ({label}) — t = {t:g}\")\n",
    "\n",
    "fig.text(0.5, 0.04, \"Relative frequency f(w) (log scale)\", ha=\"center\")\n",
    "fig.text(0.04, 0.5, \"Keep probability p_keep\", va=\"center\", rotation=\"vertical\")\n",
    "\n",
    "plt.tight_layout(rect=[0.06, 0.06, 1, 1])\n",
    "plt.show()\n"
   ]
  },
  {
   "cell_type": "markdown",
   "id": "2c175bfb",
   "metadata": {},
   "source": [
    "**Conclusion (Subsampling)**\n",
    "- Words with **high relative frequency** (e.g., stopwords) have a **low keep probability** and are **heavily thinned**.\n",
    "- Because thinning is **probabilistic per token** (Bernoulli with $p_{\\text{keep}}(w)$), very frequent words are **not removed entirely**; a small, representative sample remains, which helps **preserve co-occurrence structure** while reducing compute.\n",
    "- **Rare words** ($f(w)\\le t$) are **largely unaffected** ($p_{\\text{keep}}\\approx 1$).\n",
    "- Increasing $t$ (e.g., $10^{-5}\\rightarrow10^{-4}$) **raises** $p_{\\text{keep}}$ for a given $f$ and shifts the drop-off to the right, making subsampling **less aggressive** (more tokens kept).\n",
    "- The **Gensim-style** rule keeps slightly **more** mid-frequency words than the classic rule; at very high $f$, both behave similarly.\n"
   ]
  },
  {
   "cell_type": "code",
   "execution_count": 20,
   "id": "5fdf39d3",
   "metadata": {},
   "outputs": [],
   "source": [
    "# Subsampling config:\n",
    "SUBSAMPLE_T = 1e-4\n",
    "USE_GENSIM_STYLE = True   "
   ]
  },
  {
   "cell_type": "code",
   "execution_count": 21,
   "id": "b430450b",
   "metadata": {},
   "outputs": [],
   "source": [
    "# Relative frequencies computed on the ORIGINAL stream (before min_count filtering)\n",
    "total_tokens = sum(freq.values())\n",
    "freq_prop = {w: freq[w] / total_tokens for w in vocab} "
   ]
  },
  {
   "cell_type": "code",
   "execution_count": 22,
   "id": "2132cdc6",
   "metadata": {},
   "outputs": [],
   "source": [
    "# p_keep function\n",
    "def keep_probability(f, t=SUBSAMPLE_T, gensim_style=USE_GENSIM_STYLE):\n",
    "    if t is None:\n",
    "        return 1.0\n",
    "    base = math.sqrt(t / f)\n",
    "    return min(1.0, base + (t / f)) if gensim_style else min(1.0, base)\n"
   ]
  },
  {
   "cell_type": "code",
   "execution_count": 23,
   "id": "2c00ac87",
   "metadata": {},
   "outputs": [],
   "source": [
    "# Apply subsampling over the original tokens\n",
    "tokens_sub = []\n",
    "dropped = 0\n",
    "for w in tokens:\n",
    "    if w not in stoi:         # we skip the words removed by min_count\n",
    "        continue\n",
    "    f = freq_prop[w]\n",
    "    if random.random() < keep_probability(f):\n",
    "        tokens_sub.append(w)\n",
    "    else:\n",
    "        dropped += 1\n"
   ]
  },
  {
   "cell_type": "code",
   "execution_count": 24,
   "id": "8fa2b2c7",
   "metadata": {},
   "outputs": [
    {
     "name": "stdout",
     "output_type": "stream",
     "text": [
      "Before subsampling: 17,005,207 tokens\n",
      "After  subsampling: 9,411,845 tokens  (dropped 7,306,999 -> 43.0%)\n",
      "IDs length (post-subsample): 9,411,845\n"
     ]
    }
   ],
   "source": [
    "# print results\n",
    "print(f\"Before subsampling: {len(tokens):,} tokens\")\n",
    "print(f\"After  subsampling: {len(tokens_sub):,} tokens  \"\n",
    "      f\"(dropped {dropped:,} -> {dropped/len(tokens):.1%})\")\n",
    "\n",
    "# Re-map to ids for training on the subsampled stream\n",
    "ids = [stoi[w] for w in tokens_sub]\n",
    "print(f\"IDs length (post-subsample): {len(ids):,}\")\n"
   ]
  },
  {
   "cell_type": "code",
   "execution_count": 25,
   "id": "fd22c056",
   "metadata": {},
   "outputs": [],
   "source": [
    "import pandas as pd"
   ]
  },
  {
   "cell_type": "code",
   "execution_count": 26,
   "id": "17a69fe8",
   "metadata": {},
   "outputs": [
    {
     "data": {
      "text/html": [
       "<div>\n",
       "<style scoped>\n",
       "    .dataframe tbody tr th:only-of-type {\n",
       "        vertical-align: middle;\n",
       "    }\n",
       "\n",
       "    .dataframe tbody tr th {\n",
       "        vertical-align: top;\n",
       "    }\n",
       "\n",
       "    .dataframe thead th {\n",
       "        text-align: right;\n",
       "    }\n",
       "</style>\n",
       "<table border=\"1\" class=\"dataframe\">\n",
       "  <thead>\n",
       "    <tr style=\"text-align: right;\">\n",
       "      <th></th>\n",
       "      <th>word</th>\n",
       "      <th>count_before</th>\n",
       "      <th>count_after</th>\n",
       "      <th>expected_kept</th>\n",
       "      <th>kept_pct_actual</th>\n",
       "      <th>p_keep_theory</th>\n",
       "      <th>abs_diff_pct</th>\n",
       "    </tr>\n",
       "  </thead>\n",
       "  <tbody>\n",
       "    <tr>\n",
       "      <th>0</th>\n",
       "      <td>the</td>\n",
       "      <td>1061396</td>\n",
       "      <td>44202</td>\n",
       "      <td>44185</td>\n",
       "      <td>4.16</td>\n",
       "      <td>4.16</td>\n",
       "      <td>0.00</td>\n",
       "    </tr>\n",
       "    <tr>\n",
       "      <th>1</th>\n",
       "      <td>of</td>\n",
       "      <td>593677</td>\n",
       "      <td>33430</td>\n",
       "      <td>33474</td>\n",
       "      <td>5.63</td>\n",
       "      <td>5.64</td>\n",
       "      <td>0.01</td>\n",
       "    </tr>\n",
       "    <tr>\n",
       "      <th>2</th>\n",
       "      <td>and</td>\n",
       "      <td>416629</td>\n",
       "      <td>28074</td>\n",
       "      <td>28318</td>\n",
       "      <td>6.74</td>\n",
       "      <td>6.80</td>\n",
       "      <td>0.06</td>\n",
       "    </tr>\n",
       "    <tr>\n",
       "      <th>3</th>\n",
       "      <td>one</td>\n",
       "      <td>411764</td>\n",
       "      <td>28078</td>\n",
       "      <td>28162</td>\n",
       "      <td>6.82</td>\n",
       "      <td>6.84</td>\n",
       "      <td>0.02</td>\n",
       "    </tr>\n",
       "    <tr>\n",
       "      <th>4</th>\n",
       "      <td>in</td>\n",
       "      <td>372201</td>\n",
       "      <td>26857</td>\n",
       "      <td>26859</td>\n",
       "      <td>7.22</td>\n",
       "      <td>7.22</td>\n",
       "      <td>0.00</td>\n",
       "    </tr>\n",
       "    <tr>\n",
       "      <th>5</th>\n",
       "      <td>a</td>\n",
       "      <td>325873</td>\n",
       "      <td>25231</td>\n",
       "      <td>25241</td>\n",
       "      <td>7.74</td>\n",
       "      <td>7.75</td>\n",
       "      <td>0.00</td>\n",
       "    </tr>\n",
       "    <tr>\n",
       "      <th>6</th>\n",
       "      <td>to</td>\n",
       "      <td>316376</td>\n",
       "      <td>25051</td>\n",
       "      <td>24895</td>\n",
       "      <td>7.92</td>\n",
       "      <td>7.87</td>\n",
       "      <td>0.05</td>\n",
       "    </tr>\n",
       "    <tr>\n",
       "      <th>7</th>\n",
       "      <td>zero</td>\n",
       "      <td>264975</td>\n",
       "      <td>22969</td>\n",
       "      <td>22928</td>\n",
       "      <td>8.67</td>\n",
       "      <td>8.65</td>\n",
       "      <td>0.02</td>\n",
       "    </tr>\n",
       "    <tr>\n",
       "      <th>8</th>\n",
       "      <td>nine</td>\n",
       "      <td>250430</td>\n",
       "      <td>22428</td>\n",
       "      <td>22337</td>\n",
       "      <td>8.96</td>\n",
       "      <td>8.92</td>\n",
       "      <td>0.04</td>\n",
       "    </tr>\n",
       "    <tr>\n",
       "      <th>9</th>\n",
       "      <td>two</td>\n",
       "      <td>192644</td>\n",
       "      <td>19897</td>\n",
       "      <td>19800</td>\n",
       "      <td>10.33</td>\n",
       "      <td>10.28</td>\n",
       "      <td>0.05</td>\n",
       "    </tr>\n",
       "    <tr>\n",
       "      <th>10</th>\n",
       "      <td>is</td>\n",
       "      <td>183153</td>\n",
       "      <td>19461</td>\n",
       "      <td>19349</td>\n",
       "      <td>10.63</td>\n",
       "      <td>10.56</td>\n",
       "      <td>0.06</td>\n",
       "    </tr>\n",
       "    <tr>\n",
       "      <th>11</th>\n",
       "      <td>as</td>\n",
       "      <td>131815</td>\n",
       "      <td>16688</td>\n",
       "      <td>16672</td>\n",
       "      <td>12.66</td>\n",
       "      <td>12.65</td>\n",
       "      <td>0.01</td>\n",
       "    </tr>\n",
       "    <tr>\n",
       "      <th>12</th>\n",
       "      <td>eight</td>\n",
       "      <td>125285</td>\n",
       "      <td>16192</td>\n",
       "      <td>16297</td>\n",
       "      <td>12.92</td>\n",
       "      <td>13.01</td>\n",
       "      <td>0.08</td>\n",
       "    </tr>\n",
       "    <tr>\n",
       "      <th>13</th>\n",
       "      <td>for</td>\n",
       "      <td>118445</td>\n",
       "      <td>16061</td>\n",
       "      <td>15893</td>\n",
       "      <td>13.56</td>\n",
       "      <td>13.42</td>\n",
       "      <td>0.14</td>\n",
       "    </tr>\n",
       "    <tr>\n",
       "      <th>14</th>\n",
       "      <td>s</td>\n",
       "      <td>116710</td>\n",
       "      <td>15629</td>\n",
       "      <td>15788</td>\n",
       "      <td>13.39</td>\n",
       "      <td>13.53</td>\n",
       "      <td>0.14</td>\n",
       "    </tr>\n",
       "    <tr>\n",
       "      <th>15</th>\n",
       "      <td>five</td>\n",
       "      <td>115789</td>\n",
       "      <td>15770</td>\n",
       "      <td>15733</td>\n",
       "      <td>13.62</td>\n",
       "      <td>13.59</td>\n",
       "      <td>0.03</td>\n",
       "    </tr>\n",
       "    <tr>\n",
       "      <th>16</th>\n",
       "      <td>three</td>\n",
       "      <td>114775</td>\n",
       "      <td>15842</td>\n",
       "      <td>15671</td>\n",
       "      <td>13.80</td>\n",
       "      <td>13.65</td>\n",
       "      <td>0.15</td>\n",
       "    </tr>\n",
       "    <tr>\n",
       "      <th>17</th>\n",
       "      <td>was</td>\n",
       "      <td>112807</td>\n",
       "      <td>15456</td>\n",
       "      <td>15551</td>\n",
       "      <td>13.70</td>\n",
       "      <td>13.79</td>\n",
       "      <td>0.08</td>\n",
       "    </tr>\n",
       "    <tr>\n",
       "      <th>18</th>\n",
       "      <td>by</td>\n",
       "      <td>111831</td>\n",
       "      <td>15451</td>\n",
       "      <td>15491</td>\n",
       "      <td>13.82</td>\n",
       "      <td>13.85</td>\n",
       "      <td>0.04</td>\n",
       "    </tr>\n",
       "    <tr>\n",
       "      <th>19</th>\n",
       "      <td>that</td>\n",
       "      <td>109510</td>\n",
       "      <td>15341</td>\n",
       "      <td>15347</td>\n",
       "      <td>14.01</td>\n",
       "      <td>14.01</td>\n",
       "      <td>0.01</td>\n",
       "    </tr>\n",
       "  </tbody>\n",
       "</table>\n",
       "</div>"
      ],
      "text/plain": [
       "     word  count_before  count_after  expected_kept  kept_pct_actual  \\\n",
       "0     the       1061396        44202          44185             4.16   \n",
       "1      of        593677        33430          33474             5.63   \n",
       "2     and        416629        28074          28318             6.74   \n",
       "3     one        411764        28078          28162             6.82   \n",
       "4      in        372201        26857          26859             7.22   \n",
       "5       a        325873        25231          25241             7.74   \n",
       "6      to        316376        25051          24895             7.92   \n",
       "7    zero        264975        22969          22928             8.67   \n",
       "8    nine        250430        22428          22337             8.96   \n",
       "9     two        192644        19897          19800            10.33   \n",
       "10     is        183153        19461          19349            10.63   \n",
       "11     as        131815        16688          16672            12.66   \n",
       "12  eight        125285        16192          16297            12.92   \n",
       "13    for        118445        16061          15893            13.56   \n",
       "14      s        116710        15629          15788            13.39   \n",
       "15   five        115789        15770          15733            13.62   \n",
       "16  three        114775        15842          15671            13.80   \n",
       "17    was        112807        15456          15551            13.70   \n",
       "18     by        111831        15451          15491            13.82   \n",
       "19   that        109510        15341          15347            14.01   \n",
       "\n",
       "    p_keep_theory  abs_diff_pct  \n",
       "0            4.16          0.00  \n",
       "1            5.64          0.01  \n",
       "2            6.80          0.06  \n",
       "3            6.84          0.02  \n",
       "4            7.22          0.00  \n",
       "5            7.75          0.00  \n",
       "6            7.87          0.05  \n",
       "7            8.65          0.02  \n",
       "8            8.92          0.04  \n",
       "9           10.28          0.05  \n",
       "10          10.56          0.06  \n",
       "11          12.65          0.01  \n",
       "12          13.01          0.08  \n",
       "13          13.42          0.14  \n",
       "14          13.53          0.14  \n",
       "15          13.59          0.03  \n",
       "16          13.65          0.15  \n",
       "17          13.79          0.08  \n",
       "18          13.85          0.04  \n",
       "19          14.01          0.01  "
      ]
     },
     "execution_count": 26,
     "metadata": {},
     "output_type": "execute_result"
    }
   ],
   "source": [
    "counts_sub = Counter(tokens_sub)\n",
    "N = sum(freq.values())\n",
    "\n",
    "# keep-prob helpers\n",
    "def p_keep_classic(f, t): \n",
    "    return min(1.0, np.sqrt(t/f))\n",
    "def p_keep_gensim(f, t):\n",
    "    return min(1.0, np.sqrt(t/f) + (t/f))\n",
    "\n",
    "def p_keep(f, t=SUBSAMPLE_T, gensim_style=True):\n",
    "    return p_keep_gensim(f, t) if gensim_style else p_keep_classic(f, t)\n",
    "\n",
    "rows = []\n",
    "K = 20\n",
    "for w, c in freq.most_common(K):\n",
    "    f_rel = c / N\n",
    "    pk = p_keep(f_rel, SUBSAMPLE_T, gensim_style=USE_GENSIM_STYLE)\n",
    "    kept = counts_sub[w]\n",
    "    kept_pct = kept / c if c else 0.0\n",
    "    exp_kept = int(round(c * pk))\n",
    "    rows.append({\n",
    "        \"word\": w,\n",
    "        \"count_before\": c,\n",
    "        \"count_after\": kept,\n",
    "        \"kept_pct_actual\": kept_pct,\n",
    "        \"p_keep_theory\": pk,\n",
    "        \"expected_kept\": exp_kept,\n",
    "        \"abs_diff_pct\": abs(kept_pct - pk)\n",
    "    })\n",
    "\n",
    "# convert dec to %\n",
    "df_keep = pd.DataFrame(rows).assign(\n",
    "    kept_pct_actual=lambda d: (d[\"kept_pct_actual\"]*100).round(2),\n",
    "    p_keep_theory=lambda d: (d[\"p_keep_theory\"]*100).round(2),\n",
    "    abs_diff_pct=lambda d: (d[\"abs_diff_pct\"]*100).round(2)\n",
    ")\n",
    "\n",
    "# display\n",
    "cols = [\"word\",\"count_before\",\"count_after\",\"expected_kept\",\"kept_pct_actual\",\"p_keep_theory\",\"abs_diff_pct\"]\n",
    "df_keep[cols]\n"
   ]
  },
  {
   "cell_type": "code",
   "execution_count": 27,
   "id": "2be3d10a",
   "metadata": {},
   "outputs": [
    {
     "data": {
      "text/plain": [
       "Text(0.5, 1.0, 'Top-10 words: before vs after subsampling (and expected)')"
      ]
     },
     "execution_count": 27,
     "metadata": {},
     "output_type": "execute_result"
    },
    {
     "data": {
      "image/png": "[encoded data removed]",
      "text/plain": [
       "<Figure size 1000x500 with 1 Axes>"
      ]
     },
     "metadata": {},
     "output_type": "display_data"
    }
   ],
   "source": [
    "top10 = df_keep.head(10).copy()\n",
    "ax = top10.plot(x=\"word\", y=[\"count_before\",\"count_after\",\"expected_kept\"], kind=\"bar\", figsize=(10,5))\n",
    "ax.set_ylabel(\"count\")\n",
    "ax.set_title(\"Top-10 words: before vs after subsampling (and expected)\")\n"
   ]
  },
  {
   "cell_type": "markdown",
   "id": "7f49896f",
   "metadata": {},
   "source": [
    "Subsampling minimizes compute and preserves co-occurrence structure better than hard stopword removal. We gain a truer geometry and avoid the bias created by collapsing sentences when tokens are deleted.\n"
   ]
  },
  {
   "cell_type": "markdown",
   "id": "27ecd3c1",
   "metadata": {},
   "source": [
    "## 5) Build trainig pairs (skip-gram, dynamic window)"
   ]
  },
  {
   "cell_type": "markdown",
   "id": "191b71c4",
   "metadata": {},
   "source": [
    "We’ll follow the **Skip-gram** architecture from Figure 1 of the paper \"Efficient Estimation of Word Representations in\n",
    "Vector Space\" ref: https://arxiv.org/abs/1301.3781 (Mikolov et al., 2013):  \n",
    "given a **center word** $w_t$, the model predicts its **context words** $w_{t+j}$.\n"
   ]
  },
  {
   "cell_type": "markdown",
   "id": "0245abe2",
   "metadata": {},
   "source": [
    "From "
   ]
  },
  {
   "cell_type": "markdown",
   "id": "98125d19",
   "metadata": {},
   "source": [
    "![./sup_imgs/CBOW_Skip-gram.png](./sup_imgs/CBOW_Skip-gram.png)\n"
   ]
  },
  {
   "cell_type": "markdown",
   "id": "3f8ea31e",
   "metadata": {},
   "source": [
    "**Objective**\n",
    "$$\n",
    "\\max \\sum_{t}\\sum_{j\\in[-r,\\,r]\\setminus\\{0\\}} \\log p\\big(w_{t+j}\\mid w_t\\big)\n",
    "$$\n",
    "\n",
    "**Training recipe (what we implement)**\n",
    "- **Dynamic window**: $r \\sim \\mathrm{Uniform}\\{1,\\dots,W\\}$.\n",
    "- Two embedding matrices: $E_{\\text{in}}$ (center) and $E_{\\text{out}}$ (context).  \n",
    "  The word vector we use after training is the row from $E_{\\text{in}}$.\n",
    "- **Negative Sampling**: for each positive pair $(w_t, w_{t+j})$, draw $k$ negatives to\n",
    "  approximate the softmax efficiently.\n",
    "\n",
    "**Why Skip-gram first?**\n",
    "- Simple to implement, **strong for rare words**, and aligns with the classic Word2Vec setup.\n",
    "(We can add **CBOW** later for a speed/quality comparison.)\n"
   ]
  },
  {
   "cell_type": "markdown",
   "id": "0252fc02",
   "metadata": {},
   "source": [
    "### 5.1) Negative Sampling"
   ]
  },
  {
   "cell_type": "markdown",
   "id": "9298f5e9",
   "metadata": {},
   "source": [
    "Training a neural network usually means **slightly adjusting many weights** for each example. In Skip-gram, that’s a problem: with a large vocabulary, the output layer is huge, so a standard softmax would try to update **every** output weight on **every** pair.\n",
    "\n",
    "**Negative Sampling** changes the game. For each positive pair $(\\text{center}, \\text{context})$, we:\n",
    "- keep the **positive** context word, and\n",
    "- sample a **small set of “negative” words** (words that should score 0 for this center).\n",
    "\n",
    "We then make **binary predictions** only for these $k{+}1$ words (the one positive and a few negatives). The update touches:\n",
    "- the **input embedding** of the center word, and\n",
    "- the **output embeddings** of just the positive and sampled negatives.\n",
    "\n",
    "All other output weights are ignored for this step. The result is that each example updates **only a tiny subset** of parameters, making training **fast and scalable**, while still teaching the model to pull true contexts closer and push random words away.\n"
   ]
  },
  {
   "cell_type": "markdown",
   "id": "72fe3531",
   "metadata": {},
   "source": [
    "### Negative sampling: how we draw negatives\n",
    "\n",
    "We sample “negative” words from a unigram distribution so that more frequent words are more likely to be chosen; the paper uses a smoothed version.\n",
    "\n",
    "**Raw unigram (by relative frequency)**  \n",
    "  $$\n",
    "  P(w_i)=\\frac{f(w_i)}{\\sum_{j=1}^{|V|} f(w_j)}\n",
    "  $$\n",
    "\n",
    "**Smoothed unigram (preferred, with \\(3/4\\) power)**  \n",
    "  $$\n",
    "  P(w_i)=\\frac{f(w_i)^{3/4}}{\\sum_{j=1}^{|V|} f(w_j)^{3/4}}\n",
    "  $$\n",
    "\n",
    "Where $f(w)$ is the corpus count of word $w$. The $3/4$ exponent flattens the distribution: it slightly downweights very common words and upweights less frequent ones, yielding more informative negatives.\n"
   ]
  },
  {
   "cell_type": "code",
   "execution_count": 28,
   "id": "9ba7e95b",
   "metadata": {},
   "outputs": [],
   "source": [
    "from torch.utils.data import IterableDataset, DataLoader"
   ]
  },
  {
   "cell_type": "code",
   "execution_count": 29,
   "id": "481c5d2a",
   "metadata": {},
   "outputs": [],
   "source": [
    "# window + negatives\n",
    "WINDOW_MAX   = 5           # dynamic window upper bound\n",
    "NEGATIVE_K   = 10          # negatives per positive\n",
    "BATCH_SIZE   = 8192 if torch.cuda.is_available() else 1024\n",
    "\n",
    "# negative sampling distribution with the unigram^(3/4)\n",
    "power = 0.75\n",
    "counts = np.array([vocab[w] for w in itos], dtype=np.float64)\n",
    "unigram_pow = counts ** power\n",
    "neg_prob = unigram_pow / unigram_pow.sum()\n"
   ]
  },
  {
   "cell_type": "code",
   "execution_count": 30,
   "id": "feb83154",
   "metadata": {},
   "outputs": [
    {
     "data": {
      "image/png": "[encoded data removed]",
      "text/plain": [
       "<Figure size 800x500 with 1 Axes>"
      ]
     },
     "metadata": {},
     "output_type": "display_data"
    }
   ],
   "source": [
    "# Plot the negative sampling distribution\n",
    "\n",
    "# Raw unigram prob and smoothed (unigram^0.75)\n",
    "raw_prob = counts / counts.sum()\n",
    "neg_prob = (counts ** 0.75)\n",
    "neg_prob = neg_prob / neg_prob.sum()\n",
    "\n",
    "# Rank–probability plot (log–log): raw vs smoothed\n",
    "order_raw = np.argsort(-raw_prob)\n",
    "order_neg = np.argsort(-neg_prob)\n",
    "\n",
    "plt.figure(figsize=(8,5))\n",
    "plt.loglog(np.arange(1, len(itos)+1), raw_prob[order_raw], label=\"Raw unigram\")\n",
    "plt.loglog(np.arange(1, len(itos)+1), neg_prob[order_neg], label=\"Unigram$^{0.75}$ (neg. samp.)\")\n",
    "plt.xlabel(\"Rank (1 = most frequent)\")\n",
    "plt.ylabel(\"Probability\")\n",
    "plt.title(\"Negative-sampling distribution vs raw unigram\")\n",
    "plt.legend()\n",
    "plt.grid(True, which=\"both\")\n",
    "plt.show()\n"
   ]
  },
  {
   "cell_type": "markdown",
   "id": "b90be3f8",
   "metadata": {},
   "source": [
    "**Observation**: The unigram^0.75 curve will sit above raw for mid/low-frequency words and below raw for the very top words, that’s the **“flattening”** effect."
   ]
  },
  {
   "cell_type": "markdown",
   "id": "d944a198",
   "metadata": {},
   "source": [
    "##### But, there's an implementation problem:\n",
    "\n",
    "For every positive pair we train on, you need *k* negative words drawn from a non-uniform distribution (`neg_prob`, unigram^0.75).\n",
    "If we have millions of pairs, that’s hundreds of millions of draws!\n",
    "\n",
    "Doing `np.random.choice(..., p=neg_prob)` every time is relatively slow (it has to process the whole probability vector each draw).\n",
    "\n",
    "Then, there's a simple trick to avoid this: prebuild a big jar of tickets (`neg_table`) where **each word ID appears as often as its probability**.\n",
    "\n",
    "Then, when you need negatives, you don’t recompute anything, we just pick random positions in that jar!"
   ]
  },
  {
   "cell_type": "code",
   "execution_count": 31,
   "id": "13c15e2f",
   "metadata": {},
   "outputs": [],
   "source": [
    "# build a big table for fast sampling\n",
    "NEG_TABLE_SIZE = max(1_000_000, 100 * len(itos))\n",
    "neg_table = np.random.choice(len(itos), size=NEG_TABLE_SIZE, p=neg_prob)\n"
   ]
  },
  {
   "cell_type": "code",
   "execution_count": 32,
   "id": "51e91908",
   "metadata": {},
   "outputs": [],
   "source": [
    "def sample_negatives(batch_size: int, k: int) -> torch.Tensor:\n",
    "    idx = np.random.randint(0, NEG_TABLE_SIZE, size=(batch_size, k))\n",
    "    return torch.tensor(neg_table[idx], dtype=torch.long)\n"
   ]
  },
  {
   "cell_type": "code",
   "execution_count": 33,
   "id": "ddee99c1",
   "metadata": {},
   "outputs": [],
   "source": [
    "# iterable dataset: stream (center, context) pairs\n",
    "class SkipGramPairs(IterableDataset):\n",
    "    def __init__(self, ids, window_max):\n",
    "        super().__init__()\n",
    "        self.ids = np.asarray(ids, dtype=np.int32)\n",
    "        self.window_max = window_max\n",
    "\n",
    "    def _iter_range(self, start, end, seed=None):\n",
    "        \"\"\"\n",
    "        Yield (center, context) skip-gram pairs for center indices in [start, end).\n",
    "\n",
    "        For each center position i, sample a dynamic window radius r ~ Uniform{1..window_max}\n",
    "        using a local RNG (seeded for reproducibility). Emit one training example for every\n",
    "        neighbor j in [i-r, i+r] , with bounds clipped to [0, len(ids)).\n",
    "\n",
    "        Args:\n",
    "            start (int): Inclusive start index of the center positions.\n",
    "            end (int): Exclusive end index of the center positions.\n",
    "            seed (int, optional): Seed for a local random.Random instance so window\n",
    "                sampling is deterministic given the same inputs.\n",
    "\n",
    "        Yields:\n",
    "            Tuple[int, int]: (center_id, context_id) for a single positive pair.\n",
    "\n",
    "        Notes:\n",
    "            - The window is dynamic (varies per center occurrence).\n",
    "            - Context positions may cross the [start, end) shard boundary; only centers\n",
    "              are restricted to the shard. This preserves edge contexts.\n",
    "        \"\"\"\n",
    "        rng = random.Random(seed)\n",
    "        for i in range(start, end):\n",
    "            center = int(self.ids[i])\n",
    "            r = rng.randint(1, self.window_max)\n",
    "            left  = max(0, i - r)\n",
    "            right = min(len(self.ids), i + r + 1)\n",
    "            for j in range(left, right):\n",
    "                if j == i: \n",
    "                    continue\n",
    "                yield center, int(self.ids[j])\n",
    "\n",
    "    def __iter__(self):\n",
    "        \"\"\"\n",
    "        Stream (center, context) pairs; sharded when DataLoader uses multiple workers.\n",
    "\n",
    "        If running with a single worker, iterate over the full corpus [0, n).\n",
    "        If multiple workers are present, split the center index range into disjoint\n",
    "        shards and call _iter_range(start, end, seed=SEED + worker_id) so that each\n",
    "        worker produces a deterministic, non-overlapping subset of pairs.\n",
    "\n",
    "        Yields:\n",
    "            Tuple[int, int]: (center_id, context_id) pairs generated on the fly.\n",
    "\n",
    "        Notes:\n",
    "            - Using IterableDataset avoids materializing all pairs in memory.\n",
    "            - Seeding per worker makes results reproducible while keeping windows\n",
    "              independent across workers.\n",
    "        \"\"\"\n",
    "        # split work across dataloader workers\n",
    "        info = torch.utils.data.get_worker_info()\n",
    "        n = len(self.ids)\n",
    "        if info is None:\n",
    "            # single worker\n",
    "            yield from self._iter_range(0, n, seed=SEED)\n",
    "        else:\n",
    "            # shard per worker for deterministic coverage\n",
    "            w_id, w_num = info.id, info.num_workers\n",
    "            start = (n * w_id) // w_num\n",
    "            end   = (n * (w_id + 1)) // w_num\n",
    "            yield from self._iter_range(start, end, seed=SEED + w_id)\n"
   ]
  },
  {
   "cell_type": "markdown",
   "id": "59a4906b",
   "metadata": {},
   "source": [
    "The dataset above **streams** Skip-gram pairs on the fly, so we never materialize all $(\\text{center}, \\text{context})$ pairs in RAM.\n",
    "\n",
    "- **Input:** `ids` = the whole corpus as integer word IDs `[w0, w1, w2, …]`.  \n",
    "  For each position $i$ (center), sample a radius $r\\in\\{1,\\dots,\\text{window\\_max}\\}$ and emit one example for each neighbor $j\\in[i-r,\\,i+r]\\setminus\\{i\\}$.\n",
    "- **Why `IterableDataset`?** Counting pairs first is expensive and depends on random windows. Streaming avoids precomputation.\n",
    "\n"
   ]
  },
  {
   "cell_type": "code",
   "execution_count": 34,
   "id": "757e83f6",
   "metadata": {},
   "outputs": [],
   "source": [
    "dataset = SkipGramPairs(ids, WINDOW_MAX)\n"
   ]
  },
  {
   "cell_type": "code",
   "execution_count": 35,
   "id": "92bb659b",
   "metadata": {},
   "outputs": [],
   "source": [
    "def collate_skipgram(batch):\n",
    "    # batch = list of (center, context)\n",
    "    centers, positives = zip(*batch)\n",
    "    centers  = torch.tensor(centers,  dtype=torch.long)\n",
    "    positives= torch.tensor(positives,dtype=torch.long)\n",
    "    negatives= sample_negatives(len(batch), NEGATIVE_K)\n",
    "    return centers, positives, negatives\n",
    "\n",
    "loader = DataLoader(\n",
    "    dataset,\n",
    "    batch_size=BATCH_SIZE,\n",
    "    collate_fn=collate_skipgram,\n",
    "    num_workers=0,\n",
    "    pin_memory=torch.cuda.is_available(),\n",
    ")\n"
   ]
  },
  {
   "cell_type": "code",
   "execution_count": 36,
   "id": "ab65ef34",
   "metadata": {},
   "outputs": [
    {
     "name": "stdout",
     "output_type": "stream",
     "text": [
      "centers: torch.Size([8192]) positives: torch.Size([8192]) negatives: torch.Size([8192, 10])\n"
     ]
    }
   ],
   "source": [
    "# quick test: pull one batch and print shapes\n",
    "centers, positives, negatives = next(iter(loader))\n",
    "print(\"centers:\", centers.shape, \"positives:\", positives.shape, \"negatives:\", negatives.shape)\n"
   ]
  },
  {
   "cell_type": "code",
   "execution_count": 37,
   "id": "b9607f13",
   "metadata": {},
   "outputs": [
    {
     "name": "stdout",
     "output_type": "stream",
     "text": [
      "example pair: 2588 -> 46291 | word: anarchism -> originated\n",
      "example pair: 2588 -> 63653 | word: anarchism -> term\n",
      "example pair: 2588 -> 339 | word: anarchism -> abuse\n",
      "example pair: 46291 -> 2588 | word: originated -> anarchism\n",
      "example pair: 46291 -> 63653 | word: originated -> term\n",
      "example pair: 63653 -> 46291 | word: term -> originated\n",
      "example pair: 63653 -> 339 | word: term -> abuse\n",
      "example pair: 339 -> 2588 | word: abuse -> anarchism\n",
      "example pair: 339 -> 46291 | word: abuse -> originated\n",
      "example pair: 339 -> 63653 | word: abuse -> term\n"
     ]
    }
   ],
   "source": [
    "for i in range(10):\n",
    "    print(\"example pair:\", centers[i].item(), \"->\", positives[i].item(), \"| word:\", itos[centers[i].item()], \"->\", itos[positives[i].item()])\n"
   ]
  },
  {
   "cell_type": "code",
   "execution_count": 38,
   "id": "08233e8c",
   "metadata": {},
   "outputs": [
    {
     "data": {
      "text/plain": [
       "tensor([ 2588,  2588,  2588, 46291, 46291, 63653, 63653,   339,   339,   339])"
      ]
     },
     "execution_count": 38,
     "metadata": {},
     "output_type": "execute_result"
    }
   ],
   "source": [
    "centers[:10]"
   ]
  },
  {
   "cell_type": "code",
   "execution_count": 39,
   "id": "553caa57",
   "metadata": {},
   "outputs": [
    {
     "data": {
      "text/plain": [
       "tensor([46291, 63653,   339,  2588, 63653, 46291,   339,  2588, 46291, 63653])"
      ]
     },
     "execution_count": 39,
     "metadata": {},
     "output_type": "execute_result"
    }
   ],
   "source": [
    "positives[:10]"
   ]
  },
  {
   "cell_type": "code",
   "execution_count": 40,
   "id": "9ee5e3b0",
   "metadata": {},
   "outputs": [
    {
     "data": {
      "text/plain": [
       "tensor([[46977, 62967, 44248, 35007, 44903, 35159, 28316, 63879, 37921, 45639],\n",
       "        [62904,  3376,  2241, 44556, 55756, 68220, 10991, 61839, 50644,  6117],\n",
       "        [64423, 63867, 48521, 30977,  2645, 63561,     0, 43602, 30219, 50984],\n",
       "        [67733, 28689, 18366, 69558, 53007,  2316,  1085, 70025, 36767,  6030],\n",
       "        [26652, 50636, 40341, 63316, 58174, 57775, 22179, 22208, 33118, 28308],\n",
       "        [47554, 45944, 16228, 24694, 58040, 24660, 12317, 30311, 30227, 11901],\n",
       "        [12804, 17498, 22476, 45676, 71089, 42088, 28244,  4079, 57847,  2645],\n",
       "        [53456, 63879, 46968, 39394, 31472, 68354, 59877, 17591, 38975, 53243],\n",
       "        [ 4974, 46184, 12723, 13963, 43121,  4567, 25694, 36589, 46123,  4183],\n",
       "        [19918, 24577, 63879, 42890, 26798, 30611,  4931, 17515, 15062, 62885]])"
      ]
     },
     "execution_count": 40,
     "metadata": {},
     "output_type": "execute_result"
    }
   ],
   "source": [
    "negatives[:10]"
   ]
  },
  {
   "cell_type": "markdown",
   "id": "966cbf9f",
   "metadata": {},
   "source": [
    "**Observations**\n",
    "\n",
    "1) **centers**  \n",
    "   - Shape: `[8192]`  \n",
    "   - Meaning: for each training example (row in the batch), this is the center word ID.\n",
    "\n",
    "2) **positives**  \n",
    "   - Shape: `[8192]`  \n",
    "   - Meaning: for each example, `positives[i]` is one context word ID produced by the dynamic window at that center position.  \n",
    "   - **Note:** the **same center word can appear with different positive words** across rows; that’s expected with a sliding, random window.\n",
    "\n",
    "3) **negatives**  \n",
    "   - Shape: `[B, K]`  \n",
    "   - Meaning: for each example $i$, `negatives[i]` holds the $K$ negative word IDs sampled for that $(\\text{center}, \\text{positive})$ pair.\n"
   ]
  },
  {
   "cell_type": "markdown",
   "id": "308654d6",
   "metadata": {},
   "source": [
    "##### Summary (pairs & negatives)\n",
    "\n",
    "- We generate **Skip-gram pairs** on the fly with a **dynamic window**.\n",
    "- For each positive pair we sample **K negatives** from the unigram\\(^{0.75}\\) distribution.\n",
    "- Batches have shapes: `centers [B]`, `positives [B]`, `negatives [B, K]`.\n",
    "- Only embeddings touched per step: center, its positive context, and the K negatives."
   ]
  },
  {
   "cell_type": "markdown",
   "id": "c9c5dc0c",
   "metadata": {},
   "source": [
    "## 6) SGNS model, loss, and training"
   ]
  },
  {
   "cell_type": "code",
   "execution_count": 41,
   "id": "f63a365f",
   "metadata": {},
   "outputs": [],
   "source": [
    "import torch.nn.functional as F"
   ]
  },
  {
   "cell_type": "code",
   "execution_count": 42,
   "id": "a0b4d87c",
   "metadata": {},
   "outputs": [],
   "source": [
    "EMBED_DIM = 300  # we prefer to start small (100–300)\n",
    "\n",
    "class SGNS(nn.Module):\n",
    "    def __init__(self, vocab_size: int, embed_dim: int):\n",
    "        super().__init__()\n",
    "        self.emb_in  = nn.Embedding(vocab_size, embed_dim)   # input/center\n",
    "        self.emb_out = nn.Embedding(vocab_size, embed_dim)   # output/context\n",
    "        self._init()\n",
    "\n",
    "    def _init(self):\n",
    "        # Xavier for stability\n",
    "        nn.init.xavier_uniform_(self.emb_in.weight)\n",
    "        nn.init.xavier_uniform_(self.emb_out.weight)\n",
    "\n",
    "    def forward(self, centers, positives, negatives):\n",
    "        \"\"\"\n",
    "        centers:   [B]      word IDs (input/center)\n",
    "        positives: [B]      word IDs (true context)\n",
    "        negatives: [B, K]   word IDs (sampled negatives)\n",
    "\n",
    "        Returns:\n",
    "            pos_logits: [B]\n",
    "            neg_logits: [B, K]\n",
    "        \"\"\"\n",
    "        # Embeddings\n",
    "        v_c = self.emb_in(centers)            # [B, D]\n",
    "        v_p = self.emb_out(positives)         # [B, D]\n",
    "        v_n = self.emb_out(negatives)         # [B, K, D]\n",
    "\n",
    "        # formulation\n",
    "        C = v_c.unsqueeze(1)                  # [B, 1, D]\n",
    "        P = v_p.unsqueeze(1)                  # [B, 1, D]\n",
    "        all_ctx = torch.cat([P, v_n], dim=1)  # [B, 1+K, D]\n",
    "        logits = torch.matmul(all_ctx, C.transpose(1, 2)).squeeze(-1)  # [B, K+1]\n",
    "\n",
    "        pos_logits = logits[:, 0]             # [B]\n",
    "        neg_logits = logits[:, 1:]            # [B, K]\n",
    "        return pos_logits, neg_logits\n"
   ]
  },
  {
   "cell_type": "markdown",
   "id": "9648bd4d",
   "metadata": {},
   "source": [
    "**Notes on this SGNS head**\n",
    "\n",
    "- We **never** build $|V|$-dim one-hot vectors. `nn.Embedding` is a row lookup into $E_\\text{in}, E_\\text{out}\\in\\mathbb{R}^{|V|\\times D}$, equivalent to one-hot$\\times E$ but $O(1)$.\n",
    "- The forward pass scores only **$K{+}1$** outputs per example (1 positive + $K$ negatives) by dotting the center vector with the selected output rows, no full $|V|$-way softmax.\n",
    "- Complexity per example: **$O((K{+}1)D)$** instead of **$O(|V|D)$**.\n",
    "- The returned logits feed the SGNS loss (maximize $\\sigma(\\text{pos})$, minimize $\\sigma(\\text{neg})$).\n",
    "- After training, you can use **$E_\\text{in}$**, **$E_\\text{out}$**, or their **average**. In this notebook we will use the **average** $(E_\\text{in}+E_\\text{out})/2$.\n"
   ]
  },
  {
   "cell_type": "code",
   "execution_count": 43,
   "id": "473f168b",
   "metadata": {},
   "outputs": [],
   "source": [
    "def sgns_loss(pos_logits, neg_logits):\n",
    "    \"\"\"\n",
    "    pos_logits: [B]\n",
    "    neg_logits: [B, K]\n",
    "    \"\"\"\n",
    "    B = pos_logits.size(0)\n",
    "\n",
    "    pos_sum = F.logsigmoid(pos_logits).sum(dim=0)          # scalar\n",
    "\n",
    "    neg_logp = F.logsigmoid(-neg_logits)                   # [B, K]\n",
    "    neg_sum_over_k = neg_logp.sum(dim=1)                   # [B]   \n",
    "    neg_sum = neg_sum_over_k.sum(dim=0)                    # scalar\n",
    "    #neg_sum = F.logsigmoid(-neg_logits).sum()     <- same as\n",
    "\n",
    "    return -(pos_sum + neg_sum) / B"
   ]
  },
  {
   "cell_type": "markdown",
   "id": "6dc5f6ab",
   "metadata": {},
   "source": [
    "### SGNS loss: what this code does\n",
    "\n",
    "We have:\n",
    "- `pos_logits`: shape $[B]$ with scores $s_i^{(+)} = u_{c_i}^\\top v_{w_i}$ for each positive pair.\n",
    "- `neg_logits`: shape $[B,K]$ with scores $s_{i,k}^{(-)} = u_{n_{i,k}}^\\top v_{w_i}$ for each of the $K$ negatives.\n",
    "\n",
    "The **Skip-gram with Negative Sampling** objective **to maximize** (per batch) is:\n",
    "  \n",
    "  $$\n",
    "  \\mathcal{J}\n",
    "  \\;=\\;\n",
    "  \\frac{1}{B}\\sum_{i=1}^{B}\n",
    "  \\left[\n",
    "    \\log\\sigma\\!\\big(s_i^{(+)}\\big)\n",
    "    \\;+\\;\n",
    "    \\sum_{k=1}^{K}\\log\\sigma\\!\\big(-\\,s_{i,k}^{(-)}\\big)\n",
    "  \\right],\n",
    "  $$\n",
    "  \n",
    "where $\\sigma(x)=\\frac{1}{1+e^{-x}}$.  \n",
    "We **minimize** the loss $\\mathcal{L} = -\\mathcal{J}$.\n",
    "\n",
    "**Code mapping**\n",
    "- `F.logsigmoid(pos_logits)` computes $\\log \\sigma(s_i^{(+)})$ (vector $[B]$); `.sum()` adds over the batch.\n",
    "- `F.logsigmoid(-neg_logits)` computes $\\log \\sigma(-s_{i,k}^{(-)})$ (matrix $[B,K]$); `.sum()` adds over batch and negatives.\n",
    "- We then divide by $B$ to average **per example** (common choice; some implementations average by $B(K{+}1)$).\n",
    "\n",
    "Concretely, the loss is:\n",
    "\n",
    "  $$\n",
    "  \\mathcal{L}\n",
    "  \\;=\\;\n",
    "  -\\frac{1}{B}\\left(\n",
    "    \\sum_{i=1}^{B}\\log\\sigma\\!\\big(s_i^{(+)}\\big)\n",
    "    \\;+\\;\n",
    "    \\sum_{i=1}^{B}\\sum_{k=1}^{K}\\log\\sigma\\!\\big(-\\,s_{i,k}^{(-)}\\big)\n",
    "  \\right).\n",
    "  $$\n",
    "\n",
    "**Why `logsigmoid`?**  \n",
    "Numerical stability. Computing `torch.log(torch.sigmoid(x))` can underflow for large $|x|$; `F.logsigmoid` uses a stable formulation.\n",
    "\n",
    "**Intuition (gradients):**\n",
    "- Positives: minimizing $-\\log\\sigma(s)$ **pushes $s$ up** (pulls center and true context closer).\n",
    "- Negatives: minimizing $-\\log\\sigma(-s)$ **pushes $s$ down** (pushes center away from sampled negatives).\n",
    "\n",
    "> Equivalent form with BCE-with-logits:\n",
    "> \n",
    "> - positives: labels = 1  \n",
    "> - negatives: labels = 0  \n",
    ">  \n",
    "> Summing both and dividing by $B$ yields the same objective.\n"
   ]
  },
  {
   "cell_type": "code",
   "execution_count": 44,
   "id": "5a077a59",
   "metadata": {},
   "outputs": [],
   "source": [
    "model = SGNS(vocab_size=len(itos), embed_dim=EMBED_DIM).to(device)\n"
   ]
  },
  {
   "cell_type": "code",
   "execution_count": 45,
   "id": "3a0c39df",
   "metadata": {},
   "outputs": [],
   "source": [
    "from time import perf_counter"
   ]
  },
  {
   "cell_type": "code",
   "execution_count": 46,
   "id": "deea9467",
   "metadata": {},
   "outputs": [],
   "source": [
    "# Adam optimizer\n",
    "optimizer = torch.optim.Adam(model.parameters(), lr=1e-3)\n",
    "GRAD_NORM = 5.0\n",
    "\n",
    "# We can cap steps per \"epoch\" since IterableDataset has no length\n",
    "STEPS_PER_EPOCH = 5000\n",
    "EPOCHS = 5\n"
   ]
  },
  {
   "cell_type": "markdown",
   "id": "98d52df5",
   "metadata": {},
   "source": [
    "The training loop:"
   ]
  },
  {
   "cell_type": "code",
   "execution_count": 47,
   "id": "60e69e17",
   "metadata": {},
   "outputs": [
    {
     "name": "stdout",
     "output_type": "stream",
     "text": [
      "epoch 1 step 100/5000 - loss 6.8286\n",
      "epoch 1 step 200/5000 - loss 4.7064\n",
      "epoch 1 step 300/5000 - loss 4.1288\n",
      "epoch 1 step 400/5000 - loss 3.8988\n",
      "epoch 1 step 500/5000 - loss 3.6774\n",
      "epoch 1 step 600/5000 - loss 3.6091\n",
      "epoch 1 step 700/5000 - loss 3.6076\n",
      "epoch 1 step 800/5000 - loss 3.5698\n",
      "epoch 1 step 900/5000 - loss 3.4958\n",
      "epoch 1 step 1000/5000 - loss 3.4542\n",
      "epoch 1 step 1100/5000 - loss 3.4803\n",
      "epoch 1 step 1200/5000 - loss 3.4408\n",
      "epoch 1 step 1300/5000 - loss 3.3904\n",
      "epoch 1 step 1400/5000 - loss 3.4235\n",
      "epoch 1 step 1500/5000 - loss 3.4053\n",
      "epoch 1 step 1600/5000 - loss 3.3688\n",
      "epoch 1 step 1700/5000 - loss 3.3399\n",
      "epoch 1 step 1800/5000 - loss 3.3858\n",
      "epoch 1 step 1900/5000 - loss 3.3283\n",
      "epoch 1 step 2000/5000 - loss 3.3400\n",
      "epoch 1 step 2100/5000 - loss 3.3864\n",
      "epoch 1 step 2200/5000 - loss 3.3593\n",
      "epoch 1 step 2300/5000 - loss 3.3252\n",
      "epoch 1 step 2400/5000 - loss 3.2940\n",
      "epoch 1 step 2500/5000 - loss 3.3524\n",
      "epoch 1 step 2600/5000 - loss 3.3397\n",
      "epoch 1 step 2700/5000 - loss 3.3210\n",
      "epoch 1 step 2800/5000 - loss 3.3385\n",
      "epoch 1 step 2900/5000 - loss 3.3246\n",
      "epoch 1 step 3000/5000 - loss 3.2626\n",
      "epoch 1 step 3100/5000 - loss 3.2570\n",
      "epoch 1 step 3200/5000 - loss 3.2667\n",
      "epoch 1 step 3300/5000 - loss 3.2617\n",
      "epoch 1 step 3400/5000 - loss 3.2888\n",
      "epoch 1 step 3500/5000 - loss 3.2435\n",
      "epoch 1 step 3600/5000 - loss 3.2368\n",
      "epoch 1 step 3700/5000 - loss 3.2539\n",
      "epoch 1 step 3800/5000 - loss 3.2288\n",
      "epoch 1 step 3900/5000 - loss 3.2089\n",
      "epoch 1 step 4000/5000 - loss 3.1992\n",
      "epoch 1 step 4100/5000 - loss 3.2452\n",
      "epoch 1 step 4200/5000 - loss 3.2499\n",
      "epoch 1 step 4300/5000 - loss 3.2000\n",
      "epoch 1 step 4400/5000 - loss 3.1979\n",
      "epoch 1 step 4500/5000 - loss 3.1999\n",
      "epoch 1 step 4600/5000 - loss 3.2188\n",
      "epoch 1 step 4700/5000 - loss 3.1895\n",
      "epoch 1 step 4800/5000 - loss 3.1971\n",
      "epoch 1 step 4900/5000 - loss 3.1110\n",
      "epoch 1 step 5000/5000 - loss 3.1705\n",
      "Epoch 1 done in 187.1s\n",
      "epoch 2 step 100/5000 - loss 3.1597\n",
      "epoch 2 step 200/5000 - loss 3.1301\n",
      "epoch 2 step 300/5000 - loss 3.1090\n",
      "epoch 2 step 400/5000 - loss 3.1201\n",
      "epoch 2 step 500/5000 - loss 3.0861\n",
      "epoch 2 step 600/5000 - loss 3.1104\n",
      "epoch 2 step 700/5000 - loss 3.1004\n",
      "epoch 2 step 800/5000 - loss 3.0985\n",
      "epoch 2 step 900/5000 - loss 3.0839\n",
      "epoch 2 step 1000/5000 - loss 3.0370\n",
      "epoch 2 step 1100/5000 - loss 3.1087\n",
      "epoch 2 step 1200/5000 - loss 3.1093\n",
      "epoch 2 step 1300/5000 - loss 3.0954\n",
      "epoch 2 step 1400/5000 - loss 3.1119\n",
      "epoch 2 step 1500/5000 - loss 3.0883\n",
      "epoch 2 step 1600/5000 - loss 3.0439\n",
      "epoch 2 step 1700/5000 - loss 2.9728\n",
      "epoch 2 step 1800/5000 - loss 3.0663\n",
      "epoch 2 step 1900/5000 - loss 3.0178\n",
      "epoch 2 step 2000/5000 - loss 3.0555\n",
      "epoch 2 step 2100/5000 - loss 3.0431\n",
      "epoch 2 step 2200/5000 - loss 3.0795\n",
      "epoch 2 step 2300/5000 - loss 3.0612\n",
      "epoch 2 step 2400/5000 - loss 3.0281\n",
      "epoch 2 step 2500/5000 - loss 3.0875\n",
      "epoch 2 step 2600/5000 - loss 3.0500\n",
      "epoch 2 step 2700/5000 - loss 3.0295\n",
      "epoch 2 step 2800/5000 - loss 3.0808\n",
      "epoch 2 step 2900/5000 - loss 3.0854\n",
      "epoch 2 step 3000/5000 - loss 2.9789\n",
      "epoch 2 step 3100/5000 - loss 3.0006\n",
      "epoch 2 step 3200/5000 - loss 3.0288\n",
      "epoch 2 step 3300/5000 - loss 3.0312\n",
      "epoch 2 step 3400/5000 - loss 3.0490\n",
      "epoch 2 step 3500/5000 - loss 3.0094\n",
      "epoch 2 step 3600/5000 - loss 3.0156\n",
      "epoch 2 step 3700/5000 - loss 3.0230\n",
      "epoch 2 step 3800/5000 - loss 3.0432\n",
      "epoch 2 step 3900/5000 - loss 2.9820\n",
      "epoch 2 step 4000/5000 - loss 2.9766\n",
      "epoch 2 step 4100/5000 - loss 3.0343\n",
      "epoch 2 step 4200/5000 - loss 3.0566\n",
      "epoch 2 step 4300/5000 - loss 2.9975\n",
      "epoch 2 step 4400/5000 - loss 3.0198\n",
      "epoch 2 step 4500/5000 - loss 3.0052\n",
      "epoch 2 step 4600/5000 - loss 3.0362\n",
      "epoch 2 step 4700/5000 - loss 3.0160\n",
      "epoch 2 step 4800/5000 - loss 3.0062\n",
      "epoch 2 step 4900/5000 - loss 2.9268\n",
      "epoch 2 step 5000/5000 - loss 2.9929\n",
      "Epoch 2 done in 186.9s\n",
      "epoch 3 step 100/5000 - loss 2.9923\n",
      "epoch 3 step 200/5000 - loss 2.9908\n",
      "epoch 3 step 300/5000 - loss 2.9812\n",
      "epoch 3 step 400/5000 - loss 2.9955\n",
      "epoch 3 step 500/5000 - loss 2.9710\n",
      "epoch 3 step 600/5000 - loss 2.9881\n",
      "epoch 3 step 700/5000 - loss 2.9728\n",
      "epoch 3 step 800/5000 - loss 2.9826\n",
      "epoch 3 step 900/5000 - loss 2.9601\n",
      "epoch 3 step 1000/5000 - loss 2.8913\n",
      "epoch 3 step 1100/5000 - loss 2.9842\n",
      "epoch 3 step 1200/5000 - loss 2.9896\n",
      "epoch 3 step 1300/5000 - loss 2.9862\n",
      "epoch 3 step 1400/5000 - loss 2.9975\n",
      "epoch 3 step 1500/5000 - loss 2.9857\n",
      "epoch 3 step 1600/5000 - loss 2.9302\n",
      "epoch 3 step 1700/5000 - loss 2.8419\n",
      "epoch 3 step 1800/5000 - loss 2.9465\n",
      "epoch 3 step 1900/5000 - loss 2.9072\n",
      "epoch 3 step 2000/5000 - loss 2.9457\n",
      "epoch 3 step 2100/5000 - loss 2.9142\n",
      "epoch 3 step 2200/5000 - loss 2.9672\n",
      "epoch 3 step 2300/5000 - loss 2.9530\n",
      "epoch 3 step 2400/5000 - loss 2.9318\n",
      "epoch 3 step 2500/5000 - loss 2.9855\n",
      "epoch 3 step 2600/5000 - loss 2.9406\n",
      "epoch 3 step 2700/5000 - loss 2.9236\n",
      "epoch 3 step 2800/5000 - loss 2.9812\n",
      "epoch 3 step 2900/5000 - loss 2.9886\n",
      "epoch 3 step 3000/5000 - loss 2.8749\n",
      "epoch 3 step 3100/5000 - loss 2.8977\n",
      "epoch 3 step 3200/5000 - loss 2.9348\n",
      "epoch 3 step 3300/5000 - loss 2.9322\n",
      "epoch 3 step 3400/5000 - loss 2.9454\n",
      "epoch 3 step 3500/5000 - loss 2.9109\n",
      "epoch 3 step 3600/5000 - loss 2.9228\n",
      "epoch 3 step 3700/5000 - loss 2.9186\n",
      "epoch 3 step 3800/5000 - loss 2.9516\n",
      "epoch 3 step 3900/5000 - loss 2.8842\n",
      "epoch 3 step 4000/5000 - loss 2.8848\n",
      "epoch 3 step 4100/5000 - loss 2.9452\n",
      "epoch 3 step 4200/5000 - loss 2.9665\n",
      "epoch 3 step 4300/5000 - loss 2.9055\n",
      "epoch 3 step 4400/5000 - loss 2.9325\n",
      "epoch 3 step 4500/5000 - loss 2.9159\n",
      "epoch 3 step 4600/5000 - loss 2.9484\n",
      "epoch 3 step 4700/5000 - loss 2.9266\n",
      "epoch 3 step 4800/5000 - loss 2.9160\n",
      "epoch 3 step 4900/5000 - loss 2.8450\n",
      "epoch 3 step 5000/5000 - loss 2.9073\n",
      "Epoch 3 done in 187.5s\n",
      "epoch 4 step 100/5000 - loss 2.8994\n",
      "epoch 4 step 200/5000 - loss 2.9075\n",
      "epoch 4 step 300/5000 - loss 2.9018\n",
      "epoch 4 step 400/5000 - loss 2.9075\n",
      "epoch 4 step 500/5000 - loss 2.8912\n",
      "epoch 4 step 600/5000 - loss 2.9095\n",
      "epoch 4 step 700/5000 - loss 2.8897\n",
      "epoch 4 step 800/5000 - loss 2.9073\n",
      "epoch 4 step 900/5000 - loss 2.8806\n",
      "epoch 4 step 1000/5000 - loss 2.8147\n",
      "epoch 4 step 1100/5000 - loss 2.9053\n",
      "epoch 4 step 1200/5000 - loss 2.9153\n",
      "epoch 4 step 1300/5000 - loss 2.9209\n",
      "epoch 4 step 1400/5000 - loss 2.9235\n",
      "epoch 4 step 1500/5000 - loss 2.9167\n",
      "epoch 4 step 1600/5000 - loss 2.8657\n",
      "epoch 4 step 1700/5000 - loss 2.7658\n",
      "epoch 4 step 1800/5000 - loss 2.8741\n",
      "epoch 4 step 1900/5000 - loss 2.8405\n",
      "epoch 4 step 2000/5000 - loss 2.8780\n",
      "epoch 4 step 2100/5000 - loss 2.8309\n",
      "epoch 4 step 2200/5000 - loss 2.8985\n",
      "epoch 4 step 2300/5000 - loss 2.8899\n",
      "epoch 4 step 2400/5000 - loss 2.8725\n",
      "epoch 4 step 2500/5000 - loss 2.9244\n",
      "epoch 4 step 2600/5000 - loss 2.8774\n",
      "epoch 4 step 2700/5000 - loss 2.8592\n",
      "epoch 4 step 2800/5000 - loss 2.9223\n",
      "epoch 4 step 2900/5000 - loss 2.9282\n",
      "epoch 4 step 3000/5000 - loss 2.8083\n",
      "epoch 4 step 3100/5000 - loss 2.8384\n",
      "epoch 4 step 3200/5000 - loss 2.8777\n",
      "epoch 4 step 3300/5000 - loss 2.8729\n",
      "epoch 4 step 3400/5000 - loss 2.8779\n",
      "epoch 4 step 3500/5000 - loss 2.8471\n",
      "epoch 4 step 3600/5000 - loss 2.8634\n",
      "epoch 4 step 3700/5000 - loss 2.8474\n",
      "epoch 4 step 3800/5000 - loss 2.8914\n",
      "epoch 4 step 3900/5000 - loss 2.8205\n",
      "epoch 4 step 4000/5000 - loss 2.8247\n",
      "epoch 4 step 4100/5000 - loss 2.8825\n",
      "epoch 4 step 4200/5000 - loss 2.9059\n",
      "epoch 4 step 4300/5000 - loss 2.8455\n",
      "epoch 4 step 4400/5000 - loss 2.8757\n",
      "epoch 4 step 4500/5000 - loss 2.8588\n",
      "epoch 4 step 4600/5000 - loss 2.8902\n",
      "epoch 4 step 4700/5000 - loss 2.8713\n",
      "epoch 4 step 4800/5000 - loss 2.8559\n",
      "epoch 4 step 4900/5000 - loss 2.7897\n",
      "epoch 4 step 5000/5000 - loss 2.8518\n",
      "Epoch 4 done in 184.2s\n",
      "epoch 5 step 100/5000 - loss 2.8466\n",
      "epoch 5 step 200/5000 - loss 2.8564\n",
      "epoch 5 step 300/5000 - loss 2.8485\n",
      "epoch 5 step 400/5000 - loss 2.8590\n",
      "epoch 5 step 500/5000 - loss 2.8440\n",
      "epoch 5 step 600/5000 - loss 2.8602\n",
      "epoch 5 step 700/5000 - loss 2.8397\n",
      "epoch 5 step 800/5000 - loss 2.8543\n",
      "epoch 5 step 900/5000 - loss 2.8291\n",
      "epoch 5 step 1000/5000 - loss 2.7599\n",
      "epoch 5 step 1100/5000 - loss 2.8529\n",
      "epoch 5 step 1200/5000 - loss 2.8648\n",
      "epoch 5 step 1300/5000 - loss 2.8665\n",
      "epoch 5 step 1400/5000 - loss 2.8702\n",
      "epoch 5 step 1500/5000 - loss 2.8684\n",
      "epoch 5 step 1600/5000 - loss 2.8125\n",
      "epoch 5 step 1700/5000 - loss 2.7123\n",
      "epoch 5 step 1800/5000 - loss 2.8167\n",
      "epoch 5 step 1900/5000 - loss 2.7882\n",
      "epoch 5 step 2000/5000 - loss 2.8251\n",
      "epoch 5 step 2100/5000 - loss 2.7665\n",
      "epoch 5 step 2200/5000 - loss 2.8406\n",
      "epoch 5 step 2300/5000 - loss 2.8329\n",
      "epoch 5 step 2400/5000 - loss 2.8224\n",
      "epoch 5 step 2500/5000 - loss 2.8652\n",
      "epoch 5 step 2600/5000 - loss 2.8197\n",
      "epoch 5 step 2700/5000 - loss 2.8038\n",
      "epoch 5 step 2800/5000 - loss 2.8632\n",
      "epoch 5 step 2900/5000 - loss 2.8774\n",
      "epoch 5 step 3000/5000 - loss 2.7571\n",
      "epoch 5 step 3100/5000 - loss 2.7855\n",
      "epoch 5 step 3200/5000 - loss 2.8236\n",
      "epoch 5 step 3300/5000 - loss 2.8195\n",
      "epoch 5 step 3400/5000 - loss 2.8213\n",
      "epoch 5 step 3500/5000 - loss 2.8001\n",
      "epoch 5 step 3600/5000 - loss 2.8129\n",
      "epoch 5 step 3700/5000 - loss 2.7902\n",
      "epoch 5 step 3800/5000 - loss 2.8403\n",
      "epoch 5 step 3900/5000 - loss 2.7703\n",
      "epoch 5 step 4000/5000 - loss 2.7755\n",
      "epoch 5 step 4100/5000 - loss 2.8313\n",
      "epoch 5 step 4200/5000 - loss 2.8538\n",
      "epoch 5 step 4300/5000 - loss 2.7963\n",
      "epoch 5 step 4400/5000 - loss 2.8249\n",
      "epoch 5 step 4500/5000 - loss 2.8095\n",
      "epoch 5 step 4600/5000 - loss 2.8390\n",
      "epoch 5 step 4700/5000 - loss 2.8188\n",
      "epoch 5 step 4800/5000 - loss 2.8041\n",
      "epoch 5 step 4900/5000 - loss 2.7435\n",
      "epoch 5 step 5000/5000 - loss 2.7992\n",
      "Epoch 5 done in 181.3s\n"
     ]
    }
   ],
   "source": [
    "#training loop\n",
    "for epoch in range(1, EPOCHS+1):\n",
    "    model.train()\n",
    "    t0 = perf_counter()\n",
    "    running = 0.0\n",
    "    for step, (centers, positives, negatives) in enumerate(loader, 1):\n",
    "        centers   = centers.to(device, non_blocking=True)\n",
    "        positives = positives.to(device, non_blocking=True)\n",
    "        negatives = negatives.to(device, non_blocking=True)\n",
    "\n",
    "        optimizer.zero_grad(set_to_none=True) #each step resets grads so each update uses only the current batch\n",
    "        pos_logits, neg_logits = model(centers, positives, negatives)\n",
    "        loss = sgns_loss(pos_logits, neg_logits)\n",
    "        loss.backward()\n",
    "        nn.utils.clip_grad_norm_(model.parameters(), GRAD_NORM) #prevents exploding gradients\n",
    "        optimizer.step()\n",
    "\n",
    "        running += loss.item()\n",
    "        if step % 100 == 0:\n",
    "            print(f\"epoch {epoch} step {step}/{STEPS_PER_EPOCH} - loss {running/100:.4f}\")\n",
    "            running = 0.0\n",
    "\n",
    "        if step >= STEPS_PER_EPOCH:\n",
    "            break\n",
    "\n",
    "    dt = perf_counter() - t0\n",
    "    print(f\"Epoch {epoch} done in {dt:.1f}s\")\n"
   ]
  },
  {
   "cell_type": "code",
   "execution_count": 48,
   "id": "0e252351",
   "metadata": {},
   "outputs": [
    {
     "name": "stdout",
     "output_type": "stream",
     "text": [
      "Saved to checkpoints/sgns_text8.pt\n"
     ]
    }
   ],
   "source": [
    "os.makedirs(\"checkpoints\", exist_ok=True)\n",
    "torch.save({\n",
    "    \"model_state\": model.state_dict(),\n",
    "    \"itos\": itos,\n",
    "    \"config\": {\"embed_dim\": EMBED_DIM}\n",
    "}, \"checkpoints/sgns_text8.pt\")\n",
    "print(\"Saved to checkpoints/sgns_text8.pt\")\n"
   ]
  },
  {
   "cell_type": "code",
   "execution_count": null,
   "id": "835359fd",
   "metadata": {},
   "outputs": [],
   "source": [
    "@torch.no_grad() #don’t track gradients inside this function\n",
    "def get_emb(model, which=\"avg\"):\n",
    "    if which==\"in\":  E = model.emb_in.weight\n",
    "    if which==\"out\": E = model.emb_out.weight\n",
    "    if which==\"avg\": E = (model.emb_in.weight + model.emb_out.weight)/2\n",
    "    E = E.float(); E = E/(E.norm(dim=1, keepdim=True)+1e-12)\n",
    "    return E\n",
    "\n",
    "emb = get_emb(model).to(\"cpu\")"
   ]
  },
  {
   "cell_type": "code",
   "execution_count": 50,
   "id": "cd9d0721",
   "metadata": {},
   "outputs": [
    {
     "data": {
      "text/plain": [
       "torch.Size([71290, 300])"
      ]
     },
     "execution_count": 50,
     "metadata": {},
     "output_type": "execute_result"
    }
   ],
   "source": [
    "emb.shape"
   ]
  },
  {
   "cell_type": "markdown",
   "id": "aa1b1fae",
   "metadata": {},
   "source": [
    "### Extracted embedding matrix\n",
    "\n",
    "- **Shape:** `emb.shape = torch.Size([71290, 300])` → $ |V| \\times D $.  \n",
    "- **Meaning:** each row is a **word embedding**. Here we use the **average** of input and output embeddings, L2-normalized for cosine similarity:\n",
    "$$\n",
    "E_i \\leftarrow \\frac{E_i}{\\lVert E_i \\rVert_2 + 10^{-12}}\n",
    "$$\n",
    "- **Computation:** wrapped with `@torch.no_grad()` to avoid gradient tracking.\n"
   ]
  },
  {
   "cell_type": "markdown",
   "id": "46e75401",
   "metadata": {},
   "source": [
    "## 7) quick playground (neighbors & analogies)"
   ]
  },
  {
   "cell_type": "code",
   "execution_count": 51,
   "id": "44ce7d1b",
   "metadata": {},
   "outputs": [],
   "source": [
    "# index helpers\n",
    "word_to_id = stoi\n",
    "id_to_word = itos\n",
    "\n",
    "@torch.no_grad()\n",
    "def most_similar(query, topk=10):\n",
    "    qid = word_to_id[query]\n",
    "    q = emb[qid:qid+1]                    # [1, D], keeps a 2-D tensor\n",
    "    sims = (emb @ q.T).squeeze(1)         # [V]\n",
    "    sims[qid] = -1                        # exclude self\n",
    "    top = torch.topk(sims, topk).indices.tolist()\n",
    "    return [(id_to_word[i], float(sims[i])) for i in top]\n",
    "\n",
    "@torch.no_grad()\n",
    "def analogy(a, b, c, topk=10):\n",
    "    va = emb[word_to_id[a]]\n",
    "    vb = emb[word_to_id[b]]\n",
    "    vc = emb[word_to_id[c]]\n",
    "    v = vb - va + vc\n",
    "    v = v / (v.norm() + 1e-12)\n",
    "    sims = emb @ v\n",
    "    for w in (a, b, c): sims[word_to_id[w]] = -1  # exclude self\n",
    "    top = torch.topk(sims, topk).indices.tolist()\n",
    "    return [(id_to_word[i], float(sims[i])) for i in top]\n"
   ]
  },
  {
   "cell_type": "markdown",
   "id": "cce1d375",
   "metadata": {},
   "source": [
    "#### 7.1) Quick neighbors"
   ]
  },
  {
   "cell_type": "code",
   "execution_count": 52,
   "id": "9f677ea6",
   "metadata": {},
   "outputs": [
    {
     "name": "stdout",
     "output_type": "stream",
     "text": [
      "king → ['valdemar', 'sigismund', 'pretender', 'vasa', 'anjou', 'crowned', 'sobieski', 'jehoshaphat']\n",
      "queen → ['elizabeth', 'highness', 'victoria', 'consort', 'hrh', 'monarch', 'margrethe', 'majesty']\n",
      "paris → ['montparnasse', 'cimeti', 'marne', 'sur', 'conservatoire', 'arrondissement', 'lausanne', 'universelle']\n",
      "france → ['belgium', 'nantes', 'spain', 'alsace', 'toulouse', 'bordeaux', 'etienne', 'normandie']\n",
      "computer → ['hardware', 'computers', 'peripherals', 'programmable', 'atanasoff', 'computing', 'mainframe', 'minicomputer']\n",
      "music → ['reggae', 'folk', 'bluegrass', 'polyphonic', 'jazz', 'electronica', 'techno', 'disco']\n",
      "river → ['rivers', 'tributaries', 'yangtze', 'tributary', 'ganges', 'nile', 'brahmaputra', 'tigris']\n",
      "church → ['anglican', 'episcopal', 'churches', 'communion', 'archdiocese', 'congregationalist', 'autocephaly', 'methodist']\n"
     ]
    }
   ],
   "source": [
    "for w in [\"king\",\"queen\",\"paris\",\"france\",\"computer\",\"music\",\"river\",\"church\"]:\n",
    "    if w in word_to_id:\n",
    "        print(w, \"→\", [x for x,_ in most_similar(w, topk=8)])\n"
   ]
  },
  {
   "cell_type": "markdown",
   "id": "6dc1d334",
   "metadata": {},
   "source": [
    "#### 7.2) Analogies"
   ]
  },
  {
   "cell_type": "code",
   "execution_count": 67,
   "id": "8b88baa5",
   "metadata": {},
   "outputs": [
    {
     "name": "stdout",
     "output_type": "stream",
     "text": [
      "man:king :: woman: ? [('anjou', 0.657), ('heir', 0.65), ('daughter', 0.647), ('concubine', 0.644), ('matilda', 0.644), ('consort', 0.642), ('empress', 0.641), ('valois', 0.641)]\n",
      "paris:france :: italy: ? [('belgium', 0.681), ('germany', 0.67), ('spain', 0.655), ('hungary', 0.64), ('austria', 0.639), ('greece', 0.636), ('netherlands', 0.636), ('luxembourg', 0.614)]\n",
      "good:better :: bad: ? [('worse', 0.699), ('fared', 0.696), ('fare', 0.625), ('inflated', 0.625), ('stripper', 0.624), ('stymied', 0.622), ('slimmer', 0.62), ('undeserved', 0.618)]\n"
     ]
    }
   ],
   "source": [
    "for a,b,c in [\n",
    "    (\"man\",\"king\",\"woman\"),      # man : king :: woman : ?\n",
    "    (\"paris\",\"france\",\"italy\"),  # paris : france :: ? : italy\n",
    "    (\"good\",\"better\",\"bad\"),     # morphology-ish\n",
    "]:\n",
    "    if all(w in word_to_id for w in (a,b,c)):\n",
    "        print(f\"{a}:{b} :: {c}: ?\", [(x[0], round(x[1],3)) for x in analogy(a,b,c,topk=8)])\n"
   ]
  },
  {
   "cell_type": "markdown",
   "id": "12de355d",
   "metadata": {},
   "source": [
    "#### 7.3) Odd-one-out (which word doesn’t fit?)"
   ]
  },
  {
   "cell_type": "code",
   "execution_count": 68,
   "id": "ab08a88c",
   "metadata": {},
   "outputs": [
    {
     "name": "stdout",
     "output_type": "stream",
     "text": [
      "('germany', [('paris', 0.827), ('london', 0.747), ('rome', 0.793), ('germany', 0.693), ('madrid', 0.841)])\n",
      "('banana', [('cat', 0.893), ('dog', 0.896), ('cow', 0.85), ('banana', 0.781), ('horse', 0.814)])\n"
     ]
    }
   ],
   "source": [
    "def odd_one_out(words):\n",
    "    ok = [w for w in words if w in word_to_id]\n",
    "    V = torch.stack([emb[word_to_id[w]] for w in ok])     # [n, D]\n",
    "    centroid = V.mean(0); centroid = centroid / (centroid.norm()+1e-12)\n",
    "    sims = (V @ centroid)                                  # [n]\n",
    "    idx = int(torch.argmin(sims))\n",
    "    return ok[idx], [(x[0], round(x[1],3)) for x in list(zip(ok, sims.tolist()))]\n",
    "\n",
    "print( odd_one_out([\"paris\",\"london\",\"rome\",\"germany\",\"madrid\"]) )\n",
    "print( odd_one_out([\"cat\",\"dog\",\"cow\",\"banana\",\"horse\"]) )\n"
   ]
  },
  {
   "cell_type": "markdown",
   "id": "83de2f7a",
   "metadata": {},
   "source": [
    "#### 7.4) Relation directions (are “king−man ≈ queen−woman”?)"
   ]
  },
  {
   "cell_type": "code",
   "execution_count": 55,
   "id": "11c077a9",
   "metadata": {},
   "outputs": [
    {
     "name": "stdout",
     "output_type": "stream",
     "text": [
      "dir(man→woman) · dir(king→queen) = 0.134\n",
      "dir(paris→france) · dir(rome→italy) = 0.405\n"
     ]
    }
   ],
   "source": [
    "def direction(a,b):\n",
    "    va, vb = emb[word_to_id[a]], emb[word_to_id[b]]\n",
    "    d = vb - va; return d / (d.norm()+1e-12)\n",
    "\n",
    "for (a1,b1),(a2,b2) in [\n",
    "    ((\"man\",\"woman\"), (\"king\",\"queen\")),\n",
    "    ((\"paris\",\"france\"), (\"rome\",\"italy\")),\n",
    "]:\n",
    "    if all(w in word_to_id for w in [a1,b1,a2,b2]):\n",
    "        cos = float(direction(a1,b1) @ direction(a2,b2))\n",
    "        print(f\"dir({a1}→{b1}) · dir({a2}→{b2}) = {cos:.3f}\")\n"
   ]
  },
  {
   "cell_type": "markdown",
   "id": "ff69054d",
   "metadata": {},
   "source": [
    "#### 7.5) Tiny 2-D map (PCA) of chosen words"
   ]
  },
  {
   "cell_type": "code",
   "execution_count": 56,
   "id": "fc71c595",
   "metadata": {},
   "outputs": [],
   "source": [
    "from sklearn.decomposition import PCA"
   ]
  },
  {
   "cell_type": "code",
   "execution_count": 57,
   "id": "eb9a7b77",
   "metadata": {},
   "outputs": [
    {
     "data": {
      "image/png": "[encoded data removed]",
      "text/plain": [
       "<Figure size 600x500 with 1 Axes>"
      ]
     },
     "metadata": {},
     "output_type": "display_data"
    }
   ],
   "source": [
    "\n",
    "def plot_words(words):\n",
    "    ws = [w for w in words if w in word_to_id]\n",
    "    X = torch.stack([emb[word_to_id[w]] for w in ws]).cpu().numpy()\n",
    "    X2 = PCA(n_components=2).fit_transform(X)\n",
    "    plt.figure(figsize=(6,5))\n",
    "    plt.scatter(X2[:,0], X2[:,1])\n",
    "    for (x,y),w in zip(X2, ws): plt.text(x+0.01, y+0.01, w, fontsize=9)\n",
    "    plt.title(\"PCA of selected words\"); plt.show()\n",
    "\n",
    "plot_words([\"king\",\"queen\",\"man\",\"woman\",\"paris\",\"france\",\"rome\",\"italy\",\"guitar\",\"music\"])\n"
   ]
  },
  {
   "cell_type": "markdown",
   "id": "175d123e",
   "metadata": {},
   "source": [
    "The gender/royalty relation is captured: the vector from man → woman points in roughly the same direction as king → queen, and the pairs are close, evidence the model encodes analogous relations.\n",
    "\n",
    "Geographic terms cluster: paris–france and rome–italy sit near each other along the same axis, while music–guitar forms a separate pocket far from the geo cluster, showing topical separation."
   ]
  },
  {
   "cell_type": "markdown",
   "id": "49de7aaa",
   "metadata": {},
   "source": [
    "#### 7.6) Cosine similarity to 'car' (distribution and top-10 marked)"
   ]
  },
  {
   "cell_type": "code",
   "execution_count": 58,
   "id": "eceda15e",
   "metadata": {},
   "outputs": [],
   "source": [
    "@torch.no_grad()\n",
    "def sim_hist(query, bins=60, topk=10):\n",
    "    qid = word_to_id[query]\n",
    "    sims = (emb @ emb[qid]).cpu().numpy()     # cosine = dot (rows normalized)\n",
    "    sims[qid] = -1\n",
    "    top = np.argpartition(-sims, topk)[:topk]\n",
    "    plt.figure(figsize=(7,4))\n",
    "    plt.hist(sims, bins=bins, range=(-0.2, 1.0))\n",
    "    for i in top: plt.axvline(sims[i], ls=\"--\", alpha=0.4)\n",
    "    plt.title(f\"Cosine similarity to '{query}'\"); plt.xlabel(\"cosine\"); plt.ylabel(\"count\")\n",
    "    plt.show()\n",
    "    return [(id_to_word[i], float(sims[i])) for i in top[np.argsort(-sims[top])]]\n"
   ]
  },
  {
   "cell_type": "code",
   "execution_count": 59,
   "id": "dc6eba72",
   "metadata": {},
   "outputs": [
    {
     "data": {
      "image/png": "[encoded data removed]",
      "text/plain": [
       "<Figure size 700x400 with 1 Axes>"
      ]
     },
     "metadata": {},
     "output_type": "display_data"
    },
    {
     "data": {
      "text/plain": [
       "[('cars', 0.8291821479797363),\n",
       " ('truck', 0.8127455711364746),\n",
       " ('driver', 0.8116132020950317),\n",
       " ('automobile', 0.7917213439941406),\n",
       " ('motorcycle', 0.7849061489105225),\n",
       " ('racing', 0.7803171873092651),\n",
       " ('nascar', 0.7799419164657593),\n",
       " ('porsche', 0.7736354470252991),\n",
       " ('volkswagen', 0.7695461511611938),\n",
       " ('bicycle', 0.7570672631263733)]"
      ]
     },
     "execution_count": 59,
     "metadata": {},
     "output_type": "execute_result"
    }
   ],
   "source": [
    "sim_hist(\"car\")"
   ]
  },
  {
   "cell_type": "markdown",
   "id": "b097e344",
   "metadata": {},
   "source": [
    "#### 7.7) Local 2-D map around a query (neighbors vs background)"
   ]
  },
  {
   "cell_type": "code",
   "execution_count": 60,
   "id": "dc944fd1",
   "metadata": {},
   "outputs": [],
   "source": [
    "@torch.no_grad()\n",
    "def local_map(query, topk=100, background=1000, label_top=20):\n",
    "    qid = word_to_id[query]\n",
    "    sims = emb @ emb[qid]\n",
    "    sims[qid] = -1\n",
    "    top = torch.topk(sims, topk).indices\n",
    "\n",
    "    bg_idx = torch.randint(0, emb.size(0), (background,))\n",
    "    V = torch.cat([emb[top], emb[qid:qid+1], emb[bg_idx]])   # [topk + 1 + bg, D]\n",
    "    Y = PCA(n_components=2, random_state=0).fit_transform(V.cpu().numpy())\n",
    "\n",
    "    n_top = topk; q_pt = n_top\n",
    "    xs, ys = Y[:,0], Y[:,1]\n",
    "    plt.figure(figsize=(6,5))\n",
    "    plt.scatter(xs[n_top+1:], ys[n_top+1:], s=8, alpha=0.25, label=\"background\")\n",
    "    plt.scatter(xs[:n_top], ys[:n_top], s=30, alpha=0.9, label=\"neighbors\")\n",
    "    plt.scatter(xs[q_pt], ys[q_pt], s=80, marker=\"*\", label=query)\n",
    "    for i in range(min(label_top, n_top)):\n",
    "        plt.text(xs[i]+0.01, ys[i]+0.01, id_to_word[int(top[i])], fontsize=8)\n",
    "    plt.legend(); plt.title(f\"Local PCA map around '{query}'\"); plt.show()\n"
   ]
  },
  {
   "cell_type": "code",
   "execution_count": 61,
   "id": "b089ce11",
   "metadata": {},
   "outputs": [
    {
     "data": {
      "image/png": "[encoded data removed]",
      "text/plain": [
       "<Figure size 600x500 with 1 Axes>"
      ]
     },
     "metadata": {},
     "output_type": "display_data"
    }
   ],
   "source": [
    "local_map(\"car\")"
   ]
  },
  {
   "cell_type": "markdown",
   "id": "b6170d19",
   "metadata": {},
   "source": [
    "Neighbors (orange) densely occupy one region, dominated by vehicle types (truck, vans, automobile, dragster), brands (mercedes, volvo, volkswagen), and variants (cars, motor), a coherent semantic neighborhood around car.\n",
    "\n",
    "Background words (blue) spread diffusely across the space, indicating most vocabulary is far from the car region, the tight orange cluster highlights how the embedding concentrates semantically related words."
   ]
  },
  {
   "cell_type": "markdown",
   "id": "c75a84f9",
   "metadata": {},
   "source": [
    "----"
   ]
  }
 ],
 "metadata": {
  "kernelspec": {
   "display_name": "Pot-Tals_env",
   "language": "python",
   "name": "pot-tals_env"
  },
  "language_info": {
   "codemirror_mode": {
    "name": "ipython",
    "version": 3
   },
   "file_extension": ".py",
   "mimetype": "text/x-python",
   "name": "python",
   "nbconvert_exporter": "python",
   "pygments_lexer": "ipython3",
   "version": "3.12.7"
  }
 },
 "nbformat": 4,
 "nbformat_minor": 5
}
