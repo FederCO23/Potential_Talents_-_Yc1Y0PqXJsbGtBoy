{
 "cells": [
  {
   "cell_type": "markdown",
   "id": "b22c4196",
   "metadata": {},
   "source": [
    "## Potential Talents - Part 5"
   ]
  },
  {
   "cell_type": "markdown",
   "id": "2956a14e",
   "metadata": {},
   "source": [
    "----"
   ]
  },
  {
   "cell_type": "markdown",
   "id": "716b8abb",
   "metadata": {},
   "source": [
    "# Fine Tune an LLM to retrieve most similar \"Job Titles\" with a \"Query\"\n",
    "\n",
    "### Objective\n",
    "\n",
    "\n",
    "### Constraints\n",
    "- Local GPU: **GTX 1080 Ti**.\n",
    "\n",
    "### Models (initial)\n",
    "- **1:** `microsoft/phi-3-mini-4k-instruct` (4k context, small & GPU-friendly).\n",
    "- **2:** `google/gemma-2-2b-it` (8k context, very small).\n",
    "- **3:** `qwen2.5-3B-instruct` (32k context, ~3B params, list-style outputs).\n",
    "- **4:** `moonshot/kimi-K2-(K2-0711)`\n",
    "- **5:** `meta/llama-3.2-3B-Instruct`\n",
    "- **6:** `deepseek/deepseek-v3.1-chat`\n",
    "- **7:** `xai/grok-4-fast-reasoning`,`\n",
    "- **8:** `openai/chatgpt-4o`\n",
    "- (After some tests we will avoid FLAN-T5 here due to the ~512 token input limit.)\n",
    "\n",
    "### Method\n",
    "1)\n",
    "2)\n",
    "3)\n",
    "4)\n",
    "5)\n",
    "\n"
   ]
  },
  {
   "cell_type": "markdown",
   "id": "b8e935cd",
   "metadata": {},
   "source": [
    "----\n"
   ]
  },
  {
   "cell_type": "markdown",
   "id": "7b387d87",
   "metadata": {},
   "source": [
    "### 0. Imports, configuration and folders"
   ]
  },
  {
   "cell_type": "code",
   "execution_count": null,
   "id": "21ce1f6e",
   "metadata": {},
   "outputs": [],
   "source": [
    "# core\n",
    "import os, json, gc\n",
    "import numpy as np\n",
    "import pandas as pd\n",
    "import re, unicodedata\n",
    "import torch\n",
    "import random\n",
    "\n",
    "# display config\n",
    "pd.set_option(\"display.max_colwidth\", 200)\n",
    "pd.set_option(\"display.width\", 120)\n",
    "pd.set_option(\"display.max_columns\", 50)"
   ]
  },
  {
   "cell_type": "code",
   "execution_count": 5,
   "id": "2d60feae",
   "metadata": {},
   "outputs": [
    {
     "name": "stdout",
     "output_type": "stream",
     "text": [
      "torch: 2.6.0+cu124\n",
      "built with CUDA: 12.4\n",
      "cuda available: True\n",
      "gpu: NVIDIA GeForce GTX 1080 Ti\n"
     ]
    }
   ],
   "source": [
    "# GPU configuration details\n",
    "print(\"torch:\", torch.__version__)\n",
    "print(\"built with CUDA:\", torch.version.cuda)\n",
    "print(\"cuda available:\", torch.cuda.is_available())\n",
    "if torch.cuda.is_available():\n",
    "    print(\"gpu:\", torch.cuda.get_device_name(0))"
   ]
  },
  {
   "cell_type": "code",
   "execution_count": 6,
   "id": "2188f07b",
   "metadata": {},
   "outputs": [],
   "source": [
    "# reproducibility\n",
    "SEED = 23\n",
    "random.seed(SEED); np.random.seed(SEED); torch.manual_seed(SEED)\n",
    "\n",
    "# paths\n",
    "DATA_DIR = \"data\"\n",
    "OUT_DIR  = \"outputs\"\n",
    "\n",
    "# datasets\n",
    "base_ds_file = \"potential_talents.csv\"\n",
    "extended_df_file = \"Extended Dataset for Potential Talents.xlsx\" \n"
   ]
  },
  {
   "cell_type": "markdown",
   "id": "d4f8ae4d",
   "metadata": {},
   "source": [
    "### 1. Preprocessing and EAD"
   ]
  },
  {
   "cell_type": "code",
   "execution_count": 7,
   "id": "767006e9",
   "metadata": {},
   "outputs": [],
   "source": [
    "df = pd.read_excel(os.path.join(DATA_DIR,extended_df_file), engine=\"openpyxl\")"
   ]
  },
  {
   "cell_type": "code",
   "execution_count": 8,
   "id": "11b75ffb",
   "metadata": {},
   "outputs": [
    {
     "data": {
      "text/html": [
       "<div>\n",
       "<style scoped>\n",
       "    .dataframe tbody tr th:only-of-type {\n",
       "        vertical-align: middle;\n",
       "    }\n",
       "\n",
       "    .dataframe tbody tr th {\n",
       "        vertical-align: top;\n",
       "    }\n",
       "\n",
       "    .dataframe thead th {\n",
       "        text-align: right;\n",
       "    }\n",
       "</style>\n",
       "<table border=\"1\" class=\"dataframe\">\n",
       "  <thead>\n",
       "    <tr style=\"text-align: right;\">\n",
       "      <th></th>\n",
       "      <th>id</th>\n",
       "      <th>title</th>\n",
       "      <th>location</th>\n",
       "      <th>screening_score</th>\n",
       "    </tr>\n",
       "  </thead>\n",
       "  <tbody>\n",
       "    <tr>\n",
       "      <th>0</th>\n",
       "      <td>1</td>\n",
       "      <td>innovative and driven professional seeking a role in data analyticsdata science in the information technology industry.</td>\n",
       "      <td>United States</td>\n",
       "      <td>100</td>\n",
       "    </tr>\n",
       "    <tr>\n",
       "      <th>1</th>\n",
       "      <td>2</td>\n",
       "      <td>ms applied data science student usc research assistant usc former data analytics intern at dr reddys laboratories former data science intern quadratyx actively seeking full time roles in summer 2025</td>\n",
       "      <td>United States</td>\n",
       "      <td>100</td>\n",
       "    </tr>\n",
       "    <tr>\n",
       "      <th>2</th>\n",
       "      <td>3</td>\n",
       "      <td>computer science student seeking full-time software engineerdeveloper positions ai sql data visualization toolspython ssrs</td>\n",
       "      <td>United States</td>\n",
       "      <td>100</td>\n",
       "    </tr>\n",
       "    <tr>\n",
       "      <th>3</th>\n",
       "      <td>4</td>\n",
       "      <td>microsoft certified power bi data analyst mba business analytics unt business intelligence engineer data scientist data engineer business analytics predictive analytics statistical analysis ex-eri...</td>\n",
       "      <td>United States</td>\n",
       "      <td>100</td>\n",
       "    </tr>\n",
       "    <tr>\n",
       "      <th>4</th>\n",
       "      <td>5</td>\n",
       "      <td>graduate research assistant at uab masters in data science student at uab ex jio</td>\n",
       "      <td>United States</td>\n",
       "      <td>100</td>\n",
       "    </tr>\n",
       "  </tbody>\n",
       "</table>\n",
       "</div>"
      ],
      "text/plain": [
       "   id  \\\n",
       "0   1   \n",
       "1   2   \n",
       "2   3   \n",
       "3   4   \n",
       "4   5   \n",
       "\n",
       "                                                                                                                                                                                                     title  \\\n",
       "0                                                                                  innovative and driven professional seeking a role in data analyticsdata science in the information technology industry.   \n",
       "1   ms applied data science student usc research assistant usc former data analytics intern at dr reddys laboratories former data science intern quadratyx actively seeking full time roles in summer 2025   \n",
       "2                                                                               computer science student seeking full-time software engineerdeveloper positions ai sql data visualization toolspython ssrs   \n",
       "3  microsoft certified power bi data analyst mba business analytics unt business intelligence engineer data scientist data engineer business analytics predictive analytics statistical analysis ex-eri...   \n",
       "4                                                                                                                         graduate research assistant at uab masters in data science student at uab ex jio   \n",
       "\n",
       "        location  screening_score  \n",
       "0  United States              100  \n",
       "1  United States              100  \n",
       "2  United States              100  \n",
       "3  United States              100  \n",
       "4  United States              100  "
      ]
     },
     "execution_count": 8,
     "metadata": {},
     "output_type": "execute_result"
    }
   ],
   "source": [
    "df.head()"
   ]
  },
  {
   "cell_type": "code",
   "execution_count": 9,
   "id": "76035093",
   "metadata": {},
   "outputs": [
    {
     "name": "stdout",
     "output_type": "stream",
     "text": [
      "<class 'pandas.core.frame.DataFrame'>\n",
      "RangeIndex: 1285 entries, 0 to 1284\n",
      "Data columns (total 4 columns):\n",
      " #   Column           Non-Null Count  Dtype \n",
      "---  ------           --------------  ----- \n",
      " 0   id               1285 non-null   int64 \n",
      " 1   title            1281 non-null   object\n",
      " 2   location         1285 non-null   object\n",
      " 3   screening_score  1285 non-null   int64 \n",
      "dtypes: int64(2), object(2)\n",
      "memory usage: 40.3+ KB\n"
     ]
    }
   ],
   "source": [
    "df.info()"
   ]
  },
  {
   "cell_type": "code",
   "execution_count": 10,
   "id": "4c6c9ca4",
   "metadata": {},
   "outputs": [
    {
     "name": "stdout",
     "output_type": "stream",
     "text": [
      "Shape: (1285, 4)\n",
      "Memory: 0.25 MB\n"
     ]
    }
   ],
   "source": [
    "def mem_in_mb(nbytes: int) -> str:\n",
    "    return f\"{nbytes / (1024**2):.2f} MB\"\n",
    "\n",
    "print(\"Shape:\", df.shape)\n",
    "print(\"Memory:\", mem_in_mb(df.memory_usage(deep=True).sum()))\n"
   ]
  },
  {
   "cell_type": "markdown",
   "id": "c72124dc",
   "metadata": {},
   "source": [
    "#### 1.1 Normalize the job titles"
   ]
  },
  {
   "cell_type": "code",
   "execution_count": 11,
   "id": "b9989f29",
   "metadata": {},
   "outputs": [],
   "source": [
    "def normalize_text(s: str) -> str:\n",
    "    # If the value is NaN/None (pandas missing), return empty string to standardize missing titles\n",
    "    if pd.isna(s):\n",
    "        return \"\"\n",
    "    \n",
    "    # Normalize Unicode to NFKC to fold compatibility chars (e.g., full-width forms) into canonical forms\n",
    "    # Avoids false duplicates\n",
    "    s = unicodedata.normalize(\"NFKC\", str(s))\n",
    "    \n",
    "    # Remove zero-width space characters that can sneak into text and break equality checks\n",
    "    s = s.replace(\"\\u200b\", \"\")\n",
    "    \n",
    "    # Collapse any run of whitespace (spaces, tabs, newlines) into a single space, then trim ends\n",
    "    s = re.sub(r\"\\s+\", \" \", s).strip()\n",
    "    \n",
    "    return s"
   ]
  },
  {
   "cell_type": "code",
   "execution_count": 12,
   "id": "267fa401",
   "metadata": {},
   "outputs": [],
   "source": [
    "df['title_norm'] = df['title'].apply(normalize_text)\n",
    "df['title_len'] = df['title'].str.len()\n",
    "\n",
    "def alpha_ratio(s: str) -> float:\n",
    "    # calculate the ratio between alpha and total characters\n",
    "    if not s: return 0.0\n",
    "    a = sum(ch.isalpha() for ch in s)\n",
    "    return a / max(1,len(s))\n",
    "df['alpha_ratio'] = df['title_norm'].apply(alpha_ratio)"
   ]
  },
  {
   "cell_type": "code",
   "execution_count": 13,
   "id": "e3ff0d9d",
   "metadata": {},
   "outputs": [
    {
     "data": {
      "text/html": [
       "<div>\n",
       "<style scoped>\n",
       "    .dataframe tbody tr th:only-of-type {\n",
       "        vertical-align: middle;\n",
       "    }\n",
       "\n",
       "    .dataframe tbody tr th {\n",
       "        vertical-align: top;\n",
       "    }\n",
       "\n",
       "    .dataframe thead th {\n",
       "        text-align: right;\n",
       "    }\n",
       "</style>\n",
       "<table border=\"1\" class=\"dataframe\">\n",
       "  <thead>\n",
       "    <tr style=\"text-align: right;\">\n",
       "      <th></th>\n",
       "      <th>id</th>\n",
       "      <th>title</th>\n",
       "      <th>location</th>\n",
       "      <th>screening_score</th>\n",
       "      <th>title_norm</th>\n",
       "      <th>title_len</th>\n",
       "      <th>alpha_ratio</th>\n",
       "    </tr>\n",
       "  </thead>\n",
       "  <tbody>\n",
       "    <tr>\n",
       "      <th>0</th>\n",
       "      <td>1</td>\n",
       "      <td>innovative and driven professional seeking a role in data analyticsdata science in the information technology industry.</td>\n",
       "      <td>United States</td>\n",
       "      <td>100</td>\n",
       "      <td>innovative and driven professional seeking a role in data analyticsdata science in the information technology industry.</td>\n",
       "      <td>119.0</td>\n",
       "      <td>0.865546</td>\n",
       "    </tr>\n",
       "    <tr>\n",
       "      <th>1</th>\n",
       "      <td>2</td>\n",
       "      <td>ms applied data science student usc research assistant usc former data analytics intern at dr reddys laboratories former data science intern quadratyx actively seeking full time roles in summer 2025</td>\n",
       "      <td>United States</td>\n",
       "      <td>100</td>\n",
       "      <td>ms applied data science student usc research assistant usc former data analytics intern at dr reddys laboratories former data science intern quadratyx actively seeking full time roles in summer 2025</td>\n",
       "      <td>198.0</td>\n",
       "      <td>0.833333</td>\n",
       "    </tr>\n",
       "    <tr>\n",
       "      <th>2</th>\n",
       "      <td>3</td>\n",
       "      <td>computer science student seeking full-time software engineerdeveloper positions ai sql data visualization toolspython ssrs</td>\n",
       "      <td>United States</td>\n",
       "      <td>100</td>\n",
       "      <td>computer science student seeking full-time software engineerdeveloper positions ai sql data visualization toolspython ssrs</td>\n",
       "      <td>122.0</td>\n",
       "      <td>0.885246</td>\n",
       "    </tr>\n",
       "    <tr>\n",
       "      <th>3</th>\n",
       "      <td>4</td>\n",
       "      <td>microsoft certified power bi data analyst mba business analytics unt business intelligence engineer data scientist data engineer business analytics predictive analytics statistical analysis ex-eri...</td>\n",
       "      <td>United States</td>\n",
       "      <td>100</td>\n",
       "      <td>microsoft certified power bi data analyst mba business analytics unt business intelligence engineer data scientist data engineer business analytics predictive analytics statistical analysis ex-eri...</td>\n",
       "      <td>201.0</td>\n",
       "      <td>0.880597</td>\n",
       "    </tr>\n",
       "    <tr>\n",
       "      <th>4</th>\n",
       "      <td>5</td>\n",
       "      <td>graduate research assistant at uab masters in data science student at uab ex jio</td>\n",
       "      <td>United States</td>\n",
       "      <td>100</td>\n",
       "      <td>graduate research assistant at uab masters in data science student at uab ex jio</td>\n",
       "      <td>80.0</td>\n",
       "      <td>0.837500</td>\n",
       "    </tr>\n",
       "  </tbody>\n",
       "</table>\n",
       "</div>"
      ],
      "text/plain": [
       "   id  \\\n",
       "0   1   \n",
       "1   2   \n",
       "2   3   \n",
       "3   4   \n",
       "4   5   \n",
       "\n",
       "                                                                                                                                                                                                     title  \\\n",
       "0                                                                                  innovative and driven professional seeking a role in data analyticsdata science in the information technology industry.   \n",
       "1   ms applied data science student usc research assistant usc former data analytics intern at dr reddys laboratories former data science intern quadratyx actively seeking full time roles in summer 2025   \n",
       "2                                                                               computer science student seeking full-time software engineerdeveloper positions ai sql data visualization toolspython ssrs   \n",
       "3  microsoft certified power bi data analyst mba business analytics unt business intelligence engineer data scientist data engineer business analytics predictive analytics statistical analysis ex-eri...   \n",
       "4                                                                                                                         graduate research assistant at uab masters in data science student at uab ex jio   \n",
       "\n",
       "        location  screening_score  \\\n",
       "0  United States              100   \n",
       "1  United States              100   \n",
       "2  United States              100   \n",
       "3  United States              100   \n",
       "4  United States              100   \n",
       "\n",
       "                                                                                                                                                                                                title_norm  \\\n",
       "0                                                                                  innovative and driven professional seeking a role in data analyticsdata science in the information technology industry.   \n",
       "1   ms applied data science student usc research assistant usc former data analytics intern at dr reddys laboratories former data science intern quadratyx actively seeking full time roles in summer 2025   \n",
       "2                                                                               computer science student seeking full-time software engineerdeveloper positions ai sql data visualization toolspython ssrs   \n",
       "3  microsoft certified power bi data analyst mba business analytics unt business intelligence engineer data scientist data engineer business analytics predictive analytics statistical analysis ex-eri...   \n",
       "4                                                                                                                         graduate research assistant at uab masters in data science student at uab ex jio   \n",
       "\n",
       "   title_len  alpha_ratio  \n",
       "0      119.0     0.865546  \n",
       "1      198.0     0.833333  \n",
       "2      122.0     0.885246  \n",
       "3      201.0     0.880597  \n",
       "4       80.0     0.837500  "
      ]
     },
     "execution_count": 13,
     "metadata": {},
     "output_type": "execute_result"
    }
   ],
   "source": [
    "df.head(5)"
   ]
  },
  {
   "cell_type": "markdown",
   "id": "a5a5d22b",
   "metadata": {},
   "source": [
    "#### 1.2 Identify \"noisy job titles\" and preview what would be dropped for the analysis"
   ]
  },
  {
   "cell_type": "code",
   "execution_count": 14,
   "id": "0b7087a9",
   "metadata": {},
   "outputs": [],
   "source": [
    "MIN_LEN = 2\n",
    "MIN_ALPHA_RATIO = 0.25\n",
    "# Bad tokens observed in the extended dataset\n",
    "BAD_TOKENS = {\n",
    "    \"-\", \"--\", \"---\", \"—\", \"_\", \"n/a\", \"na\", \"none\", \"null\", \"untitled\", \"no title\",\n",
    "    \"test\", \"dummy\", \".\", \"?\", \"tbd\", \"todo\"\n",
    "}"
   ]
  },
  {
   "cell_type": "code",
   "execution_count": 15,
   "id": "ec5dce97",
   "metadata": {},
   "outputs": [],
   "source": [
    "# This pattern matches strings made only of punctuation/whitespace/symbols/underscores, with no letters or digits.\n",
    "punct_only_re = re.compile(r\"^[\\W_]+$\")\n",
    "\n",
    "# Drop candidates: identify the positions where the condition is true for the following cases:\n",
    "mask_empty = df[\"title_norm\"].eq(\"\")                                # empty after normalization\n",
    "mask_bad_token  = df[\"title_norm\"].str.lower().isin(BAD_TOKENS)     # exact match to a known junk token\n",
    "mask_punct_only = df[\"title_norm\"].str.match(punct_only_re)         # title is only punctuation/symbols/whitespace/_\n",
    "mask_too_short = df[\"title_len\"] < MIN_LEN                          # titles shorter than MIN_LEN\n",
    "mask_low_alpha = df[\"alpha_ratio\"] < MIN_ALPHA_RATIO                # too few alphabetic chars relative to total\n",
    "\n",
    "# Combine all exclusion conditions (logical OR)\n",
    "mask_nonrepr = mask_empty | mask_bad_token | mask_punct_only | mask_too_short | mask_low_alpha\n"
   ]
  },
  {
   "cell_type": "code",
   "execution_count": 16,
   "id": "91ebd4d4",
   "metadata": {},
   "outputs": [],
   "source": [
    "from IPython.display import display"
   ]
  },
  {
   "cell_type": "code",
   "execution_count": 17,
   "id": "804a3300",
   "metadata": {},
   "outputs": [
    {
     "name": "stdout",
     "output_type": "stream",
     "text": [
      "\n",
      "mask_empty — 4 rows\n"
     ]
    },
    {
     "data": {
      "text/html": [
       "<div>\n",
       "<style scoped>\n",
       "    .dataframe tbody tr th:only-of-type {\n",
       "        vertical-align: middle;\n",
       "    }\n",
       "\n",
       "    .dataframe tbody tr th {\n",
       "        vertical-align: top;\n",
       "    }\n",
       "\n",
       "    .dataframe thead th {\n",
       "        text-align: right;\n",
       "    }\n",
       "</style>\n",
       "<table border=\"1\" class=\"dataframe\">\n",
       "  <thead>\n",
       "    <tr style=\"text-align: right;\">\n",
       "      <th></th>\n",
       "      <th>id</th>\n",
       "      <th>title</th>\n",
       "      <th>location</th>\n",
       "      <th>screening_score</th>\n",
       "      <th>title_norm</th>\n",
       "      <th>title_len</th>\n",
       "      <th>alpha_ratio</th>\n",
       "    </tr>\n",
       "  </thead>\n",
       "  <tbody>\n",
       "    <tr>\n",
       "      <th>14</th>\n",
       "      <td>15</td>\n",
       "      <td>NaN</td>\n",
       "      <td>United States</td>\n",
       "      <td>100</td>\n",
       "      <td></td>\n",
       "      <td>NaN</td>\n",
       "      <td>0.0</td>\n",
       "    </tr>\n",
       "    <tr>\n",
       "      <th>193</th>\n",
       "      <td>194</td>\n",
       "      <td>NaN</td>\n",
       "      <td>Austria</td>\n",
       "      <td>50</td>\n",
       "      <td></td>\n",
       "      <td>NaN</td>\n",
       "      <td>0.0</td>\n",
       "    </tr>\n",
       "    <tr>\n",
       "      <th>248</th>\n",
       "      <td>249</td>\n",
       "      <td>NaN</td>\n",
       "      <td>United States</td>\n",
       "      <td>30</td>\n",
       "      <td></td>\n",
       "      <td>NaN</td>\n",
       "      <td>0.0</td>\n",
       "    </tr>\n",
       "    <tr>\n",
       "      <th>587</th>\n",
       "      <td>588</td>\n",
       "      <td>NaN</td>\n",
       "      <td>United States</td>\n",
       "      <td>85</td>\n",
       "      <td></td>\n",
       "      <td>NaN</td>\n",
       "      <td>0.0</td>\n",
       "    </tr>\n",
       "  </tbody>\n",
       "</table>\n",
       "</div>"
      ],
      "text/plain": [
       "      id title       location  screening_score title_norm  title_len  alpha_ratio\n",
       "14    15   NaN  United States              100                   NaN          0.0\n",
       "193  194   NaN        Austria               50                   NaN          0.0\n",
       "248  249   NaN  United States               30                   NaN          0.0\n",
       "587  588   NaN  United States               85                   NaN          0.0"
      ]
     },
     "metadata": {},
     "output_type": "display_data"
    },
    {
     "name": "stdout",
     "output_type": "stream",
     "text": [
      "\n",
      "mask_bad_token — 16 rows\n"
     ]
    },
    {
     "data": {
      "text/html": [
       "<div>\n",
       "<style scoped>\n",
       "    .dataframe tbody tr th:only-of-type {\n",
       "        vertical-align: middle;\n",
       "    }\n",
       "\n",
       "    .dataframe tbody tr th {\n",
       "        vertical-align: top;\n",
       "    }\n",
       "\n",
       "    .dataframe thead th {\n",
       "        text-align: right;\n",
       "    }\n",
       "</style>\n",
       "<table border=\"1\" class=\"dataframe\">\n",
       "  <thead>\n",
       "    <tr style=\"text-align: right;\">\n",
       "      <th></th>\n",
       "      <th>id</th>\n",
       "      <th>title</th>\n",
       "      <th>location</th>\n",
       "      <th>screening_score</th>\n",
       "      <th>title_norm</th>\n",
       "      <th>title_len</th>\n",
       "      <th>alpha_ratio</th>\n",
       "    </tr>\n",
       "  </thead>\n",
       "  <tbody>\n",
       "    <tr>\n",
       "      <th>131</th>\n",
       "      <td>132</td>\n",
       "      <td>--</td>\n",
       "      <td>United States</td>\n",
       "      <td>80</td>\n",
       "      <td>--</td>\n",
       "      <td>2.0</td>\n",
       "      <td>0.0</td>\n",
       "    </tr>\n",
       "    <tr>\n",
       "      <th>172</th>\n",
       "      <td>173</td>\n",
       "      <td>--</td>\n",
       "      <td>United States</td>\n",
       "      <td>80</td>\n",
       "      <td>--</td>\n",
       "      <td>2.0</td>\n",
       "      <td>0.0</td>\n",
       "    </tr>\n",
       "    <tr>\n",
       "      <th>175</th>\n",
       "      <td>176</td>\n",
       "      <td>.</td>\n",
       "      <td>United States</td>\n",
       "      <td>75</td>\n",
       "      <td>.</td>\n",
       "      <td>1.0</td>\n",
       "      <td>0.0</td>\n",
       "    </tr>\n",
       "    <tr>\n",
       "      <th>384</th>\n",
       "      <td>385</td>\n",
       "      <td>--</td>\n",
       "      <td>United States</td>\n",
       "      <td>100</td>\n",
       "      <td>--</td>\n",
       "      <td>2.0</td>\n",
       "      <td>0.0</td>\n",
       "    </tr>\n",
       "    <tr>\n",
       "      <th>431</th>\n",
       "      <td>432</td>\n",
       "      <td>--</td>\n",
       "      <td>United States</td>\n",
       "      <td>95</td>\n",
       "      <td>--</td>\n",
       "      <td>2.0</td>\n",
       "      <td>0.0</td>\n",
       "    </tr>\n",
       "  </tbody>\n",
       "</table>\n",
       "</div>"
      ],
      "text/plain": [
       "      id title       location  screening_score title_norm  title_len  alpha_ratio\n",
       "131  132    --  United States               80         --        2.0          0.0\n",
       "172  173    --  United States               80         --        2.0          0.0\n",
       "175  176     .  United States               75          .        1.0          0.0\n",
       "384  385    --  United States              100         --        2.0          0.0\n",
       "431  432    --  United States               95         --        2.0          0.0"
      ]
     },
     "metadata": {},
     "output_type": "display_data"
    },
    {
     "name": "stdout",
     "output_type": "stream",
     "text": [
      "\n",
      "mask_punct_only — 16 rows\n"
     ]
    },
    {
     "data": {
      "text/html": [
       "<div>\n",
       "<style scoped>\n",
       "    .dataframe tbody tr th:only-of-type {\n",
       "        vertical-align: middle;\n",
       "    }\n",
       "\n",
       "    .dataframe tbody tr th {\n",
       "        vertical-align: top;\n",
       "    }\n",
       "\n",
       "    .dataframe thead th {\n",
       "        text-align: right;\n",
       "    }\n",
       "</style>\n",
       "<table border=\"1\" class=\"dataframe\">\n",
       "  <thead>\n",
       "    <tr style=\"text-align: right;\">\n",
       "      <th></th>\n",
       "      <th>id</th>\n",
       "      <th>title</th>\n",
       "      <th>location</th>\n",
       "      <th>screening_score</th>\n",
       "      <th>title_norm</th>\n",
       "      <th>title_len</th>\n",
       "      <th>alpha_ratio</th>\n",
       "    </tr>\n",
       "  </thead>\n",
       "  <tbody>\n",
       "    <tr>\n",
       "      <th>131</th>\n",
       "      <td>132</td>\n",
       "      <td>--</td>\n",
       "      <td>United States</td>\n",
       "      <td>80</td>\n",
       "      <td>--</td>\n",
       "      <td>2.0</td>\n",
       "      <td>0.0</td>\n",
       "    </tr>\n",
       "    <tr>\n",
       "      <th>172</th>\n",
       "      <td>173</td>\n",
       "      <td>--</td>\n",
       "      <td>United States</td>\n",
       "      <td>80</td>\n",
       "      <td>--</td>\n",
       "      <td>2.0</td>\n",
       "      <td>0.0</td>\n",
       "    </tr>\n",
       "    <tr>\n",
       "      <th>175</th>\n",
       "      <td>176</td>\n",
       "      <td>.</td>\n",
       "      <td>United States</td>\n",
       "      <td>75</td>\n",
       "      <td>.</td>\n",
       "      <td>1.0</td>\n",
       "      <td>0.0</td>\n",
       "    </tr>\n",
       "    <tr>\n",
       "      <th>384</th>\n",
       "      <td>385</td>\n",
       "      <td>--</td>\n",
       "      <td>United States</td>\n",
       "      <td>100</td>\n",
       "      <td>--</td>\n",
       "      <td>2.0</td>\n",
       "      <td>0.0</td>\n",
       "    </tr>\n",
       "    <tr>\n",
       "      <th>431</th>\n",
       "      <td>432</td>\n",
       "      <td>--</td>\n",
       "      <td>United States</td>\n",
       "      <td>95</td>\n",
       "      <td>--</td>\n",
       "      <td>2.0</td>\n",
       "      <td>0.0</td>\n",
       "    </tr>\n",
       "  </tbody>\n",
       "</table>\n",
       "</div>"
      ],
      "text/plain": [
       "      id title       location  screening_score title_norm  title_len  alpha_ratio\n",
       "131  132    --  United States               80         --        2.0          0.0\n",
       "172  173    --  United States               80         --        2.0          0.0\n",
       "175  176     .  United States               75          .        1.0          0.0\n",
       "384  385    --  United States              100         --        2.0          0.0\n",
       "431  432    --  United States               95         --        2.0          0.0"
      ]
     },
     "metadata": {},
     "output_type": "display_data"
    },
    {
     "name": "stdout",
     "output_type": "stream",
     "text": [
      "\n",
      "mask_too_short — 1 rows\n"
     ]
    },
    {
     "data": {
      "text/html": [
       "<div>\n",
       "<style scoped>\n",
       "    .dataframe tbody tr th:only-of-type {\n",
       "        vertical-align: middle;\n",
       "    }\n",
       "\n",
       "    .dataframe tbody tr th {\n",
       "        vertical-align: top;\n",
       "    }\n",
       "\n",
       "    .dataframe thead th {\n",
       "        text-align: right;\n",
       "    }\n",
       "</style>\n",
       "<table border=\"1\" class=\"dataframe\">\n",
       "  <thead>\n",
       "    <tr style=\"text-align: right;\">\n",
       "      <th></th>\n",
       "      <th>id</th>\n",
       "      <th>title</th>\n",
       "      <th>location</th>\n",
       "      <th>screening_score</th>\n",
       "      <th>title_norm</th>\n",
       "      <th>title_len</th>\n",
       "      <th>alpha_ratio</th>\n",
       "    </tr>\n",
       "  </thead>\n",
       "  <tbody>\n",
       "    <tr>\n",
       "      <th>175</th>\n",
       "      <td>176</td>\n",
       "      <td>.</td>\n",
       "      <td>United States</td>\n",
       "      <td>75</td>\n",
       "      <td>.</td>\n",
       "      <td>1.0</td>\n",
       "      <td>0.0</td>\n",
       "    </tr>\n",
       "  </tbody>\n",
       "</table>\n",
       "</div>"
      ],
      "text/plain": [
       "      id title       location  screening_score title_norm  title_len  alpha_ratio\n",
       "175  176     .  United States               75          .        1.0          0.0"
      ]
     },
     "metadata": {},
     "output_type": "display_data"
    },
    {
     "name": "stdout",
     "output_type": "stream",
     "text": [
      "\n",
      "mask_low_alpha — 20 rows\n"
     ]
    },
    {
     "data": {
      "text/html": [
       "<div>\n",
       "<style scoped>\n",
       "    .dataframe tbody tr th:only-of-type {\n",
       "        vertical-align: middle;\n",
       "    }\n",
       "\n",
       "    .dataframe tbody tr th {\n",
       "        vertical-align: top;\n",
       "    }\n",
       "\n",
       "    .dataframe thead th {\n",
       "        text-align: right;\n",
       "    }\n",
       "</style>\n",
       "<table border=\"1\" class=\"dataframe\">\n",
       "  <thead>\n",
       "    <tr style=\"text-align: right;\">\n",
       "      <th></th>\n",
       "      <th>id</th>\n",
       "      <th>title</th>\n",
       "      <th>location</th>\n",
       "      <th>screening_score</th>\n",
       "      <th>title_norm</th>\n",
       "      <th>title_len</th>\n",
       "      <th>alpha_ratio</th>\n",
       "    </tr>\n",
       "  </thead>\n",
       "  <tbody>\n",
       "    <tr>\n",
       "      <th>14</th>\n",
       "      <td>15</td>\n",
       "      <td>NaN</td>\n",
       "      <td>United States</td>\n",
       "      <td>100</td>\n",
       "      <td></td>\n",
       "      <td>NaN</td>\n",
       "      <td>0.0</td>\n",
       "    </tr>\n",
       "    <tr>\n",
       "      <th>131</th>\n",
       "      <td>132</td>\n",
       "      <td>--</td>\n",
       "      <td>United States</td>\n",
       "      <td>80</td>\n",
       "      <td>--</td>\n",
       "      <td>2.0</td>\n",
       "      <td>0.0</td>\n",
       "    </tr>\n",
       "    <tr>\n",
       "      <th>172</th>\n",
       "      <td>173</td>\n",
       "      <td>--</td>\n",
       "      <td>United States</td>\n",
       "      <td>80</td>\n",
       "      <td>--</td>\n",
       "      <td>2.0</td>\n",
       "      <td>0.0</td>\n",
       "    </tr>\n",
       "    <tr>\n",
       "      <th>175</th>\n",
       "      <td>176</td>\n",
       "      <td>.</td>\n",
       "      <td>United States</td>\n",
       "      <td>75</td>\n",
       "      <td>.</td>\n",
       "      <td>1.0</td>\n",
       "      <td>0.0</td>\n",
       "    </tr>\n",
       "    <tr>\n",
       "      <th>193</th>\n",
       "      <td>194</td>\n",
       "      <td>NaN</td>\n",
       "      <td>Austria</td>\n",
       "      <td>50</td>\n",
       "      <td></td>\n",
       "      <td>NaN</td>\n",
       "      <td>0.0</td>\n",
       "    </tr>\n",
       "  </tbody>\n",
       "</table>\n",
       "</div>"
      ],
      "text/plain": [
       "      id title       location  screening_score title_norm  title_len  alpha_ratio\n",
       "14    15   NaN  United States              100                   NaN          0.0\n",
       "131  132    --  United States               80         --        2.0          0.0\n",
       "172  173    --  United States               80         --        2.0          0.0\n",
       "175  176     .  United States               75          .        1.0          0.0\n",
       "193  194   NaN        Austria               50                   NaN          0.0"
      ]
     },
     "metadata": {},
     "output_type": "display_data"
    }
   ],
   "source": [
    "masks = {'mask_empty': mask_empty, 'mask_bad_token': mask_bad_token, 'mask_punct_only': mask_punct_only, 'mask_too_short': mask_too_short, 'mask_low_alpha': mask_low_alpha}\n",
    "\n",
    "for mask_name, mask in masks.items():\n",
    "    subset = df.loc[mask]\n",
    "    print(f\"\\n{mask_name} — {subset.shape[0]} rows\")\n",
    "    display(subset.head(5))\n"
   ]
  },
  {
   "cell_type": "code",
   "execution_count": 18,
   "id": "928b0e96",
   "metadata": {},
   "outputs": [
    {
     "name": "stdout",
     "output_type": "stream",
     "text": [
      "Noisy job titles stats:\n",
      "{'empty': 4, 'bad_token': 16, 'punct_only': 16, 'too_short(<2)': 1, 'low_alpha(<0.25)': 20}\n"
     ]
    }
   ],
   "source": [
    "print(\"Noisy job titles stats:\")\n",
    "print({    \n",
    "    \"empty\": int(mask_empty.sum()),\n",
    "    \"bad_token\": int(mask_bad_token.sum()),\n",
    "    \"punct_only\": int(mask_punct_only.sum()),\n",
    "    f\"too_short(<{MIN_LEN})\": int(mask_too_short.sum()),\n",
    "    f\"low_alpha(<{MIN_ALPHA_RATIO})\": int(mask_low_alpha.sum()),\n",
    "})"
   ]
  },
  {
   "cell_type": "code",
   "execution_count": 19,
   "id": "ed58a06e",
   "metadata": {},
   "outputs": [],
   "source": [
    "# drop empties + non-representative\n",
    "df_clean = df.loc[~(mask_empty | mask_nonrepr)].copy()"
   ]
  },
  {
   "cell_type": "code",
   "execution_count": 20,
   "id": "acfe8fa0",
   "metadata": {},
   "outputs": [],
   "source": [
    "# drop duplicates by normalized title\n",
    "df_clean[\"title_key\"] = df_clean[\"title_norm\"].str.casefold()  #Casefolding is similar to lowercasing but more aggressive because it is intended to remove all case distinctions in a string\n",
    "before = len(df_clean)\n",
    "df_clean = df_clean.drop_duplicates(subset=[\"title_key\"], keep=\"first\").copy()\n",
    "after = len(df_clean)"
   ]
  },
  {
   "cell_type": "code",
   "execution_count": 21,
   "id": "de66befc",
   "metadata": {},
   "outputs": [
    {
     "name": "stdout",
     "output_type": "stream",
     "text": [
      "{'original_rows': 1285, 'removed_empty_or_nonrepr': 20, 'removed_duplicates': 66, 'final_rows': 1199}\n"
     ]
    }
   ],
   "source": [
    "print({\n",
    "    \"original_rows\": len(df),\n",
    "    \"removed_empty_or_nonrepr\": len(df) - len(df.loc[~(mask_empty | mask_nonrepr)]),\n",
    "    \"removed_duplicates\": before - after,\n",
    "    \"final_rows\": len(df_clean),\n",
    "})"
   ]
  },
  {
   "cell_type": "code",
   "execution_count": 22,
   "id": "1406440b",
   "metadata": {},
   "outputs": [],
   "source": [
    "# Drop helper cols\n",
    "df_clean = df_clean.drop(columns=[\"title_key\"])"
   ]
  },
  {
   "cell_type": "code",
   "execution_count": 23,
   "id": "3f8257ea",
   "metadata": {},
   "outputs": [],
   "source": [
    "df_clean.to_csv(\"extended_clean.csv\")"
   ]
  },
  {
   "cell_type": "code",
   "execution_count": 24,
   "id": "0a8766d7",
   "metadata": {},
   "outputs": [
    {
     "data": {
      "text/plain": [
       "Index(['id', 'title', 'location', 'screening_score', 'title_norm', 'title_len', 'alpha_ratio'], dtype='object')"
      ]
     },
     "execution_count": 24,
     "metadata": {},
     "output_type": "execute_result"
    }
   ],
   "source": [
    "df_clean.columns"
   ]
  },
  {
   "cell_type": "markdown",
   "id": "74076566",
   "metadata": {},
   "source": [
    "#### 1.3 Character length distribution (titles only)"
   ]
  },
  {
   "cell_type": "code",
   "execution_count": 25,
   "id": "030c786b",
   "metadata": {},
   "outputs": [],
   "source": [
    "import matplotlib.pyplot as plt"
   ]
  },
  {
   "cell_type": "code",
   "execution_count": 26,
   "id": "2b6272ba",
   "metadata": {},
   "outputs": [
    {
     "data": {
      "image/png": "[encoded data removed]",
      "text/plain": [
       "<Figure size 640x480 with 1 Axes>"
      ]
     },
     "metadata": {},
     "output_type": "display_data"
    }
   ],
   "source": [
    "plt.figure()\n",
    "df_clean[\"title_len\"].hist(bins=40)\n",
    "plt.title(\"Title Length (characters)\")\n",
    "plt.xlabel(\"Chars\")\n",
    "plt.ylabel(\"Count\")\n",
    "plt.show()"
   ]
  },
  {
   "cell_type": "code",
   "execution_count": 27,
   "id": "b4a15919",
   "metadata": {},
   "outputs": [
    {
     "data": {
      "text/plain": [
       "count    1199.000000\n",
       "mean       81.874062\n",
       "std        48.690361\n",
       "min         7.000000\n",
       "25%        43.000000\n",
       "50%        72.000000\n",
       "75%       112.500000\n",
       "max       213.000000\n",
       "Name: title_len, dtype: float64"
      ]
     },
     "execution_count": 27,
     "metadata": {},
     "output_type": "execute_result"
    }
   ],
   "source": [
    "df_clean[\"title_len\"].describe()\n"
   ]
  },
  {
   "cell_type": "markdown",
   "id": "3210acd1",
   "metadata": {},
   "source": [
    "### 2. Step 1: gross retrieving using Word Embedding (SBERT)"
   ]
  },
  {
   "cell_type": "code",
   "execution_count": null,
   "id": "d6601d6a",
   "metadata": {},
   "outputs": [],
   "source": []
  },
  {
   "cell_type": "markdown",
   "id": "a1b7e5a4",
   "metadata": {},
   "source": [
    "#### 2.1 import the SBERT model"
   ]
  },
  {
   "cell_type": "code",
   "execution_count": 29,
   "id": "87049a12",
   "metadata": {},
   "outputs": [],
   "source": [
    "from sentence_transformers import SentenceTransformer"
   ]
  },
  {
   "cell_type": "code",
   "execution_count": 30,
   "id": "c833ee8d",
   "metadata": {},
   "outputs": [],
   "source": [
    "text_col = \"title_norm\"\n",
    "texts = df_clean[text_col].astype(str).tolist()\n",
    "\n",
    "device = \"cuda\" if torch.cuda.is_available() else \"cpu\"\n",
    "model = SentenceTransformer(\"sentence-transformers/all-mpnet-base-v2\", device=device)\n",
    "model.max_seq_length = 256  # plenty for the titles (max = 213 chars)"
   ]
  },
  {
   "cell_type": "markdown",
   "id": "384f3265",
   "metadata": {},
   "source": [
    "#### 2.2 Encode the titles"
   ]
  },
  {
   "cell_type": "code",
   "execution_count": 31,
   "id": "dedc9cdd",
   "metadata": {},
   "outputs": [
    {
     "data": {
      "application/vnd.jupyter.widget-view+json": {
       "model_id": "5d2b5976501840b0ad861b18e40362bf",
       "version_major": 2,
       "version_minor": 0
      },
      "text/plain": [
       "Batches:   0%|          | 0/10 [00:00<?, ?it/s]"
      ]
     },
     "metadata": {},
     "output_type": "display_data"
    },
    {
     "name": "stdout",
     "output_type": "stream",
     "text": [
      "Shape: (1199, 768)\n",
      "Norm mean: 1.0\n"
     ]
    }
   ],
   "source": [
    "emb = model.encode(\n",
    "    texts,\n",
    "    batch_size=128,\n",
    "    show_progress_bar=True,\n",
    "    normalize_embeddings=True,      # cosine-ready\n",
    "    convert_to_numpy=True\n",
    ").astype(np.float32)\n",
    "\n",
    "print(\"Shape:\", emb.shape)          # (n_rows, 384)\n",
    "print(\"Norm mean:\", np.linalg.norm(emb, axis=1).mean())\n"
   ]
  },
  {
   "cell_type": "code",
   "execution_count": 32,
   "id": "014ca35e",
   "metadata": {},
   "outputs": [],
   "source": [
    "# Copy the clean dataframe\n",
    "df_model = df_clean.copy(deep=True)"
   ]
  },
  {
   "cell_type": "code",
   "execution_count": 33,
   "id": "8654c2ca",
   "metadata": {},
   "outputs": [],
   "source": [
    "# Create an immutable row index for embedding alignment\n",
    "df_model = df_model.reset_index(drop=True)\n",
    "df_model[\"emb_ix\"] = df_model.index.astype(\"int32\")"
   ]
  },
  {
   "cell_type": "code",
   "execution_count": 34,
   "id": "53498e15",
   "metadata": {},
   "outputs": [
    {
     "data": {
      "text/html": [
       "<div>\n",
       "<style scoped>\n",
       "    .dataframe tbody tr th:only-of-type {\n",
       "        vertical-align: middle;\n",
       "    }\n",
       "\n",
       "    .dataframe tbody tr th {\n",
       "        vertical-align: top;\n",
       "    }\n",
       "\n",
       "    .dataframe thead th {\n",
       "        text-align: right;\n",
       "    }\n",
       "</style>\n",
       "<table border=\"1\" class=\"dataframe\">\n",
       "  <thead>\n",
       "    <tr style=\"text-align: right;\">\n",
       "      <th></th>\n",
       "      <th>id</th>\n",
       "      <th>title</th>\n",
       "      <th>location</th>\n",
       "      <th>screening_score</th>\n",
       "      <th>title_norm</th>\n",
       "      <th>title_len</th>\n",
       "      <th>alpha_ratio</th>\n",
       "      <th>emb_ix</th>\n",
       "    </tr>\n",
       "  </thead>\n",
       "  <tbody>\n",
       "    <tr>\n",
       "      <th>0</th>\n",
       "      <td>1</td>\n",
       "      <td>innovative and driven professional seeking a role in data analyticsdata science in the information technology industry.</td>\n",
       "      <td>United States</td>\n",
       "      <td>100</td>\n",
       "      <td>innovative and driven professional seeking a role in data analyticsdata science in the information technology industry.</td>\n",
       "      <td>119.0</td>\n",
       "      <td>0.865546</td>\n",
       "      <td>0</td>\n",
       "    </tr>\n",
       "    <tr>\n",
       "      <th>1</th>\n",
       "      <td>2</td>\n",
       "      <td>ms applied data science student usc research assistant usc former data analytics intern at dr reddys laboratories former data science intern quadratyx actively seeking full time roles in summer 2025</td>\n",
       "      <td>United States</td>\n",
       "      <td>100</td>\n",
       "      <td>ms applied data science student usc research assistant usc former data analytics intern at dr reddys laboratories former data science intern quadratyx actively seeking full time roles in summer 2025</td>\n",
       "      <td>198.0</td>\n",
       "      <td>0.833333</td>\n",
       "      <td>1</td>\n",
       "    </tr>\n",
       "    <tr>\n",
       "      <th>2</th>\n",
       "      <td>3</td>\n",
       "      <td>computer science student seeking full-time software engineerdeveloper positions ai sql data visualization toolspython ssrs</td>\n",
       "      <td>United States</td>\n",
       "      <td>100</td>\n",
       "      <td>computer science student seeking full-time software engineerdeveloper positions ai sql data visualization toolspython ssrs</td>\n",
       "      <td>122.0</td>\n",
       "      <td>0.885246</td>\n",
       "      <td>2</td>\n",
       "    </tr>\n",
       "    <tr>\n",
       "      <th>3</th>\n",
       "      <td>4</td>\n",
       "      <td>microsoft certified power bi data analyst mba business analytics unt business intelligence engineer data scientist data engineer business analytics predictive analytics statistical analysis ex-eri...</td>\n",
       "      <td>United States</td>\n",
       "      <td>100</td>\n",
       "      <td>microsoft certified power bi data analyst mba business analytics unt business intelligence engineer data scientist data engineer business analytics predictive analytics statistical analysis ex-eri...</td>\n",
       "      <td>201.0</td>\n",
       "      <td>0.880597</td>\n",
       "      <td>3</td>\n",
       "    </tr>\n",
       "    <tr>\n",
       "      <th>4</th>\n",
       "      <td>5</td>\n",
       "      <td>graduate research assistant at uab masters in data science student at uab ex jio</td>\n",
       "      <td>United States</td>\n",
       "      <td>100</td>\n",
       "      <td>graduate research assistant at uab masters in data science student at uab ex jio</td>\n",
       "      <td>80.0</td>\n",
       "      <td>0.837500</td>\n",
       "      <td>4</td>\n",
       "    </tr>\n",
       "  </tbody>\n",
       "</table>\n",
       "</div>"
      ],
      "text/plain": [
       "   id  \\\n",
       "0   1   \n",
       "1   2   \n",
       "2   3   \n",
       "3   4   \n",
       "4   5   \n",
       "\n",
       "                                                                                                                                                                                                     title  \\\n",
       "0                                                                                  innovative and driven professional seeking a role in data analyticsdata science in the information technology industry.   \n",
       "1   ms applied data science student usc research assistant usc former data analytics intern at dr reddys laboratories former data science intern quadratyx actively seeking full time roles in summer 2025   \n",
       "2                                                                               computer science student seeking full-time software engineerdeveloper positions ai sql data visualization toolspython ssrs   \n",
       "3  microsoft certified power bi data analyst mba business analytics unt business intelligence engineer data scientist data engineer business analytics predictive analytics statistical analysis ex-eri...   \n",
       "4                                                                                                                         graduate research assistant at uab masters in data science student at uab ex jio   \n",
       "\n",
       "        location  screening_score  \\\n",
       "0  United States              100   \n",
       "1  United States              100   \n",
       "2  United States              100   \n",
       "3  United States              100   \n",
       "4  United States              100   \n",
       "\n",
       "                                                                                                                                                                                                title_norm  \\\n",
       "0                                                                                  innovative and driven professional seeking a role in data analyticsdata science in the information technology industry.   \n",
       "1   ms applied data science student usc research assistant usc former data analytics intern at dr reddys laboratories former data science intern quadratyx actively seeking full time roles in summer 2025   \n",
       "2                                                                               computer science student seeking full-time software engineerdeveloper positions ai sql data visualization toolspython ssrs   \n",
       "3  microsoft certified power bi data analyst mba business analytics unt business intelligence engineer data scientist data engineer business analytics predictive analytics statistical analysis ex-eri...   \n",
       "4                                                                                                                         graduate research assistant at uab masters in data science student at uab ex jio   \n",
       "\n",
       "   title_len  alpha_ratio  emb_ix  \n",
       "0      119.0     0.865546       0  \n",
       "1      198.0     0.833333       1  \n",
       "2      122.0     0.885246       2  \n",
       "3      201.0     0.880597       3  \n",
       "4       80.0     0.837500       4  "
      ]
     },
     "execution_count": 34,
     "metadata": {},
     "output_type": "execute_result"
    }
   ],
   "source": [
    "df_model.head()"
   ]
  },
  {
   "cell_type": "code",
   "execution_count": 35,
   "id": "2af0be32",
   "metadata": {},
   "outputs": [],
   "source": [
    "# Keep a slim view for joining results\n",
    "meta_cols = [\"emb_ix\",\"id\",\"title\",\"title_norm\"]\n",
    "meta = df_model[meta_cols].copy()"
   ]
  },
  {
   "cell_type": "markdown",
   "id": "4942c49f",
   "metadata": {},
   "source": [
    "#### 2.3 Retrieval function (encode query -> top-N by cosine similarity)"
   ]
  },
  {
   "cell_type": "code",
   "execution_count": 36,
   "id": "b7b34562",
   "metadata": {},
   "outputs": [],
   "source": [
    "from typing import Union, Tuple"
   ]
  },
  {
   "cell_type": "code",
   "execution_count": 37,
   "id": "b923a15c",
   "metadata": {},
   "outputs": [],
   "source": [
    "def retrieve_top_n(\n",
    "    query: str,\n",
    "    n: int = 50    \n",
    ") -> pd.DataFrame:\n",
    "    \"\"\"\n",
    "    Normalize + encode `query` with the same model, compute cosine similarities to `emb`,\n",
    "    fully sort all items (O(N log N)), and return a DataFrame with the top-n results.\n",
    "\n",
    "    Requires in scope:\n",
    "      - normalize_text (function)\n",
    "      - model (SentenceTransformer used to build `emb`)\n",
    "      - emb   (np.ndarray, shape [N, D], L2-normalized rows)\n",
    "      - meta  (DataFrame with columns including ['emb_ix','id','title','title_norm'])\n",
    "    \"\"\"\n",
    "    # Normalize query text exactly like corpus titles\n",
    "    q_text = normalize_text(query)\n",
    "    \n",
    "    # Encode query. Normalize to make cosine a dot product\n",
    "    q = model.encode([q_text], normalize_embeddings=True, convert_to_numpy=True).astype(np.float32)[0]\n",
    "\n",
    "    # Cosine similarities (dot product since vectors are L2-normalized)\n",
    "    sims = emb @ q  # shape (N,)\n",
    "\n",
    "    # Bound n and get indices of the top-n by full sort (O(N log N))\n",
    "    N = sims.shape[0]\n",
    "    n = int(max(1, min(n, N)))\n",
    "    idx_sorted_desc = np.argsort(sims)[::-1][:n]  # full sort, take top-n\n",
    "\n",
    "    # Build output DataFrame with originals\n",
    "    out = meta.loc[idx_sorted_desc].copy()\n",
    "    out.insert(0, \"rank\", np.arange(1, len(idx_sorted_desc) + 1))\n",
    "    out[\"similarity\"] = sims[idx_sorted_desc]\n",
    "    return out.reset_index(drop=True)"
   ]
  },
  {
   "cell_type": "markdown",
   "id": "3eeddafb",
   "metadata": {},
   "source": [
    "Run some tests:"
   ]
  },
  {
   "cell_type": "code",
   "execution_count": 38,
   "id": "9d47e47c",
   "metadata": {},
   "outputs": [
    {
     "name": "stdout",
     "output_type": "stream",
     "text": [
      "\n",
      "Query: machine learning engineer\n"
     ]
    },
    {
     "data": {
      "text/html": [
       "<div>\n",
       "<style scoped>\n",
       "    .dataframe tbody tr th:only-of-type {\n",
       "        vertical-align: middle;\n",
       "    }\n",
       "\n",
       "    .dataframe tbody tr th {\n",
       "        vertical-align: top;\n",
       "    }\n",
       "\n",
       "    .dataframe thead th {\n",
       "        text-align: right;\n",
       "    }\n",
       "</style>\n",
       "<table border=\"1\" class=\"dataframe\">\n",
       "  <thead>\n",
       "    <tr style=\"text-align: right;\">\n",
       "      <th></th>\n",
       "      <th>rank</th>\n",
       "      <th>emb_ix</th>\n",
       "      <th>id</th>\n",
       "      <th>title</th>\n",
       "      <th>title_norm</th>\n",
       "      <th>similarity</th>\n",
       "    </tr>\n",
       "  </thead>\n",
       "  <tbody>\n",
       "    <tr>\n",
       "      <th>0</th>\n",
       "      <td>1</td>\n",
       "      <td>891</td>\n",
       "      <td>947</td>\n",
       "      <td>machine learning engineer</td>\n",
       "      <td>machine learning engineer</td>\n",
       "      <td>1.000000</td>\n",
       "    </tr>\n",
       "    <tr>\n",
       "      <th>1</th>\n",
       "      <td>2</td>\n",
       "      <td>979</td>\n",
       "      <td>1039</td>\n",
       "      <td>machine learning engineer 2</td>\n",
       "      <td>machine learning engineer 2</td>\n",
       "      <td>0.864124</td>\n",
       "    </tr>\n",
       "    <tr>\n",
       "      <th>2</th>\n",
       "      <td>3</td>\n",
       "      <td>1140</td>\n",
       "      <td>1221</td>\n",
       "      <td>Data Scientist Machine Learning Engineer</td>\n",
       "      <td>Data Scientist Machine Learning Engineer</td>\n",
       "      <td>0.849322</td>\n",
       "    </tr>\n",
       "    <tr>\n",
       "      <th>3</th>\n",
       "      <td>4</td>\n",
       "      <td>1155</td>\n",
       "      <td>1237</td>\n",
       "      <td>Machine Learning Engineer Data Scientist MLOps</td>\n",
       "      <td>Machine Learning Engineer Data Scientist MLOps</td>\n",
       "      <td>0.841134</td>\n",
       "    </tr>\n",
       "    <tr>\n",
       "      <th>4</th>\n",
       "      <td>5</td>\n",
       "      <td>23</td>\n",
       "      <td>25</td>\n",
       "      <td>data analyst and machine learning engineer</td>\n",
       "      <td>data analyst and machine learning engineer</td>\n",
       "      <td>0.800220</td>\n",
       "    </tr>\n",
       "  </tbody>\n",
       "</table>\n",
       "</div>"
      ],
      "text/plain": [
       "   rank  emb_ix    id                                           title                                      title_norm  \\\n",
       "0     1     891   947                       machine learning engineer                       machine learning engineer   \n",
       "1     2     979  1039                     machine learning engineer 2                     machine learning engineer 2   \n",
       "2     3    1140  1221        Data Scientist Machine Learning Engineer        Data Scientist Machine Learning Engineer   \n",
       "3     4    1155  1237  Machine Learning Engineer Data Scientist MLOps  Machine Learning Engineer Data Scientist MLOps   \n",
       "4     5      23    25      data analyst and machine learning engineer      data analyst and machine learning engineer   \n",
       "\n",
       "   similarity  \n",
       "0    1.000000  \n",
       "1    0.864124  \n",
       "2    0.849322  \n",
       "3    0.841134  \n",
       "4    0.800220  "
      ]
     },
     "metadata": {},
     "output_type": "display_data"
    },
    {
     "name": "stdout",
     "output_type": "stream",
     "text": [
      "\n",
      "Query: data scientist\n"
     ]
    },
    {
     "data": {
      "text/html": [
       "<div>\n",
       "<style scoped>\n",
       "    .dataframe tbody tr th:only-of-type {\n",
       "        vertical-align: middle;\n",
       "    }\n",
       "\n",
       "    .dataframe tbody tr th {\n",
       "        vertical-align: top;\n",
       "    }\n",
       "\n",
       "    .dataframe thead th {\n",
       "        text-align: right;\n",
       "    }\n",
       "</style>\n",
       "<table border=\"1\" class=\"dataframe\">\n",
       "  <thead>\n",
       "    <tr style=\"text-align: right;\">\n",
       "      <th></th>\n",
       "      <th>rank</th>\n",
       "      <th>emb_ix</th>\n",
       "      <th>id</th>\n",
       "      <th>title</th>\n",
       "      <th>title_norm</th>\n",
       "      <th>similarity</th>\n",
       "    </tr>\n",
       "  </thead>\n",
       "  <tbody>\n",
       "    <tr>\n",
       "      <th>0</th>\n",
       "      <td>1</td>\n",
       "      <td>194</td>\n",
       "      <td>201</td>\n",
       "      <td>data scientist</td>\n",
       "      <td>data scientist</td>\n",
       "      <td>1.000000</td>\n",
       "    </tr>\n",
       "    <tr>\n",
       "      <th>1</th>\n",
       "      <td>2</td>\n",
       "      <td>1097</td>\n",
       "      <td>1173</td>\n",
       "      <td>data analyst data scientist</td>\n",
       "      <td>data analyst data scientist</td>\n",
       "      <td>0.918813</td>\n",
       "    </tr>\n",
       "    <tr>\n",
       "      <th>2</th>\n",
       "      <td>3</td>\n",
       "      <td>405</td>\n",
       "      <td>419</td>\n",
       "      <td>data scientist analyst</td>\n",
       "      <td>data scientist analyst</td>\n",
       "      <td>0.914789</td>\n",
       "    </tr>\n",
       "    <tr>\n",
       "      <th>3</th>\n",
       "      <td>4</td>\n",
       "      <td>1018</td>\n",
       "      <td>1080</td>\n",
       "      <td>data scientistgeoscientist</td>\n",
       "      <td>data scientistgeoscientist</td>\n",
       "      <td>0.880559</td>\n",
       "    </tr>\n",
       "    <tr>\n",
       "      <th>4</th>\n",
       "      <td>5</td>\n",
       "      <td>72</td>\n",
       "      <td>74</td>\n",
       "      <td>data analyst</td>\n",
       "      <td>data analyst</td>\n",
       "      <td>0.875535</td>\n",
       "    </tr>\n",
       "  </tbody>\n",
       "</table>\n",
       "</div>"
      ],
      "text/plain": [
       "   rank  emb_ix    id                        title                   title_norm  similarity\n",
       "0     1     194   201               data scientist               data scientist    1.000000\n",
       "1     2    1097  1173  data analyst data scientist  data analyst data scientist    0.918813\n",
       "2     3     405   419       data scientist analyst       data scientist analyst    0.914789\n",
       "3     4    1018  1080   data scientistgeoscientist   data scientistgeoscientist    0.880559\n",
       "4     5      72    74                 data analyst                 data analyst    0.875535"
      ]
     },
     "metadata": {},
     "output_type": "display_data"
    },
    {
     "name": "stdout",
     "output_type": "stream",
     "text": [
      "\n",
      "Query: project manager\n"
     ]
    },
    {
     "data": {
      "text/html": [
       "<div>\n",
       "<style scoped>\n",
       "    .dataframe tbody tr th:only-of-type {\n",
       "        vertical-align: middle;\n",
       "    }\n",
       "\n",
       "    .dataframe tbody tr th {\n",
       "        vertical-align: top;\n",
       "    }\n",
       "\n",
       "    .dataframe thead th {\n",
       "        text-align: right;\n",
       "    }\n",
       "</style>\n",
       "<table border=\"1\" class=\"dataframe\">\n",
       "  <thead>\n",
       "    <tr style=\"text-align: right;\">\n",
       "      <th></th>\n",
       "      <th>rank</th>\n",
       "      <th>emb_ix</th>\n",
       "      <th>id</th>\n",
       "      <th>title</th>\n",
       "      <th>title_norm</th>\n",
       "      <th>similarity</th>\n",
       "    </tr>\n",
       "  </thead>\n",
       "  <tbody>\n",
       "    <tr>\n",
       "      <th>0</th>\n",
       "      <td>1</td>\n",
       "      <td>707</td>\n",
       "      <td>738</td>\n",
       "      <td>program manager</td>\n",
       "      <td>program manager</td>\n",
       "      <td>0.648391</td>\n",
       "    </tr>\n",
       "    <tr>\n",
       "      <th>1</th>\n",
       "      <td>2</td>\n",
       "      <td>841</td>\n",
       "      <td>888</td>\n",
       "      <td>operations manager assistant program coordinator</td>\n",
       "      <td>operations manager assistant program coordinator</td>\n",
       "      <td>0.593523</td>\n",
       "    </tr>\n",
       "    <tr>\n",
       "      <th>2</th>\n",
       "      <td>3</td>\n",
       "      <td>1145</td>\n",
       "      <td>1227</td>\n",
       "      <td>Advanced Google Certified Data Analyst Project Manager</td>\n",
       "      <td>Advanced Google Certified Data Analyst Project Manager</td>\n",
       "      <td>0.573546</td>\n",
       "    </tr>\n",
       "    <tr>\n",
       "      <th>3</th>\n",
       "      <td>4</td>\n",
       "      <td>765</td>\n",
       "      <td>804</td>\n",
       "      <td>engineering supervisor</td>\n",
       "      <td>engineering supervisor</td>\n",
       "      <td>0.569864</td>\n",
       "    </tr>\n",
       "    <tr>\n",
       "      <th>4</th>\n",
       "      <td>5</td>\n",
       "      <td>697</td>\n",
       "      <td>727</td>\n",
       "      <td>performance marketing manager</td>\n",
       "      <td>performance marketing manager</td>\n",
       "      <td>0.549647</td>\n",
       "    </tr>\n",
       "  </tbody>\n",
       "</table>\n",
       "</div>"
      ],
      "text/plain": [
       "   rank  emb_ix    id                                                   title  \\\n",
       "0     1     707   738                                         program manager   \n",
       "1     2     841   888        operations manager assistant program coordinator   \n",
       "2     3    1145  1227  Advanced Google Certified Data Analyst Project Manager   \n",
       "3     4     765   804                                  engineering supervisor   \n",
       "4     5     697   727                           performance marketing manager   \n",
       "\n",
       "                                               title_norm  similarity  \n",
       "0                                         program manager    0.648391  \n",
       "1        operations manager assistant program coordinator    0.593523  \n",
       "2  Advanced Google Certified Data Analyst Project Manager    0.573546  \n",
       "3                                  engineering supervisor    0.569864  \n",
       "4                           performance marketing manager    0.549647  "
      ]
     },
     "metadata": {},
     "output_type": "display_data"
    }
   ],
   "source": [
    "tests = [\n",
    "    \"machine learning engineer\",\n",
    "    \"data scientist\",\n",
    "    \"project manager\"\n",
    "]\n",
    "\n",
    "for q in tests:\n",
    "    print(f\"\\nQuery: {q}\")\n",
    "    display(retrieve_top_n(q, n=5))\n"
   ]
  },
  {
   "cell_type": "markdown",
   "id": "5d202ca2",
   "metadata": {},
   "source": [
    "Sanity checks"
   ]
  },
  {
   "cell_type": "code",
   "execution_count": 41,
   "id": "66ba3e9b",
   "metadata": {},
   "outputs": [],
   "source": [
    "qs = [\n",
    "    \"machine learning engineer\",\n",
    "    \"data scientist\",\n",
    "    \"project manager\",\n",
    "    \"product manager\",\n",
    "    \"ml ops engineer\",\n",
    "    \"computer vision scientist\",\n",
    "]\n",
    "rows = []\n",
    "for q in qs:\n",
    "    top5 = retrieve_top_n(q, n=5)\n",
    "    rows.append({\n",
    "        \"query\": q,\n",
    "        \"top1_title\": top5.loc[0, \"title\"],\n",
    "        \"top1_sim\": float(top5.loc[0, \"similarity\"])        \n",
    "    })\n"
   ]
  },
  {
   "cell_type": "code",
   "execution_count": 42,
   "id": "6792c50b",
   "metadata": {},
   "outputs": [
    {
     "data": {
      "text/html": [
       "<div>\n",
       "<style scoped>\n",
       "    .dataframe tbody tr th:only-of-type {\n",
       "        vertical-align: middle;\n",
       "    }\n",
       "\n",
       "    .dataframe tbody tr th {\n",
       "        vertical-align: top;\n",
       "    }\n",
       "\n",
       "    .dataframe thead th {\n",
       "        text-align: right;\n",
       "    }\n",
       "</style>\n",
       "<table border=\"1\" class=\"dataframe\">\n",
       "  <thead>\n",
       "    <tr style=\"text-align: right;\">\n",
       "      <th></th>\n",
       "      <th>query</th>\n",
       "      <th>top1_title</th>\n",
       "      <th>top1_sim</th>\n",
       "    </tr>\n",
       "  </thead>\n",
       "  <tbody>\n",
       "    <tr>\n",
       "      <th>2</th>\n",
       "      <td>project manager</td>\n",
       "      <td>program manager</td>\n",
       "      <td>0.648391</td>\n",
       "    </tr>\n",
       "    <tr>\n",
       "      <th>3</th>\n",
       "      <td>product manager</td>\n",
       "      <td>performance marketing manager</td>\n",
       "      <td>0.685709</td>\n",
       "    </tr>\n",
       "    <tr>\n",
       "      <th>5</th>\n",
       "      <td>computer vision scientist</td>\n",
       "      <td>computer scientist</td>\n",
       "      <td>0.735877</td>\n",
       "    </tr>\n",
       "    <tr>\n",
       "      <th>4</th>\n",
       "      <td>ml ops engineer</td>\n",
       "      <td>Machine Learning Engineer Data Scientist MLOps</td>\n",
       "      <td>0.761466</td>\n",
       "    </tr>\n",
       "    <tr>\n",
       "      <th>0</th>\n",
       "      <td>machine learning engineer</td>\n",
       "      <td>machine learning engineer</td>\n",
       "      <td>1.000000</td>\n",
       "    </tr>\n",
       "    <tr>\n",
       "      <th>1</th>\n",
       "      <td>data scientist</td>\n",
       "      <td>data scientist</td>\n",
       "      <td>1.000000</td>\n",
       "    </tr>\n",
       "  </tbody>\n",
       "</table>\n",
       "</div>"
      ],
      "text/plain": [
       "                       query                                      top1_title  top1_sim\n",
       "2            project manager                                 program manager  0.648391\n",
       "3            product manager                   performance marketing manager  0.685709\n",
       "5  computer vision scientist                              computer scientist  0.735877\n",
       "4            ml ops engineer  Machine Learning Engineer Data Scientist MLOps  0.761466\n",
       "0  machine learning engineer                       machine learning engineer  1.000000\n",
       "1             data scientist                                  data scientist  1.000000"
      ]
     },
     "execution_count": 42,
     "metadata": {},
     "output_type": "execute_result"
    }
   ],
   "source": [
    "pd.DataFrame(rows).sort_values(\"top1_sim\")"
   ]
  },
  {
   "cell_type": "markdown",
   "id": "e7c7e01d",
   "metadata": {},
   "source": [
    "### 3. Step 2: fine retrieving using an LLM"
   ]
  },
  {
   "cell_type": "markdown",
   "id": "17c26b94",
   "metadata": {},
   "source": [
    "For this second step we will use an LLM working as a ranker. Then, we will prepare a dataset to instruction fine tune the LLM."
   ]
  },
  {
   "cell_type": "markdown",
   "id": "03ca3c93",
   "metadata": {},
   "source": [
    "#### 3.1 Build the dataset (CSV) to instruct fine tune the LLM"
   ]
  },
  {
   "cell_type": "markdown",
   "id": "bfc74e03",
   "metadata": {},
   "source": [
    "#### 3.1.1 Baseline: calculate the SBERT + cosine similarity and add it to a .csv file then used to fine tune the LLM"
   ]
  },
  {
   "cell_type": "code",
   "execution_count": 48,
   "id": "eac16597",
   "metadata": {},
   "outputs": [
    {
     "name": "stdout",
     "output_type": "stream",
     "text": [
      "Number of queries: 50\n"
     ]
    }
   ],
   "source": [
    "list_of_queries = [\"machine learning engineer\", \"data scientist\", \"back end developer\", \"front end developer\", \"full stack engineer\", \"software architect\", \"devops engineer\", \"site reliability engineer\", \"mobile application developer\", \"cloud solutions architect\", \"project manager\", \"product manager\", \"program manager\", \"bid manager\", \"business analyst\", \"scrum master\", \"agile coach\", \"chief executive officer\", \"chief technology officer\", \"operations manager\", \"financial analyst\", \"investment banker\", \"accountant junior\", \"accountant taxes senior\", \"auditor\", \"chief financial officer\", \"controller\", \"tax advisor\", \"payroll specialist\", \"budget analyst\", \"attorney\", \"paralegal\", \"legal consultant\", \"human resources manager\", \"recruiter\", \"talent acquisition specialist\", \"marketing specialist\", \"digital marketing manager\", \"sales representative\", \"business development manager\", \"data researcher\", \"nuclear physicist\", \"atomic physicist\", \"biomedical researcher\", \"chemist\", \"astronomer\", \"registered nurse\", \"physician assistant\", \"clinical psychologist\", \"medical laboratory technician\"]\n",
    "print(f'Number of queries: {len(list_of_queries)}')"
   ]
  },
  {
   "cell_type": "code",
   "execution_count": null,
   "id": "08bf7e6d",
   "metadata": {},
   "outputs": [],
   "source": [
    "Now we will create a function to retrieve job candidates per querry following a balanced by bins considering the similarity score."
   ]
  },
  {
   "cell_type": "code",
   "execution_count": 66,
   "id": "629c81ac",
   "metadata": {},
   "outputs": [],
   "source": [
    "def retrieve_balanced_by_bins(\n",
    "    query: str,\n",
    "    total: int = 250,\n",
    "    bin_edges: list[float] = [0.0, 0.2, 0.4, 0.6, 0.75, 0.85, 0.92, 0.97, 1.0],  # adjusted for a better balance\n",
    "    per_bin: list[int] | None = None,\n",
    "    min_per_bin: int = 10,\n",
    "    shuffle_within_bin: bool = True,\n",
    "    rng_seed: int = 23,\n",
    ") -> pd.DataFrame:\n",
    "    \"\"\"\n",
    "    Compute cosine sim for *all* titles, then sample roughly equal counts per bin.\n",
    "    Returns a DataFrame like retrieve_top_n but with a 'bin' column.\n",
    "    \"\"\"\n",
    "    q_text = normalize_text(query)\n",
    "    if not q_text:\n",
    "        return pd.DataFrame(columns=[\"rank\",\"similarity\",\"emb_ix\",\"id\",\"title\",\"title_norm\",\"bin\"])\n",
    "\n",
    "    q = model.encode([q_text], normalize_embeddings=True, convert_to_numpy=True).astype(np.float32)[0]\n",
    "    sims = emb @ q  # (N,)\n",
    "\n",
    "    # master table (descending rank for reference)\n",
    "    order_desc = np.argsort(sims)[::-1]\n",
    "    df_all = meta.loc[order_desc].copy()\n",
    "    df_all[\"similarity\"] = sims[order_desc]\n",
    "    df_all[\"rank_desc\"] = np.arange(1, len(df_all) + 1)\n",
    "\n",
    "    # bin assignment\n",
    "    bins = np.array(bin_edges, dtype=float)\n",
    "    labels = [f\"[{bins[i]:.2f},{bins[i+1]:.2f})\" if i+1 < len(bins)-1 else f\"[{bins[i]:.2f},{bins[i+1]:.2f}]\"\n",
    "              for i in range(len(bins)-1)]\n",
    "    bin_idx = np.digitize(df_all[\"similarity\"].to_numpy(), bins, right=False) - 1\n",
    "    df_all[\"bin\"] = pd.Categorical(\n",
    "        [labels[i] if 0 <= i < len(labels) else \"out\" for i in bin_idx], categories=labels, ordered=True)\n",
    "\n",
    "    # per-bin target counts\n",
    "    n_bins = len(labels)\n",
    "    if per_bin is None:\n",
    "        base = total // n_bins\n",
    "        per_bin = [max(min_per_bin, base)] * n_bins\n",
    "        # new feature:\n",
    "        # bonus for high bins (last 3 bins get +5 each)\n",
    "        for j in range(-3, 0):\n",
    "            per_bin[j] += 5\n",
    "        # distribute remainder if any\n",
    "        while sum(per_bin) > total:\n",
    "            per_bin[0] -= 1  # trim from lowest bin\n",
    "    else:\n",
    "        assert len(per_bin) == n_bins, \"per_bin must match number of bins\"\n",
    "        assert sum(per_bin) == total, \"sum(per_bin) must equal total\"\n",
    "\n",
    "    rng = np.random.default_rng(rng_seed)\n",
    "    pieces = []\n",
    "    for lbl, k in zip(labels, per_bin):\n",
    "        bin_df = df_all[df_all[\"bin\"] == lbl]\n",
    "        if len(bin_df) == 0:\n",
    "            continue\n",
    "        if shuffle_within_bin:\n",
    "            bin_df = bin_df.sample(frac=1.0, random_state=rng.integers(0, 1_000_000))\n",
    "        pieces.append(bin_df.head(min(k, len(bin_df))))\n",
    "        \n",
    "     # if we came up short (some bins were sparse), fill from nearest bins by descending rank\n",
    "    balanced = pd.concat(pieces, ignore_index=True) if pieces else df_all.head(0)\n",
    "    short = total - len(balanced)\n",
    "    if short > 0:\n",
    "        # exclude already picked. Fill by descending rank to ensure completion\n",
    "        remaining = df_all.loc[~df_all.index.isin(balanced.index)]\n",
    "        fill = remaining.head(short)\n",
    "        balanced = pd.concat([balanced, fill], ignore_index=True)\n",
    "\n",
    "    # sort for pretty output: by bin then by similarity desc    \n",
    "    balanced = balanced.sort_values([\"bin\", \"similarity\"], ascending=[True, False]).reset_index(drop=True)\n",
    "    # normalize to the output schema: add a 1..M rank column (not \"top\" rank, just display rank inside this set)\n",
    "    balanced.insert(0, \"rank\", np.arange(1, len(balanced) + 1))\n",
    "    # keep standard columns expected by your CSV builder\n",
    "    cols = [\"rank\", \"emb_ix\", \"id\", \"title\", \"title_norm\", \"similarity\", \"rank_desc\", \"bin\"]\n",
    "    \n",
    "    return balanced[cols]"
   ]
  },
  {
   "cell_type": "code",
   "execution_count": 67,
   "id": "daf9a8bf",
   "metadata": {},
   "outputs": [],
   "source": [
    "def sbert_cos_to_100(sim: float) -> int:\n",
    "    \"\"\"Map cosine similarity (0–1) to a 0–100 scale.\"\"\"\n",
    "    sim = float(np.clip(sim, 0.0, 1.0))\n",
    "    return int(round(100 * sim))\n",
    "\n",
    "def build_skeleton_csv(\n",
    "    queries: list[str],\n",
    "    N: int = 250,\n",
    "    out_csv: str = \"pairwise_llm_dataset_skeleton.csv\"\n",
    ") -> pd.DataFrame:\n",
    "    \"\"\"\n",
    "    For each query:\n",
    "      - retrieve_balanced_by_bins(query, total=N) -> balanced candidates\n",
    "      - produce rows with SBERT cosine mapped to 0–100\n",
    "      - leave LLM score columns empty (you will fill them later)\n",
    "    \"\"\"\n",
    "    rows = []\n",
    "    for q in queries:\n",
    "        q_norm = normalize_text(q)\n",
    "        cand = retrieve_balanced_by_bins(q_norm, total=N)  # balanced sampling\n",
    "        for _, r in cand.iterrows():\n",
    "            rows.append({\n",
    "                \"query\": q,\n",
    "                \"query_norm\": q_norm,\n",
    "                \"id\": r[\"id\"],\n",
    "                \"emb_ix\": int(r[\"emb_ix\"]),\n",
    "                \"title\": r[\"title\"],\n",
    "                \"title_norm\": r.get(\"title_norm\", r[\"title\"]),\n",
    "                \"emb_rank\": int(r[\"rank\"]),                   # rank inside balanced sample\n",
    "                \"emb_rank_desc\": int(r[\"rank_desc\"]),         # global descending rank\n",
    "                \"bin\": r[\"bin\"],                              # bin label for traceability\n",
    "                \"emb_score\": float(r[\"similarity\"]),          # cosine (0–1)\n",
    "                \"emb_score_100\": sbert_cos_to_100(r[\"similarity\"]),\n",
    "                # LLM scores (fill later)\n",
    "                \"llm_score_v1\": np.nan,\n",
    "                \"llm_score_v2\": np.nan,\n",
    "                \"llm_score_v3\": np.nan,\n",
    "                # Aggregates (compute later)\n",
    "                \"llm_score_median\": np.nan,\n",
    "                \"llm_score_iqr\": np.nan,\n",
    "                \"final_weighted\": np.nan,\n",
    "                \"needs_review\": np.nan,\n",
    "                \"notes\": \"\"\n",
    "            })\n",
    "    df_csv = pd.DataFrame(rows)\n",
    "    df_csv.to_csv(out_csv, index=False)\n",
    "    print(f\"Skeleton saved: {out_csv} | rows: {len(df_csv)}\")\n",
    "    return df_csv\n"
   ]
  },
  {
   "cell_type": "code",
   "execution_count": 68,
   "id": "e0ef0ba6",
   "metadata": {},
   "outputs": [
    {
     "name": "stdout",
     "output_type": "stream",
     "text": [
      "Skeleton saved: pairwise_llm_dataset_skeleton.csv | rows: 12500\n"
     ]
    }
   ],
   "source": [
    "# prepare the csv first version\n",
    "df_ft_ds = build_skeleton_csv(\n",
    "    list_of_queries,\n",
    "    N=250) "
   ]
  },
  {
   "cell_type": "code",
   "execution_count": 70,
   "id": "1ed0a775",
   "metadata": {},
   "outputs": [
    {
     "data": {
      "image/png": "[encoded data removed]",
      "text/plain": [
       "<Figure size 700x500 with 1 Axes>"
      ]
     },
     "metadata": {},
     "output_type": "display_data"
    }
   ],
   "source": [
    "# plot the embedding scores histogram \n",
    "plt.figure(figsize=(7,5))\n",
    "df_ft_ds[\"emb_score_100\"].hist(bins=20, edgecolor=\"black\")\n",
    "plt.title(\"Distribution of SBERT Cosine Similarity (scaled 0–100)\")\n",
    "plt.xlabel(\"SBERT Similarity (0–100)\")\n",
    "plt.ylabel(\"Count\")\n",
    "plt.grid(axis=\"y\", alpha=0.3)\n",
    "plt.show()\n"
   ]
  },
  {
   "cell_type": "markdown",
   "id": "d6405062",
   "metadata": {},
   "source": [
    "#### 3.1.2 First LLM score: add a second score from the LLM"
   ]
  },
  {
   "cell_type": "code",
   "execution_count": 72,
   "id": "9e26d647",
   "metadata": {},
   "outputs": [],
   "source": [
    "from transformers import AutoTokenizer, AutoModelForCausalLM"
   ]
  },
  {
   "cell_type": "code",
   "execution_count": 73,
   "id": "d9551ef8",
   "metadata": {},
   "outputs": [],
   "source": [
    "# load once\n",
    "MODEL_ID = \"meta-llama/Llama-3.2-3B-Instruct\"\n",
    "tok = AutoTokenizer.from_pretrained(MODEL_ID, token=os.getenv(\"HF_TOKEN\"), use_fast=True)\n"
   ]
  },
  {
   "cell_type": "code",
   "execution_count": 74,
   "id": "490c1528",
   "metadata": {},
   "outputs": [
    {
     "data": {
      "application/vnd.jupyter.widget-view+json": {
       "model_id": "f8508855a720452bbc5fd7e66caf740d",
       "version_major": 2,
       "version_minor": 0
      },
      "text/plain": [
       "Loading checkpoint shards:   0%|          | 0/2 [00:00<?, ?it/s]"
      ]
     },
     "metadata": {},
     "output_type": "display_data"
    }
   ],
   "source": [
    "mdl = AutoModelForCausalLM.from_pretrained(\n",
    "    MODEL_ID,\n",
    "    dtype=torch.bfloat16 if torch.cuda.is_available() else torch.float32,\n",
    "    device_map=\"auto\",\n",
    "    token=os.getenv(\"HF_TOKEN\"),\n",
    ").eval()\n",
    "if tok.pad_token_id is None:\n",
    "    tok.pad_token = tok.eos_token\n"
   ]
  },
  {
   "cell_type": "code",
   "execution_count": 77,
   "id": "1e14070e",
   "metadata": {},
   "outputs": [],
   "source": [
    "# Prompt v1: pairwise single candidate\n",
    "def build_prompt_v1(query: str, title: str) -> str:\n",
    "    return (\n",
    "        \"You are a recruiter scoring job-title similarity to the query.\\n\"\n",
    "        \"Return EXACTLY one integer 0–100.\\n\"\n",
    "        \"Scale:\\n\"\n",
    "        \" • 90–100 = exact/near-exact\\n\"\n",
    "        \" • 70–89  = very similar\\n\"\n",
    "        \" • 40–69  = related/adjacent\\n\"\n",
    "        \" • 10–39  = mostly unrelated\\n\"\n",
    "        \" • 0–9    = unrelated\\n\"\n",
    "        \"Return the integer ONLY (no words, no punctuation, no decimals).\\n\\n\"\n",
    "        f'Query: \"{query}\"\\nCandidate:\\n{title}'\n",
    "    )\n",
    "\n",
    "def parse_one_int(text: str) -> int:\n",
    "    m = re.findall(r\"-?\\d+\", text)\n",
    "    if not m:\n",
    "        return 0\n",
    "    x = int(m[-1])\n",
    "    return max(0, min(100, x))\n",
    "\n",
    "def score_one_pair(query: str, title: str, build_prompt_fn=build_prompt_v1, max_new_tokens: int = 6) -> int:\n",
    "    \"\"\"\n",
    "    Score a (query, title) pair with LLaMA using the given prompt builder.\n",
    "    \n",
    "    Args:\n",
    "        query (str): input query string\n",
    "        title (str): candidate job title\n",
    "        build_prompt_fn (callable): function (query, title) -> str, builds the prompt\n",
    "        max_new_tokens (int): generation length, defaults to 6\n",
    "    Returns:\n",
    "        int: similarity score 0–100\n",
    "    \"\"\"\n",
    "    \n",
    "    prompt = build_prompt_fn(query, title)\n",
    "    inputs = tok(prompt, return_tensors=\"pt\").to(mdl.device)\n",
    "    with torch.no_grad():\n",
    "        out_ids = mdl.generate(\n",
    "            **inputs,\n",
    "            do_sample=False,\n",
    "            num_beams=1,\n",
    "            max_new_tokens=max_new_tokens,\n",
    "            pad_token_id=tok.eos_token_id,\n",
    "            use_cache=True,\n",
    "        )\n",
    "    out_txt = tok.decode(out_ids[0][inputs[\"input_ids\"].shape[1]:], skip_special_tokens=True)\n",
    "    return parse_one_int(out_txt)\n"
   ]
  },
  {
   "cell_type": "code",
   "execution_count": 78,
   "id": "332929e7",
   "metadata": {},
   "outputs": [
    {
     "name": "stderr",
     "output_type": "stream",
     "text": [
      "The following generation flags are not valid and may be ignored: ['temperature', 'top_p']. Set `TRANSFORMERS_VERBOSITY=info` for more details.\n"
     ]
    },
    {
     "name": "stdout",
     "output_type": "stream",
     "text": [
      "Score: 0\n"
     ]
    }
   ],
   "source": [
    "score = score_one_pair(\"machine learning engineer\", \"data scientist\")\n",
    "print(\"Score:\", score)\n"
   ]
  },
  {
   "cell_type": "code",
   "execution_count": null,
   "id": "e12d74dc",
   "metadata": {},
   "outputs": [],
   "source": []
  },
  {
   "cell_type": "code",
   "execution_count": null,
   "id": "61317a22",
   "metadata": {},
   "outputs": [],
   "source": []
  },
  {
   "cell_type": "code",
   "execution_count": null,
   "id": "0816a3a0",
   "metadata": {},
   "outputs": [],
   "source": []
  }
 ],
 "metadata": {
  "kernelspec": {
   "display_name": "Pot_Tals_LLM_Env",
   "language": "python",
   "name": "pot-tals_llm_env"
  },
  "language_info": {
   "codemirror_mode": {
    "name": "ipython",
    "version": 3
   },
   "file_extension": ".py",
   "mimetype": "text/x-python",
   "name": "python",
   "nbconvert_exporter": "python",
   "pygments_lexer": "ipython3",
   "version": "3.12.7"
  }
 },
 "nbformat": 4,
 "nbformat_minor": 5
}
