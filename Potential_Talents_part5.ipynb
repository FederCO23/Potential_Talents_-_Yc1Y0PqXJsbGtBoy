{
 "cells": [
  {
   "cell_type": "markdown",
   "id": "b22c4196",
   "metadata": {},
   "source": [
    "## Potential Talents - Part 5"
   ]
  },
  {
   "cell_type": "markdown",
   "id": "2956a14e",
   "metadata": {},
   "source": [
    "----"
   ]
  },
  {
   "cell_type": "markdown",
   "id": "716b8abb",
   "metadata": {},
   "source": [
    "## Instruction FT for Job-Title Similarity\n",
    "\n",
    "**Objective.** Train a small instruction-tuned LLM to score **0–100** similarity between a **query** job title and **candidates**, then rank them. The LLM refines a fast SBERT first pass into higher-quality ordering.\n",
    "\n",
    "**Constraints.** \n",
    "- single GPU **GTX 1080 Ti (11GB)**\n",
    "- rely on **NVMe** disk for offload/swap\n",
    "- short sequences\n",
    "- **LoRA** only\n",
    "\n",
    "**Model.** \n",
    "- `meta-llama/Llama-3.2-3B-Instruct`, compact, instruction-following, stable tokenizer/chat template, good at short-text matching. \n",
    "- Runs comfortably with LoRA on 1080 Ti.\n",
    "  \n",
    "\n",
    "**Method (steps):**\n",
    "\n",
    "1) Imports, config, folders  \n",
    "2) Preprocessing & EDA (normalize titles, drop noise/dupes)  \n",
    "3) **Gross retrieval**: SBERT + cosine → top-N, score in 0–100  \n",
    "4) **Fine retrieval**: LLM ranker\n",
    "   \n",
    "   -3.1 Build bin-balanced pairs per query. Collect SBERT + LLM (v1/v2) scores  \n",
    "   -3.2 Blend scores, flag disagreements, export train/val/test JSONL (target = final weighted)\n",
    "\n",
    "**[Part 5t]**\n",
    "\n",
    "4) **Instruction FT**: causal LM with prompt-masking, LoRA on Llama-3.2-3B  \n",
    "5) **Eval & logs**: train/eval loss, LR curve, CSV log, compact `summary.json`. Save adapter + tokenizer\n",
    "\n"
   ]
  },
  {
   "cell_type": "markdown",
   "id": "b8e935cd",
   "metadata": {},
   "source": [
    "----\n"
   ]
  },
  {
   "cell_type": "markdown",
   "id": "7b387d87",
   "metadata": {},
   "source": [
    "### 0. Imports, configuration and folders"
   ]
  },
  {
   "cell_type": "code",
   "execution_count": 1,
   "id": "21ce1f6e",
   "metadata": {},
   "outputs": [],
   "source": [
    "# core\n",
    "import os, json, gc, time\n",
    "import numpy as np\n",
    "import pandas as pd\n",
    "import re, unicodedata\n",
    "import torch\n",
    "import random\n",
    "import tools_llm_ift\n",
    "import torch\n",
    "\n",
    "# display config\n",
    "pd.set_option(\"display.max_colwidth\", 200)\n",
    "pd.set_option(\"display.width\", 120)\n",
    "pd.set_option(\"display.max_columns\", 50)"
   ]
  },
  {
   "cell_type": "code",
   "execution_count": 2,
   "id": "c05865e7",
   "metadata": {},
   "outputs": [
    {
     "name": "stdout",
     "output_type": "stream",
     "text": [
      "Measure memory usage before and after freeing it\n",
      "\n",
      "Before:\n",
      "allocated: 0.0 MiB | reserved: 0.0 MiB | total: 11,264 MiB\n",
      "\n",
      "After:\n",
      "allocated: 0.0 MiB | reserved: 0.0 MiB | total: 11,264 MiB\n"
     ]
    }
   ],
   "source": [
    "tools_llm_ift.free_GPU_memory()"
   ]
  },
  {
   "cell_type": "code",
   "execution_count": 3,
   "id": "2d60feae",
   "metadata": {},
   "outputs": [
    {
     "name": "stdout",
     "output_type": "stream",
     "text": [
      "torch: 2.6.0+cu124\n",
      "built with CUDA: 12.4\n",
      "cuda available: True\n",
      "gpu: NVIDIA GeForce GTX 1080 Ti\n"
     ]
    }
   ],
   "source": [
    "# GPU configuration details\n",
    "print(\"torch:\", torch.__version__)\n",
    "print(\"built with CUDA:\", torch.version.cuda)\n",
    "print(\"cuda available:\", torch.cuda.is_available())\n",
    "if torch.cuda.is_available():\n",
    "    print(\"gpu:\", torch.cuda.get_device_name(0))"
   ]
  },
  {
   "cell_type": "code",
   "execution_count": 4,
   "id": "2188f07b",
   "metadata": {},
   "outputs": [],
   "source": [
    "# reproducibility\n",
    "SEED = 23\n",
    "random.seed(SEED); np.random.seed(SEED); torch.manual_seed(SEED)\n",
    "\n",
    "# paths\n",
    "DATA_DIR = \"data\"\n",
    "OUT_DIR  = \"outputs\"\n",
    "\n",
    "# datasets\n",
    "base_ds_file = os.path.join(DATA_DIR, \"extended_clean.csv\")\n",
    "extended_df_file = \"Extended Dataset for Potential Talents.xlsx\" \n"
   ]
  },
  {
   "cell_type": "markdown",
   "id": "49c692fa",
   "metadata": {},
   "source": [
    "----"
   ]
  },
  {
   "cell_type": "markdown",
   "id": "2768a0ea",
   "metadata": {},
   "source": [
    "### 1. Preprocessing and EAD"
   ]
  },
  {
   "cell_type": "markdown",
   "id": "01b7c790",
   "metadata": {},
   "source": [
    "\n",
    "We load the extended dataset, **normalize titles** (Unicode NFKC, remove zero-width chars, collapse whitespace), and compute quick features (`title_len`, `alpha_ratio`). \n",
    "\n",
    "Using simple quality rules (empty/bad tokens, punctuation-only, too short, low alpha ratio), we **filter noisy entries** and then **deduplicate** by a case-folded key to keep one representative per title. \n",
    "\n",
    "We report counts/memory, preview examples of what gets dropped, and persist the cleaned table as `extended_clean.csv`. Finally, we run a light EAD: **length distribution** and basic descriptive stats to confirm the corpus is compact and consistent before embedding and retrieval.\n"
   ]
  },
  {
   "cell_type": "code",
   "execution_count": 5,
   "id": "767006e9",
   "metadata": {},
   "outputs": [],
   "source": [
    "df = pd.read_excel(os.path.join(DATA_DIR,extended_df_file), engine=\"openpyxl\")"
   ]
  },
  {
   "cell_type": "code",
   "execution_count": 6,
   "id": "11b75ffb",
   "metadata": {},
   "outputs": [
    {
     "data": {
      "text/html": [
       "<div>\n",
       "<style scoped>\n",
       "    .dataframe tbody tr th:only-of-type {\n",
       "        vertical-align: middle;\n",
       "    }\n",
       "\n",
       "    .dataframe tbody tr th {\n",
       "        vertical-align: top;\n",
       "    }\n",
       "\n",
       "    .dataframe thead th {\n",
       "        text-align: right;\n",
       "    }\n",
       "</style>\n",
       "<table border=\"1\" class=\"dataframe\">\n",
       "  <thead>\n",
       "    <tr style=\"text-align: right;\">\n",
       "      <th></th>\n",
       "      <th>id</th>\n",
       "      <th>title</th>\n",
       "      <th>location</th>\n",
       "      <th>screening_score</th>\n",
       "    </tr>\n",
       "  </thead>\n",
       "  <tbody>\n",
       "    <tr>\n",
       "      <th>0</th>\n",
       "      <td>1</td>\n",
       "      <td>innovative and driven professional seeking a role in data analyticsdata science in the information technology industry.</td>\n",
       "      <td>United States</td>\n",
       "      <td>100</td>\n",
       "    </tr>\n",
       "    <tr>\n",
       "      <th>1</th>\n",
       "      <td>2</td>\n",
       "      <td>ms applied data science student usc research assistant usc former data analytics intern at dr reddys laboratories former data science intern quadratyx actively seeking full time roles in summer 2025</td>\n",
       "      <td>United States</td>\n",
       "      <td>100</td>\n",
       "    </tr>\n",
       "    <tr>\n",
       "      <th>2</th>\n",
       "      <td>3</td>\n",
       "      <td>computer science student seeking full-time software engineerdeveloper positions ai sql data visualization toolspython ssrs</td>\n",
       "      <td>United States</td>\n",
       "      <td>100</td>\n",
       "    </tr>\n",
       "    <tr>\n",
       "      <th>3</th>\n",
       "      <td>4</td>\n",
       "      <td>microsoft certified power bi data analyst mba business analytics unt business intelligence engineer data scientist data engineer business analytics predictive analytics statistical analysis ex-eri...</td>\n",
       "      <td>United States</td>\n",
       "      <td>100</td>\n",
       "    </tr>\n",
       "    <tr>\n",
       "      <th>4</th>\n",
       "      <td>5</td>\n",
       "      <td>graduate research assistant at uab masters in data science student at uab ex jio</td>\n",
       "      <td>United States</td>\n",
       "      <td>100</td>\n",
       "    </tr>\n",
       "  </tbody>\n",
       "</table>\n",
       "</div>"
      ],
      "text/plain": [
       "   id  \\\n",
       "0   1   \n",
       "1   2   \n",
       "2   3   \n",
       "3   4   \n",
       "4   5   \n",
       "\n",
       "                                                                                                                                                                                                     title  \\\n",
       "0                                                                                  innovative and driven professional seeking a role in data analyticsdata science in the information technology industry.   \n",
       "1   ms applied data science student usc research assistant usc former data analytics intern at dr reddys laboratories former data science intern quadratyx actively seeking full time roles in summer 2025   \n",
       "2                                                                               computer science student seeking full-time software engineerdeveloper positions ai sql data visualization toolspython ssrs   \n",
       "3  microsoft certified power bi data analyst mba business analytics unt business intelligence engineer data scientist data engineer business analytics predictive analytics statistical analysis ex-eri...   \n",
       "4                                                                                                                         graduate research assistant at uab masters in data science student at uab ex jio   \n",
       "\n",
       "        location  screening_score  \n",
       "0  United States              100  \n",
       "1  United States              100  \n",
       "2  United States              100  \n",
       "3  United States              100  \n",
       "4  United States              100  "
      ]
     },
     "execution_count": 6,
     "metadata": {},
     "output_type": "execute_result"
    }
   ],
   "source": [
    "df.head()"
   ]
  },
  {
   "cell_type": "code",
   "execution_count": 7,
   "id": "76035093",
   "metadata": {},
   "outputs": [
    {
     "name": "stdout",
     "output_type": "stream",
     "text": [
      "<class 'pandas.core.frame.DataFrame'>\n",
      "RangeIndex: 1285 entries, 0 to 1284\n",
      "Data columns (total 4 columns):\n",
      " #   Column           Non-Null Count  Dtype \n",
      "---  ------           --------------  ----- \n",
      " 0   id               1285 non-null   int64 \n",
      " 1   title            1281 non-null   object\n",
      " 2   location         1285 non-null   object\n",
      " 3   screening_score  1285 non-null   int64 \n",
      "dtypes: int64(2), object(2)\n",
      "memory usage: 40.3+ KB\n"
     ]
    }
   ],
   "source": [
    "df.info()"
   ]
  },
  {
   "cell_type": "code",
   "execution_count": 8,
   "id": "4c6c9ca4",
   "metadata": {},
   "outputs": [
    {
     "name": "stdout",
     "output_type": "stream",
     "text": [
      "Shape: (1285, 4)\n",
      "Memory: 0.25 MB\n"
     ]
    }
   ],
   "source": [
    "def mem_in_mb(nbytes: int) -> str:\n",
    "    return f\"{nbytes / (1024**2):.2f} MB\"\n",
    "\n",
    "print(\"Shape:\", df.shape)\n",
    "print(\"Memory:\", mem_in_mb(df.memory_usage(deep=True).sum()))\n"
   ]
  },
  {
   "cell_type": "markdown",
   "id": "c72124dc",
   "metadata": {},
   "source": [
    "#### 1.1 Normalize the job titles"
   ]
  },
  {
   "cell_type": "code",
   "execution_count": 9,
   "id": "b9989f29",
   "metadata": {},
   "outputs": [],
   "source": [
    "def normalize_text(s: str) -> str:\n",
    "    # If the value is NaN/None (pandas missing), return empty string to standardize missing titles\n",
    "    if pd.isna(s):\n",
    "        return \"\"\n",
    "    \n",
    "    # Normalize Unicode to NFKC to fold compatibility chars (e.g., full-width forms) into canonical forms\n",
    "    # Avoids false duplicates\n",
    "    s = unicodedata.normalize(\"NFKC\", str(s))\n",
    "    \n",
    "    # Remove zero-width space characters that can sneak into text and break equality checks\n",
    "    s = s.replace(\"\\u200b\", \"\")\n",
    "    \n",
    "    # Collapse any run of whitespace (spaces, tabs, newlines) into a single space, then trim ends\n",
    "    s = re.sub(r\"\\s+\", \" \", s).strip()\n",
    "    \n",
    "    return s"
   ]
  },
  {
   "cell_type": "code",
   "execution_count": 10,
   "id": "267fa401",
   "metadata": {},
   "outputs": [],
   "source": [
    "df['title_norm'] = df['title'].apply(normalize_text)\n",
    "df['title_len'] = df['title'].str.len()\n",
    "\n",
    "def alpha_ratio(s: str) -> float:\n",
    "    # calculate the ratio between alpha and total characters\n",
    "    if not s: return 0.0\n",
    "    a = sum(ch.isalpha() for ch in s)\n",
    "    return a / max(1,len(s))\n",
    "df['alpha_ratio'] = df['title_norm'].apply(alpha_ratio)"
   ]
  },
  {
   "cell_type": "code",
   "execution_count": 11,
   "id": "e3ff0d9d",
   "metadata": {},
   "outputs": [
    {
     "data": {
      "text/html": [
       "<div>\n",
       "<style scoped>\n",
       "    .dataframe tbody tr th:only-of-type {\n",
       "        vertical-align: middle;\n",
       "    }\n",
       "\n",
       "    .dataframe tbody tr th {\n",
       "        vertical-align: top;\n",
       "    }\n",
       "\n",
       "    .dataframe thead th {\n",
       "        text-align: right;\n",
       "    }\n",
       "</style>\n",
       "<table border=\"1\" class=\"dataframe\">\n",
       "  <thead>\n",
       "    <tr style=\"text-align: right;\">\n",
       "      <th></th>\n",
       "      <th>id</th>\n",
       "      <th>title</th>\n",
       "      <th>location</th>\n",
       "      <th>screening_score</th>\n",
       "      <th>title_norm</th>\n",
       "      <th>title_len</th>\n",
       "      <th>alpha_ratio</th>\n",
       "    </tr>\n",
       "  </thead>\n",
       "  <tbody>\n",
       "    <tr>\n",
       "      <th>0</th>\n",
       "      <td>1</td>\n",
       "      <td>innovative and driven professional seeking a role in data analyticsdata science in the information technology industry.</td>\n",
       "      <td>United States</td>\n",
       "      <td>100</td>\n",
       "      <td>innovative and driven professional seeking a role in data analyticsdata science in the information technology industry.</td>\n",
       "      <td>119.0</td>\n",
       "      <td>0.865546</td>\n",
       "    </tr>\n",
       "    <tr>\n",
       "      <th>1</th>\n",
       "      <td>2</td>\n",
       "      <td>ms applied data science student usc research assistant usc former data analytics intern at dr reddys laboratories former data science intern quadratyx actively seeking full time roles in summer 2025</td>\n",
       "      <td>United States</td>\n",
       "      <td>100</td>\n",
       "      <td>ms applied data science student usc research assistant usc former data analytics intern at dr reddys laboratories former data science intern quadratyx actively seeking full time roles in summer 2025</td>\n",
       "      <td>198.0</td>\n",
       "      <td>0.833333</td>\n",
       "    </tr>\n",
       "    <tr>\n",
       "      <th>2</th>\n",
       "      <td>3</td>\n",
       "      <td>computer science student seeking full-time software engineerdeveloper positions ai sql data visualization toolspython ssrs</td>\n",
       "      <td>United States</td>\n",
       "      <td>100</td>\n",
       "      <td>computer science student seeking full-time software engineerdeveloper positions ai sql data visualization toolspython ssrs</td>\n",
       "      <td>122.0</td>\n",
       "      <td>0.885246</td>\n",
       "    </tr>\n",
       "    <tr>\n",
       "      <th>3</th>\n",
       "      <td>4</td>\n",
       "      <td>microsoft certified power bi data analyst mba business analytics unt business intelligence engineer data scientist data engineer business analytics predictive analytics statistical analysis ex-eri...</td>\n",
       "      <td>United States</td>\n",
       "      <td>100</td>\n",
       "      <td>microsoft certified power bi data analyst mba business analytics unt business intelligence engineer data scientist data engineer business analytics predictive analytics statistical analysis ex-eri...</td>\n",
       "      <td>201.0</td>\n",
       "      <td>0.880597</td>\n",
       "    </tr>\n",
       "    <tr>\n",
       "      <th>4</th>\n",
       "      <td>5</td>\n",
       "      <td>graduate research assistant at uab masters in data science student at uab ex jio</td>\n",
       "      <td>United States</td>\n",
       "      <td>100</td>\n",
       "      <td>graduate research assistant at uab masters in data science student at uab ex jio</td>\n",
       "      <td>80.0</td>\n",
       "      <td>0.837500</td>\n",
       "    </tr>\n",
       "  </tbody>\n",
       "</table>\n",
       "</div>"
      ],
      "text/plain": [
       "   id  \\\n",
       "0   1   \n",
       "1   2   \n",
       "2   3   \n",
       "3   4   \n",
       "4   5   \n",
       "\n",
       "                                                                                                                                                                                                     title  \\\n",
       "0                                                                                  innovative and driven professional seeking a role in data analyticsdata science in the information technology industry.   \n",
       "1   ms applied data science student usc research assistant usc former data analytics intern at dr reddys laboratories former data science intern quadratyx actively seeking full time roles in summer 2025   \n",
       "2                                                                               computer science student seeking full-time software engineerdeveloper positions ai sql data visualization toolspython ssrs   \n",
       "3  microsoft certified power bi data analyst mba business analytics unt business intelligence engineer data scientist data engineer business analytics predictive analytics statistical analysis ex-eri...   \n",
       "4                                                                                                                         graduate research assistant at uab masters in data science student at uab ex jio   \n",
       "\n",
       "        location  screening_score  \\\n",
       "0  United States              100   \n",
       "1  United States              100   \n",
       "2  United States              100   \n",
       "3  United States              100   \n",
       "4  United States              100   \n",
       "\n",
       "                                                                                                                                                                                                title_norm  \\\n",
       "0                                                                                  innovative and driven professional seeking a role in data analyticsdata science in the information technology industry.   \n",
       "1   ms applied data science student usc research assistant usc former data analytics intern at dr reddys laboratories former data science intern quadratyx actively seeking full time roles in summer 2025   \n",
       "2                                                                               computer science student seeking full-time software engineerdeveloper positions ai sql data visualization toolspython ssrs   \n",
       "3  microsoft certified power bi data analyst mba business analytics unt business intelligence engineer data scientist data engineer business analytics predictive analytics statistical analysis ex-eri...   \n",
       "4                                                                                                                         graduate research assistant at uab masters in data science student at uab ex jio   \n",
       "\n",
       "   title_len  alpha_ratio  \n",
       "0      119.0     0.865546  \n",
       "1      198.0     0.833333  \n",
       "2      122.0     0.885246  \n",
       "3      201.0     0.880597  \n",
       "4       80.0     0.837500  "
      ]
     },
     "execution_count": 11,
     "metadata": {},
     "output_type": "execute_result"
    }
   ],
   "source": [
    "df.head(5)"
   ]
  },
  {
   "cell_type": "markdown",
   "id": "a5a5d22b",
   "metadata": {},
   "source": [
    "#### 1.2 Identify \"noisy job titles\" and preview what would be dropped for the analysis"
   ]
  },
  {
   "cell_type": "code",
   "execution_count": 12,
   "id": "0b7087a9",
   "metadata": {},
   "outputs": [],
   "source": [
    "MIN_LEN = 2\n",
    "MIN_ALPHA_RATIO = 0.25\n",
    "# Bad tokens observed in the extended dataset\n",
    "BAD_TOKENS = {\n",
    "    \"-\", \"--\", \"---\", \"—\", \"_\", \"n/a\", \"na\", \"none\", \"null\", \"untitled\", \"no title\",\n",
    "    \"test\", \"dummy\", \".\", \"?\", \"tbd\", \"todo\"\n",
    "}"
   ]
  },
  {
   "cell_type": "code",
   "execution_count": null,
   "id": "ec5dce97",
   "metadata": {},
   "outputs": [],
   "source": [
    "# This pattern matches strings made only of punctuation/whitespace/symbols/underscores, with no letters or digits.\n",
    "punct_only_re = re.compile(r\"^[\\W_]+$\")\n",
    "    # ^ … $ -> anchor the entire string (start to end).\n",
    "    # \\W -> any non-word char (not [A-Za-z0-9_]). This matches spaces, tabs, punctuation, symbols, etc.\n",
    "    # _ -> inside the class, adds underscore explicitly, because \\W does not match _.\n",
    "    # [...] -> character class: “any of these”.\n",
    "    # + -> one or more of those characters.\n",
    "\n",
    "# Drop candidates: identify the positions where the condition is true for the following cases:\n",
    "mask_empty = df[\"title_norm\"].eq(\"\")                                # empty after normalization\n",
    "mask_bad_token  = df[\"title_norm\"].str.lower().isin(BAD_TOKENS)     # exact match to a known junk token\n",
    "mask_punct_only = df[\"title_norm\"].str.match(punct_only_re)         # title is only punctuation/symbols/whitespace/_\n",
    "mask_too_short = df[\"title_len\"] < MIN_LEN                          # titles shorter than MIN_LEN\n",
    "mask_low_alpha = df[\"alpha_ratio\"] < MIN_ALPHA_RATIO                # too few alphabetic chars relative to total\n",
    "\n",
    "# Combine all exclusion conditions (logical OR)\n",
    "mask_nonrepr = mask_empty | mask_bad_token | mask_punct_only | mask_too_short | mask_low_alpha\n"
   ]
  },
  {
   "cell_type": "code",
   "execution_count": 14,
   "id": "91ebd4d4",
   "metadata": {},
   "outputs": [],
   "source": [
    "from IPython.display import display"
   ]
  },
  {
   "cell_type": "code",
   "execution_count": 15,
   "id": "804a3300",
   "metadata": {},
   "outputs": [
    {
     "name": "stdout",
     "output_type": "stream",
     "text": [
      "\n",
      "mask_empty — 4 rows\n"
     ]
    },
    {
     "data": {
      "text/html": [
       "<div>\n",
       "<style scoped>\n",
       "    .dataframe tbody tr th:only-of-type {\n",
       "        vertical-align: middle;\n",
       "    }\n",
       "\n",
       "    .dataframe tbody tr th {\n",
       "        vertical-align: top;\n",
       "    }\n",
       "\n",
       "    .dataframe thead th {\n",
       "        text-align: right;\n",
       "    }\n",
       "</style>\n",
       "<table border=\"1\" class=\"dataframe\">\n",
       "  <thead>\n",
       "    <tr style=\"text-align: right;\">\n",
       "      <th></th>\n",
       "      <th>id</th>\n",
       "      <th>title</th>\n",
       "      <th>location</th>\n",
       "      <th>screening_score</th>\n",
       "      <th>title_norm</th>\n",
       "      <th>title_len</th>\n",
       "      <th>alpha_ratio</th>\n",
       "    </tr>\n",
       "  </thead>\n",
       "  <tbody>\n",
       "    <tr>\n",
       "      <th>14</th>\n",
       "      <td>15</td>\n",
       "      <td>NaN</td>\n",
       "      <td>United States</td>\n",
       "      <td>100</td>\n",
       "      <td></td>\n",
       "      <td>NaN</td>\n",
       "      <td>0.0</td>\n",
       "    </tr>\n",
       "    <tr>\n",
       "      <th>193</th>\n",
       "      <td>194</td>\n",
       "      <td>NaN</td>\n",
       "      <td>Austria</td>\n",
       "      <td>50</td>\n",
       "      <td></td>\n",
       "      <td>NaN</td>\n",
       "      <td>0.0</td>\n",
       "    </tr>\n",
       "    <tr>\n",
       "      <th>248</th>\n",
       "      <td>249</td>\n",
       "      <td>NaN</td>\n",
       "      <td>United States</td>\n",
       "      <td>30</td>\n",
       "      <td></td>\n",
       "      <td>NaN</td>\n",
       "      <td>0.0</td>\n",
       "    </tr>\n",
       "    <tr>\n",
       "      <th>587</th>\n",
       "      <td>588</td>\n",
       "      <td>NaN</td>\n",
       "      <td>United States</td>\n",
       "      <td>85</td>\n",
       "      <td></td>\n",
       "      <td>NaN</td>\n",
       "      <td>0.0</td>\n",
       "    </tr>\n",
       "  </tbody>\n",
       "</table>\n",
       "</div>"
      ],
      "text/plain": [
       "      id title       location  screening_score title_norm  title_len  alpha_ratio\n",
       "14    15   NaN  United States              100                   NaN          0.0\n",
       "193  194   NaN        Austria               50                   NaN          0.0\n",
       "248  249   NaN  United States               30                   NaN          0.0\n",
       "587  588   NaN  United States               85                   NaN          0.0"
      ]
     },
     "metadata": {},
     "output_type": "display_data"
    },
    {
     "name": "stdout",
     "output_type": "stream",
     "text": [
      "\n",
      "mask_bad_token — 16 rows\n"
     ]
    },
    {
     "data": {
      "text/html": [
       "<div>\n",
       "<style scoped>\n",
       "    .dataframe tbody tr th:only-of-type {\n",
       "        vertical-align: middle;\n",
       "    }\n",
       "\n",
       "    .dataframe tbody tr th {\n",
       "        vertical-align: top;\n",
       "    }\n",
       "\n",
       "    .dataframe thead th {\n",
       "        text-align: right;\n",
       "    }\n",
       "</style>\n",
       "<table border=\"1\" class=\"dataframe\">\n",
       "  <thead>\n",
       "    <tr style=\"text-align: right;\">\n",
       "      <th></th>\n",
       "      <th>id</th>\n",
       "      <th>title</th>\n",
       "      <th>location</th>\n",
       "      <th>screening_score</th>\n",
       "      <th>title_norm</th>\n",
       "      <th>title_len</th>\n",
       "      <th>alpha_ratio</th>\n",
       "    </tr>\n",
       "  </thead>\n",
       "  <tbody>\n",
       "    <tr>\n",
       "      <th>131</th>\n",
       "      <td>132</td>\n",
       "      <td>--</td>\n",
       "      <td>United States</td>\n",
       "      <td>80</td>\n",
       "      <td>--</td>\n",
       "      <td>2.0</td>\n",
       "      <td>0.0</td>\n",
       "    </tr>\n",
       "    <tr>\n",
       "      <th>172</th>\n",
       "      <td>173</td>\n",
       "      <td>--</td>\n",
       "      <td>United States</td>\n",
       "      <td>80</td>\n",
       "      <td>--</td>\n",
       "      <td>2.0</td>\n",
       "      <td>0.0</td>\n",
       "    </tr>\n",
       "    <tr>\n",
       "      <th>175</th>\n",
       "      <td>176</td>\n",
       "      <td>.</td>\n",
       "      <td>United States</td>\n",
       "      <td>75</td>\n",
       "      <td>.</td>\n",
       "      <td>1.0</td>\n",
       "      <td>0.0</td>\n",
       "    </tr>\n",
       "    <tr>\n",
       "      <th>384</th>\n",
       "      <td>385</td>\n",
       "      <td>--</td>\n",
       "      <td>United States</td>\n",
       "      <td>100</td>\n",
       "      <td>--</td>\n",
       "      <td>2.0</td>\n",
       "      <td>0.0</td>\n",
       "    </tr>\n",
       "    <tr>\n",
       "      <th>431</th>\n",
       "      <td>432</td>\n",
       "      <td>--</td>\n",
       "      <td>United States</td>\n",
       "      <td>95</td>\n",
       "      <td>--</td>\n",
       "      <td>2.0</td>\n",
       "      <td>0.0</td>\n",
       "    </tr>\n",
       "  </tbody>\n",
       "</table>\n",
       "</div>"
      ],
      "text/plain": [
       "      id title       location  screening_score title_norm  title_len  alpha_ratio\n",
       "131  132    --  United States               80         --        2.0          0.0\n",
       "172  173    --  United States               80         --        2.0          0.0\n",
       "175  176     .  United States               75          .        1.0          0.0\n",
       "384  385    --  United States              100         --        2.0          0.0\n",
       "431  432    --  United States               95         --        2.0          0.0"
      ]
     },
     "metadata": {},
     "output_type": "display_data"
    },
    {
     "name": "stdout",
     "output_type": "stream",
     "text": [
      "\n",
      "mask_punct_only — 16 rows\n"
     ]
    },
    {
     "data": {
      "text/html": [
       "<div>\n",
       "<style scoped>\n",
       "    .dataframe tbody tr th:only-of-type {\n",
       "        vertical-align: middle;\n",
       "    }\n",
       "\n",
       "    .dataframe tbody tr th {\n",
       "        vertical-align: top;\n",
       "    }\n",
       "\n",
       "    .dataframe thead th {\n",
       "        text-align: right;\n",
       "    }\n",
       "</style>\n",
       "<table border=\"1\" class=\"dataframe\">\n",
       "  <thead>\n",
       "    <tr style=\"text-align: right;\">\n",
       "      <th></th>\n",
       "      <th>id</th>\n",
       "      <th>title</th>\n",
       "      <th>location</th>\n",
       "      <th>screening_score</th>\n",
       "      <th>title_norm</th>\n",
       "      <th>title_len</th>\n",
       "      <th>alpha_ratio</th>\n",
       "    </tr>\n",
       "  </thead>\n",
       "  <tbody>\n",
       "    <tr>\n",
       "      <th>131</th>\n",
       "      <td>132</td>\n",
       "      <td>--</td>\n",
       "      <td>United States</td>\n",
       "      <td>80</td>\n",
       "      <td>--</td>\n",
       "      <td>2.0</td>\n",
       "      <td>0.0</td>\n",
       "    </tr>\n",
       "    <tr>\n",
       "      <th>172</th>\n",
       "      <td>173</td>\n",
       "      <td>--</td>\n",
       "      <td>United States</td>\n",
       "      <td>80</td>\n",
       "      <td>--</td>\n",
       "      <td>2.0</td>\n",
       "      <td>0.0</td>\n",
       "    </tr>\n",
       "    <tr>\n",
       "      <th>175</th>\n",
       "      <td>176</td>\n",
       "      <td>.</td>\n",
       "      <td>United States</td>\n",
       "      <td>75</td>\n",
       "      <td>.</td>\n",
       "      <td>1.0</td>\n",
       "      <td>0.0</td>\n",
       "    </tr>\n",
       "    <tr>\n",
       "      <th>384</th>\n",
       "      <td>385</td>\n",
       "      <td>--</td>\n",
       "      <td>United States</td>\n",
       "      <td>100</td>\n",
       "      <td>--</td>\n",
       "      <td>2.0</td>\n",
       "      <td>0.0</td>\n",
       "    </tr>\n",
       "    <tr>\n",
       "      <th>431</th>\n",
       "      <td>432</td>\n",
       "      <td>--</td>\n",
       "      <td>United States</td>\n",
       "      <td>95</td>\n",
       "      <td>--</td>\n",
       "      <td>2.0</td>\n",
       "      <td>0.0</td>\n",
       "    </tr>\n",
       "  </tbody>\n",
       "</table>\n",
       "</div>"
      ],
      "text/plain": [
       "      id title       location  screening_score title_norm  title_len  alpha_ratio\n",
       "131  132    --  United States               80         --        2.0          0.0\n",
       "172  173    --  United States               80         --        2.0          0.0\n",
       "175  176     .  United States               75          .        1.0          0.0\n",
       "384  385    --  United States              100         --        2.0          0.0\n",
       "431  432    --  United States               95         --        2.0          0.0"
      ]
     },
     "metadata": {},
     "output_type": "display_data"
    },
    {
     "name": "stdout",
     "output_type": "stream",
     "text": [
      "\n",
      "mask_too_short — 1 rows\n"
     ]
    },
    {
     "data": {
      "text/html": [
       "<div>\n",
       "<style scoped>\n",
       "    .dataframe tbody tr th:only-of-type {\n",
       "        vertical-align: middle;\n",
       "    }\n",
       "\n",
       "    .dataframe tbody tr th {\n",
       "        vertical-align: top;\n",
       "    }\n",
       "\n",
       "    .dataframe thead th {\n",
       "        text-align: right;\n",
       "    }\n",
       "</style>\n",
       "<table border=\"1\" class=\"dataframe\">\n",
       "  <thead>\n",
       "    <tr style=\"text-align: right;\">\n",
       "      <th></th>\n",
       "      <th>id</th>\n",
       "      <th>title</th>\n",
       "      <th>location</th>\n",
       "      <th>screening_score</th>\n",
       "      <th>title_norm</th>\n",
       "      <th>title_len</th>\n",
       "      <th>alpha_ratio</th>\n",
       "    </tr>\n",
       "  </thead>\n",
       "  <tbody>\n",
       "    <tr>\n",
       "      <th>175</th>\n",
       "      <td>176</td>\n",
       "      <td>.</td>\n",
       "      <td>United States</td>\n",
       "      <td>75</td>\n",
       "      <td>.</td>\n",
       "      <td>1.0</td>\n",
       "      <td>0.0</td>\n",
       "    </tr>\n",
       "  </tbody>\n",
       "</table>\n",
       "</div>"
      ],
      "text/plain": [
       "      id title       location  screening_score title_norm  title_len  alpha_ratio\n",
       "175  176     .  United States               75          .        1.0          0.0"
      ]
     },
     "metadata": {},
     "output_type": "display_data"
    },
    {
     "name": "stdout",
     "output_type": "stream",
     "text": [
      "\n",
      "mask_low_alpha — 20 rows\n"
     ]
    },
    {
     "data": {
      "text/html": [
       "<div>\n",
       "<style scoped>\n",
       "    .dataframe tbody tr th:only-of-type {\n",
       "        vertical-align: middle;\n",
       "    }\n",
       "\n",
       "    .dataframe tbody tr th {\n",
       "        vertical-align: top;\n",
       "    }\n",
       "\n",
       "    .dataframe thead th {\n",
       "        text-align: right;\n",
       "    }\n",
       "</style>\n",
       "<table border=\"1\" class=\"dataframe\">\n",
       "  <thead>\n",
       "    <tr style=\"text-align: right;\">\n",
       "      <th></th>\n",
       "      <th>id</th>\n",
       "      <th>title</th>\n",
       "      <th>location</th>\n",
       "      <th>screening_score</th>\n",
       "      <th>title_norm</th>\n",
       "      <th>title_len</th>\n",
       "      <th>alpha_ratio</th>\n",
       "    </tr>\n",
       "  </thead>\n",
       "  <tbody>\n",
       "    <tr>\n",
       "      <th>14</th>\n",
       "      <td>15</td>\n",
       "      <td>NaN</td>\n",
       "      <td>United States</td>\n",
       "      <td>100</td>\n",
       "      <td></td>\n",
       "      <td>NaN</td>\n",
       "      <td>0.0</td>\n",
       "    </tr>\n",
       "    <tr>\n",
       "      <th>131</th>\n",
       "      <td>132</td>\n",
       "      <td>--</td>\n",
       "      <td>United States</td>\n",
       "      <td>80</td>\n",
       "      <td>--</td>\n",
       "      <td>2.0</td>\n",
       "      <td>0.0</td>\n",
       "    </tr>\n",
       "    <tr>\n",
       "      <th>172</th>\n",
       "      <td>173</td>\n",
       "      <td>--</td>\n",
       "      <td>United States</td>\n",
       "      <td>80</td>\n",
       "      <td>--</td>\n",
       "      <td>2.0</td>\n",
       "      <td>0.0</td>\n",
       "    </tr>\n",
       "    <tr>\n",
       "      <th>175</th>\n",
       "      <td>176</td>\n",
       "      <td>.</td>\n",
       "      <td>United States</td>\n",
       "      <td>75</td>\n",
       "      <td>.</td>\n",
       "      <td>1.0</td>\n",
       "      <td>0.0</td>\n",
       "    </tr>\n",
       "    <tr>\n",
       "      <th>193</th>\n",
       "      <td>194</td>\n",
       "      <td>NaN</td>\n",
       "      <td>Austria</td>\n",
       "      <td>50</td>\n",
       "      <td></td>\n",
       "      <td>NaN</td>\n",
       "      <td>0.0</td>\n",
       "    </tr>\n",
       "  </tbody>\n",
       "</table>\n",
       "</div>"
      ],
      "text/plain": [
       "      id title       location  screening_score title_norm  title_len  alpha_ratio\n",
       "14    15   NaN  United States              100                   NaN          0.0\n",
       "131  132    --  United States               80         --        2.0          0.0\n",
       "172  173    --  United States               80         --        2.0          0.0\n",
       "175  176     .  United States               75          .        1.0          0.0\n",
       "193  194   NaN        Austria               50                   NaN          0.0"
      ]
     },
     "metadata": {},
     "output_type": "display_data"
    }
   ],
   "source": [
    "masks = {'mask_empty': mask_empty, 'mask_bad_token': mask_bad_token, 'mask_punct_only': mask_punct_only, 'mask_too_short': mask_too_short, 'mask_low_alpha': mask_low_alpha}\n",
    "\n",
    "for mask_name, mask in masks.items():\n",
    "    subset = df.loc[mask]\n",
    "    print(f\"\\n{mask_name} — {subset.shape[0]} rows\")\n",
    "    display(subset.head(5))\n"
   ]
  },
  {
   "cell_type": "code",
   "execution_count": 16,
   "id": "928b0e96",
   "metadata": {},
   "outputs": [
    {
     "name": "stdout",
     "output_type": "stream",
     "text": [
      "Noisy job titles stats:\n",
      "{'empty': 4, 'bad_token': 16, 'punct_only': 16, 'too_short(<2)': 1, 'low_alpha(<0.25)': 20}\n"
     ]
    }
   ],
   "source": [
    "print(\"Noisy job titles stats:\")\n",
    "print({    \n",
    "    \"empty\": int(mask_empty.sum()),\n",
    "    \"bad_token\": int(mask_bad_token.sum()),\n",
    "    \"punct_only\": int(mask_punct_only.sum()),\n",
    "    f\"too_short(<{MIN_LEN})\": int(mask_too_short.sum()),\n",
    "    f\"low_alpha(<{MIN_ALPHA_RATIO})\": int(mask_low_alpha.sum()),\n",
    "})"
   ]
  },
  {
   "cell_type": "code",
   "execution_count": null,
   "id": "ed58a06e",
   "metadata": {},
   "outputs": [],
   "source": [
    "# drop empties + non-representative\n",
    "df_clean = df.loc[~mask_nonrepr].copy()"
   ]
  },
  {
   "cell_type": "code",
   "execution_count": 18,
   "id": "acfe8fa0",
   "metadata": {},
   "outputs": [],
   "source": [
    "# drop duplicates by normalized title\n",
    "df_clean[\"title_key\"] = df_clean[\"title_norm\"].str.casefold()  #Casefolding is similar to lowercasing but more aggressive because it is intended to remove all case distinctions in a string\n",
    "before = len(df_clean)\n",
    "df_clean = df_clean.drop_duplicates(subset=[\"title_key\"], keep=\"first\").copy()\n",
    "after = len(df_clean)"
   ]
  },
  {
   "cell_type": "code",
   "execution_count": null,
   "id": "de66befc",
   "metadata": {},
   "outputs": [
    {
     "name": "stdout",
     "output_type": "stream",
     "text": [
      "{'original_rows': 1285, 'removed_empty_or_nonrepr': 20, 'removed_duplicates': 66, 'final_rows': 1199}\n"
     ]
    }
   ],
   "source": [
    "print({\n",
    "    \"original_rows\": len(df),\n",
    "    \"removed_empty_or_nonrepr\": len(df) - len(df.loc[~mask_nonrepr]),\n",
    "    \"removed_duplicates\": before - after,\n",
    "    \"final_rows\": len(df_clean),\n",
    "})"
   ]
  },
  {
   "cell_type": "code",
   "execution_count": 20,
   "id": "1406440b",
   "metadata": {},
   "outputs": [],
   "source": [
    "# Drop helper cols\n",
    "df_clean = df_clean.drop(columns=[\"title_key\"])"
   ]
  },
  {
   "cell_type": "code",
   "execution_count": 21,
   "id": "3f8257ea",
   "metadata": {},
   "outputs": [],
   "source": [
    "df_clean.to_csv(os.path.join(DATA_DIR, \"extended_clean.csv\"))\n"
   ]
  },
  {
   "cell_type": "code",
   "execution_count": 22,
   "id": "0a8766d7",
   "metadata": {},
   "outputs": [
    {
     "data": {
      "text/plain": [
       "Index(['id', 'title', 'location', 'screening_score', 'title_norm', 'title_len', 'alpha_ratio'], dtype='object')"
      ]
     },
     "execution_count": 22,
     "metadata": {},
     "output_type": "execute_result"
    }
   ],
   "source": [
    "df_clean.columns"
   ]
  },
  {
   "cell_type": "markdown",
   "id": "74076566",
   "metadata": {},
   "source": [
    "#### 1.3 Character length distribution (titles only)"
   ]
  },
  {
   "cell_type": "code",
   "execution_count": 23,
   "id": "030c786b",
   "metadata": {},
   "outputs": [],
   "source": [
    "import matplotlib.pyplot as plt"
   ]
  },
  {
   "cell_type": "code",
   "execution_count": 24,
   "id": "2b6272ba",
   "metadata": {},
   "outputs": [
    {
     "data": {
      "image/png": "[encoded data removed]",
      "text/plain": [
       "<Figure size 640x480 with 1 Axes>"
      ]
     },
     "metadata": {},
     "output_type": "display_data"
    }
   ],
   "source": [
    "plt.figure()\n",
    "df_clean[\"title_len\"].hist(bins=40)\n",
    "plt.title(\"Title Length (characters)\")\n",
    "plt.xlabel(\"Chars\")\n",
    "plt.ylabel(\"Count\")\n",
    "plt.show()"
   ]
  },
  {
   "cell_type": "code",
   "execution_count": 25,
   "id": "b4a15919",
   "metadata": {},
   "outputs": [
    {
     "data": {
      "text/plain": [
       "count    1199.000000\n",
       "mean       81.874062\n",
       "std        48.690361\n",
       "min         7.000000\n",
       "25%        43.000000\n",
       "50%        72.000000\n",
       "75%       112.500000\n",
       "max       213.000000\n",
       "Name: title_len, dtype: float64"
      ]
     },
     "execution_count": 25,
     "metadata": {},
     "output_type": "execute_result"
    }
   ],
   "source": [
    "df_clean[\"title_len\"].describe()\n"
   ]
  },
  {
   "cell_type": "markdown",
   "id": "52518107",
   "metadata": {},
   "source": [
    "----"
   ]
  },
  {
   "cell_type": "markdown",
   "id": "3210acd1",
   "metadata": {},
   "source": [
    "### 2. Step 1: first-stage retriever using SBERT Embedding + cosine similarity"
   ]
  },
  {
   "cell_type": "markdown",
   "id": "d6601d6a",
   "metadata": {},
   "source": [
    "\n",
    "In this step we build a **baseline semantic retriever** using **Sentence-BERT (`all-mpnet-base-v2`)**.  \n",
    "\n",
    "All cleaned job titles are encoded into dense embeddings (L2-normalized for cosine similarity).  \n",
    "\n",
    "A simple retrieval function then compares a normalized **query** against all title vectors, returning the **top-N most similar titles** ranked by cosine score.  \n",
    "\n",
    "This provides a fast, interpretable first-pass similarity layer, the foundation for constructing balanced training pairs and evaluating how well the later LLM ranker improves over embedding-only retrieval.\n"
   ]
  },
  {
   "cell_type": "markdown",
   "id": "a1b7e5a4",
   "metadata": {},
   "source": [
    "#### 2.1 import the SBERT model"
   ]
  },
  {
   "cell_type": "code",
   "execution_count": 26,
   "id": "87049a12",
   "metadata": {},
   "outputs": [],
   "source": [
    "from sentence_transformers import SentenceTransformer"
   ]
  },
  {
   "cell_type": "code",
   "execution_count": 27,
   "id": "c833ee8d",
   "metadata": {},
   "outputs": [],
   "source": [
    "text_col = \"title_norm\"\n",
    "texts = df_clean[text_col].astype(str).tolist()\n",
    "\n",
    "device = \"cuda\" if torch.cuda.is_available() else \"cpu\"\n",
    "sbert_model = SentenceTransformer(\"sentence-transformers/all-mpnet-base-v2\", device=device)\n",
    "sbert_model.max_seq_length = 256  # plenty for the titles (max = 213 chars)"
   ]
  },
  {
   "cell_type": "markdown",
   "id": "384f3265",
   "metadata": {},
   "source": [
    "#### 2.2 Encode the titles"
   ]
  },
  {
   "cell_type": "code",
   "execution_count": 28,
   "id": "dedc9cdd",
   "metadata": {},
   "outputs": [
    {
     "data": {
      "application/vnd.jupyter.widget-view+json": {
       "model_id": "839aabb952ff414dac43ce510daa7ab3",
       "version_major": 2,
       "version_minor": 0
      },
      "text/plain": [
       "Batches:   0%|          | 0/10 [00:00<?, ?it/s]"
      ]
     },
     "metadata": {},
     "output_type": "display_data"
    },
    {
     "name": "stdout",
     "output_type": "stream",
     "text": [
      "Shape: (1199, 768)\n",
      "Norm mean: 1.0\n"
     ]
    }
   ],
   "source": [
    "emb = sbert_model.encode(\n",
    "    texts,\n",
    "    batch_size=128,\n",
    "    show_progress_bar=True,\n",
    "    normalize_embeddings=True,      # cosine-ready\n",
    "    convert_to_numpy=True\n",
    ").astype(np.float32)\n",
    "\n",
    "print(\"Shape:\", emb.shape)          # (n_rows, 384)\n",
    "print(\"Norm mean:\", np.linalg.norm(emb, axis=1).mean())\n",
    "\n",
    "\n"
   ]
  },
  {
   "cell_type": "code",
   "execution_count": 29,
   "id": "e41f9896",
   "metadata": {},
   "outputs": [
    {
     "name": "stdout",
     "output_type": "stream",
     "text": [
      "Before moving SBERT to CPU:\n",
      "allocated = 0.45 GB | reserved = 0.84 GB\n"
     ]
    }
   ],
   "source": [
    "def vram():\n",
    "    if torch.cuda.is_available():\n",
    "        print(\"allocated = %.2f GB | reserved = %.2f GB\"\n",
    "              % (torch.cuda.memory_allocated()/1e9, torch.cuda.memory_reserved()/1e9))\n",
    "\n",
    "print(\"Before moving SBERT to CPU:\"); vram()"
   ]
  },
  {
   "cell_type": "markdown",
   "id": "f46b5900",
   "metadata": {},
   "source": [
    "After computing SBERT embeddings, the model no longer needs GPU resources. Moving it to the CPU frees valuable VRAM for the more demanding instruction-tuned LLM, preventing out-of-memory issues and ensuring smooth, efficient inference during the second retrieval stage."
   ]
  },
  {
   "cell_type": "code",
   "execution_count": 30,
   "id": "9c565cc7",
   "metadata": {},
   "outputs": [],
   "source": [
    "# FREE SBERT VRAM and switch the model to \"cpu\" (thinking in later steps)\n",
    "try:\n",
    "    sbert_model.to(\"cpu\")     # keep the object for later .encode() calls on CPU\n",
    "except Exception:\n",
    "    pass\n",
    "torch.cuda.empty_cache()"
   ]
  },
  {
   "cell_type": "code",
   "execution_count": 31,
   "id": "0f4bc2eb",
   "metadata": {},
   "outputs": [
    {
     "name": "stdout",
     "output_type": "stream",
     "text": [
      "After moving SBERT to CPU:\n",
      "allocated = 0.01 GB | reserved = 0.02 GB\n"
     ]
    }
   ],
   "source": [
    "print(\"After moving SBERT to CPU:\"); vram()"
   ]
  },
  {
   "cell_type": "code",
   "execution_count": 32,
   "id": "014ca35e",
   "metadata": {},
   "outputs": [],
   "source": [
    "# Copy the clean dataframe\n",
    "df_model = df_clean.copy(deep=True)"
   ]
  },
  {
   "cell_type": "code",
   "execution_count": 33,
   "id": "8654c2ca",
   "metadata": {},
   "outputs": [],
   "source": [
    "# Create an immutable row index for embedding alignment\n",
    "df_model = df_model.reset_index(drop=True)\n",
    "df_model[\"emb_ix\"] = df_model.index.astype(\"int32\")"
   ]
  },
  {
   "cell_type": "code",
   "execution_count": 34,
   "id": "53498e15",
   "metadata": {},
   "outputs": [
    {
     "data": {
      "text/html": [
       "<div>\n",
       "<style scoped>\n",
       "    .dataframe tbody tr th:only-of-type {\n",
       "        vertical-align: middle;\n",
       "    }\n",
       "\n",
       "    .dataframe tbody tr th {\n",
       "        vertical-align: top;\n",
       "    }\n",
       "\n",
       "    .dataframe thead th {\n",
       "        text-align: right;\n",
       "    }\n",
       "</style>\n",
       "<table border=\"1\" class=\"dataframe\">\n",
       "  <thead>\n",
       "    <tr style=\"text-align: right;\">\n",
       "      <th></th>\n",
       "      <th>id</th>\n",
       "      <th>title</th>\n",
       "      <th>location</th>\n",
       "      <th>screening_score</th>\n",
       "      <th>title_norm</th>\n",
       "      <th>title_len</th>\n",
       "      <th>alpha_ratio</th>\n",
       "      <th>emb_ix</th>\n",
       "    </tr>\n",
       "  </thead>\n",
       "  <tbody>\n",
       "    <tr>\n",
       "      <th>0</th>\n",
       "      <td>1</td>\n",
       "      <td>innovative and driven professional seeking a role in data analyticsdata science in the information technology industry.</td>\n",
       "      <td>United States</td>\n",
       "      <td>100</td>\n",
       "      <td>innovative and driven professional seeking a role in data analyticsdata science in the information technology industry.</td>\n",
       "      <td>119.0</td>\n",
       "      <td>0.865546</td>\n",
       "      <td>0</td>\n",
       "    </tr>\n",
       "    <tr>\n",
       "      <th>1</th>\n",
       "      <td>2</td>\n",
       "      <td>ms applied data science student usc research assistant usc former data analytics intern at dr reddys laboratories former data science intern quadratyx actively seeking full time roles in summer 2025</td>\n",
       "      <td>United States</td>\n",
       "      <td>100</td>\n",
       "      <td>ms applied data science student usc research assistant usc former data analytics intern at dr reddys laboratories former data science intern quadratyx actively seeking full time roles in summer 2025</td>\n",
       "      <td>198.0</td>\n",
       "      <td>0.833333</td>\n",
       "      <td>1</td>\n",
       "    </tr>\n",
       "    <tr>\n",
       "      <th>2</th>\n",
       "      <td>3</td>\n",
       "      <td>computer science student seeking full-time software engineerdeveloper positions ai sql data visualization toolspython ssrs</td>\n",
       "      <td>United States</td>\n",
       "      <td>100</td>\n",
       "      <td>computer science student seeking full-time software engineerdeveloper positions ai sql data visualization toolspython ssrs</td>\n",
       "      <td>122.0</td>\n",
       "      <td>0.885246</td>\n",
       "      <td>2</td>\n",
       "    </tr>\n",
       "    <tr>\n",
       "      <th>3</th>\n",
       "      <td>4</td>\n",
       "      <td>microsoft certified power bi data analyst mba business analytics unt business intelligence engineer data scientist data engineer business analytics predictive analytics statistical analysis ex-eri...</td>\n",
       "      <td>United States</td>\n",
       "      <td>100</td>\n",
       "      <td>microsoft certified power bi data analyst mba business analytics unt business intelligence engineer data scientist data engineer business analytics predictive analytics statistical analysis ex-eri...</td>\n",
       "      <td>201.0</td>\n",
       "      <td>0.880597</td>\n",
       "      <td>3</td>\n",
       "    </tr>\n",
       "    <tr>\n",
       "      <th>4</th>\n",
       "      <td>5</td>\n",
       "      <td>graduate research assistant at uab masters in data science student at uab ex jio</td>\n",
       "      <td>United States</td>\n",
       "      <td>100</td>\n",
       "      <td>graduate research assistant at uab masters in data science student at uab ex jio</td>\n",
       "      <td>80.0</td>\n",
       "      <td>0.837500</td>\n",
       "      <td>4</td>\n",
       "    </tr>\n",
       "  </tbody>\n",
       "</table>\n",
       "</div>"
      ],
      "text/plain": [
       "   id  \\\n",
       "0   1   \n",
       "1   2   \n",
       "2   3   \n",
       "3   4   \n",
       "4   5   \n",
       "\n",
       "                                                                                                                                                                                                     title  \\\n",
       "0                                                                                  innovative and driven professional seeking a role in data analyticsdata science in the information technology industry.   \n",
       "1   ms applied data science student usc research assistant usc former data analytics intern at dr reddys laboratories former data science intern quadratyx actively seeking full time roles in summer 2025   \n",
       "2                                                                               computer science student seeking full-time software engineerdeveloper positions ai sql data visualization toolspython ssrs   \n",
       "3  microsoft certified power bi data analyst mba business analytics unt business intelligence engineer data scientist data engineer business analytics predictive analytics statistical analysis ex-eri...   \n",
       "4                                                                                                                         graduate research assistant at uab masters in data science student at uab ex jio   \n",
       "\n",
       "        location  screening_score  \\\n",
       "0  United States              100   \n",
       "1  United States              100   \n",
       "2  United States              100   \n",
       "3  United States              100   \n",
       "4  United States              100   \n",
       "\n",
       "                                                                                                                                                                                                title_norm  \\\n",
       "0                                                                                  innovative and driven professional seeking a role in data analyticsdata science in the information technology industry.   \n",
       "1   ms applied data science student usc research assistant usc former data analytics intern at dr reddys laboratories former data science intern quadratyx actively seeking full time roles in summer 2025   \n",
       "2                                                                               computer science student seeking full-time software engineerdeveloper positions ai sql data visualization toolspython ssrs   \n",
       "3  microsoft certified power bi data analyst mba business analytics unt business intelligence engineer data scientist data engineer business analytics predictive analytics statistical analysis ex-eri...   \n",
       "4                                                                                                                         graduate research assistant at uab masters in data science student at uab ex jio   \n",
       "\n",
       "   title_len  alpha_ratio  emb_ix  \n",
       "0      119.0     0.865546       0  \n",
       "1      198.0     0.833333       1  \n",
       "2      122.0     0.885246       2  \n",
       "3      201.0     0.880597       3  \n",
       "4       80.0     0.837500       4  "
      ]
     },
     "execution_count": 34,
     "metadata": {},
     "output_type": "execute_result"
    }
   ],
   "source": [
    "df_model.head()"
   ]
  },
  {
   "cell_type": "code",
   "execution_count": 35,
   "id": "2af0be32",
   "metadata": {},
   "outputs": [],
   "source": [
    "# Keep a slim view for joining results\n",
    "meta_cols = [\"emb_ix\",\"id\",\"title\",\"title_norm\"]\n",
    "meta = df_model[meta_cols].copy()"
   ]
  },
  {
   "cell_type": "markdown",
   "id": "4942c49f",
   "metadata": {},
   "source": [
    "#### 2.3 Retrieval function (encode query -> top-N by cosine similarity)"
   ]
  },
  {
   "cell_type": "code",
   "execution_count": 36,
   "id": "b7b34562",
   "metadata": {},
   "outputs": [],
   "source": [
    "from typing import Union, Tuple"
   ]
  },
  {
   "cell_type": "code",
   "execution_count": 76,
   "id": "b923a15c",
   "metadata": {},
   "outputs": [],
   "source": [
    "def retrieve_top_n(\n",
    "    query: str,\n",
    "    n: int = 50    \n",
    ") -> pd.DataFrame:\n",
    "    \"\"\"\n",
    "    Normalize + encode `query` with the same model, compute cosine similarities to `emb`,\n",
    "    fully sort all items (O(N log N)), and return a DataFrame with the top-n results.\n",
    "\n",
    "    Requires in scope:\n",
    "      - normalize_text (function)\n",
    "      - model (SentenceTransformer used to build `emb`)\n",
    "      - emb   (np.ndarray, shape [N, D], L2-normalized rows)\n",
    "      - meta  (DataFrame with columns including ['emb_ix','id','title','title_norm'])\n",
    "    \"\"\"\n",
    "    # Normalize query text exactly like corpus titles\n",
    "    q_text = normalize_text(query)\n",
    "    \n",
    "    # Encode query. Normalize to make cosine a dot product\n",
    "    q = sbert_model.encode([q_text], normalize_embeddings=True, convert_to_numpy=True).astype(np.float32)[0]\n",
    "\n",
    "    # Cosine similarities (dot product since vectors are L2-normalized)\n",
    "    sims = emb @ q  # shape (N,)\n",
    "\n",
    "    # Bound n and get indices of the top-n by full sort (O(N log N))\n",
    "    N = sims.shape[0]\n",
    "    n = int(max(1, min(n, N)))\n",
    "    idx_sorted_desc = np.argsort(sims)[::-1][:n]  # full sort, take top-n\n",
    "\n",
    "    # Build output DataFrame with originals\n",
    "    out = meta.loc[idx_sorted_desc].copy()\n",
    "    out.insert(0, \"rank\", np.arange(1, len(idx_sorted_desc) + 1))\n",
    "    out[\"similarity\"] = sims[idx_sorted_desc]  # cosine similarity score\n",
    "    return out.reset_index(drop=True)"
   ]
  },
  {
   "cell_type": "markdown",
   "id": "3eeddafb",
   "metadata": {},
   "source": [
    "Run some tests:"
   ]
  },
  {
   "cell_type": "code",
   "execution_count": 38,
   "id": "9d47e47c",
   "metadata": {},
   "outputs": [
    {
     "name": "stdout",
     "output_type": "stream",
     "text": [
      "\n",
      "Query: machine learning engineer\n"
     ]
    },
    {
     "data": {
      "text/html": [
       "<div>\n",
       "<style scoped>\n",
       "    .dataframe tbody tr th:only-of-type {\n",
       "        vertical-align: middle;\n",
       "    }\n",
       "\n",
       "    .dataframe tbody tr th {\n",
       "        vertical-align: top;\n",
       "    }\n",
       "\n",
       "    .dataframe thead th {\n",
       "        text-align: right;\n",
       "    }\n",
       "</style>\n",
       "<table border=\"1\" class=\"dataframe\">\n",
       "  <thead>\n",
       "    <tr style=\"text-align: right;\">\n",
       "      <th></th>\n",
       "      <th>rank</th>\n",
       "      <th>emb_ix</th>\n",
       "      <th>id</th>\n",
       "      <th>title</th>\n",
       "      <th>title_norm</th>\n",
       "      <th>similarity</th>\n",
       "    </tr>\n",
       "  </thead>\n",
       "  <tbody>\n",
       "    <tr>\n",
       "      <th>0</th>\n",
       "      <td>1</td>\n",
       "      <td>891</td>\n",
       "      <td>947</td>\n",
       "      <td>machine learning engineer</td>\n",
       "      <td>machine learning engineer</td>\n",
       "      <td>1.000000</td>\n",
       "    </tr>\n",
       "    <tr>\n",
       "      <th>1</th>\n",
       "      <td>2</td>\n",
       "      <td>979</td>\n",
       "      <td>1039</td>\n",
       "      <td>machine learning engineer 2</td>\n",
       "      <td>machine learning engineer 2</td>\n",
       "      <td>0.864124</td>\n",
       "    </tr>\n",
       "    <tr>\n",
       "      <th>2</th>\n",
       "      <td>3</td>\n",
       "      <td>1140</td>\n",
       "      <td>1221</td>\n",
       "      <td>Data Scientist Machine Learning Engineer</td>\n",
       "      <td>Data Scientist Machine Learning Engineer</td>\n",
       "      <td>0.849322</td>\n",
       "    </tr>\n",
       "    <tr>\n",
       "      <th>3</th>\n",
       "      <td>4</td>\n",
       "      <td>1155</td>\n",
       "      <td>1237</td>\n",
       "      <td>Machine Learning Engineer Data Scientist MLOps</td>\n",
       "      <td>Machine Learning Engineer Data Scientist MLOps</td>\n",
       "      <td>0.841133</td>\n",
       "    </tr>\n",
       "    <tr>\n",
       "      <th>4</th>\n",
       "      <td>5</td>\n",
       "      <td>23</td>\n",
       "      <td>25</td>\n",
       "      <td>data analyst and machine learning engineer</td>\n",
       "      <td>data analyst and machine learning engineer</td>\n",
       "      <td>0.800220</td>\n",
       "    </tr>\n",
       "  </tbody>\n",
       "</table>\n",
       "</div>"
      ],
      "text/plain": [
       "   rank  emb_ix    id                                           title                                      title_norm  \\\n",
       "0     1     891   947                       machine learning engineer                       machine learning engineer   \n",
       "1     2     979  1039                     machine learning engineer 2                     machine learning engineer 2   \n",
       "2     3    1140  1221        Data Scientist Machine Learning Engineer        Data Scientist Machine Learning Engineer   \n",
       "3     4    1155  1237  Machine Learning Engineer Data Scientist MLOps  Machine Learning Engineer Data Scientist MLOps   \n",
       "4     5      23    25      data analyst and machine learning engineer      data analyst and machine learning engineer   \n",
       "\n",
       "   similarity  \n",
       "0    1.000000  \n",
       "1    0.864124  \n",
       "2    0.849322  \n",
       "3    0.841133  \n",
       "4    0.800220  "
      ]
     },
     "metadata": {},
     "output_type": "display_data"
    },
    {
     "name": "stdout",
     "output_type": "stream",
     "text": [
      "\n",
      "Query: data scientist\n"
     ]
    },
    {
     "data": {
      "text/html": [
       "<div>\n",
       "<style scoped>\n",
       "    .dataframe tbody tr th:only-of-type {\n",
       "        vertical-align: middle;\n",
       "    }\n",
       "\n",
       "    .dataframe tbody tr th {\n",
       "        vertical-align: top;\n",
       "    }\n",
       "\n",
       "    .dataframe thead th {\n",
       "        text-align: right;\n",
       "    }\n",
       "</style>\n",
       "<table border=\"1\" class=\"dataframe\">\n",
       "  <thead>\n",
       "    <tr style=\"text-align: right;\">\n",
       "      <th></th>\n",
       "      <th>rank</th>\n",
       "      <th>emb_ix</th>\n",
       "      <th>id</th>\n",
       "      <th>title</th>\n",
       "      <th>title_norm</th>\n",
       "      <th>similarity</th>\n",
       "    </tr>\n",
       "  </thead>\n",
       "  <tbody>\n",
       "    <tr>\n",
       "      <th>0</th>\n",
       "      <td>1</td>\n",
       "      <td>194</td>\n",
       "      <td>201</td>\n",
       "      <td>data scientist</td>\n",
       "      <td>data scientist</td>\n",
       "      <td>1.000000</td>\n",
       "    </tr>\n",
       "    <tr>\n",
       "      <th>1</th>\n",
       "      <td>2</td>\n",
       "      <td>1097</td>\n",
       "      <td>1173</td>\n",
       "      <td>data analyst data scientist</td>\n",
       "      <td>data analyst data scientist</td>\n",
       "      <td>0.918813</td>\n",
       "    </tr>\n",
       "    <tr>\n",
       "      <th>2</th>\n",
       "      <td>3</td>\n",
       "      <td>405</td>\n",
       "      <td>419</td>\n",
       "      <td>data scientist analyst</td>\n",
       "      <td>data scientist analyst</td>\n",
       "      <td>0.914790</td>\n",
       "    </tr>\n",
       "    <tr>\n",
       "      <th>3</th>\n",
       "      <td>4</td>\n",
       "      <td>1018</td>\n",
       "      <td>1080</td>\n",
       "      <td>data scientistgeoscientist</td>\n",
       "      <td>data scientistgeoscientist</td>\n",
       "      <td>0.880559</td>\n",
       "    </tr>\n",
       "    <tr>\n",
       "      <th>4</th>\n",
       "      <td>5</td>\n",
       "      <td>72</td>\n",
       "      <td>74</td>\n",
       "      <td>data analyst</td>\n",
       "      <td>data analyst</td>\n",
       "      <td>0.875535</td>\n",
       "    </tr>\n",
       "  </tbody>\n",
       "</table>\n",
       "</div>"
      ],
      "text/plain": [
       "   rank  emb_ix    id                        title                   title_norm  similarity\n",
       "0     1     194   201               data scientist               data scientist    1.000000\n",
       "1     2    1097  1173  data analyst data scientist  data analyst data scientist    0.918813\n",
       "2     3     405   419       data scientist analyst       data scientist analyst    0.914790\n",
       "3     4    1018  1080   data scientistgeoscientist   data scientistgeoscientist    0.880559\n",
       "4     5      72    74                 data analyst                 data analyst    0.875535"
      ]
     },
     "metadata": {},
     "output_type": "display_data"
    },
    {
     "name": "stdout",
     "output_type": "stream",
     "text": [
      "\n",
      "Query: project manager\n"
     ]
    },
    {
     "data": {
      "text/html": [
       "<div>\n",
       "<style scoped>\n",
       "    .dataframe tbody tr th:only-of-type {\n",
       "        vertical-align: middle;\n",
       "    }\n",
       "\n",
       "    .dataframe tbody tr th {\n",
       "        vertical-align: top;\n",
       "    }\n",
       "\n",
       "    .dataframe thead th {\n",
       "        text-align: right;\n",
       "    }\n",
       "</style>\n",
       "<table border=\"1\" class=\"dataframe\">\n",
       "  <thead>\n",
       "    <tr style=\"text-align: right;\">\n",
       "      <th></th>\n",
       "      <th>rank</th>\n",
       "      <th>emb_ix</th>\n",
       "      <th>id</th>\n",
       "      <th>title</th>\n",
       "      <th>title_norm</th>\n",
       "      <th>similarity</th>\n",
       "    </tr>\n",
       "  </thead>\n",
       "  <tbody>\n",
       "    <tr>\n",
       "      <th>0</th>\n",
       "      <td>1</td>\n",
       "      <td>707</td>\n",
       "      <td>738</td>\n",
       "      <td>program manager</td>\n",
       "      <td>program manager</td>\n",
       "      <td>0.648390</td>\n",
       "    </tr>\n",
       "    <tr>\n",
       "      <th>1</th>\n",
       "      <td>2</td>\n",
       "      <td>841</td>\n",
       "      <td>888</td>\n",
       "      <td>operations manager assistant program coordinator</td>\n",
       "      <td>operations manager assistant program coordinator</td>\n",
       "      <td>0.593522</td>\n",
       "    </tr>\n",
       "    <tr>\n",
       "      <th>2</th>\n",
       "      <td>3</td>\n",
       "      <td>1145</td>\n",
       "      <td>1227</td>\n",
       "      <td>Advanced Google Certified Data Analyst Project Manager</td>\n",
       "      <td>Advanced Google Certified Data Analyst Project Manager</td>\n",
       "      <td>0.573545</td>\n",
       "    </tr>\n",
       "    <tr>\n",
       "      <th>3</th>\n",
       "      <td>4</td>\n",
       "      <td>765</td>\n",
       "      <td>804</td>\n",
       "      <td>engineering supervisor</td>\n",
       "      <td>engineering supervisor</td>\n",
       "      <td>0.569864</td>\n",
       "    </tr>\n",
       "    <tr>\n",
       "      <th>4</th>\n",
       "      <td>5</td>\n",
       "      <td>697</td>\n",
       "      <td>727</td>\n",
       "      <td>performance marketing manager</td>\n",
       "      <td>performance marketing manager</td>\n",
       "      <td>0.549647</td>\n",
       "    </tr>\n",
       "  </tbody>\n",
       "</table>\n",
       "</div>"
      ],
      "text/plain": [
       "   rank  emb_ix    id                                                   title  \\\n",
       "0     1     707   738                                         program manager   \n",
       "1     2     841   888        operations manager assistant program coordinator   \n",
       "2     3    1145  1227  Advanced Google Certified Data Analyst Project Manager   \n",
       "3     4     765   804                                  engineering supervisor   \n",
       "4     5     697   727                           performance marketing manager   \n",
       "\n",
       "                                               title_norm  similarity  \n",
       "0                                         program manager    0.648390  \n",
       "1        operations manager assistant program coordinator    0.593522  \n",
       "2  Advanced Google Certified Data Analyst Project Manager    0.573545  \n",
       "3                                  engineering supervisor    0.569864  \n",
       "4                           performance marketing manager    0.549647  "
      ]
     },
     "metadata": {},
     "output_type": "display_data"
    }
   ],
   "source": [
    "tests = [\n",
    "    \"machine learning engineer\",\n",
    "    \"data scientist\",\n",
    "    \"project manager\"\n",
    "]\n",
    "\n",
    "for q in tests:\n",
    "    print(f\"\\nQuery: {q}\")\n",
    "    display(retrieve_top_n(q, n=5))\n"
   ]
  },
  {
   "cell_type": "markdown",
   "id": "5d202ca2",
   "metadata": {},
   "source": [
    "Sanity checks"
   ]
  },
  {
   "cell_type": "code",
   "execution_count": 39,
   "id": "66ba3e9b",
   "metadata": {},
   "outputs": [],
   "source": [
    "qs = [\n",
    "    \"machine learning engineer\",\n",
    "    \"data scientist\",\n",
    "    \"project manager\",\n",
    "    \"product manager\",\n",
    "    \"ml ops engineer\",\n",
    "    \"computer vision scientist\",\n",
    "]\n",
    "rows = []\n",
    "for q in qs:\n",
    "    top5 = retrieve_top_n(q, n=5)\n",
    "    rows.append({\n",
    "        \"query\": q,\n",
    "        \"top1_title\": top5.loc[0, \"title\"],\n",
    "        \"top1_sim\": float(top5.loc[0, \"similarity\"])        \n",
    "    })\n"
   ]
  },
  {
   "cell_type": "code",
   "execution_count": 40,
   "id": "6792c50b",
   "metadata": {},
   "outputs": [
    {
     "data": {
      "text/html": [
       "<div>\n",
       "<style scoped>\n",
       "    .dataframe tbody tr th:only-of-type {\n",
       "        vertical-align: middle;\n",
       "    }\n",
       "\n",
       "    .dataframe tbody tr th {\n",
       "        vertical-align: top;\n",
       "    }\n",
       "\n",
       "    .dataframe thead th {\n",
       "        text-align: right;\n",
       "    }\n",
       "</style>\n",
       "<table border=\"1\" class=\"dataframe\">\n",
       "  <thead>\n",
       "    <tr style=\"text-align: right;\">\n",
       "      <th></th>\n",
       "      <th>query</th>\n",
       "      <th>top1_title</th>\n",
       "      <th>top1_sim</th>\n",
       "    </tr>\n",
       "  </thead>\n",
       "  <tbody>\n",
       "    <tr>\n",
       "      <th>2</th>\n",
       "      <td>project manager</td>\n",
       "      <td>program manager</td>\n",
       "      <td>0.648390</td>\n",
       "    </tr>\n",
       "    <tr>\n",
       "      <th>3</th>\n",
       "      <td>product manager</td>\n",
       "      <td>performance marketing manager</td>\n",
       "      <td>0.685709</td>\n",
       "    </tr>\n",
       "    <tr>\n",
       "      <th>5</th>\n",
       "      <td>computer vision scientist</td>\n",
       "      <td>computer scientist</td>\n",
       "      <td>0.735877</td>\n",
       "    </tr>\n",
       "    <tr>\n",
       "      <th>4</th>\n",
       "      <td>ml ops engineer</td>\n",
       "      <td>Machine Learning Engineer Data Scientist MLOps</td>\n",
       "      <td>0.761466</td>\n",
       "    </tr>\n",
       "    <tr>\n",
       "      <th>0</th>\n",
       "      <td>machine learning engineer</td>\n",
       "      <td>machine learning engineer</td>\n",
       "      <td>1.000000</td>\n",
       "    </tr>\n",
       "    <tr>\n",
       "      <th>1</th>\n",
       "      <td>data scientist</td>\n",
       "      <td>data scientist</td>\n",
       "      <td>1.000000</td>\n",
       "    </tr>\n",
       "  </tbody>\n",
       "</table>\n",
       "</div>"
      ],
      "text/plain": [
       "                       query                                      top1_title  top1_sim\n",
       "2            project manager                                 program manager  0.648390\n",
       "3            product manager                   performance marketing manager  0.685709\n",
       "5  computer vision scientist                              computer scientist  0.735877\n",
       "4            ml ops engineer  Machine Learning Engineer Data Scientist MLOps  0.761466\n",
       "0  machine learning engineer                       machine learning engineer  1.000000\n",
       "1             data scientist                                  data scientist  1.000000"
      ]
     },
     "execution_count": 40,
     "metadata": {},
     "output_type": "execute_result"
    }
   ],
   "source": [
    "pd.DataFrame(rows).sort_values(\"top1_sim\")"
   ]
  },
  {
   "cell_type": "markdown",
   "id": "63f5b3dd",
   "metadata": {},
   "source": [
    "----"
   ]
  },
  {
   "cell_type": "markdown",
   "id": "e7c7e01d",
   "metadata": {},
   "source": [
    "### 3. Step 2: fine retrieval using an LLM"
   ]
  },
  {
   "cell_type": "markdown",
   "id": "e40240a8",
   "metadata": {},
   "source": [
    "In this stage, a **Large Language Model (LLM)** acts as a **fine-grained ranker**, refining the broader SBERT results.  \n",
    "\n",
    "We begin by **building a supervised dataset**: for each query, candidate job titles are sampled across similarity bins, from unrelated to nearly identical, and paired with their **SBERT cosine scores**.  \n",
    "\n",
    "Next, the `Llama-3.2-3B-Instruct` model evaluates these pairs, producing **0–100 similarity scores** based on clear, rule-driven prompts. This allows the LLM to capture subtler relationships, such as **seniority, specialization, or functional differences**, that SBERT alone might overlook.  \n",
    "\n",
    "Finally, we **blend** the SBERT and LLM scores into a **weighted final label**, flag ambiguous examples for review, and export the resulting data into **train/validation/test JSONL files** for instruction fine-tuning. \n",
    "\n"
   ]
  },
  {
   "cell_type": "markdown",
   "id": "03ca3c93",
   "metadata": {},
   "source": [
    "#### 3.1 Build the **dataset** to instruct fine tune the LLM"
   ]
  },
  {
   "cell_type": "markdown",
   "id": "bfc74e03",
   "metadata": {},
   "source": [
    "#### 3.1.1 Baseline: Using SBERT + cosine similarity to build a well-balanced dataset"
   ]
  },
  {
   "cell_type": "markdown",
   "id": "af1f475d",
   "metadata": {},
   "source": [
    "In section **3.1.1**, before preparing the fine-tuning dataset, we select candidate job titles across a **broad range of similarity levels** to the query. This ensures the dataset is **well-balanced**, covering examples from **highly similar to completely unrelated** titles. Such a spread allows the model to learn nuanced distinctions across the full similarity spectrum, rather than being biased toward only close or distant matches.  "
   ]
  },
  {
   "cell_type": "code",
   "execution_count": 41,
   "id": "eac16597",
   "metadata": {},
   "outputs": [
    {
     "name": "stdout",
     "output_type": "stream",
     "text": [
      "Number of queries: 50\n"
     ]
    }
   ],
   "source": [
    "list_of_queries = [\"machine learning engineer\", \"data scientist\", \"back end developer\", \"front end developer\", \"full stack engineer\", \"software architect\", \"devops engineer\", \"site reliability engineer\", \"mobile application developer\", \"cloud solutions architect\", \"project manager\", \"product manager\", \"program manager\", \"bid manager\", \"business analyst\", \"scrum master\", \"agile coach\", \"chief executive officer\", \"chief technology officer\", \"operations manager\", \"financial analyst\", \"investment banker\", \"accountant junior\", \"accountant taxes senior\", \"auditor\", \"chief financial officer\", \"controller\", \"tax advisor\", \"payroll specialist\", \"budget analyst\", \"attorney\", \"paralegal\", \"legal consultant\", \"human resources manager\", \"recruiter\", \"talent acquisition specialist\", \"marketing specialist\", \"digital marketing manager\", \"sales representative\", \"business development manager\", \"data researcher\", \"nuclear physicist\", \"atomic physicist\", \"biomedical researcher\", \"chemist\", \"astronomer\", \"registered nurse\", \"physician assistant\", \"clinical psychologist\", \"medical laboratory technician\"]\n",
    "print(f'Number of queries: {len(list_of_queries)}')"
   ]
  },
  {
   "cell_type": "markdown",
   "id": "08bf7e6d",
   "metadata": {},
   "source": [
    "Now we will create a function to retrieve job candidates per querry following a balanced by bins considering the similarity score."
   ]
  },
  {
   "cell_type": "markdown",
   "id": "76ae66cb",
   "metadata": {},
   "source": [
    "The following function **`retrieve_balanced_by_bins`** computes cosine similarities between a query and all titles, then samples candidates **evenly across similarity ranges (bins)** to ensure a well-balanced dataset from unrelated to near-exact matches.\n",
    "\n",
    "**`sbert_cos_to_100`** rescales cosine scores from [0, 1] to [0, 100] for interpretability and consistency with LLM scoring.  \n",
    "**`build_skeleton_csv`** loops over all queries (50 in total), retrieves about **250 titles per query**, and writes a CSV containing SBERT-based similarities and empty LLM-score columns for later use.  \n",
    "\n",
    "The bin edges  \n",
    "`[0.0, 0.2, 0.4, 0.6, 0.75, 0.85, 0.92, 0.97, 1.0]`  \n",
    "define progressively tighter intervals as similarity increases, coarse at low similarity and fine near 1.0. ensuring the dataset captures subtle distinctions among highly similar titles while maintaining balanced coverage across the full 0–1 similarity range.\n"
   ]
  },
  {
   "cell_type": "code",
   "execution_count": 42,
   "id": "629c81ac",
   "metadata": {},
   "outputs": [],
   "source": [
    "def retrieve_balanced_by_bins(\n",
    "    query: str,\n",
    "    total: int = 250,\n",
    "    bin_edges: list[float] = [0.0, 0.2, 0.4, 0.6, 0.75, 0.85, 0.92, 0.97, 1.0],  # adjusted for a better balance\n",
    "    per_bin: list[int] | None = None,\n",
    "    min_per_bin: int = 10,\n",
    "    shuffle_within_bin: bool = True,\n",
    "    rng_seed: int = 23,\n",
    ") -> pd.DataFrame:\n",
    "    \"\"\"\n",
    "    Compute cosine sim for *all* titles, then sample roughly equal counts per bin.\n",
    "    Returns a DataFrame like retrieve_top_n but with a 'bin' column.\n",
    "    \"\"\"\n",
    "    q_text = normalize_text(query)\n",
    "    if not q_text:\n",
    "        return pd.DataFrame(columns=[\"rank\",\"similarity\",\"emb_ix\",\"id\",\"title\",\"title_norm\",\"bin\"])\n",
    "\n",
    "    q = sbert_model.encode([q_text], normalize_embeddings=True, convert_to_numpy=True).astype(np.float32)[0]\n",
    "    sims = emb @ q  # (N,)\n",
    "\n",
    "    # master table (descending rank for reference)\n",
    "    order_desc = np.argsort(sims)[::-1]\n",
    "    df_all = meta.loc[order_desc].copy()\n",
    "    df_all[\"similarity\"] = sims[order_desc]\n",
    "    df_all[\"rank_desc\"] = np.arange(1, len(df_all) + 1)\n",
    "\n",
    "    # bin assignment\n",
    "    bins = np.array(bin_edges, dtype=float)\n",
    "    labels = [f\"[{bins[i]:.2f},{bins[i+1]:.2f})\" if i+1 < len(bins)-1 else f\"[{bins[i]:.2f},{bins[i+1]:.2f}]\"\n",
    "              for i in range(len(bins)-1)]\n",
    "    bin_idx = np.digitize(df_all[\"similarity\"].to_numpy(), bins, right=False) - 1\n",
    "    df_all[\"bin\"] = pd.Categorical(\n",
    "        [labels[i] if 0 <= i < len(labels) else \"out\" for i in bin_idx], categories=labels, ordered=True)\n",
    "\n",
    "    # per-bin target counts\n",
    "    n_bins = len(labels)\n",
    "    if per_bin is None:\n",
    "        base = total // n_bins\n",
    "        per_bin = [max(min_per_bin, base)] * n_bins\n",
    "        # new feature:\n",
    "        # bonus for high bins (last 3 bins get +5 each)\n",
    "        for j in range(-3, 0):\n",
    "            per_bin[j] += 5\n",
    "        # distribute remainder if any\n",
    "        while sum(per_bin) > total:\n",
    "            per_bin[0] -= 1  # trim from lowest bin\n",
    "    else:\n",
    "        assert len(per_bin) == n_bins, \"per_bin must match number of bins\"\n",
    "        assert sum(per_bin) == total, \"sum(per_bin) must equal total\"\n",
    "\n",
    "    rng = np.random.default_rng(rng_seed)\n",
    "    pieces = []\n",
    "    for lbl, k in zip(labels, per_bin):\n",
    "        bin_df = df_all[df_all[\"bin\"] == lbl]\n",
    "        if len(bin_df) == 0:\n",
    "            continue\n",
    "        if shuffle_within_bin:\n",
    "            bin_df = bin_df.sample(frac=1.0, random_state=rng.integers(0, 1_000_000))\n",
    "        pieces.append(bin_df.head(min(k, len(bin_df))))\n",
    "        \n",
    "     # if we came up short (some bins were sparse), fill from nearest bins by descending rank\n",
    "    balanced = pd.concat(pieces, ignore_index=True) if pieces else df_all.head(0)\n",
    "    short = total - len(balanced)\n",
    "    if short > 0:\n",
    "        # exclude already picked. Fill by descending rank to ensure completion\n",
    "        remaining = df_all.loc[~df_all.index.isin(balanced.index)]\n",
    "        fill = remaining.head(short)\n",
    "        balanced = pd.concat([balanced, fill], ignore_index=True)\n",
    "\n",
    "    # sort for pretty output: by bin then by similarity desc    \n",
    "    balanced = balanced.sort_values([\"bin\", \"similarity\"], ascending=[True, False]).reset_index(drop=True)\n",
    "    # normalize to the output schema: add a 1..M rank column (not \"top\" rank, just display rank inside this set)\n",
    "    balanced.insert(0, \"rank\", np.arange(1, len(balanced) + 1))\n",
    "    # keep standard columns expected by your CSV builder\n",
    "    cols = [\"rank\", \"emb_ix\", \"id\", \"title\", \"title_norm\", \"similarity\", \"rank_desc\", \"bin\"]\n",
    "    \n",
    "    return balanced[cols]"
   ]
  },
  {
   "cell_type": "code",
   "execution_count": 43,
   "id": "daf9a8bf",
   "metadata": {},
   "outputs": [],
   "source": [
    "def sbert_cos_to_100(sim: float) -> int:\n",
    "    \"\"\"Map cosine similarity (0–1) to a 0–100 scale.\"\"\"\n",
    "    sim = float(np.clip(sim, 0.0, 1.0))\n",
    "    return int(round(100 * sim))\n",
    "\n",
    "def build_skeleton_csv(\n",
    "    queries: list[str],\n",
    "    N: int = 250,\n",
    "    out_csv: str = os.path.join(DATA_DIR, \"pairwise_llm_dataset_skeleton.csv\")\n",
    ") -> pd.DataFrame:\n",
    "    \"\"\"\n",
    "    For each query:\n",
    "      - retrieve_balanced_by_bins(query, total=N) -> balanced candidates\n",
    "      - produce rows with SBERT cosine mapped to 0–100\n",
    "      - leave LLM score columns empty (you will fill them later)\n",
    "    \"\"\"\n",
    "    rows = []\n",
    "    for q in queries:\n",
    "        q_norm = normalize_text(q)\n",
    "        cand = retrieve_balanced_by_bins(q_norm, total=N)  # balanced sampling\n",
    "        for _, r in cand.iterrows():\n",
    "            rows.append({\n",
    "                \"query\": q,\n",
    "                \"query_norm\": q_norm,\n",
    "                \"id\": r[\"id\"],\n",
    "                \"emb_ix\": int(r[\"emb_ix\"]),\n",
    "                \"title\": r[\"title\"],\n",
    "                \"title_norm\": r.get(\"title_norm\", r[\"title\"]),\n",
    "                \"emb_rank\": int(r[\"rank\"]),                   # rank inside balanced sample\n",
    "                \"emb_rank_desc\": int(r[\"rank_desc\"]),         # global descending rank\n",
    "                \"bin\": r[\"bin\"],                              # bin label for traceability\n",
    "                \"emb_score\": float(r[\"similarity\"]),          # cosine (0–1)\n",
    "                \"emb_score_100\": sbert_cos_to_100(r[\"similarity\"]),\n",
    "                # LLM scores (fill later)\n",
    "                \"llm_score_v1\": np.nan,\n",
    "                \"llm_score_v2\": np.nan,\n",
    "                \"llm_score_v3\": np.nan,\n",
    "                # Aggregates (compute later)\n",
    "                \"llm_score_median\": np.nan,\n",
    "                \"llm_score_iqr\": np.nan,\n",
    "                \"final_weighted\": np.nan,\n",
    "                \"needs_review\": np.nan,\n",
    "                \"notes\": \"\"\n",
    "            })\n",
    "    df_csv = pd.DataFrame(rows)\n",
    "    df_csv.to_csv(out_csv, index=False)\n",
    "    print(f\"Skeleton saved: {out_csv} | rows: {len(df_csv)}\")\n",
    "    return df_csv\n"
   ]
  },
  {
   "cell_type": "code",
   "execution_count": 44,
   "id": "e0ef0ba6",
   "metadata": {},
   "outputs": [
    {
     "name": "stdout",
     "output_type": "stream",
     "text": [
      "Skeleton saved: data\\pairwise_llm_dataset_skeleton.csv | rows: 12500\n"
     ]
    }
   ],
   "source": [
    "# prepare the csv first version\n",
    "df_ft_ds = build_skeleton_csv(\n",
    "    list_of_queries,\n",
    "    N=250) "
   ]
  },
  {
   "cell_type": "code",
   "execution_count": 45,
   "id": "1ed0a775",
   "metadata": {},
   "outputs": [
    {
     "data": {
      "image/png": "[encoded data removed]",
      "text/plain": [
       "<Figure size 700x500 with 1 Axes>"
      ]
     },
     "metadata": {},
     "output_type": "display_data"
    }
   ],
   "source": [
    "# plot the embedding scores histogram \n",
    "plt.figure(figsize=(7,5))\n",
    "df_ft_ds[\"emb_score_100\"].hist(bins=20, edgecolor=\"black\")\n",
    "plt.title(\"Distribution of SBERT Cosine Similarity (scaled 0–100)\")\n",
    "plt.xlabel(\"SBERT Similarity (0–100)\")\n",
    "plt.ylabel(\"Count\")\n",
    "plt.grid(axis=\"y\", alpha=0.3)\n",
    "plt.show()\n"
   ]
  },
  {
   "cell_type": "markdown",
   "id": "93076f17",
   "metadata": {},
   "source": [
    "The histogram shows that most SBERT cosine similarities fall between 20 and 60, forming a roughly bell-shaped distribution. This happens because truly identical or completely unrelated job titles are rare, while moderately related titles are far more common. Although we aimed for balanced sampling across similarity bins, the highest and lowest ranges often lacked enough candidates, causing the algorithm to backfill from mid-similarity bins, where most examples naturally occur. As a result, the central bins reach their target counts more consistently, producing this mid-heavy distribution."
   ]
  },
  {
   "cell_type": "markdown",
   "id": "d6405062",
   "metadata": {},
   "source": [
    "#### 3.1.2 LLM scoring prompt: refining the instruction for better consistency"
   ]
  },
  {
   "cell_type": "code",
   "execution_count": 46,
   "id": "9e26d647",
   "metadata": {},
   "outputs": [],
   "source": [
    "from transformers import AutoTokenizer, AutoModelForCausalLM"
   ]
  },
  {
   "cell_type": "code",
   "execution_count": 47,
   "id": "d9551ef8",
   "metadata": {},
   "outputs": [],
   "source": [
    "# load once\n",
    "MODEL_ID = \"meta-llama/Llama-3.2-3B-Instruct\"\n",
    "tok = AutoTokenizer.from_pretrained(MODEL_ID, token=os.getenv(\"HF_TOKEN\"), use_fast=True)\n",
    "\n",
    "if tok.pad_token_id is None:\n",
    "    tok.pad_token = tok.eos_token\n",
    "\n",
    "tok.padding_side = \"left\"  # decoder-only models should left-pad at inference"
   ]
  },
  {
   "cell_type": "code",
   "execution_count": 48,
   "id": "490c1528",
   "metadata": {},
   "outputs": [
    {
     "data": {
      "application/vnd.jupyter.widget-view+json": {
       "model_id": "8f60e090b0714cedbb320c66e6cf3a15",
       "version_major": 2,
       "version_minor": 0
      },
      "text/plain": [
       "Loading checkpoint shards:   0%|          | 0/2 [00:00<?, ?it/s]"
      ]
     },
     "metadata": {},
     "output_type": "display_data"
    }
   ],
   "source": [
    "mdl = AutoModelForCausalLM.from_pretrained(\n",
    "    MODEL_ID,\n",
    "    dtype=torch.bfloat16 if torch.cuda.is_available() else torch.float32,\n",
    "    device_map=\"auto\",\n",
    "    token=os.getenv(\"HF_TOKEN\"),\n",
    ").eval()\n",
    "if tok.pad_token_id is None:\n",
    "    tok.pad_token = tok.eos_token\n"
   ]
  },
  {
   "cell_type": "code",
   "execution_count": null,
   "id": "1e14070e",
   "metadata": {},
   "outputs": [],
   "source": [
    "# Prompt v1: same prompt builder used in the previous project part 4\n",
    "def build_prompt_v1(query: str, title: str) -> str:\n",
    "    \"\"\"\n",
    "    Chat-style prompt for scoring a single (query, title) pair with LLaMA.\n",
    "    Returns a string ready to tokenize and pass into generate().\n",
    "    \"\"\"\n",
    "    instr = (\n",
    "        \"You are a recruiter scoring job-title similarity to the query.\\n\"\n",
    "        \"Return EXACTLY one integer 0–100.\\n\"\n",
    "        \"Scale:\\n\"\n",
    "        \" • 90–100 = exact/near-exact\\n\"\n",
    "        \" • 70–89  = very similar\\n\"\n",
    "        \" • 40–69  = related/adjacent\\n\"\n",
    "        \" • 10–39  = mostly unrelated\\n\"\n",
    "        \" • 0–9    = unrelated\\n\"\n",
    "        \"Return the integer ONLY (no words, no punctuation, no decimals).\"\n",
    "    )\n",
    "    user = f'Query: \"{query}\"\\nCandidate:\\n{title}'\n",
    "    messages = [\n",
    "        {\"role\": \"system\", \"content\": instr},\n",
    "        {\"role\": \"user\",   \"content\": user},\n",
    "    ]\n",
    "    try:\n",
    "        return tok.apply_chat_template(messages, tokenize=False, add_generation_prompt=True)\n",
    "    except Exception:\n",
    "        # fallback: raw concatenation if chat template fails\n",
    "        return instr + \"\\n\\n\" + user\n",
    "\n",
    "\n",
    "def parse_one_int(text: str):\n",
    "    m = re.findall(r\"-?\\d+\", text)\n",
    "    # re.findall(...) searches the entire text and returns all non-overlapping matches as a list of strings.\n",
    "    # The pattern r\"-?\\d+\" means: -? -> optional minus sign (so it matches both positive and negative numbers)\n",
    "    # \\d+ -> one or more digits\n",
    "    return None if not m else max(0, min(100, int(m[-1])))\n",
    "\n",
    "\n",
    "def score_one_pair(query: str, title: str, build_prompt_fn=build_prompt_v1, max_new_tokens: int = 6) -> int:\n",
    "    \"\"\"\n",
    "    Score a (query, title) pair with LLaMA using the given prompt builder.\n",
    "    \n",
    "    Args:\n",
    "        query (str): input query string\n",
    "        title (str): candidate job title\n",
    "        build_prompt_fn (callable): function (query, title) -> str, builds the prompt\n",
    "        max_new_tokens (int): generation length, defaults to 6\n",
    "    Returns:\n",
    "        int: similarity score 0–100\n",
    "    \"\"\"\n",
    "    \n",
    "    prompt = build_prompt_fn(query, title)\n",
    "    inputs = tok(prompt, return_tensors=\"pt\").to(mdl.device)\n",
    "    with torch.no_grad():\n",
    "        out_ids = mdl.generate(\n",
    "            **inputs,\n",
    "            do_sample=False,\n",
    "            num_beams=1,\n",
    "            max_new_tokens=max_new_tokens,\n",
    "            pad_token_id=tok.eos_token_id,\n",
    "            use_cache=True,\n",
    "        )\n",
    "    out_txt = tok.decode(out_ids[0][inputs[\"input_ids\"].shape[1]:], skip_special_tokens=True)\n",
    "    return parse_one_int(out_txt)\n"
   ]
  },
  {
   "cell_type": "code",
   "execution_count": 50,
   "id": "332929e7",
   "metadata": {},
   "outputs": [
    {
     "name": "stderr",
     "output_type": "stream",
     "text": [
      "The following generation flags are not valid and may be ignored: ['temperature', 'top_p']. Set `TRANSFORMERS_VERBOSITY=info` for more details.\n"
     ]
    },
    {
     "name": "stdout",
     "output_type": "stream",
     "text": [
      "Score: 70\n"
     ]
    }
   ],
   "source": [
    "score = score_one_pair(\"machine learning engineer\", \"data scientist\", build_prompt_fn=build_prompt_v1, max_new_tokens=12)\n",
    "print(\"Score:\", score)\n"
   ]
  },
  {
   "cell_type": "markdown",
   "id": "e12d74dc",
   "metadata": {},
   "source": [
    "#### 3.1.3 LLM scoring prompt v2: minimal changes, zero-shot with penalties and stricter output rule"
   ]
  },
  {
   "cell_type": "code",
   "execution_count": 51,
   "id": "61317a22",
   "metadata": {},
   "outputs": [],
   "source": [
    "def build_prompt_v2(query: str, title: str) -> str:\n",
    "    \"\"\"\n",
    "    Zero-shot like v1, but with explicit penalty rules and a stricter output constraint.\n",
    "    \"\"\"\n",
    "    instr = (\n",
    "        \"You are a recruiter scoring job-title similarity to the query.\\n\"\n",
    "        \"Return EXACTLY one integer 0–100. DIGITS ONLY on the first line.\\n\"\n",
    "        \"Scale:\\n\"\n",
    "        \" • 90–100 = exact/near-exact\\n\"\n",
    "        \" • 70–89  = very similar\\n\"\n",
    "        \" • 40–69  = related/adjacent\\n\"\n",
    "        \" • 10–39  = mostly unrelated\\n\"\n",
    "        \" • 0–9    = unrelated\\n\"\n",
    "        \"Penalties (apply additively when relevant):\\n\"\n",
    "        \" • Seniority mismatch (intern/junior vs lead/principal): −10 to −25\\n\"\n",
    "        \" • Function mismatch (product vs project vs program manager, etc.): −20 to −35\\n\"\n",
    "        \" • Domain mismatch (CV vs NLP vs generic DS, etc.): −10 to −20\\n\"\n",
    "        \"Output ONLY the integer (no words, no punctuation, no decimals).\"\n",
    "    )\n",
    "    user = f'Query: \"{query}\"\\nCandidate:\\n{title}'\n",
    "    messages = [\n",
    "        {\"role\": \"system\", \"content\": instr},\n",
    "        {\"role\": \"user\",   \"content\": user},\n",
    "    ]\n",
    "    try:\n",
    "        return tok.apply_chat_template(messages, tokenize=False, add_generation_prompt=True)\n",
    "    except Exception:\n",
    "        return instr + \"\\n\\n\" + user\n",
    "\n",
    "\n"
   ]
  },
  {
   "cell_type": "code",
   "execution_count": 52,
   "id": "0816a3a0",
   "metadata": {},
   "outputs": [
    {
     "name": "stdout",
     "output_type": "stream",
     "text": [
      "Score: 60\n"
     ]
    }
   ],
   "source": [
    "score = score_one_pair(\"machine learning engineer\", \"data scientist\", build_prompt_fn=build_prompt_v2, max_new_tokens=12)\n",
    "print(\"Score:\", score)"
   ]
  },
  {
   "cell_type": "markdown",
   "id": "84894104",
   "metadata": {},
   "source": [
    "#### 3.1.4 Compare the three score dinamycs (SBERT + cosine, LLM v1 and v2)"
   ]
  },
  {
   "cell_type": "code",
   "execution_count": 53,
   "id": "d3ce4ab5",
   "metadata": {},
   "outputs": [
    {
     "name": "stdout",
     "output_type": "stream",
     "text": [
      "                                                                                                                                              title  emb_score_100  llm_v1  llm_v2\n",
      "                                                                              research analyst in cancer biology spatial transcriptomics multiomics             20      39      60\n",
      "                                                             Researcher PHD Student University of Southeastern Philippines Healthcare Data Analysis             20      10      60\n",
      "                                                                                  data analyst united health group data ethics statistical analysis             17      40      60\n",
      "                                                          astrophysics researcher stars stellar dynamics black holes and gravitational waves at unc             17      10      60\n",
      "                                                                                                                                 ds majoruw madison             17      10      60\n",
      "master student of measurement and statistics university of washington utilizing statistical and psychometric methods to promote equity in education             16      30      60\n",
      "                                                                                                                scientist 2 at raybow pharmascience             15      40      60\n",
      "                                                                           researcher we trilogy physics honor society mathematics and physics umbc             15      40      60\n",
      "                                                             actively seeking full-time immediately student at the university of texas at arlington             13      10      60\n",
      "                                                                                                                                 ingeniero elctrico             13      39      30\n",
      "\n",
      "Stats:\n",
      "       emb_score_100  llm_v1  llm_v2\n",
      "count          15.00   15.00   15.00\n",
      "mean           14.47   24.40   50.00\n",
      "std             3.36   15.71   14.64\n",
      "min            10.00    0.00   30.00\n",
      "25%            11.50   10.00   30.00\n",
      "50%            15.00   30.00   60.00\n",
      "75%            17.00   39.00   60.00\n",
      "max            20.00   40.00   60.00\n",
      "\n",
      "Correlations:\n",
      "                emb_score_100  llm_v1  llm_v2\n",
      "emb_score_100           1.00    0.12    0.67\n",
      "llm_v1                  0.12    1.00    0.22\n",
      "llm_v2                  0.67    0.22    1.00\n"
     ]
    },
    {
     "data": {
      "image/png": "[encoded data removed]",
      "text/plain": [
       "<Figure size 700x500 with 1 Axes>"
      ]
     },
     "metadata": {},
     "output_type": "display_data"
    }
   ],
   "source": [
    "# pick one querry\n",
    "Q = \"machine learning engineer\"\n",
    "sample = df_ft_ds[df_ft_ds[\"query\"] == Q].head(15).copy()  # adjust N if you want\n",
    "\n",
    "def score_batch(query: str, titles: list[str], build_prompt_fn, max_new_tokens=12) -> list[int]:\n",
    "    scores = []\n",
    "    for t in titles:\n",
    "        s = score_one_pair(query, t, build_prompt_fn=build_prompt_fn, max_new_tokens=max_new_tokens)\n",
    "        scores.append(int(s))\n",
    "    return scores\n",
    "\n",
    "titles = sample[\"title\"].tolist()\n",
    "sample[\"llm_v1\"] = score_batch(Q, titles, build_prompt_fn=build_prompt_v1, max_new_tokens=12)\n",
    "sample[\"llm_v2\"] = score_batch(Q, titles, build_prompt_fn=build_prompt_v2, max_new_tokens=12)\n",
    "\n",
    "# quick view\n",
    "print(sample[[\"title\", \"emb_score_100\", \"llm_v1\", \"llm_v2\"]].head(10).to_string(index=False))\n",
    "\n",
    "# simple stats\n",
    "print(\"\\nStats:\")\n",
    "print(sample[[\"emb_score_100\",\"llm_v1\",\"llm_v2\"]].describe().round(2))\n",
    "\n",
    "# correlation with SBERT (just to sanity-check consistency, not a target)\n",
    "corr = sample[[\"emb_score_100\",\"llm_v1\",\"llm_v2\"]].corr().round(2)\n",
    "print(\"\\nCorrelations:\\n\", corr)\n",
    "\n",
    "# hist overlay\n",
    "plt.figure(figsize=(7,5))\n",
    "sample[\"llm_v1\"].plot(kind=\"hist\", bins=20, alpha=0.5, label=\"LLM v1\")\n",
    "sample[\"llm_v2\"].plot(kind=\"hist\", bins=20, alpha=0.5, label=\"LLM v2\")\n",
    "plt.title(f\"LLM Score Distribution (v1 vs v2) — {Q}\")\n",
    "plt.xlabel(\"Score (0–100)\")\n",
    "plt.ylabel(\"Count\")\n",
    "plt.legend()\n",
    "plt.grid(axis=\"y\", alpha=0.3)\n",
    "plt.show()\n"
   ]
  },
  {
   "cell_type": "markdown",
   "id": "b248116b",
   "metadata": {},
   "source": [
    "The results show the two prompts behave differently and complement each other (low correlation). For “machine learning engineer”, v1 produces a wider, lower-skewed spread (many scores in the 10–40 band), while v2 is more conservative and bimodal (clear modes near 30 and 60). In the small sample, SBERT’s cosine (scaled 0–100) correlates much more with v2 (≈0.67) than with v1 (≈0.12), and v1–v2 agreement is modest (≈0.22). \n",
    "\n",
    "**Net**: v1 adds discriminative variability, v2 anchors scores closer to the SBERT signal, and using both gives a more robust final ranking than either alone."
   ]
  },
  {
   "cell_type": "markdown",
   "id": "355c2965",
   "metadata": {},
   "source": [
    "#### 3.1.5 Fill the .csv file with the LLM score using the two prompts (v1 and v2)"
   ]
  },
  {
   "cell_type": "code",
   "execution_count": 54,
   "id": "b951c363",
   "metadata": {},
   "outputs": [],
   "source": [
    "from tqdm import tqdm"
   ]
  },
  {
   "cell_type": "code",
   "execution_count": 55,
   "id": "c9932e4e",
   "metadata": {},
   "outputs": [],
   "source": [
    "def score_rows_for_query_v1(df: pd.DataFrame, query: str, max_new_tokens: int = 12) -> pd.DataFrame:\n",
    "    \"\"\"\n",
    "    Fill llm_score_v1 for all rows with this query.\n",
    "    \"\"\"\n",
    "    m = (df[\"query\"] == query) & (df[\"llm_score_v1\"].isna())\n",
    "    if not m.any():\n",
    "        print(f\"[v1] Nothing to do for query: {query}\")\n",
    "        return df\n",
    "\n",
    "    rows = df.loc[m].copy()\n",
    "    scores = []\n",
    "    for title in tqdm(rows[\"title\"].tolist(), desc=f\"LLM v1 — {query}\"):\n",
    "        s = score_one_pair(query, title, build_prompt_fn=build_prompt_v1, max_new_tokens=max_new_tokens)\n",
    "        scores.append(int(s))\n",
    "    df.loc[m, \"llm_score_v1\"] = scores\n",
    "    return df\n",
    "\n",
    "\n",
    "def score_rows_for_query_v2(df: pd.DataFrame, query: str, max_new_tokens: int = 12) -> pd.DataFrame:\n",
    "    \"\"\"\n",
    "    Fill llm_score_v2 for all rows with this query.\n",
    "    \"\"\"\n",
    "    m = (df[\"query\"] == query) & (df[\"llm_score_v2\"].isna())\n",
    "    if not m.any():\n",
    "        print(f\"[v2] Nothing to do for query: {query}\")\n",
    "        return df\n",
    "\n",
    "    rows = df.loc[m].copy()\n",
    "    scores = []\n",
    "    for title in tqdm(rows[\"title\"].tolist(), desc=f\"LLM v2 — {query}\"):\n",
    "        s = score_one_pair(query, title, build_prompt_fn=build_prompt_v2, max_new_tokens=max_new_tokens)\n",
    "        scores.append(int(s))\n",
    "    df.loc[m, \"llm_score_v2\"] = scores\n",
    "    return df"
   ]
  },
  {
   "cell_type": "code",
   "execution_count": 56,
   "id": "041fcf99",
   "metadata": {},
   "outputs": [],
   "source": [
    "def fill_llm_scores(csv_path: str, queries: list[str], which: str = \"both\", save_after_each: bool = True):\n",
    "    \"\"\"\n",
    "    Load CSV, fill llm_score_v1/v2 for the given queries (skips already-scored rows), and save.\n",
    "    which: \"v1\" | \"v2\" | \"both\"\n",
    "    \"\"\"\n",
    "    df = pd.read_csv(csv_path)\n",
    "\n",
    "    for q in queries:\n",
    "        if which in (\"v1\", \"both\"):\n",
    "            df = score_rows_for_query_v1(df, q)\n",
    "        if which in (\"v2\", \"both\"):\n",
    "            df = score_rows_for_query_v2(df, q)\n",
    "\n",
    "        if save_after_each:\n",
    "            df.to_csv(csv_path, index=False)\n",
    "            print(f\"Saved after query: {q}\")\n",
    "\n",
    "    if not save_after_each:\n",
    "        df.to_csv(csv_path, index=False)\n",
    "        print(\"Saved all updates.\")\n",
    "\n",
    "    return df\n"
   ]
  },
  {
   "cell_type": "markdown",
   "id": "16713a5d",
   "metadata": {},
   "source": [
    "Add LLM scores to a small subset first to sanity-check prompts and runtime.\n",
    "The call below loads the skeleton CSV, fills both llm_score_v1 and llm_score_v2 for the two starter queries (skipping rows that already have scores), saves updates after each query, and returns the updated dataframe."
   ]
  },
  {
   "cell_type": "code",
   "execution_count": 57,
   "id": "3d55caad",
   "metadata": {},
   "outputs": [
    {
     "name": "stderr",
     "output_type": "stream",
     "text": [
      "LLM v1 — machine learning engineer: 100%|██████████| 250/250 [01:29<00:00,  2.79it/s]\n",
      "LLM v2 — machine learning engineer: 100%|██████████| 250/250 [01:47<00:00,  2.33it/s]\n"
     ]
    },
    {
     "name": "stdout",
     "output_type": "stream",
     "text": [
      "Saved after query: machine learning engineer\n"
     ]
    },
    {
     "name": "stderr",
     "output_type": "stream",
     "text": [
      "LLM v1 — data scientist: 100%|██████████| 250/250 [01:29<00:00,  2.79it/s]\n",
      "LLM v2 — data scientist: 100%|██████████| 250/250 [01:47<00:00,  2.32it/s]"
     ]
    },
    {
     "name": "stdout",
     "output_type": "stream",
     "text": [
      "Saved after query: data scientist\n"
     ]
    },
    {
     "name": "stderr",
     "output_type": "stream",
     "text": [
      "\n"
     ]
    }
   ],
   "source": [
    "csv_path = os.path.join(DATA_DIR, \"pairwise_llm_dataset_skeleton.csv\")\n",
    "subset = [\"machine learning engineer\", \"data scientist\"]  # start small\n",
    "df_ft_ds = fill_llm_scores(csv_path, subset, which=\"both\")"
   ]
  },
  {
   "cell_type": "code",
   "execution_count": 77,
   "id": "f033d867",
   "metadata": {},
   "outputs": [
    {
     "data": {
      "image/png": "[encoded data removed]",
      "text/plain": [
       "<Figure size 1600x400 with 3 Axes>"
      ]
     },
     "metadata": {},
     "output_type": "display_data"
    }
   ],
   "source": [
    "# Masks & series\n",
    "mask = df_ft_ds[\"query\"].isin([\"machine learning engineer\", \"data scientist\"])\n",
    "sbert_scores = pd.to_numeric(df_ft_ds.loc[mask, \"emb_score_100\"], errors=\"coerce\").dropna()\n",
    "v1_scores    = pd.to_numeric(df_ft_ds[\"llm_score_v1\"], errors=\"coerce\").dropna().astype(int)\n",
    "v2_scores    = pd.to_numeric(df_ft_ds[\"llm_score_v2\"], errors=\"coerce\").dropna().astype(int)\n",
    "\n",
    "# Common bins\n",
    "bins_sbert = np.arange(0, 101, 5)\n",
    "bins_llm   = 20  # or use np.arange(0, 101, 5) for same binning across all\n",
    "\n",
    "fig, axes = plt.subplots(1, 3, figsize=(16, 4), constrained_layout=True)\n",
    "\n",
    "# SBERT\n",
    "axes[0].hist(sbert_scores, bins=bins_sbert, edgecolor=\"black\")\n",
    "axes[0].set_title(\"SBERT Score Distribution (0–100)\")\n",
    "axes[0].set_xlabel(\"SBERT score\")\n",
    "axes[0].set_ylabel(\"Count\")\n",
    "axes[0].grid(axis=\"y\", alpha=0.3)\n",
    "\n",
    "# LLM v1\n",
    "axes[1].hist(v1_scores, bins=bins_llm, edgecolor=\"black\")\n",
    "axes[1].set_title(\"LLM Score v1 Distribution (0–100)\")\n",
    "axes[1].set_xlabel(\"LLM v1 score\")\n",
    "axes[1].set_ylabel(\"Count\")\n",
    "axes[1].grid(axis=\"y\", alpha=0.3)\n",
    "\n",
    "# LLM v2\n",
    "axes[2].hist(v2_scores, bins=bins_llm, edgecolor=\"black\")\n",
    "axes[2].set_title(\"LLM Score v2 Distribution (0–100)\")\n",
    "axes[2].set_xlabel(\"LLM v2 score\")\n",
    "axes[2].set_ylabel(\"Count\")\n",
    "axes[2].grid(axis=\"y\", alpha=0.3)\n",
    "\n",
    "plt.show()\n"
   ]
  },
  {
   "cell_type": "markdown",
   "id": "19881fec",
   "metadata": {},
   "source": [
    "Interpretation\n",
    "- v1 is more discriminative (spreads scores, uses the scale better).\n",
    "- v2 is more conservative (tends to stay in a narrower band, avoids extremes).\n",
    "Correlation earlier (0.42 between v1 and v2) shows they’re not redundant, they each bring something different."
   ]
  },
  {
   "cell_type": "markdown",
   "id": "01a1cfab",
   "metadata": {},
   "source": [
    "Fill llm_score_v1 and llm_score_v2 across the CSV"
   ]
  },
  {
   "cell_type": "code",
   "execution_count": 119,
   "id": "88a9b003",
   "metadata": {},
   "outputs": [
    {
     "name": "stderr",
     "output_type": "stream",
     "text": [
      "LLM v1 — back end developer: 100%|██████████| 250/250 [01:31<00:00,  2.74it/s]\n",
      "LLM v2 — back end developer: 100%|██████████| 250/250 [01:48<00:00,  2.30it/s]\n"
     ]
    },
    {
     "name": "stdout",
     "output_type": "stream",
     "text": [
      "Saved after query: back end developer\n"
     ]
    },
    {
     "name": "stderr",
     "output_type": "stream",
     "text": [
      "LLM v1 — front end developer: 100%|██████████| 250/250 [01:31<00:00,  2.75it/s]\n",
      "LLM v2 — front end developer: 100%|██████████| 250/250 [01:50<00:00,  2.27it/s]\n"
     ]
    },
    {
     "name": "stdout",
     "output_type": "stream",
     "text": [
      "Saved after query: front end developer\n"
     ]
    },
    {
     "name": "stderr",
     "output_type": "stream",
     "text": [
      "LLM v1 — full stack engineer: 100%|██████████| 250/250 [01:32<00:00,  2.71it/s]\n",
      "LLM v2 — full stack engineer: 100%|██████████| 250/250 [01:50<00:00,  2.26it/s]\n"
     ]
    },
    {
     "name": "stdout",
     "output_type": "stream",
     "text": [
      "Saved after query: full stack engineer\n"
     ]
    },
    {
     "name": "stderr",
     "output_type": "stream",
     "text": [
      "LLM v1 — software architect: 100%|██████████| 250/250 [01:35<00:00,  2.61it/s]\n",
      "LLM v2 — software architect: 100%|██████████| 250/250 [01:58<00:00,  2.11it/s]\n"
     ]
    },
    {
     "name": "stdout",
     "output_type": "stream",
     "text": [
      "Saved after query: software architect\n"
     ]
    },
    {
     "name": "stderr",
     "output_type": "stream",
     "text": [
      "LLM v1 — devops engineer: 100%|██████████| 250/250 [01:40<00:00,  2.48it/s]\n",
      "LLM v2 — devops engineer: 100%|██████████| 250/250 [01:58<00:00,  2.11it/s]\n"
     ]
    },
    {
     "name": "stdout",
     "output_type": "stream",
     "text": [
      "Saved after query: devops engineer\n"
     ]
    },
    {
     "name": "stderr",
     "output_type": "stream",
     "text": [
      "LLM v1 — site reliability engineer: 100%|██████████| 250/250 [01:42<00:00,  2.44it/s]\n",
      "LLM v2 — site reliability engineer: 100%|██████████| 250/250 [02:05<00:00,  1.99it/s]\n"
     ]
    },
    {
     "name": "stdout",
     "output_type": "stream",
     "text": [
      "Saved after query: site reliability engineer\n"
     ]
    },
    {
     "name": "stderr",
     "output_type": "stream",
     "text": [
      "LLM v1 — mobile application developer: 100%|██████████| 250/250 [01:43<00:00,  2.42it/s]\n",
      "LLM v2 — mobile application developer: 100%|██████████| 250/250 [02:09<00:00,  1.93it/s]\n"
     ]
    },
    {
     "name": "stdout",
     "output_type": "stream",
     "text": [
      "Saved after query: mobile application developer\n"
     ]
    },
    {
     "name": "stderr",
     "output_type": "stream",
     "text": [
      "LLM v1 — cloud solutions architect: 100%|██████████| 250/250 [01:46<00:00,  2.36it/s]\n",
      "LLM v2 — cloud solutions architect: 100%|██████████| 250/250 [02:05<00:00,  2.00it/s]\n"
     ]
    },
    {
     "name": "stdout",
     "output_type": "stream",
     "text": [
      "Saved after query: cloud solutions architect\n"
     ]
    },
    {
     "name": "stderr",
     "output_type": "stream",
     "text": [
      "LLM v1 — project manager: 100%|██████████| 250/250 [01:36<00:00,  2.58it/s]\n",
      "LLM v2 — project manager: 100%|██████████| 250/250 [01:53<00:00,  2.21it/s]\n"
     ]
    },
    {
     "name": "stdout",
     "output_type": "stream",
     "text": [
      "Saved after query: project manager\n"
     ]
    },
    {
     "name": "stderr",
     "output_type": "stream",
     "text": [
      "LLM v1 — product manager: 100%|██████████| 250/250 [01:36<00:00,  2.60it/s]\n",
      "LLM v2 — product manager: 100%|██████████| 250/250 [01:58<00:00,  2.12it/s]\n"
     ]
    },
    {
     "name": "stdout",
     "output_type": "stream",
     "text": [
      "Saved after query: product manager\n"
     ]
    },
    {
     "name": "stderr",
     "output_type": "stream",
     "text": [
      "LLM v1 — program manager: 100%|██████████| 250/250 [01:34<00:00,  2.66it/s]\n",
      "LLM v2 — program manager: 100%|██████████| 250/250 [01:52<00:00,  2.22it/s]\n"
     ]
    },
    {
     "name": "stdout",
     "output_type": "stream",
     "text": [
      "Saved after query: program manager\n"
     ]
    },
    {
     "name": "stderr",
     "output_type": "stream",
     "text": [
      "LLM v1 — bid manager: 100%|██████████| 250/250 [01:31<00:00,  2.72it/s]\n",
      "LLM v2 — bid manager: 100%|██████████| 250/250 [01:47<00:00,  2.32it/s]\n"
     ]
    },
    {
     "name": "stdout",
     "output_type": "stream",
     "text": [
      "Saved after query: bid manager\n"
     ]
    },
    {
     "name": "stderr",
     "output_type": "stream",
     "text": [
      "LLM v1 — business analyst: 100%|██████████| 250/250 [01:31<00:00,  2.74it/s]\n",
      "LLM v2 — business analyst: 100%|██████████| 250/250 [01:47<00:00,  2.32it/s]\n"
     ]
    },
    {
     "name": "stdout",
     "output_type": "stream",
     "text": [
      "Saved after query: business analyst\n"
     ]
    },
    {
     "name": "stderr",
     "output_type": "stream",
     "text": [
      "LLM v1 — scrum master: 100%|██████████| 250/250 [01:30<00:00,  2.76it/s]\n",
      "LLM v2 — scrum master: 100%|██████████| 250/250 [01:47<00:00,  2.32it/s]\n"
     ]
    },
    {
     "name": "stdout",
     "output_type": "stream",
     "text": [
      "Saved after query: scrum master\n"
     ]
    },
    {
     "name": "stderr",
     "output_type": "stream",
     "text": [
      "LLM v1 — agile coach: 100%|██████████| 250/250 [01:30<00:00,  2.76it/s]\n",
      "LLM v2 — agile coach: 100%|██████████| 250/250 [01:48<00:00,  2.31it/s]\n"
     ]
    },
    {
     "name": "stdout",
     "output_type": "stream",
     "text": [
      "Saved after query: agile coach\n"
     ]
    },
    {
     "name": "stderr",
     "output_type": "stream",
     "text": [
      "LLM v1 — chief executive officer: 100%|██████████| 250/250 [01:30<00:00,  2.75it/s]\n",
      "LLM v2 — chief executive officer: 100%|██████████| 250/250 [01:45<00:00,  2.38it/s]\n"
     ]
    },
    {
     "name": "stdout",
     "output_type": "stream",
     "text": [
      "Saved after query: chief executive officer\n"
     ]
    },
    {
     "name": "stderr",
     "output_type": "stream",
     "text": [
      "LLM v1 — chief technology officer: 100%|██████████| 250/250 [01:26<00:00,  2.90it/s]\n",
      "LLM v2 — chief technology officer: 100%|██████████| 250/250 [01:42<00:00,  2.44it/s]\n"
     ]
    },
    {
     "name": "stdout",
     "output_type": "stream",
     "text": [
      "Saved after query: chief technology officer\n"
     ]
    },
    {
     "name": "stderr",
     "output_type": "stream",
     "text": [
      "LLM v1 — operations manager: 100%|██████████| 250/250 [01:26<00:00,  2.90it/s]\n",
      "LLM v2 — operations manager: 100%|██████████| 250/250 [01:42<00:00,  2.43it/s]\n"
     ]
    },
    {
     "name": "stdout",
     "output_type": "stream",
     "text": [
      "Saved after query: operations manager\n"
     ]
    },
    {
     "name": "stderr",
     "output_type": "stream",
     "text": [
      "LLM v1 — financial analyst: 100%|██████████| 250/250 [01:26<00:00,  2.90it/s]\n",
      "LLM v2 — financial analyst: 100%|██████████| 250/250 [01:42<00:00,  2.44it/s]\n"
     ]
    },
    {
     "name": "stdout",
     "output_type": "stream",
     "text": [
      "Saved after query: financial analyst\n"
     ]
    },
    {
     "name": "stderr",
     "output_type": "stream",
     "text": [
      "LLM v1 — investment banker: 100%|██████████| 250/250 [01:26<00:00,  2.88it/s]\n",
      "LLM v2 — investment banker: 100%|██████████| 250/250 [01:42<00:00,  2.44it/s]\n"
     ]
    },
    {
     "name": "stdout",
     "output_type": "stream",
     "text": [
      "Saved after query: investment banker\n"
     ]
    },
    {
     "name": "stderr",
     "output_type": "stream",
     "text": [
      "LLM v1 — accountant junior: 100%|██████████| 250/250 [01:26<00:00,  2.90it/s]\n",
      "LLM v2 — accountant junior: 100%|██████████| 250/250 [01:44<00:00,  2.39it/s]\n"
     ]
    },
    {
     "name": "stdout",
     "output_type": "stream",
     "text": [
      "Saved after query: accountant junior\n"
     ]
    },
    {
     "name": "stderr",
     "output_type": "stream",
     "text": [
      "LLM v1 — accountant taxes senior: 100%|██████████| 250/250 [01:26<00:00,  2.89it/s]\n",
      "LLM v2 — accountant taxes senior: 100%|██████████| 250/250 [01:43<00:00,  2.42it/s]\n"
     ]
    },
    {
     "name": "stdout",
     "output_type": "stream",
     "text": [
      "Saved after query: accountant taxes senior\n"
     ]
    },
    {
     "name": "stderr",
     "output_type": "stream",
     "text": [
      "LLM v1 — auditor: 100%|██████████| 250/250 [01:26<00:00,  2.90it/s]\n",
      "LLM v2 — auditor: 100%|██████████| 250/250 [01:42<00:00,  2.44it/s]\n"
     ]
    },
    {
     "name": "stdout",
     "output_type": "stream",
     "text": [
      "Saved after query: auditor\n"
     ]
    },
    {
     "name": "stderr",
     "output_type": "stream",
     "text": [
      "LLM v1 — chief financial officer: 100%|██████████| 250/250 [01:26<00:00,  2.89it/s]\n",
      "LLM v2 — chief financial officer: 100%|██████████| 250/250 [01:42<00:00,  2.44it/s]\n"
     ]
    },
    {
     "name": "stdout",
     "output_type": "stream",
     "text": [
      "Saved after query: chief financial officer\n"
     ]
    },
    {
     "name": "stderr",
     "output_type": "stream",
     "text": [
      "LLM v1 — controller: 100%|██████████| 250/250 [01:26<00:00,  2.89it/s]\n",
      "LLM v2 — controller: 100%|██████████| 250/250 [01:42<00:00,  2.43it/s]\n"
     ]
    },
    {
     "name": "stdout",
     "output_type": "stream",
     "text": [
      "Saved after query: controller\n"
     ]
    },
    {
     "name": "stderr",
     "output_type": "stream",
     "text": [
      "LLM v1 — tax advisor: 100%|██████████| 250/250 [01:26<00:00,  2.89it/s]\n",
      "LLM v2 — tax advisor: 100%|██████████| 250/250 [01:42<00:00,  2.44it/s]\n"
     ]
    },
    {
     "name": "stdout",
     "output_type": "stream",
     "text": [
      "Saved after query: tax advisor\n"
     ]
    },
    {
     "name": "stderr",
     "output_type": "stream",
     "text": [
      "LLM v1 — payroll specialist: 100%|██████████| 250/250 [01:26<00:00,  2.89it/s]\n",
      "LLM v2 — payroll specialist: 100%|██████████| 250/250 [01:42<00:00,  2.44it/s]\n"
     ]
    },
    {
     "name": "stdout",
     "output_type": "stream",
     "text": [
      "Saved after query: payroll specialist\n"
     ]
    },
    {
     "name": "stderr",
     "output_type": "stream",
     "text": [
      "LLM v1 — budget analyst: 100%|██████████| 250/250 [01:26<00:00,  2.90it/s]\n",
      "LLM v2 — budget analyst: 100%|██████████| 250/250 [01:42<00:00,  2.43it/s]\n"
     ]
    },
    {
     "name": "stdout",
     "output_type": "stream",
     "text": [
      "Saved after query: budget analyst\n"
     ]
    },
    {
     "name": "stderr",
     "output_type": "stream",
     "text": [
      "LLM v1 — attorney: 100%|██████████| 250/250 [01:26<00:00,  2.90it/s]\n",
      "LLM v2 — attorney: 100%|██████████| 250/250 [01:42<00:00,  2.44it/s]\n"
     ]
    },
    {
     "name": "stdout",
     "output_type": "stream",
     "text": [
      "Saved after query: attorney\n"
     ]
    },
    {
     "name": "stderr",
     "output_type": "stream",
     "text": [
      "LLM v1 — paralegal: 100%|██████████| 250/250 [01:26<00:00,  2.88it/s]\n",
      "LLM v2 — paralegal: 100%|██████████| 250/250 [01:42<00:00,  2.44it/s]\n"
     ]
    },
    {
     "name": "stdout",
     "output_type": "stream",
     "text": [
      "Saved after query: paralegal\n"
     ]
    },
    {
     "name": "stderr",
     "output_type": "stream",
     "text": [
      "LLM v1 — legal consultant: 100%|██████████| 250/250 [01:26<00:00,  2.89it/s]\n",
      "LLM v2 — legal consultant: 100%|██████████| 250/250 [01:42<00:00,  2.44it/s]\n"
     ]
    },
    {
     "name": "stdout",
     "output_type": "stream",
     "text": [
      "Saved after query: legal consultant\n"
     ]
    },
    {
     "name": "stderr",
     "output_type": "stream",
     "text": [
      "LLM v1 — human resources manager: 100%|██████████| 250/250 [01:26<00:00,  2.89it/s]\n",
      "LLM v2 — human resources manager: 100%|██████████| 250/250 [01:42<00:00,  2.44it/s]\n"
     ]
    },
    {
     "name": "stdout",
     "output_type": "stream",
     "text": [
      "Saved after query: human resources manager\n"
     ]
    },
    {
     "name": "stderr",
     "output_type": "stream",
     "text": [
      "LLM v1 — recruiter: 100%|██████████| 250/250 [01:26<00:00,  2.90it/s]\n",
      "LLM v2 — recruiter: 100%|██████████| 250/250 [01:42<00:00,  2.43it/s]\n"
     ]
    },
    {
     "name": "stdout",
     "output_type": "stream",
     "text": [
      "Saved after query: recruiter\n"
     ]
    },
    {
     "name": "stderr",
     "output_type": "stream",
     "text": [
      "LLM v1 — talent acquisition specialist: 100%|██████████| 250/250 [01:32<00:00,  2.70it/s]\n",
      "LLM v2 — talent acquisition specialist: 100%|██████████| 250/250 [01:48<00:00,  2.31it/s]\n"
     ]
    },
    {
     "name": "stdout",
     "output_type": "stream",
     "text": [
      "Saved after query: talent acquisition specialist\n"
     ]
    },
    {
     "name": "stderr",
     "output_type": "stream",
     "text": [
      "LLM v1 — marketing specialist: 100%|██████████| 250/250 [01:31<00:00,  2.72it/s]\n",
      "LLM v2 — marketing specialist: 100%|██████████| 250/250 [01:49<00:00,  2.29it/s]\n"
     ]
    },
    {
     "name": "stdout",
     "output_type": "stream",
     "text": [
      "Saved after query: marketing specialist\n"
     ]
    },
    {
     "name": "stderr",
     "output_type": "stream",
     "text": [
      "LLM v1 — digital marketing manager: 100%|██████████| 250/250 [01:30<00:00,  2.75it/s]\n",
      "LLM v2 — digital marketing manager: 100%|██████████| 250/250 [01:48<00:00,  2.31it/s]\n"
     ]
    },
    {
     "name": "stdout",
     "output_type": "stream",
     "text": [
      "Saved after query: digital marketing manager\n"
     ]
    },
    {
     "name": "stderr",
     "output_type": "stream",
     "text": [
      "LLM v1 — sales representative: 100%|██████████| 250/250 [01:30<00:00,  2.76it/s]\n",
      "LLM v2 — sales representative: 100%|██████████| 250/250 [01:47<00:00,  2.32it/s]\n"
     ]
    },
    {
     "name": "stdout",
     "output_type": "stream",
     "text": [
      "Saved after query: sales representative\n"
     ]
    },
    {
     "name": "stderr",
     "output_type": "stream",
     "text": [
      "LLM v1 — business development manager: 100%|██████████| 250/250 [01:30<00:00,  2.76it/s]\n",
      "LLM v2 — business development manager: 100%|██████████| 250/250 [01:48<00:00,  2.31it/s]\n"
     ]
    },
    {
     "name": "stdout",
     "output_type": "stream",
     "text": [
      "Saved after query: business development manager\n"
     ]
    },
    {
     "name": "stderr",
     "output_type": "stream",
     "text": [
      "LLM v1 — data researcher: 100%|██████████| 250/250 [01:30<00:00,  2.76it/s]\n",
      "LLM v2 — data researcher: 100%|██████████| 250/250 [01:48<00:00,  2.31it/s]\n"
     ]
    },
    {
     "name": "stdout",
     "output_type": "stream",
     "text": [
      "Saved after query: data researcher\n"
     ]
    },
    {
     "name": "stderr",
     "output_type": "stream",
     "text": [
      "LLM v1 — nuclear physicist: 100%|██████████| 250/250 [01:30<00:00,  2.77it/s]\n",
      "LLM v2 — nuclear physicist: 100%|██████████| 250/250 [01:48<00:00,  2.31it/s]\n"
     ]
    },
    {
     "name": "stdout",
     "output_type": "stream",
     "text": [
      "Saved after query: nuclear physicist\n"
     ]
    },
    {
     "name": "stderr",
     "output_type": "stream",
     "text": [
      "LLM v1 — atomic physicist: 100%|██████████| 250/250 [01:31<00:00,  2.75it/s]\n",
      "LLM v2 — atomic physicist: 100%|██████████| 250/250 [01:48<00:00,  2.31it/s]\n"
     ]
    },
    {
     "name": "stdout",
     "output_type": "stream",
     "text": [
      "Saved after query: atomic physicist\n"
     ]
    },
    {
     "name": "stderr",
     "output_type": "stream",
     "text": [
      "LLM v1 — biomedical researcher: 100%|██████████| 250/250 [01:30<00:00,  2.75it/s]\n",
      "LLM v2 — biomedical researcher: 100%|██████████| 250/250 [01:50<00:00,  2.27it/s]\n"
     ]
    },
    {
     "name": "stdout",
     "output_type": "stream",
     "text": [
      "Saved after query: biomedical researcher\n"
     ]
    },
    {
     "name": "stderr",
     "output_type": "stream",
     "text": [
      "LLM v1 — chemist: 100%|██████████| 250/250 [01:33<00:00,  2.68it/s]\n",
      "LLM v2 — chemist: 100%|██████████| 250/250 [01:49<00:00,  2.28it/s]\n"
     ]
    },
    {
     "name": "stdout",
     "output_type": "stream",
     "text": [
      "Saved after query: chemist\n"
     ]
    },
    {
     "name": "stderr",
     "output_type": "stream",
     "text": [
      "LLM v1 — astronomer: 100%|██████████| 250/250 [01:31<00:00,  2.74it/s]\n",
      "LLM v2 — astronomer: 100%|██████████| 250/250 [01:49<00:00,  2.27it/s]\n"
     ]
    },
    {
     "name": "stdout",
     "output_type": "stream",
     "text": [
      "Saved after query: astronomer\n"
     ]
    },
    {
     "name": "stderr",
     "output_type": "stream",
     "text": [
      "LLM v1 — registered nurse: 100%|██████████| 250/250 [01:32<00:00,  2.70it/s]\n",
      "LLM v2 — registered nurse: 100%|██████████| 250/250 [01:48<00:00,  2.29it/s]\n"
     ]
    },
    {
     "name": "stdout",
     "output_type": "stream",
     "text": [
      "Saved after query: registered nurse\n"
     ]
    },
    {
     "name": "stderr",
     "output_type": "stream",
     "text": [
      "LLM v1 — physician assistant: 100%|██████████| 250/250 [01:31<00:00,  2.74it/s]\n",
      "LLM v2 — physician assistant: 100%|██████████| 250/250 [01:49<00:00,  2.29it/s]\n"
     ]
    },
    {
     "name": "stdout",
     "output_type": "stream",
     "text": [
      "Saved after query: physician assistant\n"
     ]
    },
    {
     "name": "stderr",
     "output_type": "stream",
     "text": [
      "LLM v1 — clinical psychologist: 100%|██████████| 250/250 [01:31<00:00,  2.74it/s]\n",
      "LLM v2 — clinical psychologist: 100%|██████████| 250/250 [01:48<00:00,  2.30it/s]\n"
     ]
    },
    {
     "name": "stdout",
     "output_type": "stream",
     "text": [
      "Saved after query: clinical psychologist\n"
     ]
    },
    {
     "name": "stderr",
     "output_type": "stream",
     "text": [
      "LLM v1 — medical laboratory technician: 100%|██████████| 250/250 [01:31<00:00,  2.75it/s]\n",
      "LLM v2 — medical laboratory technician: 100%|██████████| 250/250 [01:48<00:00,  2.30it/s]"
     ]
    },
    {
     "name": "stdout",
     "output_type": "stream",
     "text": [
      "Saved after query: medical laboratory technician\n"
     ]
    },
    {
     "name": "stderr",
     "output_type": "stream",
     "text": [
      "\n"
     ]
    }
   ],
   "source": [
    "# First, define the list of queries with no LLM scores\n",
    "subset = (\n",
    "    df_ft_ds.loc[df_ft_ds[\"llm_score_v1\"].isna() | df_ft_ds[\"llm_score_v2\"].isna(), \"query\"]\n",
    "    .dropna()\n",
    "    .unique()\n",
    "    .tolist()\n",
    ")\n",
    "\n",
    "# fill both scores only for those queries\n",
    "df_ft_ds = fill_llm_scores(csv_path, subset, which=\"both\")\n"
   ]
  },
  {
   "cell_type": "markdown",
   "id": "22d2b2d0",
   "metadata": {},
   "source": [
    "#### 3.1.6 Add a weighted and final Score for each pair"
   ]
  },
  {
   "cell_type": "markdown",
   "id": "015d0540",
   "metadata": {},
   "source": [
    "To streamline the notebook and avoid repeating utility functions, we load a small ad-hoc toolkit library (tools_llm_ift). This module centralizes helper routines, such as scoring aggregation, ranking display, and data preparation. So the main notebook remains cleaner and focused on the experimental logic rather than implementation details."
   ]
  },
  {
   "cell_type": "code",
   "execution_count": 59,
   "id": "3977a438",
   "metadata": {},
   "outputs": [
    {
     "data": {
      "text/plain": [
       "<module 'tools_llm_ift' from 'e:\\\\Devs\\\\pyEnv-1\\\\Apziva\\\\Potential_Talents_-_Yc1Y0PqXJsbGtBoy\\\\tools_llm_ift.py'>"
      ]
     },
     "execution_count": 59,
     "metadata": {},
     "output_type": "execute_result"
    }
   ],
   "source": [
    "#  import ad-hoc tool kit\n",
    "import importlib, tools_llm_ift\n",
    "importlib.reload(tools_llm_ift)\n"
   ]
  },
  {
   "cell_type": "markdown",
   "id": "c3498bef",
   "metadata": {},
   "source": [
    "We weight the final label as **0.3**·SBERT + **0.5**·LLM-v1 + **0.2**·LLM-v2 because each signal plays a different role. \n",
    "**SBERT** is fast and consistent but coarse on nuances (so a moderate 0.3 keeps its anchor without letting it dominate). \n",
    "The **v1 prompt** proved more discriminative and better at using the 0–100 scale in earlier checks, so it gets the largest weight (0.5) to drive fine ranking. The **v2 prompt** is more conservative/steady, so a smaller 0.2 lets it act as a stabilizer that tempers outliers from v1. \n",
    "\n",
    "All three are on the same scale (0–100), so the convex combination is well-behaved. These are starting weights. They can be tuned with validation (e.g., grid search or learn weights via simple regression against human labels) and monitor the needs_review disagreements to adjust if one source is over/under-influential. For the moment we will keep them."
   ]
  },
  {
   "cell_type": "code",
   "execution_count": 60,
   "id": "f630611c",
   "metadata": {},
   "outputs": [
    {
     "name": "stdout",
     "output_type": "stream",
     "text": [
      "Saved: data\\pairwise_llm_dataset_ready.csv  | flagged: 12000 rows\n",
      "Flagged rows: 12000\n"
     ]
    },
    {
     "data": {
      "text/html": [
       "<div>\n",
       "<style scoped>\n",
       "    .dataframe tbody tr th:only-of-type {\n",
       "        vertical-align: middle;\n",
       "    }\n",
       "\n",
       "    .dataframe tbody tr th {\n",
       "        vertical-align: top;\n",
       "    }\n",
       "\n",
       "    .dataframe thead th {\n",
       "        text-align: right;\n",
       "    }\n",
       "</style>\n",
       "<table border=\"1\" class=\"dataframe\">\n",
       "  <thead>\n",
       "    <tr style=\"text-align: right;\">\n",
       "      <th></th>\n",
       "      <th>emb_score_100</th>\n",
       "      <th>llm_score_v1</th>\n",
       "      <th>llm_score_v2</th>\n",
       "      <th>final_weighted</th>\n",
       "      <th>needs_review</th>\n",
       "    </tr>\n",
       "  </thead>\n",
       "  <tbody>\n",
       "    <tr>\n",
       "      <th>0</th>\n",
       "      <td>20</td>\n",
       "      <td>39.0</td>\n",
       "      <td>60.0</td>\n",
       "      <td>37.5</td>\n",
       "      <td>0</td>\n",
       "    </tr>\n",
       "    <tr>\n",
       "      <th>1</th>\n",
       "      <td>20</td>\n",
       "      <td>10.0</td>\n",
       "      <td>60.0</td>\n",
       "      <td>23.0</td>\n",
       "      <td>0</td>\n",
       "    </tr>\n",
       "    <tr>\n",
       "      <th>2</th>\n",
       "      <td>17</td>\n",
       "      <td>40.0</td>\n",
       "      <td>60.0</td>\n",
       "      <td>37.1</td>\n",
       "      <td>0</td>\n",
       "    </tr>\n",
       "    <tr>\n",
       "      <th>3</th>\n",
       "      <td>17</td>\n",
       "      <td>10.0</td>\n",
       "      <td>60.0</td>\n",
       "      <td>22.1</td>\n",
       "      <td>0</td>\n",
       "    </tr>\n",
       "    <tr>\n",
       "      <th>4</th>\n",
       "      <td>17</td>\n",
       "      <td>10.0</td>\n",
       "      <td>60.0</td>\n",
       "      <td>22.1</td>\n",
       "      <td>0</td>\n",
       "    </tr>\n",
       "  </tbody>\n",
       "</table>\n",
       "</div>"
      ],
      "text/plain": [
       "   emb_score_100  llm_score_v1  llm_score_v2  final_weighted  needs_review\n",
       "0             20          39.0          60.0            37.5             0\n",
       "1             20          10.0          60.0            23.0             0\n",
       "2             17          40.0          60.0            37.1             0\n",
       "3             17          10.0          60.0            22.1             0\n",
       "4             17          10.0          60.0            22.1             0"
      ]
     },
     "execution_count": 60,
     "metadata": {},
     "output_type": "execute_result"
    }
   ],
   "source": [
    "# compute final_weighted = 0.3*emb + 0.5*v1 + 0.2*v2 (0..100 scale),\n",
    "# and flag needs_review (~top 1% by disagreement between 3 scores or any missing component).\n",
    "\n",
    "out_csv = os.path.join(DATA_DIR, \"pairwise_llm_dataset_ready.csv\")\n",
    "\n",
    "df_ft_ds = tools_llm_ift.finalize_scores(\n",
    "    csv_path,\n",
    "    out_csv=out_csv,\n",
    "    w_emb=0.3,\n",
    "    w_v1=0.5,\n",
    "    w_v2=0.2,\n",
    "    review_frac=0.01)\n",
    "\n",
    "print(\"Flagged rows:\", int(df_ft_ds[\"needs_review\"].sum()))\n",
    "df_ft_ds[[\"emb_score_100\",\"llm_score_v1\",\"llm_score_v2\",\"final_weighted\",\"needs_review\"]].head()"
   ]
  },
  {
   "cell_type": "markdown",
   "id": "264f411d",
   "metadata": {},
   "source": [
    "The `needs_review` field flags cases where the three scoring sources (SBERT, LLM-v1, LLM-v2) show large disagreement or where one of them is missing. These inconsistencies usually signal ambiguous or edge cases that automatic methods struggle with. Each of these flagged samples was then manually reviewed, and the final score was adjusted using human judgment to ensure semantic accuracy and consistency. \n",
    "\n",
    "In total, around 125 titles (≈12.5%) required this manual correction step, providing a high-quality reference for fine-tuning and evaluation."
   ]
  },
  {
   "cell_type": "markdown",
   "id": "3f8bc3c4",
   "metadata": {},
   "source": [
    "#### 3.1.7 Prepare the datasets files for training, validation and test (JSONL)"
   ]
  },
  {
   "cell_type": "markdown",
   "id": "ac274ffa",
   "metadata": {},
   "source": [
    "We export the fine-tuning data to JSONL because it’s simple, line-delimited (one example per line), stream-friendly for large files, and natively supported by Hugging Face/Datasets and many training pipelines. \n",
    "\n",
    "The call below creates query-level splits (80/10/10 by queries), dropping nothing (drop_review=False) and writing three chat-style JSONL files where the assistant target is final_weighted.\n"
   ]
  },
  {
   "cell_type": "code",
   "execution_count": 80,
   "id": "e93ac001",
   "metadata": {},
   "outputs": [
    {
     "name": "stdout",
     "output_type": "stream",
     "text": [
      "Wrote train: 10000 rows -> ft_data\\llama_pairwise_train.jsonl\n",
      "Wrote val: 1250 rows -> ft_data\\llama_pairwise_val.jsonl\n",
      "Wrote test: 1250 rows -> ft_data\\llama_pairwise_test.jsonl\n"
     ]
    },
    {
     "data": {
      "text/plain": [
       "{'paths': {'train': 'ft_data\\\\llama_pairwise_train.jsonl',\n",
       "  'val': 'ft_data\\\\llama_pairwise_val.jsonl',\n",
       "  'test': 'ft_data\\\\llama_pairwise_test.jsonl'},\n",
       " 'stats': {'rows_total': 12500,\n",
       "  'rows_train': 10000,\n",
       "  'rows_val': 1250,\n",
       "  'rows_test': 1250,\n",
       "  'queries_total': 50,\n",
       "  'queries_train': 40,\n",
       "  'queries_val': 5,\n",
       "  'queries_test': 5,\n",
       "  'fractions_queries': {'train': 0.8, 'val': 0.1, 'test': 0.1}}}"
      ]
     },
     "execution_count": 80,
     "metadata": {},
     "output_type": "execute_result"
    }
   ],
   "source": [
    "# Create the JSON files with: train (80%), val (10%) and test (10%) splits at the query level, \n",
    "# drops needs_review==1, and writes three chat JSONL files using final_weighted as the target.\n",
    "                    \n",
    "res = tools_llm_ift.build_finetune_jsonl_3way(\n",
    "    csv_path=os.path.join(DATA_DIR, \"pairwise_llm_dataset_ready.csv\"),\n",
    "    out_dir=\"ft_data\",\n",
    "    label_col=\"final_weighted\",\n",
    "    drop_review=False,   \n",
    "    val_frac=0.10,\n",
    "    test_frac=0.10,\n",
    "    seed=23,\n",
    ")\n",
    "res\n",
    "\n"
   ]
  },
  {
   "cell_type": "markdown",
   "id": "318cf984",
   "metadata": {},
   "source": [
    "----"
   ]
  },
  {
   "cell_type": "markdown",
   "id": "eb216a47",
   "metadata": {},
   "source": [
    "### 4) Instruction FT (in a separate training notebook “Part 5t”)\n",
    "\n",
    "To keep environments clean and GPU memory stable, the **instruction fine-tuning** is done in a **separate notebook: _Part 5t (t = training)_**, with a venv dedicated to versions needed for **LoRA**.\n",
    "\n",
    "**What 5t does (brief):**\n",
    "- Loads the JSONL built here (balanced bins, final weighted label).\n",
    "- Builds chat prompts and **masks prompt tokens**, supervising **only the numeric target (0–100) + EOS**.\n",
    "- Trains `meta-llama/Llama-3.2-3B-Instruct` with **LoRA**.\n",
    "- Logs key curves (train/eval loss, LR) and writes a compact `summary.json`.\n",
    "\n",
    "After 5t finishes, we return to **this notebook (Part 5)** to:\n",
    "- **Load the trained adapter** onto the base model,\n",
    "- Score/rank queries end-to-end,\n",
    "- Compare against SBERT, and run small sanity checks on ranking quality."
   ]
  },
  {
   "cell_type": "markdown",
   "id": "369d449e",
   "metadata": {},
   "source": [
    "----"
   ]
  },
  {
   "cell_type": "markdown",
   "id": "a5f18cfc",
   "metadata": {},
   "source": [
    "### 5) Use the Instruction FT model"
   ]
  },
  {
   "cell_type": "markdown",
   "id": "0b7db81f",
   "metadata": {},
   "source": [
    "In this section, we load the **LoRA fine-tuned adapter** and **tokenizer** produced during the instruction fine-tuning phase (Part 5t).  \n",
    "The objective is to evaluate and apply the adapted model to new (query, job-title) pairs, generating a **numerical similarity score** between 0 and 100.  \n",
    "\n",
    "This step reconnects the lightweight LoRA parameters with the frozen **LLaMA-3.2-3B-Instruct** base model, enabling inference under the same tokenization and prompt structure used in training.  \n",
    "It validates that the fine-tuned model generalizes beyond the training set and produces consistent, interpretable scoring outputs for unseen examples."
   ]
  },
  {
   "cell_type": "code",
   "execution_count": 62,
   "id": "2854ad0f",
   "metadata": {},
   "outputs": [],
   "source": [
    "from peft import PeftModel, PeftConfig\n",
    "from transformers import AutoTokenizer, AutoModelForCausalLM"
   ]
  },
  {
   "cell_type": "code",
   "execution_count": 63,
   "id": "b8e02ab0",
   "metadata": {},
   "outputs": [],
   "source": [
    "torch.backends.cudnn.benchmark = True"
   ]
  },
  {
   "cell_type": "code",
   "execution_count": 64,
   "id": "bb25cee3",
   "metadata": {},
   "outputs": [
    {
     "data": {
      "application/vnd.jupyter.widget-view+json": {
       "model_id": "4c042a36896346d799ea6e4db0d1e8a4",
       "version_major": 2,
       "version_minor": 0
      },
      "text/plain": [
       "Loading checkpoint shards:   0%|          | 0/2 [00:00<?, ?it/s]"
      ]
     },
     "metadata": {},
     "output_type": "display_data"
    }
   ],
   "source": [
    "# Adapter path\n",
    "adapter_dir = \"runs/llama_pairwise_lora/adapter\"\n",
    "\n",
    "# Load tokenizer saved during training (ensures identical tokenization)\n",
    "tok = AutoTokenizer.from_pretrained(\"runs/llama_pairwise_lora/tokenizer\", use_fast=True)\n",
    "if tok.pad_token_id is None:\n",
    "    tok.pad_token = tok.eos_token\n",
    "tok.padding_side = \"left\"                    # decoder-only models should left-pad at inference\n",
    "\n",
    "# Base Mode: Load the correct base model (derive id from the adapter config for safety)\n",
    "peft_cfg = PeftConfig.from_pretrained(adapter_dir)\n",
    "base_id = peft_cfg.base_model_name_or_path  # should be meta-llama/Llama-3.2-3B-Instruct\n",
    "\n",
    "base = AutoModelForCausalLM.from_pretrained(\n",
    "    base_id,\n",
    "    dtype=torch.float16,        # matches the LoRA training dtype\n",
    "    device_map={\"\": 0},\n",
    "    low_cpu_mem_usage=True,\n",
    "    token=os.getenv(\"HF_TOKEN\"),\n",
    ")"
   ]
  },
  {
   "cell_type": "code",
   "execution_count": 65,
   "id": "a84d1546",
   "metadata": {},
   "outputs": [],
   "source": [
    "# Attach the LoRA adapter\n",
    "llm_model = PeftModel.from_pretrained(base, adapter_dir)\n",
    "llm_model = llm_model.to(\"cuda\")\n",
    "llm_model.eval()\n",
    "llm_model.config.use_cache = True  # re-enable cache for generation"
   ]
  },
  {
   "cell_type": "code",
   "execution_count": 66,
   "id": "bd6bb9e3",
   "metadata": {},
   "outputs": [],
   "source": [
    "# NOW that llm_model exists, set generation pad id\n",
    "llm_model.generation_config.pad_token_id = tok.eos_token_id\n",
    "\n",
    "# safe code\n",
    "llm_model.config.pad_token_id = tok.eos_token_id"
   ]
  },
  {
   "cell_type": "markdown",
   "id": "0a9b2ba6",
   "metadata": {},
   "source": [
    "#### Pairwise LLM retriever (LoRA-tuned Llama 3.2 3B Instruct)"
   ]
  },
  {
   "cell_type": "markdown",
   "id": "7458f26e",
   "metadata": {},
   "source": [
    "Preparare:\n",
    "1) second retriever working as a pairwise scorer using the instruct-FT LLM\n",
    "- load FT adapter\n",
    "- score (query, candidate) -> 0..100\n",
    "- rank & return top-K per query\n",
    "- save CSV + pretty text report (same style you showed)\n",
    "2) simple unit tests\n",
    "3) thin pipeline helpers to chain SBERT -> LLM\n",
    "\n",
    "\n",
    "Assumptions:\n",
    "- We already ran SBERT to get top-N per query (but we also provide a wrapper that will call your `retrieve_top_n`).\n",
    "- FT prompt learned to output a single integer (0..100) and EOS.\n"
   ]
  },
  {
   "cell_type": "code",
   "execution_count": 67,
   "id": "cfefd98b",
   "metadata": {},
   "outputs": [],
   "source": [
    "from __future__ import annotations  # PEP 563, Postponed Evaluation of Annotations"
   ]
  },
  {
   "cell_type": "code",
   "execution_count": 68,
   "id": "36fd9d50",
   "metadata": {},
   "outputs": [],
   "source": [
    "# The FT used a very short completion (digits only). Keep prompts minimal.\n",
    "DEFAULT_SYSTEM = (\n",
    "\"You are a recruiter scoring job-title similarity to the query.\\n\"\n",
    "\"Return EXACTLY one integer 0–100. DIGITS ONLY.\\n\"\n",
    "\"Scale:\\n\"\n",
    "\" • 90–100 = exact/near-exact\\n\"\n",
    "\" • 70–89 = very similar\\n\"\n",
    "\" • 40–69 = related/adjacent\\n\"\n",
    "\" • 10–39 = mostly unrelated\\n\"\n",
    "\" • 0–9 = unrelated\\n\"\n",
    ")\n",
    "\n",
    "\n",
    "def build_pairwise_prompt(tok, query: str, title: str, system: str = DEFAULT_SYSTEM) -> str:\n",
    "    messages = [\n",
    "        {\"role\": \"system\", \"content\": system},\n",
    "        {\"role\": \"user\", \"content\": f'Query: \"{query}\"\\nCandidate:\\n{title}'},\n",
    "    ]\n",
    "    try:\n",
    "        return tok.apply_chat_template(messages, tokenize=False, add_generation_prompt=True)\n",
    "    except Exception:\n",
    "        # Fallback to raw concat if template isn't available\n",
    "        return system + \"\\n\\n\" + messages[1][\"content\"]"
   ]
  },
  {
   "cell_type": "markdown",
   "id": "cd671651",
   "metadata": {},
   "source": [
    "The following is the main second retriever function that takes the SBERT top-N DataFrame as input and re-ranks with the already-loaded Instruct FT LLM."
   ]
  },
  {
   "cell_type": "code",
   "execution_count": 69,
   "id": "b2b16358",
   "metadata": {},
   "outputs": [],
   "source": [
    "# helper: parse last integer 0..100\n",
    "def _parse_one_int(text: str):\n",
    "    m = re.findall(r\"-?\\d+\", text)\n",
    "    if not m:\n",
    "        return None\n",
    "    x = int(m[-1])\n",
    "    return max(0, min(100, x))\n",
    "\n",
    "@torch.inference_mode()\n",
    "def llm_second_retriever(\n",
    "    query: str,\n",
    "    topn_df: pd.DataFrame,          # output from retrieve_top_n(...)\n",
    "    model,                          # already loaded PEFT model\n",
    "    tok,                            # tokenizer used in FT\n",
    "    top_k: int = 10,\n",
    "    max_new_tokens: int = 4,\n",
    "    batch_size: int = 12             # safe for a 1080 Ti\n",
    ") -> pd.DataFrame:\n",
    "    \"\"\"\n",
    "    Re-rank SBERT top-N candidates with the instruct-FT LLM.\n",
    "\n",
    "    Inputs:\n",
    "      - query: the query string\n",
    "      - topn_df: DataFrame from retrieve_top_n(...) with a 'title' column\n",
    "      - model, tok: already loaded model/tokenizer\n",
    "    Returns:\n",
    "      DataFrame with columns:\n",
    "        ['query','title','llm_score','llm_score_norm', *(optional) 'similarity']\n",
    "      sorted by llm_score desc, truncated to top_k.\n",
    "    \"\"\"\n",
    "    assert \"title\" in topn_df.columns, \"topn_df must have a 'title' column\"\n",
    "    titles = topn_df[\"title\"].astype(str).tolist()\n",
    "\n",
    "    tok.padding_side = \"left\"  # decoder-only models should left-pad at inference\n",
    "    \n",
    "    scores = []\n",
    "    i = 0\n",
    "    while i < len(titles):\n",
    "        batch = titles[i:i+batch_size]\n",
    "        prompts = [build_pairwise_prompt(tok, query, t) for t in batch]\n",
    "        \n",
    "        # timing: tokenization\n",
    "        t0 = time.time()\n",
    "        inputs = tok(\n",
    "            prompts, \n",
    "            return_tensors=\"pt\", \n",
    "            padding=True, \n",
    "            truncation=True\n",
    "        )\n",
    "        inputs = {k: v.to(\"cuda\") for k, v in inputs.items()}\n",
    "        t_tok = time.time() - t0\n",
    "        \n",
    "        t1 = time.time()\n",
    "        with torch.autocast(\"cuda\", dtype=torch.float16):\n",
    "            out = model.generate(\n",
    "                **inputs,\n",
    "                do_sample=False,\n",
    "                max_new_tokens=max_new_tokens,\n",
    "                pad_token_id=tok.eos_token_id,\n",
    "                use_cache=True,\n",
    "            )\n",
    "        t_gen = time.time() - t1\n",
    "        print(f\"Batch {i//batch_size+1}: tokenization {t_tok:.2f}s | generation {t_gen:.2f}s | batch={len(batch)}\")\n",
    "\n",
    "        # compute per-row prompt lengths for left padding\n",
    "        # (number of non-pad tokens in each row)\n",
    "        prompt_lens = inputs[\"attention_mask\"].sum(dim=1).tolist()\n",
    "\n",
    "        # decode only the newly generated tokens per row\n",
    "        for j in range(len(batch)):\n",
    "            start = int(prompt_lens[j])     # slice from end of prompt\n",
    "            gen_ids = out[j][start:]\n",
    "            text = tok.decode(gen_ids, skip_special_tokens=True)\n",
    "            s = _parse_one_int(text)\n",
    "            scores.append(0 if s is None else s)\n",
    "\n",
    "        i += batch_size\n",
    "        if torch.cuda.is_available():\n",
    "            torch.cuda.empty_cache()\n",
    "\n",
    "    # build result table, keep SBERT similarity if present for reference\n",
    "    result = pd.DataFrame({\n",
    "        \"query\": query,\n",
    "        \"title\": titles,\n",
    "        \"llm_score\": scores\n",
    "    })\n",
    "    result[\"llm_score_norm\"] = (result[\"llm_score\"].astype(float) / 100.0).round(3)\n",
    "\n",
    "    if \"similarity\" in topn_df.columns:\n",
    "        result = result.merge(\n",
    "            topn_df[[\"title\", \"similarity\"]],\n",
    "            on=\"title\",\n",
    "            how=\"left\"\n",
    "        )\n",
    "\n",
    "    result = result.sort_values([\"llm_score\", \"title\"], ascending=[False, True]).reset_index(drop=True)\n",
    "    return result.head(top_k)"
   ]
  },
  {
   "cell_type": "code",
   "execution_count": 70,
   "id": "5ef76237",
   "metadata": {},
   "outputs": [
    {
     "name": "stdout",
     "output_type": "stream",
     "text": [
      "All weights on GPU\n"
     ]
    }
   ],
   "source": [
    "# Check where the llm_model params were loaded\n",
    "for name, param in llm_model.named_parameters():\n",
    "    if param.device.type != \"cuda\":\n",
    "        print(\"\\\\!/\", name, \"on\", param.device)\n",
    "        break\n",
    "else:\n",
    "    print(\"All weights on GPU\")"
   ]
  },
  {
   "cell_type": "markdown",
   "id": "f984a9a3",
   "metadata": {},
   "source": [
    "Quick Tests"
   ]
  },
  {
   "cell_type": "code",
   "execution_count": 71,
   "id": "7fc79ad2",
   "metadata": {},
   "outputs": [
    {
     "name": "stdout",
     "output_type": "stream",
     "text": [
      "ONE: 70\n"
     ]
    }
   ],
   "source": [
    "# Single-prompt smoke test\n",
    "p = build_pairwise_prompt(tok, \"data scientist\", \"machine learning engineer\")\n",
    "inputs = tok(p, return_tensors=\"pt\").to(\"cuda\")\n",
    "with torch.inference_mode(), torch.autocast(\"cuda\", dtype=torch.float16):\n",
    "    out = llm_model.generate(**inputs, do_sample=False, max_new_tokens=4, pad_token_id=tok.eos_token_id)\n",
    "print(\"ONE:\", tok.decode(out[0][inputs[\"input_ids\"].shape[1]:], skip_special_tokens=True))\n"
   ]
  },
  {
   "cell_type": "code",
   "execution_count": 72,
   "id": "9f12e0c2",
   "metadata": {},
   "outputs": [
    {
     "name": "stdout",
     "output_type": "stream",
     "text": [
      "BATCH 0 64\n",
      "BATCH 1 24\n"
     ]
    }
   ],
   "source": [
    "# Tiny batch smoke test\n",
    "titles_test = [\"ML Engineer\", \"HR Intern\"]\n",
    "prompts = [build_pairwise_prompt(tok, \"data scientist\", t) for t in titles_test]\n",
    "inputs = tok(prompts, return_tensors=\"pt\", padding=True).to(\"cuda\")\n",
    "\n",
    "with torch.inference_mode(), torch.autocast(\"cuda\", dtype=torch.float16):\n",
    "    out = llm_model.generate(**inputs, do_sample=False, max_new_tokens=4, pad_token_id=tok.eos_token_id)\n",
    "    \n",
    "lens = inputs[\"attention_mask\"].sum(1).tolist()\n",
    "\n",
    "for j in range(len(titles_test)):\n",
    "    print(\"BATCH\", j, tok.decode(out[j][lens[j]:], skip_special_tokens=True))\n"
   ]
  },
  {
   "cell_type": "code",
   "execution_count": 73,
   "id": "3c3fcece",
   "metadata": {},
   "outputs": [
    {
     "name": "stdout",
     "output_type": "stream",
     "text": [
      "Batch 1: tokenization 0.00s | generation 128.97s | batch=12\n",
      "Batch 2: tokenization 0.00s | generation 60.82s | batch=8\n"
     ]
    },
    {
     "data": {
      "text/html": [
       "<div>\n",
       "<style scoped>\n",
       "    .dataframe tbody tr th:only-of-type {\n",
       "        vertical-align: middle;\n",
       "    }\n",
       "\n",
       "    .dataframe tbody tr th {\n",
       "        vertical-align: top;\n",
       "    }\n",
       "\n",
       "    .dataframe thead th {\n",
       "        text-align: right;\n",
       "    }\n",
       "</style>\n",
       "<table border=\"1\" class=\"dataframe\">\n",
       "  <thead>\n",
       "    <tr style=\"text-align: right;\">\n",
       "      <th></th>\n",
       "      <th>query</th>\n",
       "      <th>title</th>\n",
       "      <th>llm_score</th>\n",
       "      <th>llm_score_norm</th>\n",
       "      <th>similarity</th>\n",
       "    </tr>\n",
       "  </thead>\n",
       "  <tbody>\n",
       "    <tr>\n",
       "      <th>0</th>\n",
       "      <td>data scientist</td>\n",
       "      <td>data scientist</td>\n",
       "      <td>100</td>\n",
       "      <td>1.00</td>\n",
       "      <td>1.000000</td>\n",
       "    </tr>\n",
       "    <tr>\n",
       "      <th>1</th>\n",
       "      <td>data scientist</td>\n",
       "      <td>Data Scientist Machine Learning Scientist</td>\n",
       "      <td>85</td>\n",
       "      <td>0.85</td>\n",
       "      <td>0.834984</td>\n",
       "    </tr>\n",
       "    <tr>\n",
       "      <th>2</th>\n",
       "      <td>data scientist</td>\n",
       "      <td>data analyst data scientist</td>\n",
       "      <td>85</td>\n",
       "      <td>0.85</td>\n",
       "      <td>0.918813</td>\n",
       "    </tr>\n",
       "    <tr>\n",
       "      <th>3</th>\n",
       "      <td>data scientist</td>\n",
       "      <td>data scientist analyst</td>\n",
       "      <td>85</td>\n",
       "      <td>0.85</td>\n",
       "      <td>0.914790</td>\n",
       "    </tr>\n",
       "    <tr>\n",
       "      <th>4</th>\n",
       "      <td>data scientist</td>\n",
       "      <td>mathematician data scientist</td>\n",
       "      <td>85</td>\n",
       "      <td>0.85</td>\n",
       "      <td>0.867644</td>\n",
       "    </tr>\n",
       "    <tr>\n",
       "      <th>5</th>\n",
       "      <td>data scientist</td>\n",
       "      <td>web development data analyst data scientist</td>\n",
       "      <td>85</td>\n",
       "      <td>0.85</td>\n",
       "      <td>0.787869</td>\n",
       "    </tr>\n",
       "    <tr>\n",
       "      <th>6</th>\n",
       "      <td>data scientist</td>\n",
       "      <td>Data Scientist Machine Learning Engineer</td>\n",
       "      <td>83</td>\n",
       "      <td>0.83</td>\n",
       "      <td>0.818843</td>\n",
       "    </tr>\n",
       "    <tr>\n",
       "      <th>7</th>\n",
       "      <td>data scientist</td>\n",
       "      <td>data scientist data analyst statistician</td>\n",
       "      <td>83</td>\n",
       "      <td>0.83</td>\n",
       "      <td>0.850760</td>\n",
       "    </tr>\n",
       "    <tr>\n",
       "      <th>8</th>\n",
       "      <td>data scientist</td>\n",
       "      <td>data scientist ms data science</td>\n",
       "      <td>83</td>\n",
       "      <td>0.83</td>\n",
       "      <td>0.855288</td>\n",
       "    </tr>\n",
       "    <tr>\n",
       "      <th>9</th>\n",
       "      <td>data scientist</td>\n",
       "      <td>computer scientist</td>\n",
       "      <td>81</td>\n",
       "      <td>0.81</td>\n",
       "      <td>0.823547</td>\n",
       "    </tr>\n",
       "  </tbody>\n",
       "</table>\n",
       "</div>"
      ],
      "text/plain": [
       "            query                                        title  llm_score  llm_score_norm  similarity\n",
       "0  data scientist                               data scientist        100            1.00    1.000000\n",
       "1  data scientist    Data Scientist Machine Learning Scientist         85            0.85    0.834984\n",
       "2  data scientist                  data analyst data scientist         85            0.85    0.918813\n",
       "3  data scientist                       data scientist analyst         85            0.85    0.914790\n",
       "4  data scientist                 mathematician data scientist         85            0.85    0.867644\n",
       "5  data scientist  web development data analyst data scientist         85            0.85    0.787869\n",
       "6  data scientist     Data Scientist Machine Learning Engineer         83            0.83    0.818843\n",
       "7  data scientist     data scientist data analyst statistician         83            0.83    0.850760\n",
       "8  data scientist               data scientist ms data science         83            0.83    0.855288\n",
       "9  data scientist                           computer scientist         81            0.81    0.823547"
      ]
     },
     "execution_count": 73,
     "metadata": {},
     "output_type": "execute_result"
    }
   ],
   "source": [
    "q = \"data scientist\"\n",
    "topN = retrieve_top_n(q, n=20)\n",
    "topK_df = llm_second_retriever(q, topN, llm_model, tok, top_k=10, max_new_tokens=4, batch_size=12)\n",
    "topK_df\n"
   ]
  },
  {
   "cell_type": "markdown",
   "id": "f3cc9716",
   "metadata": {},
   "source": [
    "### Function: `run_two_stage_print_and_save`\n",
    "\n",
    "This function executes the **two-stage inference pipeline** for evaluating the fine-tuned model on new job-title similarity queries.  \n",
    "It first runs the model to **generate a numeric score** for each (query, job-title) pair, then **prints, logs, and saves** the results for later analysis.  \n",
    "\n",
    "By consolidating generation, evaluation, and output saving in one step, this function ensures reproducibility and consistent formatting between runs, making it easier to compare results across checkpoints or parameter settings.\n"
   ]
  },
  {
   "cell_type": "code",
   "execution_count": 74,
   "id": "f97e2c5b",
   "metadata": {},
   "outputs": [],
   "source": [
    "def run_two_stage_print_and_save(\n",
    "    queries,\n",
    "    n_top_sbert: int = 20,\n",
    "    k_top_llm: int = 10,\n",
    "    model=llm_model,\n",
    "    tok=tok,\n",
    "    max_new_tokens: int = 4,\n",
    "    batch_size: int = 12,\n",
    "    out_path: str = os.path.join(\"outputs\", \"llm\", \"llm_top10__llama-3.2-3b-instruct-pairwise__all_queries.csv\"),\n",
    "):\n",
    "    \"\"\"\n",
    "    For each query:\n",
    "      1) SBERT retrieve_top_n(query, n_top_sbert)\n",
    "      2) LLM rerank -> top k_top_llm\n",
    "      3) Print using print_ranking()\n",
    "      4) Append to a single CSV with columns [query, job_titles, score]\n",
    "    Returns:\n",
    "      (out_df, out_path)\n",
    "    \"\"\"\n",
    "    os.makedirs(os.path.dirname(out_path), exist_ok=True)\n",
    "\n",
    "    all_rows = []\n",
    "    for q in queries:\n",
    "        # Stage 1: SBERT\n",
    "        topN = retrieve_top_n(q, n=n_top_sbert)\n",
    "\n",
    "        # Stage 2: LLM rerank\n",
    "        reranked = llm_second_retriever(\n",
    "            q, topN, model, tok,\n",
    "            top_k=k_top_llm,\n",
    "            max_new_tokens=max_new_tokens,\n",
    "            batch_size=batch_size,\n",
    "        )\n",
    "\n",
    "        # Adapt to printer expected cols\n",
    "        to_print = (\n",
    "            reranked[[\"title\", \"llm_score_norm\"]]\n",
    "            .rename(columns={\"title\": \"job_titles\", \"llm_score_norm\": \"score\"})\n",
    "            .copy()\n",
    "        )\n",
    "        to_print[\"score\"] = to_print[\"score\"].astype(float).round(3)\n",
    "\n",
    "        # Print\n",
    "        tools_llm_ift.print_ranking(q, to_print, score_col=\"score\", title_col=\"job_titles\", top_k=k_top_llm)\n",
    "\n",
    "        # Collect for CSV\n",
    "        tmp = to_print.copy()\n",
    "        tmp.insert(0, \"query\", q)\n",
    "        all_rows.append(tmp[[\"query\", \"job_titles\", \"score\"]])\n",
    "\n",
    "    out_df = pd.concat(all_rows, ignore_index=True)\n",
    "    out_df.to_csv(out_path, index=False)\n",
    "    print(f\"Saved: {out_path}\")\n",
    "    return out_df, out_path\n",
    "\n"
   ]
  },
  {
   "cell_type": "code",
   "execution_count": 75,
   "id": "85f28a79",
   "metadata": {},
   "outputs": [
    {
     "name": "stdout",
     "output_type": "stream",
     "text": [
      "Batch 1: tokenization 0.00s | generation 146.87s | batch=12\n",
      "Batch 2: tokenization 0.00s | generation 68.40s | batch=8\n",
      "\n",
      "Query: data scientist\n",
      "    1.000  data scientist\n",
      "    0.850  Data Scientist Machine Learning Scientist\n",
      "    0.850  data analyst data scientist\n",
      "    0.850  data scientist analyst\n",
      "    0.850  mathematician data scientist\n",
      "    0.850  web development data analyst data scientist\n",
      "    0.830  Data Scientist Machine Learning Engineer\n",
      "    0.830  data scientist data analyst statistician\n",
      "    0.830  data scientist ms data science\n",
      "    0.810  computer scientist\n",
      "Batch 1: tokenization 0.00s | generation 163.50s | batch=12\n",
      "Batch 2: tokenization 0.00s | generation 69.93s | batch=8\n",
      "\n",
      "Query: machine learning engineer\n",
      "    0.950  machine learning engineer\n",
      "    0.850  Data Scientist Machine Learning Engineer\n",
      "    0.850  data scientist data analyst machine learning engineer\n",
      "    0.850  machine learning engineer 2\n",
      "    0.830  Data Scientist Machine Learning Scientist\n",
      "    0.830  Machine Learning Engineer Data Scientist MLOps\n",
      "    0.830  Machine Learning Engineer Google Certified Associate Cloud Engineer M-Tech Silver Medalist in Artificial Intelligence Data Science.\n",
      "    0.830  data scientist machine learning engineer ai engineer skilled in predictive analytics time series analysis and ai agent development\n",
      "    0.830  machine learning engineer genworth masters in computer sciences\n",
      "    0.830  machine learning operations engineer at spyglaz\n",
      "Batch 1: tokenization 0.00s | generation 209.63s | batch=12\n",
      "Batch 2: tokenization 0.00s | generation 76.38s | batch=8\n",
      "\n",
      "Query: backend developer\n",
      "    0.750  full-stack developer\n",
      "    0.750  full-stack software developer\n",
      "    0.750  software developer\n",
      "    0.720  MLOps Machine Learning Backend Dev FastAPI Data Scientist Data Analyst\n",
      "    0.720  full stack developer specializing in aiml and cloud computing\n",
      "    0.700  data scientist python backend developer software developer at iron gate auctions\n",
      "    0.640  Data Software Engineer\n",
      "    0.640  Software Engineer\n",
      "    0.640  full stack developer m.s. computer science at georgia institute of technology b.s. computer science at university of akron\n",
      "    0.640  software engineer full stack developer javascript typescript node react angular java spring boot hibernate mysqlmongodb aws\n",
      "Batch 1: tokenization 0.00s | generation 148.71s | batch=12\n",
      "Batch 2: tokenization 0.00s | generation 44.27s | batch=8\n",
      "\n",
      "Query: product manager\n",
      "    0.720  performance marketing manager\n",
      "    0.720  senior data growth product manager cdp management product analytics mcit penn\n",
      "    0.680  production team lead at microchip technology inc. leading production and training with data analytics skills\n",
      "    0.640  aspiring product manager information systems graduate with a strong technical background passionate about driving innovation and solving complex problems\n",
      "    0.640  business intelligence leader analyst\n",
      "    0.640  manager product analyst data science masters statistical analysis\n",
      "    0.600  associate product manager paycom ibm data science specialization\n",
      "    0.600  program manager\n",
      "    0.600  technology consultant\n",
      "    0.460  associate manager\n",
      "Saved: outputs\\llm\\llm_top10__llama-3.2-3b-instruct-pairwise__all_queries.csv\n"
     ]
    }
   ],
   "source": [
    "# Run the same 4 queries used in previous parts of the projects, using N=20 and K=10:\n",
    "QUERIES = [\"data scientist\", \"machine learning engineer\", \"backend developer\", \"product manager\"]\n",
    "_ = run_two_stage_print_and_save(QUERIES)\n"
   ]
  },
  {
   "cell_type": "code",
   "execution_count": null,
   "id": "e7d971f8",
   "metadata": {},
   "outputs": [],
   "source": []
  },
  {
   "cell_type": "code",
   "execution_count": null,
   "id": "d07f9d72",
   "metadata": {},
   "outputs": [],
   "source": []
  },
  {
   "cell_type": "code",
   "execution_count": null,
   "id": "82fc4ce1",
   "metadata": {},
   "outputs": [],
   "source": []
  },
  {
   "cell_type": "code",
   "execution_count": null,
   "id": "bec560f6",
   "metadata": {},
   "outputs": [],
   "source": []
  },
  {
   "cell_type": "code",
   "execution_count": null,
   "id": "600f2f41",
   "metadata": {},
   "outputs": [],
   "source": []
  },
  {
   "cell_type": "code",
   "execution_count": null,
   "id": "a4de6c74",
   "metadata": {},
   "outputs": [],
   "source": []
  },
  {
   "cell_type": "code",
   "execution_count": null,
   "id": "32426159",
   "metadata": {},
   "outputs": [],
   "source": []
  },
  {
   "cell_type": "code",
   "execution_count": null,
   "id": "e4f422b0",
   "metadata": {},
   "outputs": [],
   "source": []
  },
  {
   "cell_type": "code",
   "execution_count": null,
   "id": "24f45e66",
   "metadata": {},
   "outputs": [],
   "source": []
  },
  {
   "cell_type": "code",
   "execution_count": null,
   "id": "5c5af9c2",
   "metadata": {},
   "outputs": [],
   "source": []
  },
  {
   "cell_type": "code",
   "execution_count": null,
   "id": "ae76b990",
   "metadata": {},
   "outputs": [],
   "source": []
  },
  {
   "cell_type": "code",
   "execution_count": null,
   "id": "27e709e0",
   "metadata": {},
   "outputs": [],
   "source": []
  },
  {
   "cell_type": "code",
   "execution_count": null,
   "id": "bee0dd85",
   "metadata": {},
   "outputs": [],
   "source": []
  }
 ],
 "metadata": {
  "kernelspec": {
   "display_name": "Pot_Tals_LLM_Env",
   "language": "python",
   "name": "pot-tals_llm_env"
  },
  "language_info": {
   "codemirror_mode": {
    "name": "ipython",
    "version": 3
   },
   "file_extension": ".py",
   "mimetype": "text/x-python",
   "name": "python",
   "nbconvert_exporter": "python",
   "pygments_lexer": "ipython3",
   "version": "3.12.7"
  }
 },
 "nbformat": 4,
 "nbformat_minor": 5
}
