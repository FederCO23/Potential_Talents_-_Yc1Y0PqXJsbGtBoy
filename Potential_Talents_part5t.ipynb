{
 "cells": [
  {
   "cell_type": "markdown",
   "id": "b22c4196",
   "metadata": {},
   "source": [
    "## Potential Talents - Part 5_training"
   ]
  },
  {
   "cell_type": "markdown",
   "id": "2956a14e",
   "metadata": {},
   "source": [
    "----"
   ]
  },
  {
   "cell_type": "markdown",
   "id": "716b8abb",
   "metadata": {},
   "source": [
    "## Potential Talents — Part 5t (training): Instruction FT with LoRA for Job-Title Similarity\n",
    "\n",
    "### Objective\n",
    "Fine-tune **meta-llama/Llama-3.2-3B-Instruct** to output a **single 0–100 score** for (query, job-title) pairs.  \n",
    "Training uses the JSONL splits produced in Part 5 and supervises **only the numeric target** (+EOS) while **masking prompt tokens**.\n",
    "\n",
    "### Constraints\n",
    "- **GTX 1080 Ti (11 GB)**, FP16, short sequences (≤256 tokens).\n",
    "- Safe memory profile: `device_map=\"auto\"` + offload to **E:\\\\hf_offload**.\n",
    "- Lightweight LoRA adapter training (no full-model FT).\n",
    "\n",
    "### Method (this notebook)\n",
    "1) **Load splits** from `ft_data/` (train/val[/test]).  \n",
    "2) **Tokenizer** with chat template. Set PAD=EOS when missing.  \n",
    "3) **Build inputs** concatenate prompt+target. Labels are `-100` over prompt and ids over target integer (supervised).  \n",
    "4) **Model setup** load base FP16, enable grad checkpointing, attach **LoRA** (`r=16`, common LLaMA proj modules).  \n",
    "5) **Training** → `bsz=1`, `grad_acc=16`, cosine LR, warmup, eval every 400 steps.  \n",
    "6) **Evaluate & save** print eval loss; save **LoRA adapter** and **tokenizer** to `runs/llama_pairwise_lora/`.\n",
    "\n",
    "### Outputs\n",
    "- LoRA adapter: `runs/llama_pairwise_lora/adapter/`  \n",
    "- Tokenizer: `runs/llama_pairwise_lora/tokenizer/`  \n",
    "- Ready to load back in Part 5 for inference, ranking, and analysis.\n",
    "\n"
   ]
  },
  {
   "cell_type": "markdown",
   "id": "b8e935cd",
   "metadata": {},
   "source": [
    "----\n"
   ]
  },
  {
   "cell_type": "markdown",
   "id": "7b387d87",
   "metadata": {},
   "source": [
    "### 0. Imports, configuration and folders"
   ]
  },
  {
   "cell_type": "code",
   "execution_count": 1,
   "id": "1f0ec6b4",
   "metadata": {},
   "outputs": [],
   "source": [
    "import os, math, torch, json\n",
    "import numpy as np\n",
    "import pandas as pd\n",
    "from datasets import load_dataset, DatasetDict\n",
    "from transformers import (AutoTokenizer, AutoModelForCausalLM, TrainingArguments,\n",
    "                          DataCollatorForLanguageModeling, Trainer, BitsAndBytesConfig)\n",
    "from peft import LoraConfig, get_peft_model, prepare_model_for_kbit_training\n",
    "\n",
    "# ad-hoc toolkit\n",
    "import tools_llm_ift\n"
   ]
  },
  {
   "cell_type": "code",
   "execution_count": 2,
   "id": "a9887562",
   "metadata": {},
   "outputs": [
    {
     "name": "stdout",
     "output_type": "stream",
     "text": [
      "2.6.0+cu124\n",
      "built with CUDA: 12.4\n",
      "cuda available: True\n",
      "gpu: NVIDIA GeForce GTX 1080 Ti\n"
     ]
    }
   ],
   "source": [
    "import torch\n",
    "print(torch.__version__)\n",
    "print(\"built with CUDA:\", torch.version.cuda)\n",
    "print(\"cuda available:\", torch.cuda.is_available())\n",
    "if torch.cuda.is_available():\n",
    "    print(\"gpu:\", torch.cuda.get_device_name(0))\n"
   ]
  },
  {
   "cell_type": "code",
   "execution_count": 3,
   "id": "9420409b",
   "metadata": {},
   "outputs": [
    {
     "name": "stdout",
     "output_type": "stream",
     "text": [
      "Measure memory usage before and after freeing it\n",
      "\n",
      "Before:\n",
      "allocated: 0.0 MiB | reserved: 0.0 MiB | total: 11,264 MiB\n",
      "\n",
      "After:\n",
      "allocated: 0.0 MiB | reserved: 0.0 MiB | total: 11,264 MiB\n"
     ]
    }
   ],
   "source": [
    "tools_llm_ift.free_GPU_memory()"
   ]
  },
  {
   "cell_type": "code",
   "execution_count": null,
   "id": "ef3d4c84",
   "metadata": {},
   "outputs": [],
   "source": [
    "MODEL_ID = \"meta-llama/Llama-3.2-3B-Instruct\"\n",
    "DATA_DIR = \"ft_data\"  # where jsonls files are placed\n",
    "TRAIN_PATH = os.path.join(DATA_DIR, \"llama_pairwise_train.jsonl\")\n",
    "VAL_PATH   = os.path.join(DATA_DIR, \"llama_pairwise_val.jsonl\")\n",
    "TEST_PATH  = os.path.join(DATA_DIR, \"llama_pairwise_test.jsonl\")\n",
    "\n",
    "assert os.path.exists(TRAIN_PATH) and os.path.exists(VAL_PATH), \"JSONL files not found.\"\n"
   ]
  },
  {
   "cell_type": "code",
   "execution_count": null,
   "id": "ed1719e3",
   "metadata": {},
   "outputs": [],
   "source": [
    "# Load data\n",
    "dset = DatasetDict({\n",
    "    \"train\": load_dataset(\"json\", data_files=TRAIN_PATH, split=\"train\"),\n",
    "    \"val\":   load_dataset(\"json\", data_files=VAL_PATH,   split=\"train\"),\n",
    "})\n",
    "if os.path.exists(TEST_PATH):\n",
    "    dset[\"test\"] = load_dataset(\"json\", data_files=TEST_PATH, split=\"train\")"
   ]
  },
  {
   "cell_type": "code",
   "execution_count": null,
   "id": "182bb0c4",
   "metadata": {},
   "outputs": [],
   "source": [
    "# Tokenizer\n",
    "tok = AutoTokenizer.from_pretrained(MODEL_ID, use_fast=True, token=os.getenv(\"HF_TOKEN\"))\n",
    "if tok.pad_token_id is None:\n",
    "    tok.pad_token = tok.eos_token  # set <eos> token as padding token\n"
   ]
  },
  {
   "cell_type": "code",
   "execution_count": null,
   "id": "6ccb1a37",
   "metadata": {},
   "outputs": [],
   "source": [
    "# Format → tokenize → mask prompt tokens\n",
    "# We supervise only the assistant response (the integer). We build a chat prompt using the template,\n",
    "# then append the target integer + eos. Labels are -100 over prompt tokens and equal to ids over the target.\n",
    "\n",
    "def build_texts(example):\n",
    "    messages = example[\"messages\"]\n",
    "    # chat template up to the assistant turn (we add generation prompt)\n",
    "    prompt_text = tok.apply_chat_template(messages, tokenize=False, add_generation_prompt=True)\n",
    "    target_text = str(example[\"response\"]).strip() + tok.eos_token\n",
    "    return {\"prompt_text\": prompt_text, \"target_text\": target_text}\n",
    "\n",
    "def tokenize_and_mask(example):\n",
    "    prompt_ids = tok(example[\"prompt_text\"], add_special_tokens=False)[\"input_ids\"]\n",
    "    target_ids = tok(example[\"target_text\"], add_special_tokens=False)[\"input_ids\"]\n",
    "    input_ids = prompt_ids + target_ids\n",
    "    labels = [-100]*len(prompt_ids) + target_ids  # mask prompt. Supervise only the integer (+ eos)\n",
    "    return {\"input_ids\": input_ids, \"labels\": labels}\n",
    "\n",
    "dset = dset.map(build_texts, remove_columns=dset[\"train\"].column_names)\n",
    "dset = dset.map(tokenize_and_mask, remove_columns=[\"prompt_text\",\"target_text\"])\n",
    "\n",
    "# Optional: truncate long examples (should be tiny, titles are short)\n",
    "MAX_LEN = 256\n",
    "def clip(example):\n",
    "    example[\"input_ids\"] = example[\"input_ids\"][:MAX_LEN]\n",
    "    example[\"labels\"]    = example[\"labels\"][:MAX_LEN]\n",
    "    return example\n",
    "dset = dset.map(clip)\n",
    "\n"
   ]
  },
  {
   "cell_type": "markdown",
   "id": "23aef96a",
   "metadata": {},
   "source": [
    "#### Why `labels = [-100]*len(prompt_ids) + target_ids`\n",
    "\n",
    "During fine-tuning, the model input is built by **concatenating the prompt and the target**: input_ids = prompt_ids + target_ids\n",
    "\n",
    "However, we only want the model to **learn to predict the target (the assistant’s answer)**, not to reproduce the prompt text itself.\n",
    "\n",
    "In Hugging Face’s `Trainer`, the loss is computed using `CrossEntropyLoss`, which ignores positions where the label value is `-100`.  \n",
    "This is the default **ignore index** in PyTorch (`ignore_index=-100`).\n",
    "\n",
    "#### Example of how masking works in practice\n",
    "\n",
    "Let’s see what happens step by step. After tokenization, we have two sequences:\n",
    "\n",
    "- **Prompt tokens**: all text up to the assistant’s turn, the system and user messages.  \n",
    "  Example (schematically):  \n",
    "`[1, 910, 299, ..., 128009] # prompt_ids`\n",
    "\n",
    "- **Target tokens**: the assistant’s numeric answer followed by the end-of-sequence token.  \n",
    "`[4571, 128001] # target_ids → \"38\" + </s>`\n",
    "\n",
    "- These are concatenated to form the full model input:\n",
    "  \n",
    "    `input_ids = [1, 910, 299, ..., 128009, 4571, 128001]`\n",
    "\n",
    "- For the labels, all prompt tokens are replaced with **`-100`**, while the target tokens keep their real IDs:\n",
    "  \n",
    "    `labels = [-100, -100, -100, ..., -100, 4571, 128001]`\n",
    "\n",
    "During training, the model computes a prediction for every position in `input_ids`, but the **loss function ignores** positions with `-100`.  \n",
    "\n",
    "As a result, the model learns only from the last tokens, in this case, to output `\"38\"` followed by `</s>`, given the full conversational context as input.\n",
    "\n"
   ]
  },
  {
   "cell_type": "code",
   "execution_count": null,
   "id": "a2509bb1",
   "metadata": {},
   "outputs": [
    {
     "data": {
      "application/vnd.jupyter.widget-view+json": {
       "model_id": "aad38c87876047a58134ab636431810a",
       "version_major": 2,
       "version_minor": 0
      },
      "text/plain": [
       "Loading checkpoint shards:   0%|          | 0/2 [00:00<?, ?it/s]"
      ]
     },
     "metadata": {},
     "output_type": "display_data"
    }
   ],
   "source": [
    "# Plain FP16 base model. No bitsandbytes, no QLoRA for the moment. I will just use LoRA, which should fit in my GPU (+CPU & paging if needed)\n",
    "\n",
    "OFFLOAD_DIR = r\"E:\\hf_offload\"  # E: is my w/r faster drive\n",
    "os.makedirs(OFFLOAD_DIR, exist_ok=True)\n",
    "\n",
    "base = AutoModelForCausalLM.from_pretrained(\n",
    "    MODEL_ID,\n",
    "    dtype=torch.float16,       \n",
    "    device_map=\"auto\",\n",
    "    low_cpu_mem_usage=True,          # stream shards to target device(s)\n",
    "    offload_folder=OFFLOAD_DIR,      # spill to disk if needed\n",
    "    max_memory={                     \n",
    "        0: \"10GiB\",                  \n",
    "        \"cpu\": \"16GiB\",              \n",
    "        # \"disk\": \"200GiB\",          # optional if supported\n",
    "    },\n",
    "    token=os.getenv(\"HF_TOKEN\"),\n",
    ")\n",
    "\n",
    "base.gradient_checkpointing_enable()\n",
    "base.config.use_cache = False"
   ]
  },
  {
   "cell_type": "code",
   "execution_count": 10,
   "id": "0e4823d4",
   "metadata": {},
   "outputs": [
    {
     "name": "stdout",
     "output_type": "stream",
     "text": [
      "trainable params: 24,313,856 || all params: 3,237,063,680 || trainable%: 0.7511\n"
     ]
    }
   ],
   "source": [
    "lora_cfg = LoraConfig(\n",
    "    r=16, \n",
    "    lora_alpha=32, \n",
    "    lora_dropout=0.05, \n",
    "    bias=\"none\",\n",
    "    target_modules=[\"q_proj\",\"k_proj\",\"v_proj\",\"o_proj\",\"gate_proj\",\"up_proj\",\"down_proj\"],\n",
    "    task_type=\"CAUSAL_LM\",\n",
    ")\n",
    "model = get_peft_model(base, lora_cfg)\n",
    "model.print_trainable_parameters()"
   ]
  },
  {
   "cell_type": "markdown",
   "id": "ab327a3e",
   "metadata": {},
   "source": [
    "This block attaches a LoRA adapter to the frozen Llama base model so that only a tiny fraction of its parameters are trainable, in this case, about 24 million out of 3.2 billion (≈ 0.75%).\n",
    "\n",
    "The LoraConfig defines how and where these lightweight adapters are injected:\n",
    "- **r=16** sets the rank of the low-rank update matrices. \n",
    "  \n",
    "  W' = W + ∆W\n",
    "\n",
    "  ∆W = AxB\n",
    "\n",
    "  A is a matrix of shape (out_features, **r**), B is a matrix of shape (**r**, in_features)\n",
    "\n",
    "- **lora_alpha=32** controls their scaling (like a gain factor).\n",
    "\n",
    "  W' = W + (α/r)∆W\n",
    "\n",
    "  **α** controls how much weight the LoRA update has relative to the frozen base weights.\n",
    "\n",
    "- **lora_dropout=0.05** adds mild regularization.\n",
    "- **bias=\"none\"** keeps the original biases fixed.\n",
    "- **target_modules** specifies which layers LoRA modifies, key attention and MLP projections (q_proj, k_proj, v_proj, o_proj, gate_proj, up_proj, down_proj), the components that most influence model reasoning and representation.\n",
    "- \n",
    "  Where `q_proj`, `k_proj`, and `v_proj` are the matrices that generate the queries, keys, and values from the attention mechanism. \n",
    "  `o_proj` is the output projection that maps the attended results back into the hidden dimension.\n",
    "\n",
    "  `gate_proj`, `up_proj`, `down_proj` are related with the following part, which goes through a feed-forward sublayer:\n",
    "   h = activation(X.W_up) @ X.W_gate\n",
    "   Y = h.W_down\n",
    "   \n",
    "This “up → gate → down” structure allows the model to mix nonlinear transformations and learn richer representations efficiently.\n",
    "\n",
    "- **task_type=\"CAUSAL_LM\"** ensures proper setup for autoregressive text generation.\n",
    "\n",
    "Finally, `get_peft_model(base, lora_cfg)` wraps the base model with these adapters, freezing all original weights, `while model.print_trainable_parameters()` confirms that only **0.75%** of parameters will be fine-tuned, keeping GPU usage low and training efficient without sacrificing learning capacity."
   ]
  },
  {
   "cell_type": "code",
   "execution_count": null,
   "id": "f12c90af",
   "metadata": {},
   "outputs": [],
   "source": [
    "# Data collator (no MLM)\n",
    "collator = DataCollatorForLanguageModeling(tok, mlm=False)"
   ]
  },
  {
   "cell_type": "markdown",
   "id": "7680918b",
   "metadata": {},
   "source": [
    "This **collator** batches + pads prepare the examples for autoregressive training while respecting the precomputed labels."
   ]
  },
  {
   "cell_type": "code",
   "execution_count": null,
   "id": "9d442b48",
   "metadata": {},
   "outputs": [],
   "source": [
    "# Training args (11 GB 1080 Ti)\n",
    "bsz = 1                # conservative configuration. Change to '2' to increase training speed \n",
    "grad_acc = 16          # conservative configuration. Change to 8 to increase training speed\n",
    "# bsz × grad_acc = 16 sequences per update, without blowing VRAM\n",
    "lr = 2e-4\n",
    "epochs = 2\n",
    "\n",
    "args = TrainingArguments(\n",
    "    output_dir=\"runs/llama_pairwise_lora\",\n",
    "    per_device_train_batch_size=bsz,\n",
    "    per_device_eval_batch_size=bsz,\n",
    "    gradient_accumulation_steps=grad_acc,\n",
    "    fp16=True, bf16=False,                  # Pascal GPU -> fp16 only\n",
    "\n",
    "    # Logging & eval cadence\n",
    "    logging_strategy=\"steps\",\n",
    "    logging_steps=50,                       # denser logs\n",
    "    eval_strategy=\"steps\",\n",
    "    eval_steps=400,                         \n",
    "    save_steps=800,\n",
    "    save_total_limit=2,\n",
    "\n",
    "    # Model selection\n",
    "    load_best_model_at_end=True,\n",
    "    metric_for_best_model=\"eval_loss\",\n",
    "    greater_is_better=False,\n",
    "\n",
    "    # Optimization\n",
    "    learning_rate=lr,\n",
    "    num_train_epochs=epochs,\n",
    "    max_grad_norm=1.0,\n",
    "    weight_decay=0.0,\n",
    "    lr_scheduler_type=\"cosine\",\n",
    "    warmup_ratio=0.03,\n",
    "\n",
    "    # Reporting\n",
    "    report_to=[\"tensorboard\"],              # <— enable TB\n",
    "    logging_dir=\"runs/tb/llama_pairwise_lora\",\n",
    "    run_name=\"llama_pairwise_lora\",\n",
    "\n",
    "    # Dataloader/system\n",
    "    dataloader_pin_memory=True,\n",
    "    dataloader_num_workers=0,               # Windows: safer to keep 0. Try '2' to increase training speed.\n",
    "\n",
    "    # Trainer/model plumbing\n",
    "    remove_unused_columns=False,            # safe for causal LM w/ custom inputs\n",
    ")\n",
    "\n"
   ]
  },
  {
   "cell_type": "markdown",
   "id": "bc80ef15",
   "metadata": {},
   "source": [
    "#### **Forward pass → logits**\n",
    "\n",
    "The model produces:\n",
    "- logits with shape **[batch, seq_len, vocab]** for every position in input_ids.\n",
    "  \n",
    "These logits are conditioned on the entire prefix up to that position (causal mask), so the numeric answer is predicted given the full prompt.\n",
    "\n",
    "#### **Shifted LM objective**\n",
    "```\n",
    "shift_logits = logits[..., :-1, :]   # drop last time step\n",
    "shift_labels = labels[..., 1:]       # drop first label\n",
    "loss = CrossEntropyLoss(ignore_index=-100)(shift_logits.reshape(-1, V),\n",
    "                                           shift_labels.reshape(-1))\n",
    "```\n",
    "\n",
    "#### **Visualize the dynamic**, simple numerical example:\n",
    "**Suppose:**\n",
    "* input_ids: [p1, p2,  t1,  t2, eos]\n",
    "* labels:    [-100,-100, t1,  t2, eos]\n",
    "\n",
    "**After shifting:**\n",
    "* shift_logits at positions:  [p1,   p2,   t1,   t2]\n",
    "* shift_labels:              [-100,  t1,   t2,   eos]\n",
    "\n",
    "Them, **Loss** terms used:\n",
    "\n",
    "- ignore -100 (at p1)\n",
    "- CE(logits_at_p2, t1)\n",
    "- CE(logits_at_t1, t2)\n",
    "- CE(logits_at_t2, eos)\n",
    "\n",
    "Average those three -> example loss.\n"
   ]
  },
  {
   "cell_type": "code",
   "execution_count": 18,
   "id": "d5459626",
   "metadata": {},
   "outputs": [
    {
     "name": "stderr",
     "output_type": "stream",
     "text": [
      "The model is already on multiple devices. Skipping the move to device specified in `args`.\n"
     ]
    }
   ],
   "source": [
    "# Trainer\n",
    "trainer = Trainer(\n",
    "    model=model,\n",
    "    args=args,\n",
    "    train_dataset=dset[\"train\"],\n",
    "    eval_dataset=dset[\"val\"],\n",
    "    data_collator=collator,\n",
    "    processing_class=tok,\n",
    ")\n"
   ]
  },
  {
   "cell_type": "markdown",
   "id": "8eaf0a7b",
   "metadata": {},
   "source": [
    "The “already on multiple devices” line is harmless, it comes from using device_map=\"auto\"."
   ]
  },
  {
   "cell_type": "code",
   "execution_count": 19,
   "id": "88464a6f",
   "metadata": {},
   "outputs": [
    {
     "name": "stderr",
     "output_type": "stream",
     "text": [
      "The tokenizer has new PAD/BOS/EOS tokens that differ from the model config and generation config. The model config and generation config were aligned accordingly, being updated with the tokenizer's values. Updated tokens: {'eos_token_id': 128009, 'pad_token_id': 128009}.\n"
     ]
    },
    {
     "name": "stdout",
     "output_type": "stream",
     "text": [
      "Train examples: 10000 | Val examples: 1250\n"
     ]
    },
    {
     "data": {
      "text/html": [
       "\n",
       "    <div>\n",
       "      \n",
       "      <progress value='1250' max='1250' style='width:300px; height:20px; vertical-align: middle;'></progress>\n",
       "      [1250/1250 3:30:45, Epoch 2/2]\n",
       "    </div>\n",
       "    <table border=\"1\" class=\"dataframe\">\n",
       "  <thead>\n",
       " <tr style=\"text-align: left;\">\n",
       "      <th>Step</th>\n",
       "      <th>Training Loss</th>\n",
       "      <th>Validation Loss</th>\n",
       "    </tr>\n",
       "  </thead>\n",
       "  <tbody>\n",
       "    <tr>\n",
       "      <td>400</td>\n",
       "      <td>0.179000</td>\n",
       "      <td>0.227253</td>\n",
       "    </tr>\n",
       "    <tr>\n",
       "      <td>800</td>\n",
       "      <td>0.113600</td>\n",
       "      <td>0.189347</td>\n",
       "    </tr>\n",
       "    <tr>\n",
       "      <td>1200</td>\n",
       "      <td>0.101300</td>\n",
       "      <td>0.186002</td>\n",
       "    </tr>\n",
       "  </tbody>\n",
       "</table><p>"
      ],
      "text/plain": [
       "<IPython.core.display.HTML object>"
      ]
     },
     "metadata": {},
     "output_type": "display_data"
    },
    {
     "name": "stdout",
     "output_type": "stream",
     "text": [
      "TrainOutput(global_step=1250, training_loss=0.21000949096679689, metrics={'train_runtime': 12656.7999, 'train_samples_per_second': 1.58, 'train_steps_per_second': 0.099, 'total_flos': 4.83853429282775e+16, 'train_loss': 0.21000949096679689, 'epoch': 2.0})\n"
     ]
    }
   ],
   "source": [
    "print(\"Train examples:\", len(dset[\"train\"]), \"| Val examples:\", len(dset[\"val\"]))\n",
    "train_out = trainer.train()\n",
    "print(train_out)"
   ]
  },
  {
   "cell_type": "code",
   "execution_count": 20,
   "id": "febdb3a9",
   "metadata": {},
   "outputs": [
    {
     "data": {
      "text/html": [
       "\n",
       "    <div>\n",
       "      \n",
       "      <progress value='1250' max='1250' style='width:300px; height:20px; vertical-align: middle;'></progress>\n",
       "      [1250/1250 03:58]\n",
       "    </div>\n",
       "    "
      ],
      "text/plain": [
       "<IPython.core.display.HTML object>"
      ]
     },
     "metadata": {},
     "output_type": "display_data"
    },
    {
     "name": "stdout",
     "output_type": "stream",
     "text": [
      "Eval: {'eval_loss': 0.18934723734855652, 'eval_runtime': 239.1882, 'eval_samples_per_second': 5.226, 'eval_steps_per_second': 5.226, 'epoch': 2.0}\n"
     ]
    }
   ],
   "source": [
    "# Eval\n",
    "eval_metrics = trainer.evaluate()\n",
    "print(\"Eval:\", eval_metrics)"
   ]
  },
  {
   "cell_type": "code",
   "execution_count": 21,
   "id": "1c3cdf43",
   "metadata": {},
   "outputs": [],
   "source": [
    "# Collect Trainer logs\n",
    "diag_dir = os.path.join(args.output_dir, \"diagnostics\")\n",
    "os.makedirs(diag_dir, exist_ok=True)\n",
    "\n",
    "log_df = pd.DataFrame(trainer.state.log_history)\n",
    "log_csv = os.path.join(diag_dir, \"trainer_log_history.csv\")\n",
    "log_df.to_csv(log_csv, index=False)"
   ]
  },
  {
   "cell_type": "code",
   "execution_count": 24,
   "id": "72b6667a",
   "metadata": {},
   "outputs": [],
   "source": [
    "import matplotlib.pyplot as plt"
   ]
  },
  {
   "cell_type": "code",
   "execution_count": 25,
   "id": "4baaa6ad",
   "metadata": {},
   "outputs": [],
   "source": [
    "# Training loss over steps\n",
    "fig1 = plt.figure(figsize=(7,4))\n",
    "tmp = log_df[log_df[\"loss\"].notna()]\n",
    "plt.plot(tmp[\"step\"], tmp[\"loss\"])\n",
    "plt.xlabel(\"Step\")\n",
    "plt.ylabel(\"Training loss\")\n",
    "plt.title(\"Training loss vs. step\")\n",
    "plt.grid(True, alpha=0.3)\n",
    "loss_png = os.path.join(diag_dir, \"train_loss.png\")\n",
    "plt.tight_layout(); fig1.savefig(loss_png, dpi=150); plt.close(fig1)"
   ]
  },
  {
   "cell_type": "code",
   "execution_count": 26,
   "id": "06fe24ea",
   "metadata": {},
   "outputs": [
    {
     "name": "stdout",
     "output_type": "stream",
     "text": [
      "\n",
      "=== Run summary ===\n",
      "best_checkpoint: runs/llama_pairwise_lora\\checkpoint-800\n",
      "train_runtime_s: 12656.7999\n",
      "train_samples_per_second: 1.58\n",
      "train_steps_per_second: 0.099\n",
      "final_train_loss: 0.21000949096679689\n",
      "final_eval_loss: 0.18934723734855652\n",
      "final_eval_perplexity: 1.2084605022576498\n",
      "num_train_examples: 10000\n",
      "num_eval_examples: 1250\n",
      "effective_batch_size: 16\n",
      "scheduler: SchedulerType.COSINE\n",
      "warmup_ratio: 0.03\n",
      "logging_steps: 50\n",
      "eval_steps: 400\n",
      "\n",
      "Artifacts saved to: runs/llama_pairwise_lora\\diagnostics\n",
      "- Logs CSV: runs/llama_pairwise_lora\\diagnostics\\trainer_log_history.csv\n",
      "- Plots: runs/llama_pairwise_lora\\diagnostics\\train_loss.png, runs/llama_pairwise_lora\\diagnostics\\eval_loss.png, runs/llama_pairwise_lora\\diagnostics\\learning_rate.png\n"
     ]
    }
   ],
   "source": [
    "# Eval loss over steps\n",
    "if \"eval_loss\" in log_df.columns and log_df[\"eval_loss\"].notna().any():\n",
    "    fig2 = plt.figure(figsize=(7,4))\n",
    "    tmpe = log_df[log_df[\"eval_loss\"].notna()]\n",
    "    plt.plot(tmpe[\"step\"], tmpe[\"eval_loss\"])\n",
    "    plt.xlabel(\"Step\")\n",
    "    plt.ylabel(\"Eval loss\")\n",
    "    plt.title(\"Eval loss vs. step\")\n",
    "    plt.grid(True, alpha=0.3)\n",
    "    eval_png = os.path.join(diag_dir, \"eval_loss.png\")\n",
    "    plt.tight_layout(); fig2.savefig(eval_png, dpi=150); plt.close(fig2)\n",
    "\n",
    "# Learning rate over steps\n",
    "if \"learning_rate\" in log_df.columns and log_df[\"learning_rate\"].notna().any():\n",
    "    fig3 = plt.figure(figsize=(7,4))\n",
    "    tmplr = log_df[log_df[\"learning_rate\"].notna()]\n",
    "    plt.plot(tmplr[\"step\"], tmplr[\"learning_rate\"])\n",
    "    plt.xlabel(\"Step\")\n",
    "    plt.ylabel(\"Learning rate\")\n",
    "    plt.title(\"LR schedule\")\n",
    "    plt.grid(True, alpha=0.3)\n",
    "    lr_png = os.path.join(diag_dir, \"learning_rate.png\")\n",
    "    plt.tight_layout(); fig3.savefig(lr_png, dpi=150); plt.close(fig3)\n",
    "\n",
    "# Concise summary JSON\n",
    "best_ckpt = trainer.state.best_model_checkpoint\n",
    "train_metrics = train_out.metrics if hasattr(train_out, \"metrics\") else {}\n",
    "final_eval = eval_metrics if isinstance(eval_metrics, dict) else {}\n",
    "\n",
    "summary = {\n",
    "    \"best_checkpoint\": best_ckpt,\n",
    "    \"train_runtime_s\": train_metrics.get(\"train_runtime\", None),\n",
    "    \"train_samples_per_second\": train_metrics.get(\"train_samples_per_second\", None),\n",
    "    \"train_steps_per_second\": train_metrics.get(\"train_steps_per_second\", None),\n",
    "    \"final_train_loss\": train_metrics.get(\"train_loss\", None),\n",
    "    \"final_eval_loss\": final_eval.get(\"eval_loss\", None),\n",
    "    \"final_eval_perplexity\": (\n",
    "        float(math.exp(final_eval[\"eval_loss\"])) if final_eval.get(\"eval_loss\") is not None else None\n",
    "    ),\n",
    "    \"num_train_examples\": len(dset[\"train\"]),\n",
    "    \"num_eval_examples\": len(dset[\"val\"]),\n",
    "    \"effective_batch_size\": bsz * grad_acc,\n",
    "    \"scheduler\": str(args.lr_scheduler_type),\n",
    "    \"warmup_ratio\": args.warmup_ratio,\n",
    "    \"logging_steps\": args.logging_steps,\n",
    "    \"eval_steps\": args.eval_steps,\n",
    "}\n",
    "with open(os.path.join(diag_dir, \"summary.json\"), \"w\") as f:\n",
    "    json.dump(summary, f, indent=2)\n",
    "\n",
    "print(\"\\n=== Run summary ===\")\n",
    "for k, v in summary.items():\n",
    "    print(f\"{k}: {v}\")\n",
    "\n",
    "print(f\"\\nArtifacts saved to: {diag_dir}\")\n",
    "print(f\"- Logs CSV: {log_csv}\")\n",
    "print(f\"- Plots: {loss_png}\" + (f\", {eval_png}\" if 'eval_png' in locals() else \"\") + (f\", {lr_png}\" if 'lr_png' in locals() else \"\"))"
   ]
  },
  {
   "cell_type": "markdown",
   "id": "3d80ba66",
   "metadata": {},
   "source": [
    "### Observation: Perplexity Score\n",
    "\n",
    "The **final evaluation perplexity** reported is **1.208**, computed as:\n",
    "\n",
    "$$\n",
    "\\text{Perplexity} = e^{\\mathcal{L}_{eval}} = e^{0.1893} = 1.208\n",
    "$$\n",
    "\n",
    "This value indicates an **exceptionally confident and accurate model**.  \n",
    "A perplexity close to **1.0** means the model assigns very high probability to the correct target tokens, in this case, the numeric similarity scores and the end-of-sequence token.  \n",
    "\n",
    "Given that each example supervises only a few tokens (typically one or two digits plus `<eos>`), a low perplexity is expected and desirable.  \n",
    "It confirms that the **LoRA fine-tuning** successfully aligned the model’s output distribution to the task, achieving high certainty and consistency in predicting the correct numerical outputs.\n"
   ]
  },
  {
   "cell_type": "code",
   "execution_count": 31,
   "id": "1b2cf99a",
   "metadata": {},
   "outputs": [],
   "source": [
    "import matplotlib.image as mpimg\n",
    "import math"
   ]
  },
  {
   "cell_type": "code",
   "execution_count": 32,
   "id": "744b4680",
   "metadata": {},
   "outputs": [
    {
     "data": {
      "image/png": "[encoded data removed]",
      "text/plain": [
       "<Figure size 1800x400 with 3 Axes>"
      ]
     },
     "metadata": {},
     "output_type": "display_data"
    }
   ],
   "source": [
    "# Visualize the plots\n",
    "diag_dir = os.path.join(\"runs\", \"llama_pairwise_lora\", \"diagnostics\")\n",
    "files = [\"train_loss.png\", \"eval_loss.png\", \"learning_rate.png\"]\n",
    "paths = [os.path.join(diag_dir, f) for f in files if os.path.exists(os.path.join(diag_dir, f))]\n",
    "\n",
    "if not paths:\n",
    "    print(\"No images found.\")\n",
    "else:\n",
    "    n = len(paths)\n",
    "    fig, axes = plt.subplots(1, n, figsize=(6*n, 4))\n",
    "    if n == 1:\n",
    "        axes = [axes]  # normalize to list\n",
    "    for ax, p in zip(axes, paths):\n",
    "        ax.imshow(mpimg.imread(p))\n",
    "        ax.set_title(os.path.basename(p))\n",
    "        ax.axis(\"off\")\n",
    "    plt.tight_layout()\n",
    "    plt.show()\n",
    "\n"
   ]
  },
  {
   "cell_type": "markdown",
   "id": "185d7822",
   "metadata": {},
   "source": [
    "### TensorBoard - Training and Evaluation Results \n",
    "<img src=\"./sup_imgs/TensorBoard_results.png\" width=\"1500\" style=\"vertical-align: middle;\"/>"
   ]
  },
  {
   "cell_type": "markdown",
   "id": "cdf29f91",
   "metadata": {},
   "source": [
    "### Training Summary\n",
    "\n",
    "- **Training convergence:** The loss curves show a healthy training trajectory.  \n",
    "  - **Training loss** decreases rapidly at the start and then stabilizes around **0.21**.  \n",
    "  - **Evaluation loss** follows a similar pattern, reaching its minimum near **step 800**, with a small uptick afterwards, indicating the best checkpoint is likely **`checkpoint-800`**.\n",
    "\n",
    "- **Metrics:**\n",
    "  - Final **train loss ≈ 0.210**\n",
    "  - Final **eval loss ≈ 0.189**\n",
    "  - **Perplexity ≈ 1.21** tight fit, no sign of overfitting.\n",
    "\n",
    "- **Learning rate schedule:** The cosine decay performed as expected. A smooth reduction toward zero as training progressed, aligning with the stable losses in the later steps.\n",
    "\n",
    "- **Training performance:**  \n",
    "  Throughput remained consistent at ~**0.099 steps/s**, with an effective batch size of **16** (gradient accumulation) over **10,000 train** and **1,250 validation** samples.\n",
    "\n",
    "**Interpretation:**  \n",
    "The model converged cleanly and efficiently under LoRA fine-tuning.  \n",
    "Validation loss improvement plateaued around step 800, so that checkpoint should be selected for downstream evaluation and inference.  \n",
    "The slight late-stage rise in eval loss matches the decayed learning rate, expected behavior indicating convergence rather than instability.\n"
   ]
  },
  {
   "cell_type": "code",
   "execution_count": 33,
   "id": "213e460c",
   "metadata": {},
   "outputs": [
    {
     "name": "stdout",
     "output_type": "stream",
     "text": [
      "Saved LoRA adapter -> runs/llama_pairwise_lora/adapter\n"
     ]
    }
   ],
   "source": [
    "# Save adapter + tokenizer\n",
    "adapter_dir = \"runs/llama_pairwise_lora/adapter\"\n",
    "trainer.save_model(adapter_dir)\n",
    "tok.save_pretrained(\"runs/llama_pairwise_lora/tokenizer\")\n",
    "print(\"Saved LoRA adapter ->\", adapter_dir)"
   ]
  },
  {
   "cell_type": "markdown",
   "id": "7f23ffc2",
   "metadata": {},
   "source": [
    "We saved only the trainable LoRA parameters (the low-rank adapters), small, efficient deltas that can later be re-attached to the frozen base model."
   ]
  },
  {
   "cell_type": "markdown",
   "id": "a23b8254",
   "metadata": {},
   "source": [
    "### Saving the LoRA Adapter and Tokenizer\n",
    "\n",
    "At this stage, we save only the **LoRA adapter parameters**, not the entire base model. These adapter weights contain the **low-rank matrices (A and B)** learned during fine-tuning, which represent the task-specific updates added to the frozen **LLaMA-3.2-3B** base model.\n",
    "\n",
    "Because LoRA stores only these lightweight deltas (usually a few MB), the base model remains unchanged and can be reused for other tasks. Later, during inference or evaluation, these adapters will be **loaded back onto the base model** to recreate the fine-tuned version of the LLM.\n",
    "\n",
    "The **tokenizer** is also saved to preserve the same tokenization rules used during training, ensuring consistency in all future inference runs."
   ]
  },
  {
   "cell_type": "markdown",
   "id": "36c33a77",
   "metadata": {},
   "source": [
    "----"
   ]
  }
 ],
 "metadata": {
  "kernelspec": {
   "display_name": "Pot-Tals_LLM_training_env",
   "language": "python",
   "name": "pot-tals_llm_training_env"
  },
  "language_info": {
   "codemirror_mode": {
    "name": "ipython",
    "version": 3
   },
   "file_extension": ".py",
   "mimetype": "text/x-python",
   "name": "python",
   "nbconvert_exporter": "python",
   "pygments_lexer": "ipython3",
   "version": "3.12.7"
  }
 },
 "nbformat": 4,
 "nbformat_minor": 5
}
