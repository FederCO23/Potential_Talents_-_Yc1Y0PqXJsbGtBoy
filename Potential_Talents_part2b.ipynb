{
 "cells": [
  {
   "cell_type": "markdown",
   "id": "b22c4196",
   "metadata": {},
   "source": [
    "### Potential Talents - Part 2b"
   ]
  },
  {
   "cell_type": "markdown",
   "id": "2956a14e",
   "metadata": {},
   "source": [
    "----"
   ]
  },
  {
   "cell_type": "markdown",
   "id": "716b8abb",
   "metadata": {},
   "source": [
    "### Objectives:\n",
    "\n",
    "As a continuation of Part 1 and Part 2, this notebook aims to apply Word2Vec embeddings to the dataset and compare results with the previous parts.\n",
    "\n",
    "### Summary:\n",
    "    1) Setup & Data\n",
    "    2) \n",
    "    3) \n",
    "    "
   ]
  },
  {
   "cell_type": "markdown",
   "id": "b8e935cd",
   "metadata": {},
   "source": [
    "----\n"
   ]
  },
  {
   "cell_type": "markdown",
   "id": "13000046",
   "metadata": {},
   "source": [
    "## 0. Setup & Data"
   ]
  },
  {
   "cell_type": "code",
   "execution_count": 1,
   "id": "2569f4d5",
   "metadata": {},
   "outputs": [],
   "source": [
    "import os, math, random\n",
    "import numpy as np\n",
    "import pandas as pd\n",
    "import torch\n",
    "from torch import nn"
   ]
  },
  {
   "cell_type": "code",
   "execution_count": 2,
   "id": "880ab4da",
   "metadata": {},
   "outputs": [
    {
     "data": {
      "text/plain": [
       "device(type='cuda')"
      ]
     },
     "execution_count": 2,
     "metadata": {},
     "output_type": "execute_result"
    }
   ],
   "source": [
    "SEED = 23\n",
    "random.seed(SEED); np.random.seed(SEED); torch.manual_seed(SEED); torch.cuda.manual_seed_all(SEED)\n",
    "device = torch.device('cuda' if torch.cuda.is_available() else 'cpu')\n",
    "device\n"
   ]
  },
  {
   "cell_type": "code",
   "execution_count": 3,
   "id": "b55d5b25",
   "metadata": {},
   "outputs": [
    {
     "data": {
      "text/plain": [
       "(104,\n",
       " ['2019 C.T. Bauer College of Business Graduate (Magna Cum Laude) and aspiring Human Resources professional',\n",
       "  'Native English Teacher at EPIK (English Program in Korea)',\n",
       "  'Aspiring Human Resources Professional',\n",
       "  'People Development Coordinator at Ryan',\n",
       "  'Advisory Board Member at Celal Bayar University'])"
      ]
     },
     "execution_count": 3,
     "metadata": {},
     "output_type": "execute_result"
    }
   ],
   "source": [
    "df = pd.read_csv(\"./data/potential_talents.csv\")\n",
    "titles = df[\"job_title\"].astype(str).tolist()\n",
    "len(titles), titles[:5]\n"
   ]
  },
  {
   "cell_type": "markdown",
   "id": "004ca327",
   "metadata": {},
   "source": [
    "## 1. Load custom SGNS embeddings from Part 2"
   ]
  },
  {
   "cell_type": "code",
   "execution_count": 4,
   "id": "afffda27",
   "metadata": {},
   "outputs": [],
   "source": [
    "# Load SGNS checkpoint (from Part 2)\n",
    "ckpt_path = \"checkpoints/sgns_text8.pt\"\n",
    "ckpt = torch.load(ckpt_path, map_location=\"cpu\")\n"
   ]
  },
  {
   "cell_type": "code",
   "execution_count": 5,
   "id": "39debf4d",
   "metadata": {},
   "outputs": [
    {
     "data": {
      "text/plain": [
       "dict_keys(['model_state', 'itos', 'config'])"
      ]
     },
     "execution_count": 5,
     "metadata": {},
     "output_type": "execute_result"
    }
   ],
   "source": [
    "ckpt.keys()"
   ]
  },
  {
   "cell_type": "code",
   "execution_count": 6,
   "id": "497a75aa",
   "metadata": {},
   "outputs": [
    {
     "data": {
      "text/plain": [
       "{'embed_dim': 300}"
      ]
     },
     "execution_count": 6,
     "metadata": {},
     "output_type": "execute_result"
    }
   ],
   "source": [
    "ckpt['config'] "
   ]
  },
  {
   "cell_type": "code",
   "execution_count": 7,
   "id": "91765b8f",
   "metadata": {},
   "outputs": [
    {
     "data": {
      "text/plain": [
       "['a', 'aa', 'aaa', 'aaaa', 'aaai', 'aaas', 'aac', 'aachen', 'aafc', 'aage']"
      ]
     },
     "execution_count": 7,
     "metadata": {},
     "output_type": "execute_result"
    }
   ],
   "source": [
    "ckpt['itos'][:10] "
   ]
  },
  {
   "cell_type": "code",
   "execution_count": 8,
   "id": "90d2d9eb",
   "metadata": {},
   "outputs": [
    {
     "name": "stdout",
     "output_type": "stream",
     "text": [
      "<class 'collections.OrderedDict'>\n",
      "odict_keys(['emb_in.weight', 'emb_out.weight'])\n"
     ]
    }
   ],
   "source": [
    "print(type(ckpt['model_state']))\n",
    "print(ckpt['model_state'].keys())"
   ]
  },
  {
   "cell_type": "code",
   "execution_count": 9,
   "id": "639e306d",
   "metadata": {},
   "outputs": [
    {
     "data": {
      "text/plain": [
       "torch.Size([71290, 300])"
      ]
     },
     "execution_count": 9,
     "metadata": {},
     "output_type": "execute_result"
    }
   ],
   "source": [
    "itos = ckpt[\"itos\"]\n",
    "stoi = {w:i for i,w in enumerate(itos)}\n",
    "\n",
    "E_in  = ckpt[\"model_state\"][\"emb_in.weight\"].detach().float()   # [|V|, D]\n",
    "E_out = ckpt[\"model_state\"][\"emb_out.weight\"].detach().float()  # [|V|, D]\n",
    "\n",
    "# as in Part2, use the avg \n",
    "E_comb = 0.5 * (E_in + E_out)\n",
    "E_comb = E_comb / (E_comb.norm(dim=1, keepdim=True) + 1e-12)\n",
    "\n",
    "E_comb.shape\n"
   ]
  },
  {
   "cell_type": "markdown",
   "id": "ae81898e",
   "metadata": {},
   "source": [
    "## 2) Tokenization for titles (keep it simple & consistent)"
   ]
  },
  {
   "cell_type": "code",
   "execution_count": 10,
   "id": "954d026c",
   "metadata": {},
   "outputs": [],
   "source": [
    "import nltk, string\n",
    "from nltk.corpus import stopwords\n",
    "_ = nltk.download('stopwords', quiet=True)\n",
    "stop = set(stopwords.words('english'))"
   ]
  },
  {
   "cell_type": "code",
   "execution_count": 11,
   "id": "577add51",
   "metadata": {},
   "outputs": [
    {
     "data": {
      "text/plain": [
       "[['bauer',\n",
       "  'college',\n",
       "  'business',\n",
       "  'graduate',\n",
       "  'magna',\n",
       "  'cum',\n",
       "  'laude',\n",
       "  'aspiring',\n",
       "  'human',\n",
       "  'resources',\n",
       "  'professional'],\n",
       " ['native', 'english', 'teacher', 'epik', 'english', 'program', 'korea'],\n",
       " ['aspiring', 'human', 'resources', 'professional'],\n",
       " ['people', 'development', 'coordinator', 'ryan'],\n",
       " ['advisory', 'board', 'member', 'celal', 'bayar', 'university']]"
      ]
     },
     "execution_count": 11,
     "metadata": {},
     "output_type": "execute_result"
    }
   ],
   "source": [
    "def tokenize_title(s: str):\n",
    "    toks = nltk.word_tokenize(s.lower())\n",
    "    toks = [t for t in toks if t.isalpha() and t not in stop]\n",
    "    return toks\n",
    "\n",
    "# quick check\n",
    "[tokenize_title(t) for t in titles[:5]]\n"
   ]
  },
  {
   "cell_type": "markdown",
   "id": "451437b3",
   "metadata": {},
   "source": [
    "## 3) Encode a title as the mean of its word vectors"
   ]
  },
  {
   "cell_type": "code",
   "execution_count": 12,
   "id": "ed440d79",
   "metadata": {},
   "outputs": [],
   "source": [
    "E = E_comb\n",
    "\n",
    "@torch.no_grad()\n",
    "def encode_title_mean(text: str, E: torch.Tensor, stoi: dict) -> torch.Tensor | None:\n",
    "    toks = tokenize_title(text)\n",
    "    idxs = [stoi[t] for t in toks if t in stoi]\n",
    "    if not idxs:\n",
    "        return None\n",
    "    v = E[idxs].mean(dim=0)                     # [D]\n",
    "    v = v / (v.norm() + 1e-12)\n",
    "    return v\n"
   ]
  },
  {
   "cell_type": "code",
   "execution_count": 13,
   "id": "64e75448",
   "metadata": {},
   "outputs": [
    {
     "data": {
      "text/plain": [
       "(torch.Size([104, 300]), 104)"
      ]
     },
     "execution_count": 13,
     "metadata": {},
     "output_type": "execute_result"
    }
   ],
   "source": [
    "# Rebuild title matrix with the combined embeddings\n",
    "vecs, keep_idx = [], []\n",
    "for i, title in enumerate(titles):\n",
    "    v = encode_title_mean(title, E, stoi)\n",
    "    if v is not None:\n",
    "        vecs.append(v); keep_idx.append(i)\n",
    "\n",
    "X_sgns_mean = torch.stack(vecs)\n",
    "X_sgns_mean.shape, len(keep_idx)\n"
   ]
  },
  {
   "cell_type": "code",
   "execution_count": 14,
   "id": "d79775b2",
   "metadata": {},
   "outputs": [
    {
     "data": {
      "text/plain": [
       "tensor([ 0.0010, -0.0303,  0.0651, -0.0663, -0.0404, -0.0476,  0.0403, -0.0595,\n",
       "         0.0352, -0.0484, -0.0376,  0.0648,  0.0703, -0.0477, -0.0194,  0.1158,\n",
       "         0.0858,  0.0168,  0.0403, -0.0885,  0.0790, -0.0618, -0.0513, -0.0460,\n",
       "        -0.0441, -0.0848,  0.0321, -0.0292,  0.0228, -0.0468, -0.0273, -0.0319,\n",
       "        -0.0224, -0.0855,  0.0183, -0.0973,  0.0301, -0.0545, -0.0505,  0.0039,\n",
       "        -0.0549,  0.0670, -0.0902, -0.0133,  0.0439, -0.0195, -0.0816,  0.0623,\n",
       "         0.0429, -0.0189,  0.1062,  0.0619, -0.0351, -0.0368,  0.0094,  0.0243,\n",
       "         0.0165, -0.0819,  0.0758,  0.0360,  0.0292,  0.0627, -0.1044,  0.0531,\n",
       "         0.0519, -0.0369, -0.0752,  0.0118,  0.0724, -0.0568,  0.0394, -0.0821,\n",
       "        -0.0056,  0.0752,  0.0618,  0.0449,  0.0371,  0.0209,  0.0658, -0.0298,\n",
       "         0.0446, -0.0505, -0.0520, -0.0280,  0.0277, -0.0409, -0.0103, -0.0552,\n",
       "        -0.0658, -0.0627, -0.0144, -0.0286,  0.0634,  0.0281,  0.0396,  0.0742,\n",
       "        -0.0670,  0.0914,  0.0535,  0.0512,  0.0344,  0.0452, -0.0943,  0.0805,\n",
       "        -0.0775, -0.0270,  0.0461,  0.0663,  0.0556, -0.0278, -0.0396, -0.0672,\n",
       "        -0.0409,  0.0701, -0.1100,  0.0296,  0.0779,  0.0709, -0.0724,  0.0259,\n",
       "         0.0186, -0.0292, -0.0425, -0.0634,  0.0388, -0.0622,  0.0582, -0.0259,\n",
       "         0.0099, -0.0905, -0.0866,  0.0637, -0.0290, -0.0903, -0.0296, -0.0382,\n",
       "        -0.0930,  0.1113,  0.0175,  0.0767, -0.0528,  0.0839, -0.0686, -0.0744,\n",
       "         0.0726,  0.0392,  0.0047, -0.0662,  0.1035, -0.0421, -0.0138,  0.1004,\n",
       "         0.0511,  0.0515, -0.0282, -0.0549,  0.0244,  0.0557, -0.0510, -0.0833,\n",
       "         0.0462,  0.0802, -0.0898, -0.0400, -0.0649, -0.0817,  0.0295,  0.0931,\n",
       "         0.0616, -0.0143,  0.0335, -0.0391,  0.0313, -0.0865, -0.0513,  0.0391,\n",
       "         0.0435, -0.0586, -0.0659,  0.0500,  0.0710, -0.0769,  0.0231,  0.0271,\n",
       "        -0.0220,  0.0557,  0.1020,  0.0774,  0.0018,  0.0503, -0.0773,  0.0223,\n",
       "         0.0388, -0.0369,  0.0454,  0.0470, -0.0225,  0.0958, -0.0245,  0.0138,\n",
       "         0.0359,  0.0527,  0.0685,  0.0748, -0.0319, -0.0183,  0.0514, -0.0208,\n",
       "        -0.0609,  0.0393,  0.0442, -0.0660,  0.0258, -0.0585, -0.0457,  0.0731,\n",
       "        -0.0440, -0.0482,  0.0766, -0.0764,  0.0661, -0.0438,  0.0037,  0.0737,\n",
       "         0.0679, -0.0321, -0.0209,  0.0852,  0.0373, -0.0459, -0.0456, -0.0844,\n",
       "        -0.0417,  0.0202,  0.0637,  0.0518,  0.0372, -0.0790,  0.0354,  0.0613,\n",
       "        -0.0305,  0.0983,  0.0490,  0.0131,  0.0263,  0.0495,  0.0550, -0.0775,\n",
       "        -0.0331, -0.0325, -0.0758,  0.0496,  0.0281,  0.0371, -0.0670,  0.0108,\n",
       "        -0.1240,  0.0460,  0.0392, -0.0326,  0.0880,  0.0350,  0.0815, -0.0407,\n",
       "         0.0552, -0.0783, -0.0690,  0.0245,  0.0665, -0.0927,  0.0258, -0.0787,\n",
       "        -0.0738,  0.0727, -0.0460,  0.0484, -0.0340, -0.0638,  0.0339,  0.0137,\n",
       "         0.0618, -0.0552, -0.0876,  0.0824,  0.0477, -0.0953,  0.0475, -0.0727,\n",
       "         0.0997, -0.0198, -0.0694, -0.0595, -0.0845,  0.0440, -0.0663, -0.0562,\n",
       "         0.0009,  0.0266, -0.0460,  0.0983])"
      ]
     },
     "execution_count": 14,
     "metadata": {},
     "output_type": "execute_result"
    }
   ],
   "source": [
    "X_sgns_mean[0] "
   ]
  },
  {
   "cell_type": "code",
   "execution_count": 15,
   "id": "d1571ee5",
   "metadata": {},
   "outputs": [],
   "source": [
    "import matplotlib.pyplot as plt"
   ]
  },
  {
   "cell_type": "code",
   "execution_count": 16,
   "id": "bed2898a",
   "metadata": {},
   "outputs": [
    {
     "data": {
      "image/png": "[encoded data removed]",
      "text/plain": [
       "<Figure size 1200x600 with 1 Axes>"
      ]
     },
     "metadata": {},
     "output_type": "display_data"
    }
   ],
   "source": [
    "plt.figure(figsize=(12, 6))\n",
    "plt.bar(range(300), X_sgns_mean[0], color='skyblue', edgecolor='black')\n",
    "plt.title(\"custom word2vec - vector values\")\n",
    "plt.xlabel(\"features\")\n",
    "plt.ylabel(\"values\")\n",
    "plt.tight_layout()\n",
    "plt.show()"
   ]
  },
  {
   "cell_type": "markdown",
   "id": "8808fea8",
   "metadata": {},
   "source": [
    "### 4) Cosine search over titles (dot product of normalized vectors)"
   ]
  },
  {
   "cell_type": "code",
   "execution_count": 17,
   "id": "719c5451",
   "metadata": {},
   "outputs": [],
   "source": [
    "# search using cosine similarity\n",
    "@torch.no_grad()\n",
    "def search_titles(query: str, X: torch.Tensor, titles: list[str], topk: int = 10):\n",
    "    # use E (E_comb), not E_in\n",
    "    q = encode_title_mean(query, E, stoi)\n",
    "    if q is None:\n",
    "        return [], \"Query has no in-vocab tokens.\"\n",
    "    sims = (X @ q)                               # [N_kept], cosine since rows are L2-normalized\n",
    "    top = torch.topk(sims, k=min(topk, sims.numel()))\n",
    "    rows = [(titles[keep_idx[i]], float(top.values[j].item())) \n",
    "            for j, i in enumerate(top.indices.tolist())]\n",
    "    return rows, None"
   ]
  },
  {
   "cell_type": "code",
   "execution_count": 18,
   "id": "d94e738e",
   "metadata": {},
   "outputs": [
    {
     "name": "stdout",
     "output_type": "stream",
     "text": [
      "\n",
      "Query: data scientist\n",
      "   0.819  Information Systems Specialist and Programmer with a love for data and organization.\n",
      "   0.726  Business Intelligence and Analytics at Travelers\n",
      "   0.718  SVP, CHRO, Marketing & Communications, CSR Officer | ENGIE | Houston | The Woodlands | Energy | GPHR | SPHR\n",
      "   0.718  SVP, CHRO, Marketing & Communications, CSR Officer | ENGIE | Houston | The Woodlands | Energy | GPHR | SPHR\n",
      "   0.718  SVP, CHRO, Marketing & Communications, CSR Officer | ENGIE | Houston | The Woodlands | Energy | GPHR | SPHR\n",
      "   0.718  SVP, CHRO, Marketing & Communications, CSR Officer | ENGIE | Houston | The Woodlands | Energy | GPHR | SPHR\n",
      "   0.711  Undergraduate Research Assistant at Styczynski Lab\n",
      "   0.710  Human Resources professional for the world leader in GIS software\n",
      "   0.706  Student at Indiana University Kokomo - Business Management - \n",
      "Retail Manager at Delphi Hardware and Paint\n",
      "   0.705  Junior MES Engineer| Information Systems\n",
      "\n",
      "Query: machine learning engineer\n",
      "   0.795  Student at Indiana University Kokomo - Business Management - \n",
      "Retail Manager at Delphi Hardware and Paint\n",
      "   0.776  Business Intelligence and Analytics at Travelers\n",
      "   0.768  2019 C.T. Bauer College of Business Graduate (Magna Cum Laude) and aspiring Human Resources professional\n",
      "   0.768  2019 C.T. Bauer College of Business Graduate (Magna Cum Laude) and aspiring Human Resources professional\n",
      "   0.768  2019 C.T. Bauer College of Business Graduate (Magna Cum Laude) and aspiring Human Resources professional\n",
      "   0.768  2019 C.T. Bauer College of Business Graduate (Magna Cum Laude) and aspiring Human Resources professional\n",
      "   0.768  2019 C.T. Bauer College of Business Graduate (Magna Cum Laude) and aspiring Human Resources professional\n",
      "   0.768  2019 C.T. Bauer College of Business Graduate (Magna Cum Laude) and aspiring Human Resources professional\n",
      "   0.768  2019 C.T. Bauer College of Business Graduate (Magna Cum Laude) and aspiring Human Resources professional\n",
      "   0.766  Information Systems Specialist and Programmer with a love for data and organization.\n",
      "\n",
      "Query: backend developer\n",
      "   0.806  Student at Indiana University Kokomo - Business Management - \n",
      "Retail Manager at Delphi Hardware and Paint\n",
      "   0.760  Human Resources professional for the world leader in GIS software\n",
      "   0.749  Information Systems Specialist and Programmer with a love for data and organization.\n",
      "   0.744  Business Management Major and Aspiring Human Resources Manager\n",
      "   0.740  Experienced Retail Manager and aspiring Human Resources Professional\n",
      "   0.737  People Development Coordinator at Ryan\n",
      "   0.737  People Development Coordinator at Ryan\n",
      "   0.737  People Development Coordinator at Ryan\n",
      "   0.737  People Development Coordinator at Ryan\n",
      "   0.737  People Development Coordinator at Ryan\n",
      "\n",
      "Query: product manager\n",
      "   0.748  Student at Indiana University Kokomo - Business Management - \n",
      "Retail Manager at Delphi Hardware and Paint\n",
      "   0.746  Business Management Major and Aspiring Human Resources Manager\n",
      "   0.735  Experienced Retail Manager and aspiring Human Resources Professional\n",
      "   0.718  People Development Coordinator at Ryan\n",
      "   0.718  People Development Coordinator at Ryan\n",
      "   0.718  People Development Coordinator at Ryan\n",
      "   0.718  People Development Coordinator at Ryan\n",
      "   0.718  People Development Coordinator at Ryan\n",
      "   0.718  People Development Coordinator at Ryan\n",
      "   0.709  HR Manager at Endemol Shine North America\n"
     ]
    }
   ],
   "source": [
    "# quick test\n",
    "for q in [\"data scientist\", \"machine learning engineer\", \"backend developer\", \"product manager\"]:\n",
    "    res, err = search_titles(q, X_sgns_mean, titles, topk=10)\n",
    "    print(f\"\\nQuery: {q}\")\n",
    "    if err: \n",
    "        print(\"  \", err)\n",
    "    else:\n",
    "        for t, s in res:\n",
    "            print(f\"  {s: .3f}  {t}\")\n"
   ]
  },
  {
   "cell_type": "markdown",
   "id": "94fc185b",
   "metadata": {},
   "source": [
    "## 4) Experiment with the GoogleNews Word2Vec vectors"
   ]
  },
  {
   "cell_type": "markdown",
   "id": "d94077d1",
   "metadata": {},
   "source": [
    "A) Using Gensim’s downloader (auto-download, ~1.6GB):"
   ]
  },
  {
   "cell_type": "code",
   "execution_count": 19,
   "id": "f9f62afb",
   "metadata": {},
   "outputs": [],
   "source": [
    "import gensim.downloader as api"
   ]
  },
  {
   "cell_type": "code",
   "execution_count": null,
   "id": "fee200db",
   "metadata": {},
   "outputs": [
    {
     "name": "stdout",
     "output_type": "stream",
     "text": [
      "[=============================---------------------] 59.7% 992.5/1662.8MB downloaded"
     ]
    }
   ],
   "source": [
    "w2v = api.load(\"word2vec-google-news-300\")"
   ]
  },
  {
   "cell_type": "code",
   "execution_count": null,
   "id": "766507ba",
   "metadata": {},
   "outputs": [],
   "source": [
    "print(\"vocab size:\", len(w2v), \"dim:\", w2v.vector_size)\n",
    "w2v.most_similar(\"king\")[:5]"
   ]
  },
  {
   "cell_type": "code",
   "execution_count": null,
   "id": "0e32ef1b",
   "metadata": {},
   "outputs": [],
   "source": []
  },
  {
   "cell_type": "code",
   "execution_count": null,
   "id": "7ced472e",
   "metadata": {},
   "outputs": [],
   "source": []
  },
  {
   "cell_type": "code",
   "execution_count": null,
   "id": "919ee408",
   "metadata": {},
   "outputs": [],
   "source": []
  },
  {
   "cell_type": "code",
   "execution_count": null,
   "id": "135d49f1",
   "metadata": {},
   "outputs": [],
   "source": []
  }
 ],
 "metadata": {
  "kernelspec": {
   "display_name": "Pot-Tals_env",
   "language": "python",
   "name": "pot-tals_env"
  },
  "language_info": {
   "codemirror_mode": {
    "name": "ipython",
    "version": 3
   },
   "file_extension": ".py",
   "mimetype": "text/x-python",
   "name": "python",
   "nbconvert_exporter": "python",
   "pygments_lexer": "ipython3",
   "version": "3.12.7"
  }
 },
 "nbformat": 4,
 "nbformat_minor": 5
}
