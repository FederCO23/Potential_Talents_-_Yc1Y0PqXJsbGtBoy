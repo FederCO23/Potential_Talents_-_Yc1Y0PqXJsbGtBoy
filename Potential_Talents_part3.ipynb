{
 "cells": [
  {
   "cell_type": "markdown",
   "id": "b22c4196",
   "metadata": {},
   "source": [
    "## Potential Talents - Part 3"
   ]
  },
  {
   "cell_type": "markdown",
   "id": "2956a14e",
   "metadata": {},
   "source": [
    "----"
   ]
  },
  {
   "cell_type": "markdown",
   "id": "716b8abb",
   "metadata": {},
   "source": [
    "### Objectives:\n",
    "\n",
    "Retrieve the most similar job titles to a query using several embedding families, and compare their rankings.\n",
    "\n",
    "### Summary:\n",
    "\n",
    "   0) Setup & Data\n",
    "   1) Load custom SGNS embeddings (from Part 2, mini-Word2Vec)\n",
    "   2) Tokenization for titles (keep it simple & consistent)\n",
    "   3) Custom mini-Word2Vec (my SGNS from part 2)\n",
    "   4) Word2Vec (Google)\n",
    "   5) GloVe (Stanford)\n",
    "   6) FastText (Meta)\n",
    "   7) BERT (Google; mean/CLS pooling)\n",
    "   8) Sentece-BERT (SBERT; sentence-level embeddings)\n",
    "   9) Ranking & side-by-side comparison (qualitative / quantitative)\n",
    "  "
   ]
  },
  {
   "cell_type": "markdown",
   "id": "b8e935cd",
   "metadata": {},
   "source": [
    "----\n"
   ]
  },
  {
   "cell_type": "markdown",
   "id": "13000046",
   "metadata": {},
   "source": [
    "## 0. Setup & Data"
   ]
  },
  {
   "cell_type": "code",
   "execution_count": 1,
   "id": "2569f4d5",
   "metadata": {},
   "outputs": [],
   "source": [
    "import os, math, random\n",
    "import numpy as np\n",
    "import pandas as pd\n",
    "import torch\n",
    "from torch import nn\n",
    "import sys"
   ]
  },
  {
   "cell_type": "code",
   "execution_count": 2,
   "id": "f9c2184b",
   "metadata": {},
   "outputs": [
    {
     "name": "stdout",
     "output_type": "stream",
     "text": [
      "python: e:\\Devs\\pyEnv-1\\venvs\\Pot-Tals_3_env\\Scripts\\python.exe\n",
      "torch file: e:\\Devs\\pyEnv-1\\venvs\\Pot-Tals_3_env\\Lib\\site-packages\\torch\\__init__.py\n",
      "torch version: 2.6.0+cu124\n",
      "torch.version.cuda: 12.4\n",
      "cuda available: True\n"
     ]
    }
   ],
   "source": [
    "print(\"python:\", sys.executable)\n",
    "print(\"torch file:\", torch.__file__)\n",
    "print(\"torch version:\", torch.__version__)\n",
    "print(\"torch.version.cuda:\", torch.version.cuda)\n",
    "print(\"cuda available:\", torch.cuda.is_available())"
   ]
  },
  {
   "cell_type": "code",
   "execution_count": 3,
   "id": "880ab4da",
   "metadata": {},
   "outputs": [
    {
     "data": {
      "text/plain": [
       "device(type='cuda')"
      ]
     },
     "execution_count": 3,
     "metadata": {},
     "output_type": "execute_result"
    }
   ],
   "source": [
    "SEED = 23\n",
    "random.seed(SEED); np.random.seed(SEED); torch.manual_seed(SEED); torch.cuda.manual_seed_all(SEED)\n",
    "device = torch.device('cuda' if torch.cuda.is_available() else 'cpu')\n",
    "device\n"
   ]
  },
  {
   "cell_type": "code",
   "execution_count": 4,
   "id": "b55d5b25",
   "metadata": {},
   "outputs": [
    {
     "data": {
      "text/plain": [
       "(104,\n",
       " ['2019 C.T. Bauer College of Business Graduate (Magna Cum Laude) and aspiring Human Resources professional',\n",
       "  'Native English Teacher at EPIK (English Program in Korea)',\n",
       "  'Aspiring Human Resources Professional',\n",
       "  'People Development Coordinator at Ryan',\n",
       "  'Advisory Board Member at Celal Bayar University'])"
      ]
     },
     "execution_count": 4,
     "metadata": {},
     "output_type": "execute_result"
    }
   ],
   "source": [
    "df = pd.read_csv(\"./data/potential_talents.csv\")\n",
    "titles = df[\"job_title\"].astype(str).tolist()\n",
    "len(titles), titles[:5]\n"
   ]
  },
  {
   "cell_type": "markdown",
   "id": "004ca327",
   "metadata": {},
   "source": [
    "## 1. Custom SGNS embeddings (from Part 2, mini-Word2Vec)"
   ]
  },
  {
   "cell_type": "code",
   "execution_count": 5,
   "id": "afffda27",
   "metadata": {},
   "outputs": [],
   "source": [
    "# Load SGNS checkpoint (from Part 2)\n",
    "ckpt_path = \"checkpoints/sgns_text8.pt\"\n",
    "ckpt = torch.load(ckpt_path, map_location=\"cpu\")\n"
   ]
  },
  {
   "cell_type": "code",
   "execution_count": 6,
   "id": "39debf4d",
   "metadata": {},
   "outputs": [
    {
     "data": {
      "text/plain": [
       "dict_keys(['model_state', 'itos', 'config'])"
      ]
     },
     "execution_count": 6,
     "metadata": {},
     "output_type": "execute_result"
    }
   ],
   "source": [
    "ckpt.keys()"
   ]
  },
  {
   "cell_type": "code",
   "execution_count": 7,
   "id": "497a75aa",
   "metadata": {},
   "outputs": [
    {
     "data": {
      "text/plain": [
       "{'embed_dim': 300}"
      ]
     },
     "execution_count": 7,
     "metadata": {},
     "output_type": "execute_result"
    }
   ],
   "source": [
    "ckpt['config'] "
   ]
  },
  {
   "cell_type": "code",
   "execution_count": 8,
   "id": "91765b8f",
   "metadata": {},
   "outputs": [
    {
     "data": {
      "text/plain": [
       "['a', 'aa', 'aaa', 'aaaa', 'aaai', 'aaas', 'aac', 'aachen', 'aafc', 'aage']"
      ]
     },
     "execution_count": 8,
     "metadata": {},
     "output_type": "execute_result"
    }
   ],
   "source": [
    "ckpt['itos'][:10] "
   ]
  },
  {
   "cell_type": "code",
   "execution_count": 9,
   "id": "90d2d9eb",
   "metadata": {},
   "outputs": [
    {
     "name": "stdout",
     "output_type": "stream",
     "text": [
      "<class 'collections.OrderedDict'>\n",
      "odict_keys(['emb_in.weight', 'emb_out.weight'])\n"
     ]
    }
   ],
   "source": [
    "print(type(ckpt['model_state']))\n",
    "print(ckpt['model_state'].keys())"
   ]
  },
  {
   "cell_type": "code",
   "execution_count": 10,
   "id": "639e306d",
   "metadata": {},
   "outputs": [
    {
     "data": {
      "text/plain": [
       "torch.Size([71290, 300])"
      ]
     },
     "execution_count": 10,
     "metadata": {},
     "output_type": "execute_result"
    }
   ],
   "source": [
    "itos = ckpt[\"itos\"]\n",
    "stoi = {w:i for i,w in enumerate(itos)}\n",
    "\n",
    "E_in  = ckpt[\"model_state\"][\"emb_in.weight\"].detach().float()   # [|V|, D]\n",
    "E_out = ckpt[\"model_state\"][\"emb_out.weight\"].detach().float()  # [|V|, D]\n",
    "\n",
    "# as in Part2, use the avg \n",
    "E_comb = 0.5 * (E_in + E_out)\n",
    "E_comb = E_comb / (E_comb.norm(dim=1, keepdim=True) + 1e-12)\n",
    "\n",
    "E_comb.shape\n"
   ]
  },
  {
   "cell_type": "markdown",
   "id": "ae81898e",
   "metadata": {},
   "source": [
    "## 2) Tokenization for titles (keep it simple & consistent)"
   ]
  },
  {
   "cell_type": "code",
   "execution_count": 11,
   "id": "91696596",
   "metadata": {},
   "outputs": [],
   "source": [
    "import re, unicodedata\n",
    "import nltk\n",
    "_ = nltk.download('punkt', quiet=True)"
   ]
  },
  {
   "cell_type": "code",
   "execution_count": 12,
   "id": "52c6718a",
   "metadata": {},
   "outputs": [],
   "source": [
    "# regex for separator chars to normalize/split title delimiters\n",
    "SEP_RE = re.compile(r\"[|/\\\\•·–—\\-]+\")      \n",
    "\n",
    "def canonicalize_title(s: str, strip_org_tail: bool = True) -> str:\n",
    "    \"\"\"\n",
    "    Light canonicalization (cleaning) that preserves full sentence content:\n",
    "    - Unicode NFKC normalization, trim, lowercase\n",
    "    - Normalize separators (& -> 'and')\n",
    "    - Collapse whitespace\n",
    "    Input: string → Output: cleaned string.\n",
    "    \"\"\"\n",
    "    \n",
    "    # if the input isn’t a string, return an empty string\n",
    "    if not isinstance(s, str): \n",
    "        return \"\"\n",
    "    \n",
    "    # Unicode normalization form NFKC + strip + lowercase\n",
    "    s = unicodedata.normalize(\"NFKC\", s).strip().lower()\n",
    "    s = SEP_RE.sub(\" \", s)                 # “hr manager | engie” -> “hr manager  engie”\n",
    "    s = s.replace(\"&\", \" and \")\n",
    "        \n",
    "    # collapses any run of whitespace (spaces, tabs) to a single space\n",
    "    s = re.sub(r\"\\s+\", \" \", s)\n",
    "    \n",
    "    return s"
   ]
  },
  {
   "cell_type": "code",
   "execution_count": 13,
   "id": "efb7b6d5",
   "metadata": {},
   "outputs": [],
   "source": [
    "# Simple, stable regex tokenizer: keep a–z sequences (no stopword/org stripping)\n",
    "TOKEN_RE = re.compile(r\"[a-z]+\")\n",
    "\n",
    "def tokenize_title(s: str, drop_org_like=True) -> list[str]:\n",
    "    \"\"\"\n",
    "    Canonicalize, then regex-tokenize. No stopword/org filtering.\n",
    "    Input: string → Output: list of tokens.\n",
    "    \"\"\" \n",
    "    s = canonicalize_title(s)\n",
    "    # every sequence of [a-z]+ becomes one token\n",
    "    toks = TOKEN_RE.findall(s)\n",
    "    \n",
    "    return toks"
   ]
  },
  {
   "cell_type": "code",
   "execution_count": 14,
   "id": "a318007e",
   "metadata": {},
   "outputs": [
    {
     "data": {
      "text/html": [
       "<div>\n",
       "<style scoped>\n",
       "    .dataframe tbody tr th:only-of-type {\n",
       "        vertical-align: middle;\n",
       "    }\n",
       "\n",
       "    .dataframe tbody tr th {\n",
       "        vertical-align: top;\n",
       "    }\n",
       "\n",
       "    .dataframe thead th {\n",
       "        text-align: right;\n",
       "    }\n",
       "</style>\n",
       "<table border=\"1\" class=\"dataframe\">\n",
       "  <thead>\n",
       "    <tr style=\"text-align: right;\">\n",
       "      <th></th>\n",
       "      <th>job_title</th>\n",
       "      <th>title_text</th>\n",
       "      <th>tokens</th>\n",
       "    </tr>\n",
       "  </thead>\n",
       "  <tbody>\n",
       "    <tr>\n",
       "      <th>0</th>\n",
       "      <td>2019 C.T. Bauer College of Business Graduate (...</td>\n",
       "      <td>2019 c.t. bauer college of business graduate (...</td>\n",
       "      <td>[c, t, bauer, college, of, business, graduate,...</td>\n",
       "    </tr>\n",
       "    <tr>\n",
       "      <th>1</th>\n",
       "      <td>Native English Teacher at EPIK (English Progra...</td>\n",
       "      <td>native english teacher at epik (english progra...</td>\n",
       "      <td>[native, english, teacher, at, epik, english, ...</td>\n",
       "    </tr>\n",
       "    <tr>\n",
       "      <th>2</th>\n",
       "      <td>Aspiring Human Resources Professional</td>\n",
       "      <td>aspiring human resources professional</td>\n",
       "      <td>[aspiring, human, resources, professional]</td>\n",
       "    </tr>\n",
       "    <tr>\n",
       "      <th>3</th>\n",
       "      <td>People Development Coordinator at Ryan</td>\n",
       "      <td>people development coordinator at ryan</td>\n",
       "      <td>[people, development, coordinator, at, ryan]</td>\n",
       "    </tr>\n",
       "    <tr>\n",
       "      <th>4</th>\n",
       "      <td>Advisory Board Member at Celal Bayar University</td>\n",
       "      <td>advisory board member at celal bayar university</td>\n",
       "      <td>[advisory, board, member, at, celal, bayar, un...</td>\n",
       "    </tr>\n",
       "    <tr>\n",
       "      <th>5</th>\n",
       "      <td>Aspiring Human Resources Specialist</td>\n",
       "      <td>aspiring human resources specialist</td>\n",
       "      <td>[aspiring, human, resources, specialist]</td>\n",
       "    </tr>\n",
       "    <tr>\n",
       "      <th>6</th>\n",
       "      <td>Student at Humber College and Aspiring Human R...</td>\n",
       "      <td>student at humber college and aspiring human r...</td>\n",
       "      <td>[student, at, humber, college, and, aspiring, ...</td>\n",
       "    </tr>\n",
       "    <tr>\n",
       "      <th>7</th>\n",
       "      <td>HR Senior Specialist</td>\n",
       "      <td>hr senior specialist</td>\n",
       "      <td>[hr, senior, specialist]</td>\n",
       "    </tr>\n",
       "    <tr>\n",
       "      <th>8</th>\n",
       "      <td>Student at Humber College and Aspiring Human R...</td>\n",
       "      <td>student at humber college and aspiring human r...</td>\n",
       "      <td>[student, at, humber, college, and, aspiring, ...</td>\n",
       "    </tr>\n",
       "    <tr>\n",
       "      <th>9</th>\n",
       "      <td>Seeking Human Resources HRIS and Generalist Po...</td>\n",
       "      <td>seeking human resources hris and generalist po...</td>\n",
       "      <td>[seeking, human, resources, hris, and, general...</td>\n",
       "    </tr>\n",
       "  </tbody>\n",
       "</table>\n",
       "</div>"
      ],
      "text/plain": [
       "                                           job_title  \\\n",
       "0  2019 C.T. Bauer College of Business Graduate (...   \n",
       "1  Native English Teacher at EPIK (English Progra...   \n",
       "2              Aspiring Human Resources Professional   \n",
       "3             People Development Coordinator at Ryan   \n",
       "4    Advisory Board Member at Celal Bayar University   \n",
       "5                Aspiring Human Resources Specialist   \n",
       "6  Student at Humber College and Aspiring Human R...   \n",
       "7                               HR Senior Specialist   \n",
       "8  Student at Humber College and Aspiring Human R...   \n",
       "9  Seeking Human Resources HRIS and Generalist Po...   \n",
       "\n",
       "                                          title_text  \\\n",
       "0  2019 c.t. bauer college of business graduate (...   \n",
       "1  native english teacher at epik (english progra...   \n",
       "2              aspiring human resources professional   \n",
       "3             people development coordinator at ryan   \n",
       "4    advisory board member at celal bayar university   \n",
       "5                aspiring human resources specialist   \n",
       "6  student at humber college and aspiring human r...   \n",
       "7                               hr senior specialist   \n",
       "8  student at humber college and aspiring human r...   \n",
       "9  seeking human resources hris and generalist po...   \n",
       "\n",
       "                                              tokens  \n",
       "0  [c, t, bauer, college, of, business, graduate,...  \n",
       "1  [native, english, teacher, at, epik, english, ...  \n",
       "2         [aspiring, human, resources, professional]  \n",
       "3       [people, development, coordinator, at, ryan]  \n",
       "4  [advisory, board, member, at, celal, bayar, un...  \n",
       "5           [aspiring, human, resources, specialist]  \n",
       "6  [student, at, humber, college, and, aspiring, ...  \n",
       "7                           [hr, senior, specialist]  \n",
       "8  [student, at, humber, college, and, aspiring, ...  \n",
       "9  [seeking, human, resources, hris, and, general...  "
      ]
     },
     "execution_count": 14,
     "metadata": {},
     "output_type": "execute_result"
    }
   ],
   "source": [
    "# Build shared columns (used by ALL embedding families)\n",
    "df[\"title_text\"] = df[\"job_title\"].apply(canonicalize_title)   # full sentence, orgs kept\n",
    "df[\"tokens\"]     = df[\"title_text\"].apply(tokenize_title)      # tokens, same for every embedding family\n",
    "\n",
    "# Peek\n",
    "df[[\"job_title\", \"title_text\", \"tokens\"]].head(10)\n"
   ]
  },
  {
   "cell_type": "markdown",
   "id": "451437b3",
   "metadata": {},
   "source": [
    "## 3) Custom mini-Word2Vec: "
   ]
  },
  {
   "cell_type": "markdown",
   "id": "7f2eb592",
   "metadata": {},
   "source": [
    "This implementation follows **Skip-Gram with Negative Sampling** in PyTorch with two embedding tables: $E_{\\text{in}}$ (centers) and $E_{\\text{out}}$ (contexts). For each (center, positive) pair, it samples $K$ negatives and optimizes the SGNS objective above. To form final word vectors, it uses the **average** of the two tables,\n",
    "$$\n",
    "E_{\\text{comb}}=\\tfrac{1}{2}\\big(E_{\\text{in}}+E_{\\text{out}}\\big),\n",
    "$$\n",
    "then encodes a title by averaging its in-vocab word vectors and searches via **cosine similarity**. This keeps training and inference lightweight while capturing useful semantic structure."
   ]
  },
  {
   "cell_type": "markdown",
   "id": "2ed40e2f",
   "metadata": {},
   "source": [
    "### 3.1) Encode a title as the mean of its word vectorsb"
   ]
  },
  {
   "cell_type": "code",
   "execution_count": 15,
   "id": "ed440d79",
   "metadata": {},
   "outputs": [],
   "source": [
    "E = E_comb\n",
    "\n",
    "@torch.no_grad()\n",
    "def encode_tokens_mean(tokens: list[str], E: torch.Tensor, stoi: dict) -> torch.Tensor | None:\n",
    "    idxs = [stoi[t] for t in tokens if t in stoi]\n",
    "    if not idxs:\n",
    "        return None\n",
    "    v = E[idxs].mean(dim=0)                 # [D]\n",
    "    return v / (v.norm() + 1e-12)\n",
    "\n",
    "@torch.no_grad()\n",
    "def encode_title_mean(text: str, E: torch.Tensor, stoi: dict) -> torch.Tensor | None:\n",
    "    return encode_tokens_mean(tokenize_title(text), E, stoi)"
   ]
  },
  {
   "cell_type": "code",
   "execution_count": 16,
   "id": "64e75448",
   "metadata": {},
   "outputs": [
    {
     "name": "stdout",
     "output_type": "stream",
     "text": [
      "encoded titles: torch.Size([104, 300]) kept rows: 104 of 104\n"
     ]
    }
   ],
   "source": [
    "# Rebuild title matrix using df[\"tokens\"] (shared preprocessing)\n",
    "vecs, keep_idx = [], []\n",
    "for i, toks in enumerate(df[\"tokens\"]):\n",
    "    v = encode_tokens_mean(toks, E, stoi)\n",
    "    if v is not None:\n",
    "        vecs.append(v); keep_idx.append(i)\n",
    "\n",
    "X_sgns_mean = torch.stack(vecs)  # [N_kept, D], rows are L2-normalized\n",
    "print(\"encoded titles:\", X_sgns_mean.shape, \"kept rows:\", len(keep_idx), \"of\", len(df))\n"
   ]
  },
  {
   "cell_type": "code",
   "execution_count": 17,
   "id": "d79775b2",
   "metadata": {},
   "outputs": [
    {
     "data": {
      "text/plain": [
       "tensor([ 0.0102, -0.0397,  0.0605, -0.0698, -0.0451, -0.0469,  0.0385, -0.0740,\n",
       "         0.0400, -0.0557, -0.0359,  0.0659,  0.0657, -0.0421, -0.0308,  0.0900,\n",
       "         0.0729,  0.0266,  0.0625, -0.0746,  0.0684, -0.0777, -0.0475, -0.0569,\n",
       "        -0.0385, -0.0662,  0.0363, -0.0352,  0.0336, -0.0520, -0.0362, -0.0415,\n",
       "        -0.0313, -0.0825,  0.0237, -0.0868,  0.0350, -0.0584, -0.0503, -0.0151,\n",
       "        -0.0609,  0.0724, -0.0663, -0.0268,  0.0566, -0.0289, -0.0805,  0.0526,\n",
       "         0.0408, -0.0282,  0.0904,  0.0533, -0.0580, -0.0389,  0.0214,  0.0406,\n",
       "         0.0169, -0.0786,  0.0762,  0.0449,  0.0346,  0.0671, -0.1035,  0.0652,\n",
       "         0.0573, -0.0475, -0.0698,  0.0104,  0.0614, -0.0513,  0.0431, -0.0888,\n",
       "        -0.0016,  0.0719,  0.0592,  0.0448,  0.0400,  0.0439,  0.0604, -0.0345,\n",
       "         0.0523, -0.0517, -0.0570, -0.0236,  0.0325, -0.0366, -0.0302, -0.0621,\n",
       "        -0.0702, -0.0622, -0.0323, -0.0287,  0.0569,  0.0271,  0.0420,  0.0780,\n",
       "        -0.0658,  0.0758,  0.0521,  0.0426,  0.0299,  0.0597, -0.0786,  0.0804,\n",
       "        -0.0748, -0.0275,  0.0472,  0.0487,  0.0699, -0.0314, -0.0345, -0.0626,\n",
       "        -0.0345,  0.0687, -0.0885,  0.0468,  0.0726,  0.0732, -0.0620,  0.0432,\n",
       "         0.0266, -0.0394, -0.0282, -0.0687,  0.0406, -0.0722,  0.0515, -0.0379,\n",
       "         0.0252, -0.1001, -0.0929,  0.0705, -0.0277, -0.0819, -0.0234, -0.0412,\n",
       "        -0.0918,  0.1023,  0.0338,  0.0710, -0.0534,  0.0870, -0.0699, -0.0730,\n",
       "         0.0661,  0.0364,  0.0306, -0.0689,  0.0892, -0.0422, -0.0093,  0.0844,\n",
       "         0.0496,  0.0579, -0.0266, -0.0688,  0.0444,  0.0728, -0.0776, -0.0894,\n",
       "         0.0387,  0.0743, -0.0809, -0.0457, -0.0650, -0.0772,  0.0247,  0.0790,\n",
       "         0.0506, -0.0308,  0.0349, -0.0362,  0.0348, -0.0693, -0.0389,  0.0465,\n",
       "         0.0470, -0.0586, -0.0598,  0.0473,  0.0758, -0.0720,  0.0289,  0.0392,\n",
       "        -0.0378,  0.0597,  0.0788,  0.0751,  0.0214,  0.0608, -0.0691,  0.0214,\n",
       "         0.0455, -0.0320,  0.0493,  0.0341, -0.0379,  0.1041, -0.0424,  0.0161,\n",
       "         0.0492,  0.0637,  0.0597,  0.0620, -0.0434, -0.0236,  0.0477, -0.0237,\n",
       "        -0.0682,  0.0452,  0.0442, -0.0725,  0.0342, -0.0523, -0.0533,  0.0629,\n",
       "        -0.0446, -0.0480,  0.0883, -0.0760,  0.0700, -0.0612, -0.0141,  0.0758,\n",
       "         0.0797, -0.0482, -0.0304,  0.0853,  0.0326, -0.0833, -0.0420, -0.0892,\n",
       "        -0.0463,  0.0208,  0.0674,  0.0386,  0.0497, -0.0689,  0.0261,  0.0595,\n",
       "        -0.0399,  0.0814,  0.0603,  0.0140,  0.0383,  0.0463,  0.0544, -0.0668,\n",
       "        -0.0356, -0.0514, -0.0791,  0.0438,  0.0260,  0.0501, -0.0596,  0.0181,\n",
       "        -0.1052,  0.0537,  0.0424, -0.0368,  0.0720,  0.0241,  0.0703, -0.0546,\n",
       "         0.0471, -0.0681, -0.0577,  0.0319,  0.0740, -0.0880,  0.0383, -0.0841,\n",
       "        -0.0774,  0.0646, -0.0643,  0.0415, -0.0445, -0.0687,  0.0398,  0.0274,\n",
       "         0.0769, -0.0564, -0.0798,  0.0925,  0.0698, -0.0779,  0.0599, -0.0763,\n",
       "         0.0881, -0.0406, -0.0684, -0.0583, -0.0676,  0.0593, -0.0615, -0.0429,\n",
       "         0.0058,  0.0361, -0.0552,  0.0895])"
      ]
     },
     "execution_count": 17,
     "metadata": {},
     "output_type": "execute_result"
    }
   ],
   "source": [
    "X_sgns_mean[0] "
   ]
  },
  {
   "cell_type": "code",
   "execution_count": 18,
   "id": "d1571ee5",
   "metadata": {},
   "outputs": [],
   "source": [
    "import matplotlib.pyplot as plt"
   ]
  },
  {
   "cell_type": "code",
   "execution_count": 19,
   "id": "bed2898a",
   "metadata": {},
   "outputs": [
    {
     "data": {
      "image/png": "[encoded data removed]",
      "text/plain": [
       "<Figure size 1200x600 with 1 Axes>"
      ]
     },
     "metadata": {},
     "output_type": "display_data"
    }
   ],
   "source": [
    "plt.figure(figsize=(12, 6))\n",
    "plt.bar(range(300), X_sgns_mean[0], color='skyblue', edgecolor='black')\n",
    "plt.title(\"custom mini-word2vec - vector values\")\n",
    "plt.xlabel(\"features\")\n",
    "plt.ylabel(\"values\")\n",
    "plt.tight_layout()\n",
    "plt.show()"
   ]
  },
  {
   "cell_type": "markdown",
   "id": "8808fea8",
   "metadata": {},
   "source": [
    "### 3.2) Cosine search over titles (dot product of normalized vectors)"
   ]
  },
  {
   "cell_type": "markdown",
   "id": "d03f2da4",
   "metadata": {},
   "source": [
    "Cosine search over titles: one function we can reuse for SGNS(mini-Word2Vec)/GloVe/FastText by swapping E, stoi, X, keep_idx."
   ]
  },
  {
   "cell_type": "code",
   "execution_count": 20,
   "id": "a534e6e3",
   "metadata": {},
   "outputs": [],
   "source": [
    "# search using cosine similarity\n",
    "@torch.no_grad()\n",
    "def search_titles(query: str,\n",
    "                  X: torch.Tensor,\n",
    "                  E: torch.Tensor,\n",
    "                  stoi: dict,\n",
    "                  keep_idx: list[int],\n",
    "                  df: pd.DataFrame,\n",
    "                  topk: int = 10,\n",
    "                  dedupe: bool = True):\n",
    "    \n",
    "    # encode query with the SAME tokenizer\n",
    "    q_tokens = tokenize_title(query)\n",
    "    q = encode_tokens_mean(q_tokens, E, stoi)\n",
    "    if q is None:\n",
    "        return [], \"Query has no in-vocab tokens.\"\n",
    "\n",
    "    sims = (X @ q)                                      # cosine = dot (rows normalized)\n",
    "    top = torch.topk(sims, k=min(topk*3, sims.numel())) # oversample if deduping\n",
    "\n",
    "    rows = []\n",
    "    seen = set()\n",
    "    for idx in top.indices.tolist():\n",
    "        row_id = keep_idx[idx]\n",
    "        title_str = df.loc[row_id, \"job_title\"]            # <-- key used for dedupe\n",
    "        if dedupe:\n",
    "            if title_str in seen:                          # <-- duplicates dropped\n",
    "                continue\n",
    "            seen.add(title_str)\n",
    "        rows.append((title_str, float(sims[idx].item())))\n",
    "        if len(rows) == topk:\n",
    "            break\n",
    "    return rows, None\n",
    "\n",
    "\n"
   ]
  },
  {
   "cell_type": "code",
   "execution_count": 21,
   "id": "d94e738e",
   "metadata": {},
   "outputs": [
    {
     "name": "stdout",
     "output_type": "stream",
     "text": [
      "\n",
      "Query: data scientist\n",
      "   0.793  Information Systems Specialist and Programmer with a love for data and organization.\n",
      "   0.748  Junior MES Engineer| Information Systems\n",
      "   0.731  SVP, CHRO, Marketing & Communications, CSR Officer | ENGIE | Houston | The Woodlands | Energy | GPHR | SPHR\n",
      "   0.729  Human Resources professional for the world leader in GIS software\n",
      "   0.727  Business Intelligence and Analytics at Travelers\n",
      "   0.714  Aspiring Human Resources Manager | Graduating May 2020 | Seeking an Entry-Level Human Resources Position in St. Louis\n",
      "   0.706  Undergraduate Research Assistant at Styczynski Lab\n",
      "   0.706  Student at Indiana University Kokomo - Business Management - \n",
      "Retail Manager at Delphi Hardware and Paint\n",
      "   0.702  2019 C.T. Bauer College of Business Graduate (Magna Cum Laude) and aspiring Human Resources professional\n",
      "   0.701  Business Management Major and Aspiring Human Resources Manager\n",
      "\n",
      "Query: machine learning engineer\n",
      "   0.825  Junior MES Engineer| Information Systems\n",
      "   0.791  Student at Indiana University Kokomo - Business Management - \n",
      "Retail Manager at Delphi Hardware and Paint\n",
      "   0.790  Information Systems Specialist and Programmer with a love for data and organization.\n",
      "   0.784  Business Intelligence and Analytics at Travelers\n",
      "   0.778  2019 C.T. Bauer College of Business Graduate (Magna Cum Laude) and aspiring Human Resources professional\n",
      "   0.773  Human Resources professional for the world leader in GIS software\n",
      "   0.762  Aspiring Human Resources Professional | Passionate about helping to create an inclusive and engaging work environment\n",
      "   0.759  Aspiring Human Resources Management student seeking an internship\n",
      "   0.758  Undergraduate Research Assistant at Styczynski Lab\n",
      "   0.757  Native English Teacher at EPIK (English Program in Korea)\n",
      "\n",
      "Query: backend developer\n",
      "   0.781  Student at Indiana University Kokomo - Business Management - \n",
      "Retail Manager at Delphi Hardware and Paint\n",
      "   0.753  Information Systems Specialist and Programmer with a love for data and organization.\n",
      "   0.753  Business Management Major and Aspiring Human Resources Manager\n",
      "   0.752  Junior MES Engineer| Information Systems\n",
      "   0.752  Human Resources professional for the world leader in GIS software\n",
      "   0.747  Experienced Retail Manager and aspiring Human Resources Professional\n",
      "   0.734  2019 C.T. Bauer College of Business Graduate (Magna Cum Laude) and aspiring Human Resources professional\n",
      "   0.729  HR Senior Specialist\n",
      "   0.727  People Development Coordinator at Ryan\n",
      "   0.721  Aspiring Human Resources Manager | Graduating May 2020 | Seeking an Entry-Level Human Resources Position in St. Louis\n",
      "\n",
      "Query: product manager\n",
      "   0.747  Business Management Major and Aspiring Human Resources Manager\n",
      "   0.736  Experienced Retail Manager and aspiring Human Resources Professional\n",
      "   0.731  Student at Indiana University Kokomo - Business Management - \n",
      "Retail Manager at Delphi Hardware and Paint\n",
      "   0.711  People Development Coordinator at Ryan\n",
      "   0.709  SVP, CHRO, Marketing & Communications, CSR Officer | ENGIE | Houston | The Woodlands | Energy | GPHR | SPHR\n",
      "   0.709  RRP Brand Portfolio Executive at JTI (Japan Tobacco International)\n",
      "   0.707  Aspiring Human Resources Manager | Graduating May 2020 | Seeking an Entry-Level Human Resources Position in St. Louis\n",
      "   0.702  Human Resources professional for the world leader in GIS software\n",
      "   0.701  HR Manager at Endemol Shine North America\n",
      "   0.700  Information Systems Specialist and Programmer with a love for data and organization.\n"
     ]
    }
   ],
   "source": [
    "# quick test\n",
    "for q in [\"data scientist\", \"machine learning engineer\", \"backend developer\", \"product manager\"]:\n",
    "    res, err = search_titles(q, X_sgns_mean, E, stoi, keep_idx, df, topk=10, dedupe=True)\n",
    "    print(f\"\\nQuery: {q}\")\n",
    "    if err: print(\"  \", err)\n",
    "    else:\n",
    "        for t, s in res:\n",
    "            print(f\"  {s: .3f}  {t}\")\n"
   ]
  },
  {
   "cell_type": "markdown",
   "id": "94fc185b",
   "metadata": {},
   "source": [
    "## 4) Experiment with the GoogleNews Word2Vec vectors (Google, 2013)"
   ]
  },
  {
   "cell_type": "markdown",
   "id": "aee950f0",
   "metadata": {},
   "source": [
    "Word2Vec learns dense vectors so that words sharing contexts have nearby embeddings. In the **skip-gram** view, for a center word $w_t$ it predicts surrounding words $w_{t+j}$. Training usually uses **negative sampling** to replace the full softmax with a small binary task per pair. The classic per-example objective is\n",
    "$$\n",
    "\\log \\sigma(u_{w_t}^\\top v_{w_{t+j}})\\;+\\;\\sum_{k=1}^{K}\\log \\sigma\\!\\left(-\\,u_{w_t}^\\top v_{n_k}\\right),\n",
    "$$\n",
    "where $u$ is the input (center) embedding, $v$ the output (context) embedding, and $n_k$ are sampled “negative” words. The GoogleNews model provides pretrained 300-d vectors trained on a very large corpus.\n"
   ]
  },
  {
   "cell_type": "markdown",
   "id": "d94077d1",
   "metadata": {},
   "source": [
    "A) Using Gensim’s downloader (auto-download, ~1.6GB):"
   ]
  },
  {
   "cell_type": "code",
   "execution_count": 22,
   "id": "0077b0c8",
   "metadata": {},
   "outputs": [],
   "source": [
    "from gensim.models import KeyedVectors\n"
   ]
  },
  {
   "cell_type": "code",
   "execution_count": 23,
   "id": "366ee482",
   "metadata": {},
   "outputs": [],
   "source": [
    "W2V_PATH = r\"./data/GoogleNews-vectors-negative300.bin\""
   ]
  },
  {
   "cell_type": "code",
   "execution_count": 24,
   "id": "252c51c1",
   "metadata": {},
   "outputs": [
    {
     "name": "stdout",
     "output_type": "stream",
     "text": [
      "w2v vocab: 3000000 dim: 300\n"
     ]
    }
   ],
   "source": [
    "# Load the binary GoogleNews KeyedVectors\n",
    "w2v = KeyedVectors.load_word2vec_format(W2V_PATH, binary=True)\n",
    "print(\"w2v vocab:\", len(w2v), \"dim:\", w2v.vector_size)"
   ]
  },
  {
   "cell_type": "markdown",
   "id": "416e2d3b",
   "metadata": {},
   "source": [
    "### 4.1) Encode tokens"
   ]
  },
  {
   "cell_type": "markdown",
   "id": "59646ffe",
   "metadata": {},
   "source": [
    "Keep the same functions (encode_tokens_mean, encode_title_mean, search_titles) and the same flow."
   ]
  },
  {
   "cell_type": "code",
   "execution_count": 28,
   "id": "0e32ef1b",
   "metadata": {},
   "outputs": [
    {
     "name": "stdout",
     "output_type": "stream",
     "text": [
      "needed tokens in w2v: 174\n"
     ]
    }
   ],
   "source": [
    "# 1) Collect the words we actually need from the dataset\n",
    "needed = sorted({t for toks in df[\"tokens\"] for t in toks if t in w2v.key_to_index})\n",
    "needed_not_in_w2v = sorted({t for toks in df[\"tokens\"] for t in toks if t not in w2v.key_to_index})\n",
    "print(\"needed tokens in w2v:\", len(needed))"
   ]
  },
  {
   "cell_type": "code",
   "execution_count": 42,
   "id": "7ced472e",
   "metadata": {},
   "outputs": [],
   "source": [
    "# 2) Build stoi and E (normalized rows) for just those words\n",
    "stoi_w2v = w2v.key_to_index\n",
    "E_w2v = torch.from_numpy(w2v.vectors)              # shares memory\n",
    "E_w2v = E_w2v / (E_w2v.norm(dim=1, keepdim=True)+1e-12)\n",
    "\n"
   ]
  },
  {
   "cell_type": "code",
   "execution_count": 43,
   "id": "76cda7e6",
   "metadata": {},
   "outputs": [
    {
     "name": "stdout",
     "output_type": "stream",
     "text": [
      "torch.Size([3000000, 300]) 3000000\n"
     ]
    }
   ],
   "source": [
    "# E_w2v (torch) + stoi_w2v (dict) match the previous SGNS interface\n",
    "print(E_w2v.shape, len(stoi_w2v))"
   ]
  },
  {
   "cell_type": "markdown",
   "id": "e86e41f9",
   "metadata": {},
   "source": [
    "Encode tokens per title and then calculate the mean value for the title embeddings."
   ]
  },
  {
   "cell_type": "code",
   "execution_count": 40,
   "id": "a207157a",
   "metadata": {},
   "outputs": [
    {
     "name": "stdout",
     "output_type": "stream",
     "text": [
      "w2v encoded titles: torch.Size([104, 300])\n"
     ]
    }
   ],
   "source": [
    "vecs_w2v, keep_idx_w2v = [], []\n",
    "for i, toks in enumerate(df[\"tokens\"]):\n",
    "    v = encode_tokens_mean(toks, E_w2v, stoi_w2v) \n",
    "    if v is not None:\n",
    "        vecs_w2v.append(v); keep_idx_w2v.append(i)\n",
    "\n",
    "X_w2v_mean = torch.stack(vecs_w2v)   # rows already normalized\n",
    "print(\"w2v encoded titles:\", X_w2v_mean.shape)\n"
   ]
  },
  {
   "cell_type": "code",
   "execution_count": 41,
   "id": "a7484cbd",
   "metadata": {},
   "outputs": [
    {
     "name": "stdout",
     "output_type": "stream",
     "text": [
      "\n",
      "Query: data scientist\n",
      "   0.516  Information Systems Specialist and Programmer with a love for data and organization.\n",
      "   0.450  Undergraduate Research Assistant at Styczynski Lab\n",
      "   0.447  Junior MES Engineer| Information Systems\n",
      "   0.346  Human Resources Specialist at Luxottica\n",
      "   0.340  Business Intelligence and Analytics at Travelers\n",
      "   0.328  Aspiring Human Resources Specialist\n",
      "   0.318  Liberal Arts Major. Aspiring Human Resources Analyst.\n",
      "   0.314  Senior Human Resources Business Partner at Heil Environmental\n",
      "   0.313  SVP, CHRO, Marketing & Communications, CSR Officer | ENGIE | Houston | The Woodlands | Energy | GPHR | SPHR\n",
      "   0.305  Bachelor of Science in Biology from Victoria University of Wellington\n",
      "\n",
      "Query: machine learning engineer\n",
      "   0.524  Junior MES Engineer| Information Systems\n",
      "   0.492  Information Systems Specialist and Programmer with a love for data and organization.\n",
      "   0.393  Aspiring Human Resources Professional | Passionate about helping to create an inclusive and engaging work environment\n",
      "   0.383  Human Resources professional for the world leader in GIS software\n",
      "   0.373  Aspiring Human Resources Management student seeking an internship\n",
      "   0.368  Aspiring Human Resources Professional | An energetic and Team-Focused Leader\n",
      "   0.365  Aspiring Human Resources Specialist\n",
      "   0.352  Aspiring Human Resources Manager, seeking internship in Human Resources.\n",
      "   0.350  Undergraduate Research Assistant at Styczynski Lab\n",
      "   0.345  Student at Indiana University Kokomo - Business Management - \n",
      "Retail Manager at Delphi Hardware and Paint\n",
      "\n",
      "Query: backend developer\n",
      "   0.370  Information Systems Specialist and Programmer with a love for data and organization.\n",
      "   0.354  Student at Indiana University Kokomo - Business Management - \n",
      "Retail Manager at Delphi Hardware and Paint\n",
      "   0.349  Business Management Major and Aspiring Human Resources Manager\n",
      "   0.334  Junior MES Engineer| Information Systems\n",
      "   0.302  Experienced Retail Manager and aspiring Human Resources Professional\n",
      "   0.294  Business Intelligence and Analytics at Travelers\n",
      "   0.294  Human Resources professional for the world leader in GIS software\n",
      "   0.283  SVP, CHRO, Marketing & Communications, CSR Officer | ENGIE | Houston | The Woodlands | Energy | GPHR | SPHR\n",
      "   0.280  Human Resources Management Major\n",
      "   0.259  Human Resources|\n",
      "Conflict Management|\n",
      "Policies & Procedures|Talent Management|Benefits & Compensation\n",
      "\n",
      "Query: product manager\n",
      "   0.532  Business Management Major and Aspiring Human Resources Manager\n",
      "   0.492  Student at Indiana University Kokomo - Business Management - \n",
      "Retail Manager at Delphi Hardware and Paint\n",
      "   0.480  RRP Brand Portfolio Executive at JTI (Japan Tobacco International)\n",
      "   0.478  Experienced Retail Manager and aspiring Human Resources Professional\n",
      "   0.471  SVP, CHRO, Marketing & Communications, CSR Officer | ENGIE | Houston | The Woodlands | Energy | GPHR | SPHR\n",
      "   0.409  Senior Human Resources Business Partner at Heil Environmental\n",
      "   0.404  Information Systems Specialist and Programmer with a love for data and organization.\n",
      "   0.379  People Development Coordinator at Ryan\n",
      "   0.378  Director Human Resources  at EY\n",
      "   0.376  Retired Army National Guard Recruiter, office manager,  seeking a position in Human Resources.\n"
     ]
    }
   ],
   "source": [
    "# quick test\n",
    "for q in [\"data scientist\", \"machine learning engineer\", \"backend developer\", \"product manager\"]:\n",
    "    res, err = search_titles(q, X_w2v_mean, E_w2v, stoi_w2v, keep_idx_w2v, df, topk=10, dedupe=True)\n",
    "    print(f\"\\nQuery: {q}\")\n",
    "    if err: print(\"  \", err)\n",
    "    else:\n",
    "        for t, s in res:\n",
    "            print(f\"  {s: .3f}  {t}\")\n",
    "            "
   ]
  },
  {
   "cell_type": "markdown",
   "id": "92f3efcc",
   "metadata": {},
   "source": [
    "## 5) Experiment with the GloVE vectors (Stanford, 2014)"
   ]
  },
  {
   "cell_type": "markdown",
   "id": "0d02f00d",
   "metadata": {},
   "source": [
    "GloVe is a **global co-occurrence** method: it builds a word–word co-occurrence matrix $X_{ij}$ from a large corpus and learns embeddings by regressing the **log counts**. The weighted least-squares loss is\n",
    "$$\n",
    "J=\\sum_{i,j} f(X_{ij})\\Big(u_i^\\top v_j + b_i + \\tilde b_j - \\log X_{ij}\\Big)^2,\n",
    "$$\n",
    "where $f(\\cdot)$ down-weights rare and extremely frequent pairs. This blends global matrix-factorization flavor (like SVD) with the efficiency of local windowing, producing robust, widely used embeddings.\n",
    "\n"
   ]
  },
  {
   "cell_type": "markdown",
   "id": "42922dbb",
   "metadata": {},
   "source": [
    "#### 5.1) Collect the words we actually need (from the job titles)"
   ]
  },
  {
   "cell_type": "code",
   "execution_count": 47,
   "id": "64efefa2",
   "metadata": {},
   "outputs": [
    {
     "data": {
      "text/plain": [
       "199"
      ]
     },
     "execution_count": 47,
     "metadata": {},
     "output_type": "execute_result"
    }
   ],
   "source": [
    "# Words actually appearing in your dataset tokens (all lowercased already)\n",
    "needed_glove = sorted({t for toks in df[\"tokens\"] for t in toks})\n",
    "len(needed_glove)\n"
   ]
  },
  {
   "cell_type": "code",
   "execution_count": 48,
   "id": "e7eba32f",
   "metadata": {},
   "outputs": [],
   "source": [
    "GLOVE_DIR = \"./data/\"\n",
    "GLOVE_TXT = os.path.join(GLOVE_DIR, \"glove.6B.300d.txt\")"
   ]
  },
  {
   "cell_type": "code",
   "execution_count": 49,
   "id": "6f11940a",
   "metadata": {},
   "outputs": [
    {
     "name": "stdout",
     "output_type": "stream",
     "text": [
      "loaded words: 191 dim: 300\n"
     ]
    }
   ],
   "source": [
    "vecs_glove_map = {}\n",
    "dim_glove = None\n",
    "\n",
    "with open(GLOVE_TXT, \"r\", encoding=\"utf-8\") as f:\n",
    "    for line in f:\n",
    "        parts = line.rstrip().split(\" \")\n",
    "        w = parts[0]\n",
    "        if w in needed_glove:\n",
    "            v = np.asarray(parts[1:], dtype=np.float32)\n",
    "            if dim_glove is None:\n",
    "                dim_glove = v.size\n",
    "            vecs_glove_map[w] = v\n",
    "\n",
    "print(\"loaded words:\", len(vecs_glove_map), \"dim:\", dim_glove)"
   ]
  },
  {
   "cell_type": "markdown",
   "id": "c25c4b6e",
   "metadata": {},
   "source": [
    "#### 5.2) Build `stoi_glove` and `E_glove` (row-normalized)"
   ]
  },
  {
   "cell_type": "code",
   "execution_count": 50,
   "id": "b467ef3a",
   "metadata": {},
   "outputs": [
    {
     "name": "stdout",
     "output_type": "stream",
     "text": [
      "torch.Size([191, 300]) 191\n"
     ]
    }
   ],
   "source": [
    "words_glove = sorted(vecs_glove_map.keys())\n",
    "stoi_glove = {w: i for i, w in enumerate(words_glove)}\n",
    "\n",
    "E_glove = torch.from_numpy(np.stack([vecs_glove_map[w] for w in words_glove])).float()\n",
    "E_glove = E_glove / (E_glove.norm(dim=1, keepdim=True) + 1e-12)\n",
    "\n",
    "print(E_glove.shape, len(stoi_glove))\n"
   ]
  },
  {
   "cell_type": "markdown",
   "id": "9bfcd41f",
   "metadata": {},
   "source": [
    "#### 5.3) Encode titles (mean of word vectors)"
   ]
  },
  {
   "cell_type": "code",
   "execution_count": 51,
   "id": "1ee43ac4",
   "metadata": {},
   "outputs": [
    {
     "name": "stdout",
     "output_type": "stream",
     "text": [
      "glove encoded titles: torch.Size([104, 300]) kept: 104\n"
     ]
    }
   ],
   "source": [
    "vecs_glove, keep_idx_glove = [], []\n",
    "for i, toks in enumerate(df[\"tokens\"]):\n",
    "    v = encode_tokens_mean(toks, E_glove, stoi_glove)\n",
    "    if v is not None:\n",
    "        vecs_glove.append(v); keep_idx_glove.append(i)\n",
    "\n",
    "X_glove_mean = torch.stack(vecs_glove)   # rows already normalized\n",
    "print(\"glove encoded titles:\", X_glove_mean.shape, \"kept:\", len(keep_idx_glove))"
   ]
  },
  {
   "cell_type": "markdown",
   "id": "0b75d417",
   "metadata": {},
   "source": [
    "#### 5.4) Quick test"
   ]
  },
  {
   "cell_type": "code",
   "execution_count": 52,
   "id": "5636ba87",
   "metadata": {},
   "outputs": [
    {
     "name": "stdout",
     "output_type": "stream",
     "text": [
      "\n",
      "Query: data scientist\n",
      "   0.579  Information Systems Specialist and Programmer with a love for data and organization.\n",
      "   0.506  Seeking employment opportunities within Customer Service or Patient Care\n",
      "   0.478  Junior MES Engineer| Information Systems\n",
      "   0.477  Human Resources professional for the world leader in GIS software\n",
      "   0.470  Business Intelligence and Analytics at Travelers\n",
      "   0.460  Nortia Staffing is seeking Human Resources, Payroll & Administrative Professionals!!  (408) 709-2621\n",
      "   0.455  Human Resources|\n",
      "Conflict Management|\n",
      "Policies & Procedures|Talent Management|Benefits & Compensation\n",
      "   0.451  Human Resources Management Major\n",
      "   0.427  Business Management Major and Aspiring Human Resources Manager\n",
      "   0.420  Aspiring Human Resources Manager | Graduating May 2020 | Seeking an Entry-Level Human Resources Position in St. Louis\n",
      "\n",
      "Query: machine learning engineer\n",
      "   0.586  Junior MES Engineer| Information Systems\n",
      "   0.382  Retired Army National Guard Recruiter, office manager,  seeking a position in Human Resources.\n",
      "   0.376  Undergraduate Research Assistant at Styczynski Lab\n",
      "   0.372  Information Systems Specialist and Programmer with a love for data and organization.\n",
      "   0.351  Experienced Retail Manager and aspiring Human Resources Professional\n",
      "   0.336  Business Management Major and Aspiring Human Resources Manager\n",
      "   0.327  Aspiring Human Resources Professional | An energetic and Team-Focused Leader\n",
      "   0.326  HR Senior Specialist\n",
      "   0.323  Student at Indiana University Kokomo - Business Management - \n",
      "Retail Manager at Delphi Hardware and Paint\n",
      "   0.322  Aspiring Human Resources Manager | Graduating May 2020 | Seeking an Entry-Level Human Resources Position in St. Louis\n",
      "\n",
      "Query: backend developer\n",
      "   Query has no in-vocab tokens.\n",
      "\n",
      "Query: product manager\n",
      "   0.567  Business Management Major and Aspiring Human Resources Manager\n",
      "   0.544  Experienced Retail Manager and aspiring Human Resources Professional\n",
      "   0.526  Student at Indiana University Kokomo - Business Management - \n",
      "Retail Manager at Delphi Hardware and Paint\n",
      "   0.526  HR Manager at Endemol Shine North America\n",
      "   0.486  Retired Army National Guard Recruiter, office manager,  seeking a position in Human Resources.\n",
      "   0.467  People Development Coordinator at Ryan\n",
      "   0.434  RRP Brand Portfolio Executive at JTI (Japan Tobacco International)\n",
      "   0.428  Aspiring Human Resources Manager | Graduating May 2020 | Seeking an Entry-Level Human Resources Position in St. Louis\n",
      "   0.414  Director Human Resources  at EY\n",
      "   0.413  Human Resources Coordinator at InterContinental Buckhead Atlanta\n"
     ]
    }
   ],
   "source": [
    "for q in [\"data scientist\", \"machine learning engineer\", \"backend developer\", \"product manager\"]:\n",
    "    rows, err = search_titles(q, X_glove_mean, E_glove, stoi_glove, keep_idx_glove, df, topk=10, dedupe=True)\n",
    "    print(f\"\\nQuery: {q}\")\n",
    "    if err: \n",
    "        print(\"  \", err)\n",
    "    else:\n",
    "        for t, s in rows:\n",
    "            print(f\"  {s: .3f}  {t}\")"
   ]
  },
  {
   "cell_type": "markdown",
   "id": "f8eb69d0",
   "metadata": {},
   "source": [
    "## 6) Experiment with fastText (Meta, 2016)"
   ]
  },
  {
   "cell_type": "markdown",
   "id": "ead583a0",
   "metadata": {},
   "source": [
    "FastText extends Word2Vec with **subword (character n-gram) embeddings**. A word’s vector is the sum of its n-gram vectors, which gives:\n",
    "- robust representations for rare words, and\n",
    "- the ability to **synthesize vectors for OOV words** (e.g., typos, inflections).\n",
    "\n",
    "We’ll load pre-trained English FastText vectors and use the same pipeline as before:\n",
    "tokenize → average word vectors per title → cosine search.\n"
   ]
  },
  {
   "cell_type": "markdown",
   "id": "76e09111",
   "metadata": {},
   "source": [
    "#### 6.1) Load & encode"
   ]
  },
  {
   "cell_type": "code",
   "execution_count": 56,
   "id": "20c0b68f",
   "metadata": {},
   "outputs": [],
   "source": [
    "from gensim.models.fasttext import load_facebook_vectors"
   ]
  },
  {
   "cell_type": "code",
   "execution_count": 57,
   "id": "a66b253d",
   "metadata": {},
   "outputs": [
    {
     "name": "stdout",
     "output_type": "stream",
     "text": [
      "fastText vocab (known): 2000000 dim: 300\n"
     ]
    }
   ],
   "source": [
    "# Facebook binary with subword support\n",
    "FASTTEXT_PATH = r\"./data/cc.en.300.bin\"\n",
    "ft = load_facebook_vectors(FASTTEXT_PATH)\n",
    "\n",
    "print(\"fastText vocab (known):\", len(ft), \"dim:\", ft.vector_size)"
   ]
  },
  {
   "cell_type": "code",
   "execution_count": 58,
   "id": "ad2491a4",
   "metadata": {},
   "outputs": [
    {
     "name": "stdout",
     "output_type": "stream",
     "text": [
      "E_ft: torch.Size([199, 300]) stoi_ft: 199\n"
     ]
    }
   ],
   "source": [
    "# Build stoi/E for just the tokens in our dataset (keeps memory down)\n",
    "needed_ft = sorted({t for toks in df[\"tokens\"] for t in toks})\n",
    "stoi_ft = {w: i for i, w in enumerate(needed_ft)}\n",
    "\n",
    "E_ft = torch.from_numpy(\n",
    "    np.stack([ft.get_vector(w) for w in needed_ft]).astype(np.float32)\n",
    ")\n",
    "E_ft = E_ft / (E_ft.norm(dim=1, keepdim=True) + 1e-12)\n",
    "print(\"E_ft:\", E_ft.shape, \"stoi_ft:\", len(stoi_ft))\n"
   ]
  },
  {
   "cell_type": "code",
   "execution_count": 59,
   "id": "ab8219d8",
   "metadata": {},
   "outputs": [
    {
     "name": "stdout",
     "output_type": "stream",
     "text": [
      "fastText encoded titles: torch.Size([104, 300]) kept: 104\n"
     ]
    }
   ],
   "source": [
    "# Encode titles (mean of word vectors), same helper as before\n",
    "vecs_ft, keep_idx_ft = [], []\n",
    "for i, toks in enumerate(df[\"tokens\"]):\n",
    "    v = encode_tokens_mean(toks, E_ft, stoi_ft)\n",
    "    if v is not None:\n",
    "        vecs_ft.append(v); keep_idx_ft.append(i)\n",
    "\n",
    "X_ft_mean = torch.stack(vecs_ft)  # rows normalized already\n",
    "print(\"fastText encoded titles:\", X_ft_mean.shape, \"kept:\", len(keep_idx_ft))"
   ]
  },
  {
   "cell_type": "code",
   "execution_count": 60,
   "id": "3bfc5a84",
   "metadata": {},
   "outputs": [
    {
     "name": "stdout",
     "output_type": "stream",
     "text": [
      "\n",
      "Query: data scientist\n",
      "   0.475  Information Systems Specialist and Programmer with a love for data and organization.\n",
      "   0.436  Junior MES Engineer| Information Systems\n",
      "   0.413  Business Intelligence and Analytics at Travelers\n",
      "   0.386  Human Resources|\n",
      "Conflict Management|\n",
      "Policies & Procedures|Talent Management|Benefits & Compensation\n",
      "   0.351  Human Resources Management Major\n",
      "   0.351  Nortia Staffing is seeking Human Resources, Payroll & Administrative Professionals!!  (408) 709-2621\n",
      "   0.337  SVP, CHRO, Marketing & Communications, CSR Officer | ENGIE | Houston | The Woodlands | Energy | GPHR | SPHR\n",
      "   0.333  Seeking employment opportunities within Customer Service or Patient Care\n",
      "   0.327  Human Resources professional for the world leader in GIS software\n",
      "   0.313  Business Management Major and Aspiring Human Resources Manager\n",
      "\n",
      "Query: machine learning engineer\n",
      "   0.606  Junior MES Engineer| Information Systems\n",
      "   0.453  HR Senior Specialist\n",
      "   0.422  Retired Army National Guard Recruiter, office manager,  seeking a position in Human Resources.\n",
      "   0.421  Experienced Retail Manager and aspiring Human Resources Professional\n",
      "   0.415  SVP, CHRO, Marketing & Communications, CSR Officer | ENGIE | Houston | The Woodlands | Energy | GPHR | SPHR\n",
      "   0.407  Undergraduate Research Assistant at Styczynski Lab\n",
      "   0.400  Aspiring Human Resources Professional | An energetic and Team-Focused Leader\n",
      "   0.393  Aspiring Human Resources Management student seeking an internship\n",
      "   0.392  Business Management Major and Aspiring Human Resources Manager\n",
      "   0.380  Aspiring Human Resources Specialist\n",
      "\n",
      "Query: backend developer\n",
      "   Query has no in-vocab tokens.\n",
      "\n",
      "Query: product manager\n",
      "   0.584  Business Management Major and Aspiring Human Resources Manager\n",
      "   0.545  Experienced Retail Manager and aspiring Human Resources Professional\n",
      "   0.537  Retired Army National Guard Recruiter, office manager,  seeking a position in Human Resources.\n",
      "   0.530  Student at Indiana University Kokomo - Business Management - \n",
      "Retail Manager at Delphi Hardware and Paint\n",
      "   0.465  HR Senior Specialist\n",
      "   0.455  HR Manager at Endemol Shine North America\n",
      "   0.452  People Development Coordinator at Ryan\n",
      "   0.437  Director Of Administration at Excellence Logging\n",
      "   0.415  Aspiring Human Resources Professional | An energetic and Team-Focused Leader\n",
      "   0.410  Senior Human Resources Business Partner at Heil Environmental\n"
     ]
    }
   ],
   "source": [
    "for q in [\"data scientist\", \"machine learning engineer\", \"backend developer\", \"product manager\"]:\n",
    "    rows, err = search_titles(q, X_ft_mean, E_ft, stoi_ft, keep_idx_ft, df, topk=10, dedupe=True)\n",
    "    print(f\"\\nQuery: {q}\")\n",
    "    if err:\n",
    "        print(\"  \", err)\n",
    "    else:\n",
    "        for t, s in rows:\n",
    "            print(f\"  {s: .3f}  {t}\")"
   ]
  },
  {
   "cell_type": "markdown",
   "id": "fc2fbc71",
   "metadata": {},
   "source": [
    "## 7) Experiment with BERT (Google, 2018)"
   ]
  },
  {
   "cell_type": "code",
   "execution_count": 62,
   "id": "1eb19fce",
   "metadata": {},
   "outputs": [],
   "source": [
    "from transformers import AutoTokenizer, AutoModel"
   ]
  },
  {
   "cell_type": "code",
   "execution_count": 67,
   "id": "3390f7f2",
   "metadata": {},
   "outputs": [],
   "source": [
    "BERT_NAME = \"bert-base-uncased\"\n",
    "tok_bert  = AutoTokenizer.from_pretrained(BERT_NAME)\n",
    "mdl_bert  = AutoModel.from_pretrained(BERT_NAME).to(device).eval()"
   ]
  },
  {
   "cell_type": "markdown",
   "id": "b39e7a28",
   "metadata": {},
   "source": [
    "#### Why no “embeddings file” like GloVe/word2vec/fastText?\n",
    "\n",
    "**Static vs contextual**. GloVe/word2vec/fastText ship a static matrix: one vector per token, stored in a big text/bin file you load directly.\n",
    "\n",
    "**BERT is a full neural model**. It still has an embedding table inside (token + position + segment embeddings), but its outputs are contextual, The vector for “bank” changes with the sentence. So you don’t download a plain .txt of vectors, we download the entire model weights (a .bin file via Hugging Face) and then run the model to get embeddings for a sentence or token sequence."
   ]
  },
  {
   "cell_type": "code",
   "execution_count": 66,
   "id": "85d61ec3",
   "metadata": {},
   "outputs": [
    {
     "name": "stdout",
     "output_type": "stream",
     "text": [
      "torch.Size([30522, 768])\n"
     ]
    }
   ],
   "source": [
    "# token embedding table (WordPiece-level), shape [vocab_size, hidden_size]\n",
    "E_bert = mdl_bert.get_input_embeddings().weight.detach().cpu()\n",
    "print(E_bert.shape)"
   ]
  },
  {
   "cell_type": "markdown",
   "id": "77c5367f",
   "metadata": {},
   "source": [
    "…but this is subword-level (WordPiece like “##ing”, “bank”, “[UNK]”), and using it as static word vectors misses BERT’s main advantage:  **contextualization**."
   ]
  },
  {
   "cell_type": "markdown",
   "id": "fe88f6e8",
   "metadata": {},
   "source": [
    "#### 7.1) Mean/CLS pooling helpers"
   ]
  },
  {
   "cell_type": "markdown",
   "id": "99105c79",
   "metadata": {},
   "source": [
    "**Goal:** turn a sequence of token embeddings from BERT into a single fixed-size vector for similarity/search.\n",
    "\n",
    "---\n",
    "\n",
    "#### Mean Pooling (masked average)\n",
    "Compute the average of the last-layer token embeddings, ignoring padding:\n",
    "$$\n",
    "\\mathbf{e}_{\\text{mean}}\n",
    "=\\frac{1}{\\sum_t m_t}\\sum_{t=1}^{T} m_t\\,\\mathbf{h}_t,\n",
    "$$\n",
    "where $\\mathbf{h}_t\\in\\mathbb{R}^H$ is the hidden state at token $t$ and $m_t\\in\\{0,1\\}$ is the attention mask (1 = real token).\n",
    "\n",
    "**Pros**\n",
    "- Uses **all** tokens; robust for short, noisy text.\n",
    "- Stable without fine-tuning; common for retrieval with base BERT.\n",
    "\n",
    "**Cons**\n",
    "- Can **dilute** key words (generic terms dominate if not IDF-weighted).\n",
    "- Treats all tokens equally unless we add weights.\n",
    "\n",
    "\n",
    "---\n",
    "\n",
    "#### `[CLS]` Pooling (use the first token)\n",
    "Take the hidden state at the special `[CLS]` position:\n",
    "$$\n",
    "\\mathbf{e}_{\\text{CLS}}=\\mathbf{h}_{\\text{[CLS]}}.\n",
    "$$\n",
    "\n",
    "**Pros**\n",
    "- Often **sharper** for short texts; designed as a sequence-level summary in many fine-tuned classifiers.\n",
    "- Single vector without averaging.\n",
    "\n",
    "**Cons**\n",
    "- In **base** BERT (no fine-tuning), `[CLS]` is **not** optimized for similarity; may be less reliable than mean for retrieval.\n",
    "- Sensitive to model fine-tuning objectives."
   ]
  },
  {
   "cell_type": "code",
   "execution_count": 77,
   "id": "97552f7d",
   "metadata": {},
   "outputs": [],
   "source": [
    "from torch.nn.functional import normalize"
   ]
  },
  {
   "cell_type": "code",
   "execution_count": 83,
   "id": "32afb7a0",
   "metadata": {},
   "outputs": [],
   "source": [
    "USE_CLS = False  # set True to use [CLS] pooling instead of mean\n",
    "\n",
    "@torch.no_grad()\n",
    "def encode_bert_batch(texts, pooling='mean', normalize=True):\n",
    "    \"\"\"\n",
    "    texts: list[str] -> tensor [B, H] (L2-normalized)\n",
    "    \"\"\"\n",
    "    enc = tok_bert(\n",
    "        list(texts), \n",
    "        padding=True, \n",
    "        truncation=True, \n",
    "        max_length=max_length, \n",
    "        return_tensors=\"pt\"\n",
    "    ).to(device)\n",
    "    out = mdl_bert(**enc)  # last_hidden_state: [B, T, H]\n",
    "    H = out.last_hidden_state\n",
    "    \n",
    "    if pooling == \"mean\":\n",
    "        mask = enc[\"attention_mask\"].unsqueeze(-1)   # [B, T, 1]\n",
    "        v = (H * mask).sum(dim=1) / mask.sum(dim=1).clamp_min(1e-123)\n",
    "    elif pooling == \"cls\":\n",
    "        v = H[:,0,:]  # first token CLS\n",
    "    else:\n",
    "        raise ValueError(\"pooling must be 'mean' or 'cls'\")\n",
    "    \n",
    "    if normalize:\n",
    "        v = v / (v.norm(dim=1, keepdim=True) + 1e-12)\n",
    "    return v\n",
    "    \n"
   ]
  },
  {
   "cell_type": "markdown",
   "id": "bf592abd",
   "metadata": {},
   "source": [
    "#### 7.2) Build title embeddings (batched)"
   ]
  },
  {
   "cell_type": "code",
   "execution_count": 87,
   "id": "c5a21349",
   "metadata": {},
   "outputs": [
    {
     "ename": "NameError",
     "evalue": "name 'max_length' is not defined",
     "output_type": "error",
     "traceback": [
      "\u001b[31m---------------------------------------------------------------------------\u001b[39m",
      "\u001b[31mNameError\u001b[39m                                 Traceback (most recent call last)",
      "\u001b[36mCell\u001b[39m\u001b[36m \u001b[39m\u001b[32mIn[87]\u001b[39m\u001b[32m, line 2\u001b[39m\n\u001b[32m      1\u001b[39m X_bert = torch.cat([\n\u001b[32m----> \u001b[39m\u001b[32m2\u001b[39m     \u001b[43mencode_bert_batch\u001b[49m\u001b[43m(\u001b[49m\u001b[43mdf\u001b[49m\u001b[43m[\u001b[49m\u001b[33;43m'\u001b[39;49m\u001b[33;43mtitle_text\u001b[39;49m\u001b[33;43m'\u001b[39;49m\u001b[43m]\u001b[49m\u001b[43m.\u001b[49m\u001b[43miloc\u001b[49m\u001b[43m[\u001b[49m\u001b[43mi\u001b[49m\u001b[43m:\u001b[49m\u001b[43mi\u001b[49m\u001b[43m+\u001b[49m\u001b[32;43m64\u001b[39;49m\u001b[43m]\u001b[49m\u001b[43m,\u001b[49m\n\u001b[32m      3\u001b[39m \u001b[43m    \u001b[49m\u001b[43mpooling\u001b[49m\u001b[43m=\u001b[49m\u001b[33;43m\"\u001b[39;49m\u001b[33;43mmean\u001b[39;49m\u001b[33;43m\"\u001b[39;49m\u001b[43m,\u001b[49m\n\u001b[32m      4\u001b[39m \u001b[43m    \u001b[49m\u001b[43mnormalize\u001b[49m\u001b[43m=\u001b[49m\u001b[38;5;28;43;01mTrue\u001b[39;49;00m\u001b[43m)\u001b[49m \u001b[38;5;28;01mfor\u001b[39;00m i \u001b[38;5;129;01min\u001b[39;00m \u001b[38;5;28mrange\u001b[39m(\u001b[32m0\u001b[39m, \u001b[38;5;28mlen\u001b[39m(df), \u001b[32m64\u001b[39m)], dim=\u001b[32m0\u001b[39m)\n\u001b[32m      6\u001b[39m keep_idx_bert = \u001b[38;5;28mlist\u001b[39m(\u001b[38;5;28mrange\u001b[39m(\u001b[38;5;28mlen\u001b[39m(df)))                   \u001b[38;5;66;03m# 1:1 rows with df\u001b[39;00m\n\u001b[32m      7\u001b[39m \u001b[38;5;28mprint\u001b[39m(\u001b[33m\"\u001b[39m\u001b[33mBERT encoded titles:\u001b[39m\u001b[33m\"\u001b[39m, X_bert.shape, \u001b[33m\"\u001b[39m\u001b[33mkept:\u001b[39m\u001b[33m\"\u001b[39m, \u001b[38;5;28mlen\u001b[39m(keep_idx_bert))\n",
      "\u001b[36mFile \u001b[39m\u001b[32me:\\Devs\\pyEnv-1\\venvs\\Pot-Tals_3_env\\Lib\\site-packages\\torch\\utils\\_contextlib.py:116\u001b[39m, in \u001b[36mcontext_decorator.<locals>.decorate_context\u001b[39m\u001b[34m(*args, **kwargs)\u001b[39m\n\u001b[32m    113\u001b[39m \u001b[38;5;129m@functools\u001b[39m.wraps(func)\n\u001b[32m    114\u001b[39m \u001b[38;5;28;01mdef\u001b[39;00m\u001b[38;5;250m \u001b[39m\u001b[34mdecorate_context\u001b[39m(*args, **kwargs):\n\u001b[32m    115\u001b[39m     \u001b[38;5;28;01mwith\u001b[39;00m ctx_factory():\n\u001b[32m--> \u001b[39m\u001b[32m116\u001b[39m         \u001b[38;5;28;01mreturn\u001b[39;00m \u001b[43mfunc\u001b[49m\u001b[43m(\u001b[49m\u001b[43m*\u001b[49m\u001b[43margs\u001b[49m\u001b[43m,\u001b[49m\u001b[43m \u001b[49m\u001b[43m*\u001b[49m\u001b[43m*\u001b[49m\u001b[43mkwargs\u001b[49m\u001b[43m)\u001b[49m\n",
      "\u001b[36mCell\u001b[39m\u001b[36m \u001b[39m\u001b[32mIn[83]\u001b[39m\u001b[32m, line 12\u001b[39m, in \u001b[36mencode_bert_batch\u001b[39m\u001b[34m(texts, pooling, normalize)\u001b[39m\n\u001b[32m      3\u001b[39m \u001b[38;5;129m@torch\u001b[39m.no_grad()\n\u001b[32m      4\u001b[39m \u001b[38;5;28;01mdef\u001b[39;00m\u001b[38;5;250m \u001b[39m\u001b[34mencode_bert_batch\u001b[39m(texts, pooling=\u001b[33m'\u001b[39m\u001b[33mmean\u001b[39m\u001b[33m'\u001b[39m, normalize=\u001b[38;5;28;01mTrue\u001b[39;00m):\n\u001b[32m      5\u001b[39m \u001b[38;5;250m    \u001b[39m\u001b[33;03m\"\"\"\u001b[39;00m\n\u001b[32m      6\u001b[39m \u001b[33;03m    texts: list[str] -> tensor [B, H] (L2-normalized)\u001b[39;00m\n\u001b[32m      7\u001b[39m \u001b[33;03m    \"\"\"\u001b[39;00m\n\u001b[32m      8\u001b[39m     enc = tok_bert(\n\u001b[32m      9\u001b[39m         \u001b[38;5;28mlist\u001b[39m(texts), \n\u001b[32m     10\u001b[39m         padding=\u001b[38;5;28;01mTrue\u001b[39;00m, \n\u001b[32m     11\u001b[39m         truncation=\u001b[38;5;28;01mTrue\u001b[39;00m, \n\u001b[32m---> \u001b[39m\u001b[32m12\u001b[39m         max_length=\u001b[43mmax_length\u001b[49m, \n\u001b[32m     13\u001b[39m         return_tensors=\u001b[33m\"\u001b[39m\u001b[33mpt\u001b[39m\u001b[33m\"\u001b[39m\n\u001b[32m     14\u001b[39m     ).to(device)\n\u001b[32m     15\u001b[39m     out = mdl_bert(**enc)  \u001b[38;5;66;03m# last_hidden_state: [B, T, H]\u001b[39;00m\n\u001b[32m     16\u001b[39m     H = out.last_hidden_state\n",
      "\u001b[31mNameError\u001b[39m: name 'max_length' is not defined"
     ]
    }
   ],
   "source": [
    "X_bert = torch.cat([\n",
    "    encode_bert_batch(df['title_text'].iloc[i:i+64],\n",
    "    pooling=\"mean\",\n",
    "    normalize=True) for i in range(0, len(df), 64)], dim=0)\n",
    "    \n",
    "keep_idx_bert = list(range(len(df)))                   # 1:1 rows with df\n",
    "print(\"BERT encoded titles:\", X_bert.shape, \"kept:\", len(keep_idx_bert))"
   ]
  },
  {
   "cell_type": "markdown",
   "id": "89b0fcf5",
   "metadata": {},
   "source": [
    "#### 7.3) Cosine search over titles with BERT"
   ]
  },
  {
   "cell_type": "code",
   "execution_count": 88,
   "id": "36bbf35e",
   "metadata": {},
   "outputs": [],
   "source": [
    "@torch.no_grad()\n",
    "def search_titles_bert(query: str,\n",
    "                       X: torch.Tensor,\n",
    "                       df: pd.DataFrame,\n",
    "                       topk: int = 10,\n",
    "                       dedupe: bool = True):\n",
    "    q = encode_bert_batch(\n",
    "        [canonicalize_title(query)],\n",
    "        pooling=\"mean\",\n",
    "        normalize=True)  # [1, H]\n",
    "    sims = (X @ q[0])                                    # [N]\n",
    "    top = torch.topk(sims, k=min(topk*3, sims.numel()))  # oversample if deduping\n",
    "\n",
    "    rows, seen = [], set()\n",
    "    for idx in top.indices.tolist():\n",
    "        title_str = df.loc[idx, \"job_title\"]\n",
    "        if dedupe and title_str in seen:\n",
    "            continue\n",
    "        seen.add(title_str)\n",
    "        rows.append((title_str, float(sims[idx].item())))\n",
    "        if len(rows) == topk:\n",
    "            break\n",
    "    return rows, None"
   ]
  },
  {
   "cell_type": "code",
   "execution_count": 89,
   "id": "3a38db48",
   "metadata": {},
   "outputs": [
    {
     "ename": "NameError",
     "evalue": "name 'max_length' is not defined",
     "output_type": "error",
     "traceback": [
      "\u001b[31m---------------------------------------------------------------------------\u001b[39m",
      "\u001b[31mNameError\u001b[39m                                 Traceback (most recent call last)",
      "\u001b[36mCell\u001b[39m\u001b[36m \u001b[39m\u001b[32mIn[89]\u001b[39m\u001b[32m, line 3\u001b[39m\n\u001b[32m      1\u001b[39m \u001b[38;5;66;03m# quick test (same queries as other families)\u001b[39;00m\n\u001b[32m      2\u001b[39m \u001b[38;5;28;01mfor\u001b[39;00m q \u001b[38;5;129;01min\u001b[39;00m [\u001b[33m\"\u001b[39m\u001b[33mdata scientist\u001b[39m\u001b[33m\"\u001b[39m, \u001b[33m\"\u001b[39m\u001b[33mmachine learning engineer\u001b[39m\u001b[33m\"\u001b[39m, \u001b[33m\"\u001b[39m\u001b[33mbackend developer\u001b[39m\u001b[33m\"\u001b[39m, \u001b[33m\"\u001b[39m\u001b[33mproduct manager\u001b[39m\u001b[33m\"\u001b[39m]:\n\u001b[32m----> \u001b[39m\u001b[32m3\u001b[39m     rows, err = \u001b[43msearch_titles_bert\u001b[49m\u001b[43m(\u001b[49m\u001b[43mq\u001b[49m\u001b[43m,\u001b[49m\u001b[43m \u001b[49m\u001b[43mX_bert\u001b[49m\u001b[43m,\u001b[49m\u001b[43m \u001b[49m\u001b[43mdf\u001b[49m\u001b[43m,\u001b[49m\u001b[43m \u001b[49m\u001b[43mtopk\u001b[49m\u001b[43m=\u001b[49m\u001b[32;43m10\u001b[39;49m\u001b[43m,\u001b[49m\u001b[43m \u001b[49m\u001b[43mdedupe\u001b[49m\u001b[43m=\u001b[49m\u001b[38;5;28;43;01mTrue\u001b[39;49;00m\u001b[43m)\u001b[49m\n\u001b[32m      4\u001b[39m     \u001b[38;5;28mprint\u001b[39m(\u001b[33mf\u001b[39m\u001b[33m\"\u001b[39m\u001b[38;5;130;01m\\n\u001b[39;00m\u001b[33mQuery: \u001b[39m\u001b[38;5;132;01m{\u001b[39;00mq\u001b[38;5;132;01m}\u001b[39;00m\u001b[33m\"\u001b[39m)\n\u001b[32m      5\u001b[39m     \u001b[38;5;28;01mif\u001b[39;00m err: \n",
      "\u001b[36mFile \u001b[39m\u001b[32me:\\Devs\\pyEnv-1\\venvs\\Pot-Tals_3_env\\Lib\\site-packages\\torch\\utils\\_contextlib.py:116\u001b[39m, in \u001b[36mcontext_decorator.<locals>.decorate_context\u001b[39m\u001b[34m(*args, **kwargs)\u001b[39m\n\u001b[32m    113\u001b[39m \u001b[38;5;129m@functools\u001b[39m.wraps(func)\n\u001b[32m    114\u001b[39m \u001b[38;5;28;01mdef\u001b[39;00m\u001b[38;5;250m \u001b[39m\u001b[34mdecorate_context\u001b[39m(*args, **kwargs):\n\u001b[32m    115\u001b[39m     \u001b[38;5;28;01mwith\u001b[39;00m ctx_factory():\n\u001b[32m--> \u001b[39m\u001b[32m116\u001b[39m         \u001b[38;5;28;01mreturn\u001b[39;00m \u001b[43mfunc\u001b[49m\u001b[43m(\u001b[49m\u001b[43m*\u001b[49m\u001b[43margs\u001b[49m\u001b[43m,\u001b[49m\u001b[43m \u001b[49m\u001b[43m*\u001b[49m\u001b[43m*\u001b[49m\u001b[43mkwargs\u001b[49m\u001b[43m)\u001b[49m\n",
      "\u001b[36mCell\u001b[39m\u001b[36m \u001b[39m\u001b[32mIn[88]\u001b[39m\u001b[32m, line 7\u001b[39m, in \u001b[36msearch_titles_bert\u001b[39m\u001b[34m(query, X, df, topk, dedupe)\u001b[39m\n\u001b[32m      1\u001b[39m \u001b[38;5;129m@torch\u001b[39m.no_grad()\n\u001b[32m      2\u001b[39m \u001b[38;5;28;01mdef\u001b[39;00m\u001b[38;5;250m \u001b[39m\u001b[34msearch_titles_bert\u001b[39m(query: \u001b[38;5;28mstr\u001b[39m,\n\u001b[32m      3\u001b[39m                        X: torch.Tensor,\n\u001b[32m      4\u001b[39m                        df: pd.DataFrame,\n\u001b[32m      5\u001b[39m                        topk: \u001b[38;5;28mint\u001b[39m = \u001b[32m10\u001b[39m,\n\u001b[32m      6\u001b[39m                        dedupe: \u001b[38;5;28mbool\u001b[39m = \u001b[38;5;28;01mTrue\u001b[39;00m):\n\u001b[32m----> \u001b[39m\u001b[32m7\u001b[39m     q = \u001b[43mencode_bert_batch\u001b[49m\u001b[43m(\u001b[49m\n\u001b[32m      8\u001b[39m \u001b[43m        \u001b[49m\u001b[43m[\u001b[49m\u001b[43mcanonicalize_title\u001b[49m\u001b[43m(\u001b[49m\u001b[43mquery\u001b[49m\u001b[43m)\u001b[49m\u001b[43m]\u001b[49m\u001b[43m,\u001b[49m\n\u001b[32m      9\u001b[39m \u001b[43m        \u001b[49m\u001b[43mpooling\u001b[49m\u001b[43m=\u001b[49m\u001b[33;43m\"\u001b[39;49m\u001b[33;43mmean\u001b[39;49m\u001b[33;43m\"\u001b[39;49m\u001b[43m,\u001b[49m\n\u001b[32m     10\u001b[39m \u001b[43m        \u001b[49m\u001b[43mnormalize\u001b[49m\u001b[43m=\u001b[49m\u001b[38;5;28;43;01mTrue\u001b[39;49;00m\u001b[43m)\u001b[49m  \u001b[38;5;66;03m# [1, H]\u001b[39;00m\n\u001b[32m     11\u001b[39m     sims = (X @ q[\u001b[32m0\u001b[39m])                                    \u001b[38;5;66;03m# [N]\u001b[39;00m\n\u001b[32m     12\u001b[39m     top = torch.topk(sims, k=\u001b[38;5;28mmin\u001b[39m(topk*\u001b[32m3\u001b[39m, sims.numel()))  \u001b[38;5;66;03m# oversample if deduping\u001b[39;00m\n",
      "\u001b[36mFile \u001b[39m\u001b[32me:\\Devs\\pyEnv-1\\venvs\\Pot-Tals_3_env\\Lib\\site-packages\\torch\\utils\\_contextlib.py:116\u001b[39m, in \u001b[36mcontext_decorator.<locals>.decorate_context\u001b[39m\u001b[34m(*args, **kwargs)\u001b[39m\n\u001b[32m    113\u001b[39m \u001b[38;5;129m@functools\u001b[39m.wraps(func)\n\u001b[32m    114\u001b[39m \u001b[38;5;28;01mdef\u001b[39;00m\u001b[38;5;250m \u001b[39m\u001b[34mdecorate_context\u001b[39m(*args, **kwargs):\n\u001b[32m    115\u001b[39m     \u001b[38;5;28;01mwith\u001b[39;00m ctx_factory():\n\u001b[32m--> \u001b[39m\u001b[32m116\u001b[39m         \u001b[38;5;28;01mreturn\u001b[39;00m \u001b[43mfunc\u001b[49m\u001b[43m(\u001b[49m\u001b[43m*\u001b[49m\u001b[43margs\u001b[49m\u001b[43m,\u001b[49m\u001b[43m \u001b[49m\u001b[43m*\u001b[49m\u001b[43m*\u001b[49m\u001b[43mkwargs\u001b[49m\u001b[43m)\u001b[49m\n",
      "\u001b[36mCell\u001b[39m\u001b[36m \u001b[39m\u001b[32mIn[83]\u001b[39m\u001b[32m, line 12\u001b[39m, in \u001b[36mencode_bert_batch\u001b[39m\u001b[34m(texts, pooling, normalize)\u001b[39m\n\u001b[32m      3\u001b[39m \u001b[38;5;129m@torch\u001b[39m.no_grad()\n\u001b[32m      4\u001b[39m \u001b[38;5;28;01mdef\u001b[39;00m\u001b[38;5;250m \u001b[39m\u001b[34mencode_bert_batch\u001b[39m(texts, pooling=\u001b[33m'\u001b[39m\u001b[33mmean\u001b[39m\u001b[33m'\u001b[39m, normalize=\u001b[38;5;28;01mTrue\u001b[39;00m):\n\u001b[32m      5\u001b[39m \u001b[38;5;250m    \u001b[39m\u001b[33;03m\"\"\"\u001b[39;00m\n\u001b[32m      6\u001b[39m \u001b[33;03m    texts: list[str] -> tensor [B, H] (L2-normalized)\u001b[39;00m\n\u001b[32m      7\u001b[39m \u001b[33;03m    \"\"\"\u001b[39;00m\n\u001b[32m      8\u001b[39m     enc = tok_bert(\n\u001b[32m      9\u001b[39m         \u001b[38;5;28mlist\u001b[39m(texts), \n\u001b[32m     10\u001b[39m         padding=\u001b[38;5;28;01mTrue\u001b[39;00m, \n\u001b[32m     11\u001b[39m         truncation=\u001b[38;5;28;01mTrue\u001b[39;00m, \n\u001b[32m---> \u001b[39m\u001b[32m12\u001b[39m         max_length=\u001b[43mmax_length\u001b[49m, \n\u001b[32m     13\u001b[39m         return_tensors=\u001b[33m\"\u001b[39m\u001b[33mpt\u001b[39m\u001b[33m\"\u001b[39m\n\u001b[32m     14\u001b[39m     ).to(device)\n\u001b[32m     15\u001b[39m     out = mdl_bert(**enc)  \u001b[38;5;66;03m# last_hidden_state: [B, T, H]\u001b[39;00m\n\u001b[32m     16\u001b[39m     H = out.last_hidden_state\n",
      "\u001b[31mNameError\u001b[39m: name 'max_length' is not defined"
     ]
    }
   ],
   "source": [
    "# quick test (same queries as other families)\n",
    "for q in [\"data scientist\", \"machine learning engineer\", \"backend developer\", \"product manager\"]:\n",
    "    rows, err = search_titles_bert(q, X_bert, df, topk=10, dedupe=True)\n",
    "    print(f\"\\nQuery: {q}\")\n",
    "    if err: \n",
    "        print(\"  \", err)\n",
    "    else:\n",
    "        for t, s in rows:\n",
    "            print(f\"  {s: .3f}  {t}\")"
   ]
  },
  {
   "cell_type": "code",
   "execution_count": null,
   "id": "7cae2fb0",
   "metadata": {},
   "outputs": [],
   "source": []
  },
  {
   "cell_type": "code",
   "execution_count": null,
   "id": "99adb8dd",
   "metadata": {},
   "outputs": [],
   "source": []
  },
  {
   "cell_type": "code",
   "execution_count": null,
   "id": "5c5861df",
   "metadata": {},
   "outputs": [],
   "source": []
  },
  {
   "cell_type": "code",
   "execution_count": null,
   "id": "468bd9e6",
   "metadata": {},
   "outputs": [],
   "source": []
  },
  {
   "cell_type": "code",
   "execution_count": null,
   "id": "6d1b42a2",
   "metadata": {},
   "outputs": [],
   "source": []
  },
  {
   "cell_type": "markdown",
   "id": "9307ee67",
   "metadata": {},
   "source": [
    "Collecting results for later comparison:"
   ]
  },
  {
   "cell_type": "code",
   "execution_count": 44,
   "id": "608dfb2b",
   "metadata": {},
   "outputs": [
    {
     "name": "stdout",
     "output_type": "stream",
     "text": [
      "Stored top-k results in results_topk[family][query].\n"
     ]
    }
   ],
   "source": [
    "# Embedding Families and the results\n",
    "FAMILIES = {\n",
    "    \"SGNS\": (X_sgns_mean, E_comb, stoi,      keep_idx),\n",
    "    \"W2V\" : (X_w2v_mean,  E_w2v,  stoi_w2v,  keep_idx_w2v),\n",
    "    }\n",
    "\n",
    "queries = [\"data scientist\", \"machine learning engineer\", \"backend developer\", \"product manager\"]\n",
    "K = 10\n",
    "\n",
    "# Store top-k *titles* (strings) for each family & query\n",
    "results_topk = {fam: {} for fam in FAMILIES}\n",
    "\n",
    "for fam, (X, E, stoi_f, keep_idx_f) in FAMILIES.items():\n",
    "    for q in queries:\n",
    "        rows, err = search_titles(q, X, E, stoi_f, keep_idx_f, df, topk=K, dedupe=True)\n",
    "        results_topk[fam][q] = [title for (title, _score) in rows] if not err else []\n",
    "\n",
    "print(\"Stored top-k results in results_topk[family][query].\")"
   ]
  },
  {
   "cell_type": "code",
   "execution_count": 45,
   "id": "4f93da92",
   "metadata": {},
   "outputs": [
    {
     "name": "stdout",
     "output_type": "stream",
     "text": [
      "\n",
      "=== data scientist ===\n",
      "Overlap@10:\n",
      "       SGNS  W2V\n",
      "SGNS   1.0  0.5\n",
      "W2V    0.5  1.0\n",
      "\n",
      "Jaccard@10:\n",
      "           SGNS       W2V\n",
      "SGNS  1.000000  0.333333\n",
      "W2V   0.333333  1.000000\n",
      "\n",
      "=== machine learning engineer ===\n",
      "Overlap@10:\n",
      "       SGNS  W2V\n",
      "SGNS   1.0  0.7\n",
      "W2V    0.7  1.0\n",
      "\n",
      "Jaccard@10:\n",
      "           SGNS       W2V\n",
      "SGNS  1.000000  0.538462\n",
      "W2V   0.538462  1.000000\n",
      "\n",
      "=== backend developer ===\n",
      "Overlap@10:\n",
      "       SGNS  W2V\n",
      "SGNS   1.0  0.6\n",
      "W2V    0.6  1.0\n",
      "\n",
      "Jaccard@10:\n",
      "           SGNS       W2V\n",
      "SGNS  1.000000  0.428571\n",
      "W2V   0.428571  1.000000\n",
      "\n",
      "=== product manager ===\n",
      "Overlap@10:\n",
      "       SGNS  W2V\n",
      "SGNS   1.0  0.7\n",
      "W2V    0.7  1.0\n",
      "\n",
      "Jaccard@10:\n",
      "           SGNS       W2V\n",
      "SGNS  1.000000  0.538462\n",
      "W2V   0.538462  1.000000\n"
     ]
    }
   ],
   "source": [
    "def overlap_at_k(list_a, list_b, k=10):\n",
    "    A, B = set(list_a[:k]), set(list_b[:k])\n",
    "    denom = max(1, min(k, len(A), len(B)))\n",
    "    return len(A & B) / denom\n",
    "\n",
    "def jaccard_at_k(list_a, list_b, k=10):\n",
    "    A, B = set(list_a[:k]), set(list_b[:k])\n",
    "    union = len(A | B)\n",
    "    return (len(A & B) / union) if union else 0.0\n",
    "\n",
    "import itertools\n",
    "\n",
    "family_names = list(FAMILIES.keys())\n",
    "\n",
    "for q in queries:\n",
    "    print(f\"\\n=== {q} ===\")\n",
    "    # Build symmetric matrices\n",
    "    O = np.zeros((len(family_names), len(family_names)))\n",
    "    J = np.zeros_like(O)\n",
    "    for i, a in enumerate(family_names):\n",
    "        for j, b in enumerate(family_names):\n",
    "            O[i, j] = overlap_at_k(results_topk[a][q], results_topk[b][q], k=K)\n",
    "            J[i, j] = jaccard_at_k(results_topk[a][q], results_topk[b][q], k=K)\n",
    "    print(\"Overlap@{}:\\n\".format(K), pd.DataFrame(O, index=family_names, columns=family_names))\n",
    "    print(\"\\nJaccard@{}:\\n\".format(K), pd.DataFrame(J, index=family_names, columns=family_names))\n"
   ]
  },
  {
   "cell_type": "code",
   "execution_count": 53,
   "id": "85db958f",
   "metadata": {},
   "outputs": [],
   "source": [
    "# add the family to your registry so later matrices (Overlap@k / Jaccard@k) include it\n",
    "FAMILIES[\"GloVe\"] = (X_glove_mean, E_glove, stoi_glove, keep_idx_glove)\n",
    "\n",
    "# store top-k per query for later cross-family comparison\n",
    "results_topk[\"GloVe\"] = {}\n",
    "K = 10\n",
    "for q in [\"data scientist\", \"machine learning engineer\", \"backend developer\", \"product manager\"]:\n",
    "    rows, err = search_titles(q, X_glove_mean, E_glove, stoi_glove, keep_idx_glove, df, topk=K, dedupe=True)\n",
    "    results_topk[\"GloVe\"][q] = [title for (title, _score) in rows] if not err else []\n"
   ]
  },
  {
   "cell_type": "code",
   "execution_count": null,
   "id": "bb46c695",
   "metadata": {},
   "outputs": [],
   "source": [
    "RANKS = RANKS if \"RANKS\" in globals() else {}\n",
    "RANKS.setdefault(\"bert\", {})\n",
    "\n",
    "def top_indices_bert(query, X, k=10):\n",
    "    q = encode_bert_batch([canonicalize_title(query)])\n",
    "    sims = (X @ q[0])\n",
    "    return torch.topk(sims, k=min(k, sims.numel())).indices.tolist()\n",
    "\n",
    "for q in [\"data scientist\", \"machine learning engineer\", \"backend developer\", \"product manager\"]:\n",
    "    RANKS[\"bert\"][q] = top_indices_bert(q, X_bert, k=10)\n",
    "\n",
    "# RANKS now also contains \"bert\" to compare with SGNS/GloVe/fastText later\n"
   ]
  }
 ],
 "metadata": {
  "kernelspec": {
   "display_name": "Pot-Tals_3_env",
   "language": "python",
   "name": "pot-tals_3_env"
  },
  "language_info": {
   "codemirror_mode": {
    "name": "ipython",
    "version": 3
   },
   "file_extension": ".py",
   "mimetype": "text/x-python",
   "name": "python",
   "nbconvert_exporter": "python",
   "pygments_lexer": "ipython3",
   "version": "3.12.7"
  }
 },
 "nbformat": 4,
 "nbformat_minor": 5
}
