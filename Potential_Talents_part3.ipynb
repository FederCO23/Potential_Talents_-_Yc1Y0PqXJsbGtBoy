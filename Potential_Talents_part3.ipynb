{
 "cells": [
  {
   "cell_type": "markdown",
   "id": "b22c4196",
   "metadata": {},
   "source": [
    "## Potential Talents - Part 3"
   ]
  },
  {
   "cell_type": "markdown",
   "id": "2956a14e",
   "metadata": {},
   "source": [
    "----"
   ]
  },
  {
   "cell_type": "markdown",
   "id": "716b8abb",
   "metadata": {},
   "source": [
    "### Objectives:\n",
    "\n",
    "Retrieve the most similar job titles to a query using several embedding families, and compare their rankings.\n",
    "\n",
    "### Summary:\n",
    "\n",
    "   0) Setup & Data\n",
    "   1) Load custom SGNS embeddings (from Part 2, mini-Word2Vec)\n",
    "   2) Tokenization for titles (keep it simple & consistent)\n",
    "   3) Custom mini-Word2Vec (my SGNS from part 2)\n",
    "   4) Word2Vec (Google)\n",
    "   5) GloVe (Stanford)\n",
    "   6) FastText (Meta)\n",
    "   7) BERT (Google; mean/CLS pooling)\n",
    "   8) Sentece-BERT (SBERT; sentence-level embeddings)\n",
    "   9) Ranking & side-by-side comparison (qualitative / quantitative)\n",
    "  "
   ]
  },
  {
   "cell_type": "markdown",
   "id": "b8e935cd",
   "metadata": {},
   "source": [
    "----\n"
   ]
  },
  {
   "cell_type": "markdown",
   "id": "13000046",
   "metadata": {},
   "source": [
    "## 0. Setup & Data"
   ]
  },
  {
   "cell_type": "code",
   "execution_count": 1,
   "id": "2569f4d5",
   "metadata": {},
   "outputs": [],
   "source": [
    "import os, math, random\n",
    "import numpy as np\n",
    "import pandas as pd\n",
    "import torch\n",
    "from torch import nn\n",
    "import sys"
   ]
  },
  {
   "cell_type": "code",
   "execution_count": 2,
   "id": "f9c2184b",
   "metadata": {},
   "outputs": [
    {
     "name": "stdout",
     "output_type": "stream",
     "text": [
      "python: e:\\Devs\\pyEnv-1\\venvs\\Pot-Tals_3_env\\Scripts\\python.exe\n",
      "torch file: e:\\Devs\\pyEnv-1\\venvs\\Pot-Tals_3_env\\Lib\\site-packages\\torch\\__init__.py\n",
      "torch version: 2.6.0+cu124\n",
      "torch.version.cuda: 12.4\n",
      "cuda available: True\n"
     ]
    }
   ],
   "source": [
    "print(\"python:\", sys.executable)\n",
    "print(\"torch file:\", torch.__file__)\n",
    "print(\"torch version:\", torch.__version__)\n",
    "print(\"torch.version.cuda:\", torch.version.cuda)\n",
    "print(\"cuda available:\", torch.cuda.is_available())"
   ]
  },
  {
   "cell_type": "code",
   "execution_count": 3,
   "id": "880ab4da",
   "metadata": {},
   "outputs": [
    {
     "data": {
      "text/plain": [
       "device(type='cuda')"
      ]
     },
     "execution_count": 3,
     "metadata": {},
     "output_type": "execute_result"
    }
   ],
   "source": [
    "SEED = 23\n",
    "random.seed(SEED); np.random.seed(SEED); torch.manual_seed(SEED); torch.cuda.manual_seed_all(SEED)\n",
    "device = torch.device('cuda' if torch.cuda.is_available() else 'cpu')\n",
    "device\n"
   ]
  },
  {
   "cell_type": "code",
   "execution_count": 4,
   "id": "b55d5b25",
   "metadata": {},
   "outputs": [
    {
     "data": {
      "text/plain": [
       "(104,\n",
       " ['2019 C.T. Bauer College of Business Graduate (Magna Cum Laude) and aspiring Human Resources professional',\n",
       "  'Native English Teacher at EPIK (English Program in Korea)',\n",
       "  'Aspiring Human Resources Professional',\n",
       "  'People Development Coordinator at Ryan',\n",
       "  'Advisory Board Member at Celal Bayar University'])"
      ]
     },
     "execution_count": 4,
     "metadata": {},
     "output_type": "execute_result"
    }
   ],
   "source": [
    "df = pd.read_csv(\"./data/potential_talents.csv\")\n",
    "titles = df[\"job_title\"].astype(str).tolist()\n",
    "len(titles), titles[:5]\n"
   ]
  },
  {
   "cell_type": "markdown",
   "id": "004ca327",
   "metadata": {},
   "source": [
    "## 1. Custom SGNS embeddings (from Part 2, mini-Word2Vec)"
   ]
  },
  {
   "cell_type": "code",
   "execution_count": 5,
   "id": "afffda27",
   "metadata": {},
   "outputs": [],
   "source": [
    "# Load SGNS checkpoint (from Part 2)\n",
    "ckpt_path = \"checkpoints/sgns_text8.pt\"\n",
    "ckpt = torch.load(ckpt_path, map_location=\"cpu\")\n"
   ]
  },
  {
   "cell_type": "code",
   "execution_count": 6,
   "id": "39debf4d",
   "metadata": {},
   "outputs": [
    {
     "data": {
      "text/plain": [
       "dict_keys(['model_state', 'itos', 'config'])"
      ]
     },
     "execution_count": 6,
     "metadata": {},
     "output_type": "execute_result"
    }
   ],
   "source": [
    "ckpt.keys()"
   ]
  },
  {
   "cell_type": "code",
   "execution_count": 7,
   "id": "497a75aa",
   "metadata": {},
   "outputs": [
    {
     "data": {
      "text/plain": [
       "{'embed_dim': 300}"
      ]
     },
     "execution_count": 7,
     "metadata": {},
     "output_type": "execute_result"
    }
   ],
   "source": [
    "ckpt['config'] "
   ]
  },
  {
   "cell_type": "code",
   "execution_count": 8,
   "id": "91765b8f",
   "metadata": {},
   "outputs": [
    {
     "data": {
      "text/plain": [
       "['a', 'aa', 'aaa', 'aaaa', 'aaai', 'aaas', 'aac', 'aachen', 'aafc', 'aage']"
      ]
     },
     "execution_count": 8,
     "metadata": {},
     "output_type": "execute_result"
    }
   ],
   "source": [
    "ckpt['itos'][:10] "
   ]
  },
  {
   "cell_type": "code",
   "execution_count": 9,
   "id": "90d2d9eb",
   "metadata": {},
   "outputs": [
    {
     "name": "stdout",
     "output_type": "stream",
     "text": [
      "<class 'collections.OrderedDict'>\n",
      "odict_keys(['emb_in.weight', 'emb_out.weight'])\n"
     ]
    }
   ],
   "source": [
    "print(type(ckpt['model_state']))\n",
    "print(ckpt['model_state'].keys())"
   ]
  },
  {
   "cell_type": "code",
   "execution_count": 10,
   "id": "639e306d",
   "metadata": {},
   "outputs": [
    {
     "data": {
      "text/plain": [
       "torch.Size([71290, 300])"
      ]
     },
     "execution_count": 10,
     "metadata": {},
     "output_type": "execute_result"
    }
   ],
   "source": [
    "itos = ckpt[\"itos\"]\n",
    "stoi = {w:i for i,w in enumerate(itos)}\n",
    "\n",
    "E_in  = ckpt[\"model_state\"][\"emb_in.weight\"].detach().float()   # [|V|, D]\n",
    "E_out = ckpt[\"model_state\"][\"emb_out.weight\"].detach().float()  # [|V|, D]\n",
    "\n",
    "# as in Part2, use the avg \n",
    "E_comb = 0.5 * (E_in + E_out)\n",
    "E_comb = E_comb / (E_comb.norm(dim=1, keepdim=True) + 1e-12)\n",
    "\n",
    "E_comb.shape\n"
   ]
  },
  {
   "cell_type": "markdown",
   "id": "ae81898e",
   "metadata": {},
   "source": [
    "## 2) Tokenization for titles (keep it simple & consistent)"
   ]
  },
  {
   "cell_type": "code",
   "execution_count": 11,
   "id": "91696596",
   "metadata": {},
   "outputs": [],
   "source": [
    "import re, unicodedata\n",
    "import nltk\n",
    "_ = nltk.download('punkt', quiet=True)"
   ]
  },
  {
   "cell_type": "code",
   "execution_count": 12,
   "id": "52c6718a",
   "metadata": {},
   "outputs": [],
   "source": [
    "# regex for separator chars to normalize/split title delimiters\n",
    "SEP_RE = re.compile(r\"[|/\\\\•·–—\\-]+\")      \n",
    "\n",
    "def canonicalize_title(s: str, strip_org_tail: bool = True) -> str:\n",
    "    \"\"\"\n",
    "    Light canonicalization (cleaning) that preserves full sentence content:\n",
    "    - Unicode NFKC normalization, trim, lowercase\n",
    "    - Normalize separators (& -> 'and')\n",
    "    - Collapse whitespace\n",
    "    Input: string → Output: cleaned string.\n",
    "    \"\"\"\n",
    "    \n",
    "    # if the input isn’t a string, return an empty string\n",
    "    if not isinstance(s, str): \n",
    "        return \"\"\n",
    "    \n",
    "    # Unicode normalization form NFKC + strip + lowercase\n",
    "    s = unicodedata.normalize(\"NFKC\", s).strip().lower()\n",
    "    s = SEP_RE.sub(\" \", s)                 # “hr manager | engie” -> “hr manager  engie”\n",
    "    s = s.replace(\"&\", \" and \")\n",
    "        \n",
    "    # collapses any run of whitespace (spaces, tabs) to a single space\n",
    "    s = re.sub(r\"\\s+\", \" \", s)\n",
    "    \n",
    "    return s"
   ]
  },
  {
   "cell_type": "code",
   "execution_count": 13,
   "id": "efb7b6d5",
   "metadata": {},
   "outputs": [],
   "source": [
    "# Simple, stable regex tokenizer: keep a–z sequences (no stopword/org stripping)\n",
    "TOKEN_RE = re.compile(r\"[a-z]+\")\n",
    "\n",
    "def tokenize_title(s: str, drop_org_like=True) -> list[str]:\n",
    "    \"\"\"\n",
    "    Canonicalize, then regex-tokenize. No stopword/org filtering.\n",
    "    Input: string → Output: list of tokens.\n",
    "    \"\"\" \n",
    "    s = canonicalize_title(s)\n",
    "    # every sequence of [a-z]+ becomes one token\n",
    "    toks = TOKEN_RE.findall(s)\n",
    "    \n",
    "    return toks"
   ]
  },
  {
   "cell_type": "code",
   "execution_count": 14,
   "id": "a318007e",
   "metadata": {},
   "outputs": [
    {
     "data": {
      "text/html": [
       "<div>\n",
       "<style scoped>\n",
       "    .dataframe tbody tr th:only-of-type {\n",
       "        vertical-align: middle;\n",
       "    }\n",
       "\n",
       "    .dataframe tbody tr th {\n",
       "        vertical-align: top;\n",
       "    }\n",
       "\n",
       "    .dataframe thead th {\n",
       "        text-align: right;\n",
       "    }\n",
       "</style>\n",
       "<table border=\"1\" class=\"dataframe\">\n",
       "  <thead>\n",
       "    <tr style=\"text-align: right;\">\n",
       "      <th></th>\n",
       "      <th>job_title</th>\n",
       "      <th>title_text</th>\n",
       "      <th>tokens</th>\n",
       "    </tr>\n",
       "  </thead>\n",
       "  <tbody>\n",
       "    <tr>\n",
       "      <th>0</th>\n",
       "      <td>2019 C.T. Bauer College of Business Graduate (...</td>\n",
       "      <td>2019 c.t. bauer college of business graduate (...</td>\n",
       "      <td>[c, t, bauer, college, of, business, graduate,...</td>\n",
       "    </tr>\n",
       "    <tr>\n",
       "      <th>1</th>\n",
       "      <td>Native English Teacher at EPIK (English Progra...</td>\n",
       "      <td>native english teacher at epik (english progra...</td>\n",
       "      <td>[native, english, teacher, at, epik, english, ...</td>\n",
       "    </tr>\n",
       "    <tr>\n",
       "      <th>2</th>\n",
       "      <td>Aspiring Human Resources Professional</td>\n",
       "      <td>aspiring human resources professional</td>\n",
       "      <td>[aspiring, human, resources, professional]</td>\n",
       "    </tr>\n",
       "    <tr>\n",
       "      <th>3</th>\n",
       "      <td>People Development Coordinator at Ryan</td>\n",
       "      <td>people development coordinator at ryan</td>\n",
       "      <td>[people, development, coordinator, at, ryan]</td>\n",
       "    </tr>\n",
       "    <tr>\n",
       "      <th>4</th>\n",
       "      <td>Advisory Board Member at Celal Bayar University</td>\n",
       "      <td>advisory board member at celal bayar university</td>\n",
       "      <td>[advisory, board, member, at, celal, bayar, un...</td>\n",
       "    </tr>\n",
       "    <tr>\n",
       "      <th>5</th>\n",
       "      <td>Aspiring Human Resources Specialist</td>\n",
       "      <td>aspiring human resources specialist</td>\n",
       "      <td>[aspiring, human, resources, specialist]</td>\n",
       "    </tr>\n",
       "    <tr>\n",
       "      <th>6</th>\n",
       "      <td>Student at Humber College and Aspiring Human R...</td>\n",
       "      <td>student at humber college and aspiring human r...</td>\n",
       "      <td>[student, at, humber, college, and, aspiring, ...</td>\n",
       "    </tr>\n",
       "    <tr>\n",
       "      <th>7</th>\n",
       "      <td>HR Senior Specialist</td>\n",
       "      <td>hr senior specialist</td>\n",
       "      <td>[hr, senior, specialist]</td>\n",
       "    </tr>\n",
       "    <tr>\n",
       "      <th>8</th>\n",
       "      <td>Student at Humber College and Aspiring Human R...</td>\n",
       "      <td>student at humber college and aspiring human r...</td>\n",
       "      <td>[student, at, humber, college, and, aspiring, ...</td>\n",
       "    </tr>\n",
       "    <tr>\n",
       "      <th>9</th>\n",
       "      <td>Seeking Human Resources HRIS and Generalist Po...</td>\n",
       "      <td>seeking human resources hris and generalist po...</td>\n",
       "      <td>[seeking, human, resources, hris, and, general...</td>\n",
       "    </tr>\n",
       "  </tbody>\n",
       "</table>\n",
       "</div>"
      ],
      "text/plain": [
       "                                           job_title  \\\n",
       "0  2019 C.T. Bauer College of Business Graduate (...   \n",
       "1  Native English Teacher at EPIK (English Progra...   \n",
       "2              Aspiring Human Resources Professional   \n",
       "3             People Development Coordinator at Ryan   \n",
       "4    Advisory Board Member at Celal Bayar University   \n",
       "5                Aspiring Human Resources Specialist   \n",
       "6  Student at Humber College and Aspiring Human R...   \n",
       "7                               HR Senior Specialist   \n",
       "8  Student at Humber College and Aspiring Human R...   \n",
       "9  Seeking Human Resources HRIS and Generalist Po...   \n",
       "\n",
       "                                          title_text  \\\n",
       "0  2019 c.t. bauer college of business graduate (...   \n",
       "1  native english teacher at epik (english progra...   \n",
       "2              aspiring human resources professional   \n",
       "3             people development coordinator at ryan   \n",
       "4    advisory board member at celal bayar university   \n",
       "5                aspiring human resources specialist   \n",
       "6  student at humber college and aspiring human r...   \n",
       "7                               hr senior specialist   \n",
       "8  student at humber college and aspiring human r...   \n",
       "9  seeking human resources hris and generalist po...   \n",
       "\n",
       "                                              tokens  \n",
       "0  [c, t, bauer, college, of, business, graduate,...  \n",
       "1  [native, english, teacher, at, epik, english, ...  \n",
       "2         [aspiring, human, resources, professional]  \n",
       "3       [people, development, coordinator, at, ryan]  \n",
       "4  [advisory, board, member, at, celal, bayar, un...  \n",
       "5           [aspiring, human, resources, specialist]  \n",
       "6  [student, at, humber, college, and, aspiring, ...  \n",
       "7                           [hr, senior, specialist]  \n",
       "8  [student, at, humber, college, and, aspiring, ...  \n",
       "9  [seeking, human, resources, hris, and, general...  "
      ]
     },
     "execution_count": 14,
     "metadata": {},
     "output_type": "execute_result"
    }
   ],
   "source": [
    "# Build shared columns (used by ALL embedding families)\n",
    "df[\"title_text\"] = df[\"job_title\"].apply(canonicalize_title)   # full sentence, orgs kept\n",
    "df[\"tokens\"]     = df[\"title_text\"].apply(tokenize_title)      # tokens, same for every embedding family\n",
    "\n",
    "# Queries to evaluate later\n",
    "QUERIES = [\"data scientist\", \"machine learning engineer\", \"backend developer\", \"product manager\"]\n",
    "# Tokens of those queries (same tokenizer as titles)\n",
    "Q_TOKENS = {t for q in QUERIES for t in tokenize_title(q)}\n",
    "\n",
    "# Peek\n",
    "df[[\"job_title\", \"title_text\", \"tokens\"]].head(10)\n"
   ]
  },
  {
   "cell_type": "markdown",
   "id": "451437b3",
   "metadata": {},
   "source": [
    "## 3) Custom mini-Word2Vec: "
   ]
  },
  {
   "cell_type": "markdown",
   "id": "7f2eb592",
   "metadata": {},
   "source": [
    "This implementation follows **Skip-Gram with Negative Sampling** in PyTorch with two embedding tables: $E_{\\text{in}}$ (centers) and $E_{\\text{out}}$ (contexts). For each (center, positive) pair, it samples $K$ negatives and optimizes the SGNS objective above. To form final word vectors, it uses the **average** of the two tables,\n",
    "$$\n",
    "E_{\\text{comb}}=\\tfrac{1}{2}\\big(E_{\\text{in}}+E_{\\text{out}}\\big),\n",
    "$$\n",
    "then encodes a title by averaging its in-vocab word vectors and searches via **cosine similarity**. This keeps training and inference lightweight while capturing useful semantic structure."
   ]
  },
  {
   "cell_type": "markdown",
   "id": "2ed40e2f",
   "metadata": {},
   "source": [
    "### 3.1) Encode a title as the mean of its word vectors"
   ]
  },
  {
   "cell_type": "code",
   "execution_count": 15,
   "id": "ed440d79",
   "metadata": {},
   "outputs": [],
   "source": [
    "E = E_comb\n",
    "\n",
    "@torch.no_grad()\n",
    "def encode_tokens_mean(tokens: list[str], E: torch.Tensor, stoi: dict) -> torch.Tensor | None:\n",
    "    idxs = [stoi[t] for t in tokens if t in stoi]\n",
    "    if not idxs:\n",
    "        return None\n",
    "    v = E[idxs].mean(dim=0)                 # [D]\n",
    "    return v / (v.norm() + 1e-12)\n",
    "\n",
    "@torch.no_grad()\n",
    "def encode_title_mean(text: str, E: torch.Tensor, stoi: dict) -> torch.Tensor | None:\n",
    "    return encode_tokens_mean(tokenize_title(text), E, stoi)"
   ]
  },
  {
   "cell_type": "code",
   "execution_count": 16,
   "id": "64e75448",
   "metadata": {},
   "outputs": [
    {
     "name": "stdout",
     "output_type": "stream",
     "text": [
      "encoded titles: torch.Size([104, 300]) kept rows: 104 of 104\n"
     ]
    }
   ],
   "source": [
    "# Rebuild title matrix using df[\"tokens\"] (shared preprocessing)\n",
    "vecs, keep_idx = [], []\n",
    "for i, toks in enumerate(df[\"tokens\"]):\n",
    "    v = encode_tokens_mean(toks, E, stoi)\n",
    "    if v is not None:\n",
    "        vecs.append(v); keep_idx.append(i)\n",
    "\n",
    "X_sgns_mean = torch.stack(vecs)  # [N_kept, D], rows are L2-normalized\n",
    "print(\"encoded titles:\", X_sgns_mean.shape, \"kept rows:\", len(keep_idx), \"of\", len(df))\n"
   ]
  },
  {
   "cell_type": "code",
   "execution_count": 17,
   "id": "d79775b2",
   "metadata": {},
   "outputs": [
    {
     "data": {
      "text/plain": [
       "tensor([ 0.0102, -0.0397,  0.0605, -0.0698, -0.0451, -0.0469,  0.0385, -0.0740,\n",
       "         0.0400, -0.0557, -0.0359,  0.0659,  0.0657, -0.0421, -0.0308,  0.0900,\n",
       "         0.0729,  0.0266,  0.0625, -0.0746,  0.0684, -0.0777, -0.0475, -0.0569,\n",
       "        -0.0385, -0.0662,  0.0363, -0.0352,  0.0336, -0.0520, -0.0362, -0.0415,\n",
       "        -0.0313, -0.0825,  0.0237, -0.0868,  0.0350, -0.0584, -0.0503, -0.0151,\n",
       "        -0.0609,  0.0724, -0.0663, -0.0268,  0.0566, -0.0289, -0.0805,  0.0526,\n",
       "         0.0408, -0.0282,  0.0904,  0.0533, -0.0580, -0.0389,  0.0214,  0.0406,\n",
       "         0.0169, -0.0786,  0.0762,  0.0449,  0.0346,  0.0671, -0.1035,  0.0652,\n",
       "         0.0573, -0.0475, -0.0698,  0.0104,  0.0614, -0.0513,  0.0431, -0.0888,\n",
       "        -0.0016,  0.0719,  0.0592,  0.0448,  0.0400,  0.0439,  0.0604, -0.0345,\n",
       "         0.0523, -0.0517, -0.0570, -0.0236,  0.0325, -0.0366, -0.0302, -0.0621,\n",
       "        -0.0702, -0.0622, -0.0323, -0.0287,  0.0569,  0.0271,  0.0420,  0.0780,\n",
       "        -0.0658,  0.0758,  0.0521,  0.0426,  0.0299,  0.0597, -0.0786,  0.0804,\n",
       "        -0.0748, -0.0275,  0.0472,  0.0487,  0.0699, -0.0314, -0.0345, -0.0626,\n",
       "        -0.0345,  0.0687, -0.0885,  0.0468,  0.0726,  0.0732, -0.0620,  0.0432,\n",
       "         0.0266, -0.0394, -0.0282, -0.0687,  0.0406, -0.0722,  0.0515, -0.0379,\n",
       "         0.0252, -0.1001, -0.0929,  0.0705, -0.0277, -0.0819, -0.0234, -0.0412,\n",
       "        -0.0918,  0.1023,  0.0338,  0.0710, -0.0534,  0.0870, -0.0699, -0.0730,\n",
       "         0.0661,  0.0364,  0.0306, -0.0689,  0.0892, -0.0422, -0.0093,  0.0844,\n",
       "         0.0496,  0.0579, -0.0266, -0.0688,  0.0444,  0.0728, -0.0776, -0.0894,\n",
       "         0.0387,  0.0743, -0.0809, -0.0457, -0.0650, -0.0772,  0.0247,  0.0790,\n",
       "         0.0506, -0.0308,  0.0349, -0.0362,  0.0348, -0.0693, -0.0389,  0.0465,\n",
       "         0.0470, -0.0586, -0.0598,  0.0473,  0.0758, -0.0720,  0.0289,  0.0392,\n",
       "        -0.0378,  0.0597,  0.0788,  0.0751,  0.0214,  0.0608, -0.0691,  0.0214,\n",
       "         0.0455, -0.0320,  0.0493,  0.0341, -0.0379,  0.1041, -0.0424,  0.0161,\n",
       "         0.0492,  0.0637,  0.0597,  0.0620, -0.0434, -0.0236,  0.0477, -0.0237,\n",
       "        -0.0682,  0.0452,  0.0442, -0.0725,  0.0342, -0.0523, -0.0533,  0.0629,\n",
       "        -0.0446, -0.0480,  0.0883, -0.0760,  0.0700, -0.0612, -0.0141,  0.0758,\n",
       "         0.0797, -0.0482, -0.0304,  0.0853,  0.0326, -0.0833, -0.0420, -0.0892,\n",
       "        -0.0463,  0.0208,  0.0674,  0.0386,  0.0497, -0.0689,  0.0261,  0.0595,\n",
       "        -0.0399,  0.0814,  0.0603,  0.0140,  0.0383,  0.0463,  0.0544, -0.0668,\n",
       "        -0.0356, -0.0514, -0.0791,  0.0438,  0.0260,  0.0501, -0.0596,  0.0181,\n",
       "        -0.1052,  0.0537,  0.0424, -0.0368,  0.0720,  0.0241,  0.0703, -0.0546,\n",
       "         0.0471, -0.0681, -0.0577,  0.0319,  0.0740, -0.0880,  0.0383, -0.0841,\n",
       "        -0.0774,  0.0646, -0.0643,  0.0415, -0.0445, -0.0687,  0.0398,  0.0274,\n",
       "         0.0769, -0.0564, -0.0798,  0.0925,  0.0698, -0.0779,  0.0599, -0.0763,\n",
       "         0.0881, -0.0406, -0.0684, -0.0583, -0.0676,  0.0593, -0.0615, -0.0429,\n",
       "         0.0058,  0.0361, -0.0552,  0.0895])"
      ]
     },
     "execution_count": 17,
     "metadata": {},
     "output_type": "execute_result"
    }
   ],
   "source": [
    "X_sgns_mean[0] "
   ]
  },
  {
   "cell_type": "code",
   "execution_count": 18,
   "id": "d1571ee5",
   "metadata": {},
   "outputs": [],
   "source": [
    "import matplotlib.pyplot as plt"
   ]
  },
  {
   "cell_type": "code",
   "execution_count": 19,
   "id": "bed2898a",
   "metadata": {},
   "outputs": [
    {
     "data": {
      "image/png": "[encoded data removed]",
      "text/plain": [
       "<Figure size 1200x600 with 1 Axes>"
      ]
     },
     "metadata": {},
     "output_type": "display_data"
    }
   ],
   "source": [
    "plt.figure(figsize=(12, 6))\n",
    "plt.bar(range(300), X_sgns_mean[0], color='skyblue', edgecolor='black')\n",
    "plt.title(\"custom mini-word2vec - vector values\")\n",
    "plt.xlabel(\"features\")\n",
    "plt.ylabel(\"values\")\n",
    "plt.tight_layout()\n",
    "plt.show()"
   ]
  },
  {
   "cell_type": "markdown",
   "id": "8808fea8",
   "metadata": {},
   "source": [
    "### 3.2) Cosine search over titles (dot product of normalized vectors)"
   ]
  },
  {
   "cell_type": "markdown",
   "id": "d03f2da4",
   "metadata": {},
   "source": [
    "Cosine search over titles: one function we can reuse for SGNS(mini-Word2Vec)/GloVe/FastText by swapping E, stoi, X, keep_idx."
   ]
  },
  {
   "cell_type": "code",
   "execution_count": 20,
   "id": "a534e6e3",
   "metadata": {},
   "outputs": [],
   "source": [
    "# search using cosine similarity\n",
    "@torch.no_grad()\n",
    "def search_titles(query: str,\n",
    "                  X: torch.Tensor,\n",
    "                  E: torch.Tensor,\n",
    "                  stoi: dict,\n",
    "                  keep_idx: list[int],\n",
    "                  df: pd.DataFrame,\n",
    "                  topk: int = 10,\n",
    "                  dedupe: bool = True):\n",
    "    \n",
    "    # encode query with the SAME tokenizer\n",
    "    q_tokens = tokenize_title(query)\n",
    "    q = encode_tokens_mean(q_tokens, E, stoi)\n",
    "    if q is None:\n",
    "        return [], \"Query has no in-vocab tokens.\"\n",
    "\n",
    "    sims = (X @ q)                                      # cosine = dot (rows normalized)\n",
    "    top = torch.topk(sims, k=min(topk*3, sims.numel())) # oversample if deduping\n",
    "\n",
    "    rows = []\n",
    "    seen = set()\n",
    "    for idx in top.indices.tolist():\n",
    "        row_id = keep_idx[idx]\n",
    "        title_str = df.loc[row_id, \"job_title\"]            # <-- key used for dedupe\n",
    "        if dedupe:\n",
    "            if title_str in seen:                          # <-- duplicates dropped\n",
    "                continue\n",
    "            seen.add(title_str)\n",
    "        rows.append((title_str, float(sims[idx].item())))\n",
    "        if len(rows) == topk:\n",
    "            break\n",
    "    return rows, None\n",
    "\n",
    "\n"
   ]
  },
  {
   "cell_type": "code",
   "execution_count": 21,
   "id": "d94e738e",
   "metadata": {},
   "outputs": [
    {
     "name": "stdout",
     "output_type": "stream",
     "text": [
      "\n",
      "Query: data scientist\n",
      "   0.793  Information Systems Specialist and Programmer with a love for data and organization.\n",
      "   0.748  Junior MES Engineer| Information Systems\n",
      "   0.731  SVP, CHRO, Marketing & Communications, CSR Officer | ENGIE | Houston | The Woodlands | Energy | GPHR | SPHR\n",
      "   0.729  Human Resources professional for the world leader in GIS software\n",
      "   0.727  Business Intelligence and Analytics at Travelers\n",
      "   0.714  Aspiring Human Resources Manager | Graduating May 2020 | Seeking an Entry-Level Human Resources Position in St. Louis\n",
      "   0.706  Undergraduate Research Assistant at Styczynski Lab\n",
      "   0.706  Student at Indiana University Kokomo - Business Management - \n",
      "Retail Manager at Delphi Hardware and Paint\n",
      "   0.702  2019 C.T. Bauer College of Business Graduate (Magna Cum Laude) and aspiring Human Resources professional\n",
      "   0.701  Business Management Major and Aspiring Human Resources Manager\n",
      "\n",
      "Query: machine learning engineer\n",
      "   0.825  Junior MES Engineer| Information Systems\n",
      "   0.791  Student at Indiana University Kokomo - Business Management - \n",
      "Retail Manager at Delphi Hardware and Paint\n",
      "   0.790  Information Systems Specialist and Programmer with a love for data and organization.\n",
      "   0.784  Business Intelligence and Analytics at Travelers\n",
      "   0.778  2019 C.T. Bauer College of Business Graduate (Magna Cum Laude) and aspiring Human Resources professional\n",
      "   0.773  Human Resources professional for the world leader in GIS software\n",
      "   0.762  Aspiring Human Resources Professional | Passionate about helping to create an inclusive and engaging work environment\n",
      "   0.759  Aspiring Human Resources Management student seeking an internship\n",
      "   0.758  Undergraduate Research Assistant at Styczynski Lab\n",
      "   0.757  Native English Teacher at EPIK (English Program in Korea)\n",
      "\n",
      "Query: backend developer\n",
      "   0.781  Student at Indiana University Kokomo - Business Management - \n",
      "Retail Manager at Delphi Hardware and Paint\n",
      "   0.753  Information Systems Specialist and Programmer with a love for data and organization.\n",
      "   0.753  Business Management Major and Aspiring Human Resources Manager\n",
      "   0.752  Junior MES Engineer| Information Systems\n",
      "   0.752  Human Resources professional for the world leader in GIS software\n",
      "   0.747  Experienced Retail Manager and aspiring Human Resources Professional\n",
      "   0.734  2019 C.T. Bauer College of Business Graduate (Magna Cum Laude) and aspiring Human Resources professional\n",
      "   0.729  HR Senior Specialist\n",
      "   0.727  People Development Coordinator at Ryan\n",
      "   0.721  Aspiring Human Resources Manager | Graduating May 2020 | Seeking an Entry-Level Human Resources Position in St. Louis\n",
      "\n",
      "Query: product manager\n",
      "   0.747  Business Management Major and Aspiring Human Resources Manager\n",
      "   0.736  Experienced Retail Manager and aspiring Human Resources Professional\n",
      "   0.731  Student at Indiana University Kokomo - Business Management - \n",
      "Retail Manager at Delphi Hardware and Paint\n",
      "   0.711  People Development Coordinator at Ryan\n",
      "   0.709  SVP, CHRO, Marketing & Communications, CSR Officer | ENGIE | Houston | The Woodlands | Energy | GPHR | SPHR\n",
      "   0.709  RRP Brand Portfolio Executive at JTI (Japan Tobacco International)\n",
      "   0.707  Aspiring Human Resources Manager | Graduating May 2020 | Seeking an Entry-Level Human Resources Position in St. Louis\n",
      "   0.702  Human Resources professional for the world leader in GIS software\n",
      "   0.701  HR Manager at Endemol Shine North America\n",
      "   0.700  Information Systems Specialist and Programmer with a love for data and organization.\n"
     ]
    }
   ],
   "source": [
    "# quick test\n",
    "for q in [\"data scientist\", \"machine learning engineer\", \"backend developer\", \"product manager\"]:\n",
    "    res, err = search_titles(q, X_sgns_mean, E, stoi, keep_idx, df, topk=10, dedupe=True)\n",
    "    print(f\"\\nQuery: {q}\")\n",
    "    if err: print(\"  \", err)\n",
    "    else:\n",
    "        for t, s in res:\n",
    "            print(f\"  {s: .3f}  {t}\")\n"
   ]
  },
  {
   "cell_type": "markdown",
   "id": "94fc185b",
   "metadata": {},
   "source": [
    "## 4) Experiment with the GoogleNews Word2Vec vectors (Google, 2013)"
   ]
  },
  {
   "cell_type": "markdown",
   "id": "aee950f0",
   "metadata": {},
   "source": [
    "Word2Vec learns dense vectors so that words sharing contexts have nearby embeddings. In the **skip-gram** view, for a center word $w_t$ it predicts surrounding words $w_{t+j}$. Training usually uses **negative sampling** to replace the full softmax with a small binary task per pair. The classic per-example objective is\n",
    "$$\n",
    "\\log \\sigma(u_{w_t}^\\top v_{w_{t+j}})\\;+\\;\\sum_{k=1}^{K}\\log \\sigma\\!\\left(-\\,u_{w_t}^\\top v_{n_k}\\right),\n",
    "$$\n",
    "where $u$ is the input (center) embedding, $v$ the output (context) embedding, and $n_k$ are sampled “negative” words. The GoogleNews model provides pretrained 300-d vectors trained on a very large corpus.\n"
   ]
  },
  {
   "cell_type": "code",
   "execution_count": 22,
   "id": "0077b0c8",
   "metadata": {},
   "outputs": [],
   "source": [
    "from gensim.models import KeyedVectors\n"
   ]
  },
  {
   "cell_type": "code",
   "execution_count": 23,
   "id": "366ee482",
   "metadata": {},
   "outputs": [],
   "source": [
    "W2V_PATH = r\"./data/GoogleNews-vectors-negative300.bin\""
   ]
  },
  {
   "cell_type": "code",
   "execution_count": 24,
   "id": "252c51c1",
   "metadata": {},
   "outputs": [
    {
     "name": "stdout",
     "output_type": "stream",
     "text": [
      "w2v vocab: 3000000 dim: 300\n"
     ]
    }
   ],
   "source": [
    "# Load the binary GoogleNews KeyedVectors\n",
    "w2v = KeyedVectors.load_word2vec_format(W2V_PATH, binary=True)\n",
    "print(\"w2v vocab:\", len(w2v), \"dim:\", w2v.vector_size)"
   ]
  },
  {
   "cell_type": "markdown",
   "id": "416e2d3b",
   "metadata": {},
   "source": [
    "### 4.1) Encode tokens"
   ]
  },
  {
   "cell_type": "markdown",
   "id": "59646ffe",
   "metadata": {},
   "source": [
    "Keep the same functions (encode_tokens_mean, encode_title_mean, search_titles) and the same flow."
   ]
  },
  {
   "cell_type": "code",
   "execution_count": 27,
   "id": "0e32ef1b",
   "metadata": {},
   "outputs": [
    {
     "name": "stdout",
     "output_type": "stream",
     "text": [
      "needed tokens in w2v: 174 out of 199\n"
     ]
    }
   ],
   "source": [
    "# 1) Collect the words we actually need from the dataset\n",
    "needed = sorted({t for toks in df[\"tokens\"] for t in toks if t in w2v.key_to_index})\n",
    "needed_not_in_w2v = sorted({t for toks in df[\"tokens\"] for t in toks if t not in w2v.key_to_index})\n",
    "needed_len = len(needed)\n",
    "needed_total = needed_len + len(needed_not_in_w2v)\n",
    "print(\"needed tokens in w2v:\", len(needed), \"out of\", needed_total)"
   ]
  },
  {
   "cell_type": "code",
   "execution_count": 28,
   "id": "7ced472e",
   "metadata": {},
   "outputs": [],
   "source": [
    "# 2) Build stoi and E (normalized rows) for just those words\n",
    "stoi_w2v = w2v.key_to_index\n",
    "E_w2v = torch.from_numpy(w2v.vectors)              # shares memory\n",
    "E_w2v = E_w2v / (E_w2v.norm(dim=1, keepdim=True)+1e-12)"
   ]
  },
  {
   "cell_type": "code",
   "execution_count": 29,
   "id": "76cda7e6",
   "metadata": {},
   "outputs": [
    {
     "name": "stdout",
     "output_type": "stream",
     "text": [
      "torch.Size([3000000, 300]) 3000000\n"
     ]
    }
   ],
   "source": [
    "# E_w2v (torch) + stoi_w2v (dict) match the previous SGNS interface\n",
    "print(E_w2v.shape, len(stoi_w2v))"
   ]
  },
  {
   "cell_type": "markdown",
   "id": "e86e41f9",
   "metadata": {},
   "source": [
    "Encode tokens per title and then calculate the mean value for the title embeddings."
   ]
  },
  {
   "cell_type": "code",
   "execution_count": 30,
   "id": "a207157a",
   "metadata": {},
   "outputs": [
    {
     "name": "stdout",
     "output_type": "stream",
     "text": [
      "w2v encoded titles: torch.Size([104, 300])\n"
     ]
    }
   ],
   "source": [
    "vecs_w2v, keep_idx_w2v = [], []\n",
    "for i, toks in enumerate(df[\"tokens\"]):\n",
    "    v = encode_tokens_mean(toks, E_w2v, stoi_w2v) \n",
    "    if v is not None:\n",
    "        vecs_w2v.append(v); keep_idx_w2v.append(i)\n",
    "\n",
    "X_w2v_mean = torch.stack(vecs_w2v)   # rows already normalized\n",
    "print(\"w2v encoded titles:\", X_w2v_mean.shape)\n"
   ]
  },
  {
   "cell_type": "code",
   "execution_count": 31,
   "id": "a7484cbd",
   "metadata": {},
   "outputs": [
    {
     "name": "stdout",
     "output_type": "stream",
     "text": [
      "\n",
      "Query: data scientist\n",
      "   0.516  Information Systems Specialist and Programmer with a love for data and organization.\n",
      "   0.450  Undergraduate Research Assistant at Styczynski Lab\n",
      "   0.447  Junior MES Engineer| Information Systems\n",
      "   0.346  Human Resources Specialist at Luxottica\n",
      "   0.340  Business Intelligence and Analytics at Travelers\n",
      "   0.328  Aspiring Human Resources Specialist\n",
      "   0.318  Liberal Arts Major. Aspiring Human Resources Analyst.\n",
      "   0.314  Senior Human Resources Business Partner at Heil Environmental\n",
      "   0.313  SVP, CHRO, Marketing & Communications, CSR Officer | ENGIE | Houston | The Woodlands | Energy | GPHR | SPHR\n",
      "   0.305  Bachelor of Science in Biology from Victoria University of Wellington\n",
      "\n",
      "Query: machine learning engineer\n",
      "   0.524  Junior MES Engineer| Information Systems\n",
      "   0.492  Information Systems Specialist and Programmer with a love for data and organization.\n",
      "   0.393  Aspiring Human Resources Professional | Passionate about helping to create an inclusive and engaging work environment\n",
      "   0.383  Human Resources professional for the world leader in GIS software\n",
      "   0.373  Aspiring Human Resources Management student seeking an internship\n",
      "   0.368  Aspiring Human Resources Professional | An energetic and Team-Focused Leader\n",
      "   0.365  Aspiring Human Resources Specialist\n",
      "   0.352  Aspiring Human Resources Manager, seeking internship in Human Resources.\n",
      "   0.350  Undergraduate Research Assistant at Styczynski Lab\n",
      "   0.345  Student at Indiana University Kokomo - Business Management - \n",
      "Retail Manager at Delphi Hardware and Paint\n",
      "\n",
      "Query: backend developer\n",
      "   0.370  Information Systems Specialist and Programmer with a love for data and organization.\n",
      "   0.354  Student at Indiana University Kokomo - Business Management - \n",
      "Retail Manager at Delphi Hardware and Paint\n",
      "   0.349  Business Management Major and Aspiring Human Resources Manager\n",
      "   0.334  Junior MES Engineer| Information Systems\n",
      "   0.302  Experienced Retail Manager and aspiring Human Resources Professional\n",
      "   0.294  Business Intelligence and Analytics at Travelers\n",
      "   0.294  Human Resources professional for the world leader in GIS software\n",
      "   0.283  SVP, CHRO, Marketing & Communications, CSR Officer | ENGIE | Houston | The Woodlands | Energy | GPHR | SPHR\n",
      "   0.280  Human Resources Management Major\n",
      "   0.259  Human Resources|\n",
      "Conflict Management|\n",
      "Policies & Procedures|Talent Management|Benefits & Compensation\n",
      "\n",
      "Query: product manager\n",
      "   0.532  Business Management Major and Aspiring Human Resources Manager\n",
      "   0.492  Student at Indiana University Kokomo - Business Management - \n",
      "Retail Manager at Delphi Hardware and Paint\n",
      "   0.480  RRP Brand Portfolio Executive at JTI (Japan Tobacco International)\n",
      "   0.478  Experienced Retail Manager and aspiring Human Resources Professional\n",
      "   0.471  SVP, CHRO, Marketing & Communications, CSR Officer | ENGIE | Houston | The Woodlands | Energy | GPHR | SPHR\n",
      "   0.409  Senior Human Resources Business Partner at Heil Environmental\n",
      "   0.404  Information Systems Specialist and Programmer with a love for data and organization.\n",
      "   0.379  People Development Coordinator at Ryan\n",
      "   0.378  Director Human Resources  at EY\n",
      "   0.376  Retired Army National Guard Recruiter, office manager,  seeking a position in Human Resources.\n"
     ]
    }
   ],
   "source": [
    "# quick test\n",
    "for q in [\"data scientist\", \"machine learning engineer\", \"backend developer\", \"product manager\"]:\n",
    "    res, err = search_titles(q, X_w2v_mean, E_w2v, stoi_w2v, keep_idx_w2v, df, topk=10, dedupe=True)\n",
    "    print(f\"\\nQuery: {q}\")\n",
    "    if err: print(\"  \", err)\n",
    "    else:\n",
    "        for t, s in res:\n",
    "            print(f\"  {s: .3f}  {t}\")\n",
    "            "
   ]
  },
  {
   "cell_type": "markdown",
   "id": "92f3efcc",
   "metadata": {},
   "source": [
    "## 5) Experiment with the GloVE vectors (Stanford, 2014)"
   ]
  },
  {
   "cell_type": "markdown",
   "id": "0d02f00d",
   "metadata": {},
   "source": [
    "GloVe is a **global co-occurrence** method: it builds a word–word co-occurrence matrix $X_{ij}$ from a large corpus and learns embeddings by regressing the **log counts**. The weighted least-squares loss is\n",
    "$$\n",
    "J=\\sum_{i,j} f(X_{ij})\\Big(u_i^\\top v_j + b_i + \\tilde b_j - \\log X_{ij}\\Big)^2,\n",
    "$$\n",
    "where $f(\\cdot)$ down-weights rare and extremely frequent pairs. This blends global matrix-factorization flavor (like SVD) with the efficiency of local windowing, producing robust, widely used embeddings."
   ]
  },
  {
   "cell_type": "markdown",
   "id": "15e0bfad",
   "metadata": {},
   "source": [
    "GloVe builds word embeddings by learning from a global word co-occurrence matrix. In simple terms, it defines the meaning of a word based on the other words that tend to appear around it. This is somewhat like how we humans infer meaning from dictionaries, understanding a word by the words that explain or accompany it. What makes GloVe special is that it doesn’t just use raw counts, but learns from ratios of co-occurrences, which helps capture deeper semantic relationships like analogies."
   ]
  },
  {
   "cell_type": "markdown",
   "id": "42922dbb",
   "metadata": {},
   "source": [
    "#### 5.1) Collect the words we actually need (from the job titles)"
   ]
  },
  {
   "cell_type": "code",
   "execution_count": 32,
   "id": "64efefa2",
   "metadata": {},
   "outputs": [
    {
     "data": {
      "text/plain": [
       "205"
      ]
     },
     "execution_count": 32,
     "metadata": {},
     "output_type": "execute_result"
    }
   ],
   "source": [
    "# Words actually appearing in your dataset tokens (all lowercased already)\n",
    "needed_glove = sorted({t for toks in df[\"tokens\"] for t in toks} | Q_TOKENS)  # add Q_TOKENS to needed_glove\n",
    "len(needed_glove)"
   ]
  },
  {
   "cell_type": "code",
   "execution_count": 33,
   "id": "e7eba32f",
   "metadata": {},
   "outputs": [],
   "source": [
    "GLOVE_DIR = \"./data/\"\n",
    "GLOVE_TXT = os.path.join(GLOVE_DIR, \"glove.6B.300d.txt\")"
   ]
  },
  {
   "cell_type": "markdown",
   "id": "56a71c56",
   "metadata": {},
   "source": [
    "Load only the needed tokens to avoid OOM and speed up"
   ]
  },
  {
   "cell_type": "code",
   "execution_count": 34,
   "id": "6f11940a",
   "metadata": {},
   "outputs": [
    {
     "name": "stdout",
     "output_type": "stream",
     "text": [
      "loaded words: 197 dim: 300\n"
     ]
    }
   ],
   "source": [
    "vecs_glove_map = {}\n",
    "dim_glove = None\n",
    "\n",
    "with open(GLOVE_TXT, \"r\", encoding=\"utf-8\") as f:\n",
    "    for line in f:\n",
    "        parts = line.rstrip().split(\" \")\n",
    "        w = parts[0]\n",
    "        if w in needed_glove:\n",
    "            v = np.asarray(parts[1:], dtype=np.float32)\n",
    "            if dim_glove is None:\n",
    "                dim_glove = v.size\n",
    "            vecs_glove_map[w] = v\n",
    "\n",
    "print(\"loaded words:\", len(vecs_glove_map), \"dim:\", dim_glove)"
   ]
  },
  {
   "cell_type": "markdown",
   "id": "c25c4b6e",
   "metadata": {},
   "source": [
    "#### 5.2) Build `stoi_glove` and `E_glove` (row-normalized)"
   ]
  },
  {
   "cell_type": "code",
   "execution_count": 35,
   "id": "b467ef3a",
   "metadata": {},
   "outputs": [
    {
     "name": "stdout",
     "output_type": "stream",
     "text": [
      "torch.Size([197, 300]) 197\n"
     ]
    }
   ],
   "source": [
    "words_glove = sorted(vecs_glove_map.keys())\n",
    "stoi_glove = {w: i for i, w in enumerate(words_glove)}\n",
    "\n",
    "E_glove = torch.from_numpy(np.stack([vecs_glove_map[w] for w in words_glove])).float()\n",
    "E_glove = E_glove / (E_glove.norm(dim=1, keepdim=True) + 1e-12)\n",
    "\n",
    "print(E_glove.shape, len(stoi_glove))\n"
   ]
  },
  {
   "cell_type": "markdown",
   "id": "9bfcd41f",
   "metadata": {},
   "source": [
    "#### 5.3) Encode titles (mean of word vectors)"
   ]
  },
  {
   "cell_type": "code",
   "execution_count": 36,
   "id": "1ee43ac4",
   "metadata": {},
   "outputs": [
    {
     "name": "stdout",
     "output_type": "stream",
     "text": [
      "glove encoded titles: torch.Size([104, 300]) kept: 104\n"
     ]
    }
   ],
   "source": [
    "vecs_glove, keep_idx_glove = [], []\n",
    "for i, toks in enumerate(df[\"tokens\"]):\n",
    "    v = encode_tokens_mean(toks, E_glove, stoi_glove)\n",
    "    if v is not None:\n",
    "        vecs_glove.append(v); keep_idx_glove.append(i)\n",
    "\n",
    "X_glove_mean = torch.stack(vecs_glove)   # rows already normalized\n",
    "print(\"glove encoded titles:\", X_glove_mean.shape, \"kept:\", len(keep_idx_glove))"
   ]
  },
  {
   "cell_type": "markdown",
   "id": "0b75d417",
   "metadata": {},
   "source": [
    "#### 5.4) Quick test"
   ]
  },
  {
   "cell_type": "code",
   "execution_count": 37,
   "id": "5636ba87",
   "metadata": {},
   "outputs": [
    {
     "name": "stdout",
     "output_type": "stream",
     "text": [
      "\n",
      "Query: data scientist\n",
      "   0.594  Information Systems Specialist and Programmer with a love for data and organization.\n",
      "   0.571  Undergraduate Research Assistant at Styczynski Lab\n",
      "   0.549  Junior MES Engineer| Information Systems\n",
      "   0.506  Director Human Resources  at EY\n",
      "   0.498  Human Resources professional for the world leader in GIS software\n",
      "   0.483  Aspiring Human Resources Specialist\n",
      "   0.474  Senior Human Resources Business Partner at Heil Environmental\n",
      "   0.468  Aspiring Human Resources Manager, seeking internship in Human Resources.\n",
      "   0.467  Aspiring Human Resources Manager | Graduating May 2020 | Seeking an Entry-Level Human Resources Position in St. Louis\n",
      "   0.464  Liberal Arts Major. Aspiring Human Resources Analyst.\n",
      "\n",
      "Query: machine learning engineer\n",
      "   0.628  Junior MES Engineer| Information Systems\n",
      "   0.603  Information Systems Specialist and Programmer with a love for data and organization.\n",
      "   0.525  Human Resources professional for the world leader in GIS software\n",
      "   0.508  Aspiring Human Resources Professional | Passionate about helping to create an inclusive and engaging work environment\n",
      "   0.506  Experienced Retail Manager and aspiring Human Resources Professional\n",
      "   0.506  Aspiring Human Resources Professional | An energetic and Team-Focused Leader\n",
      "   0.499  Business Management Major and Aspiring Human Resources Manager\n",
      "   0.493  Student at Indiana University Kokomo - Business Management - \n",
      "Retail Manager at Delphi Hardware and Paint\n",
      "   0.488  Undergraduate Research Assistant at Styczynski Lab\n",
      "   0.483  Aspiring Human Resources Manager | Graduating May 2020 | Seeking an Entry-Level Human Resources Position in St. Louis\n",
      "\n",
      "Query: backend developer\n",
      "   0.166  Human Resources Management Major\n",
      "   0.152  Business Management Major and Aspiring Human Resources Manager\n",
      "   0.151  Junior MES Engineer| Information Systems\n",
      "   0.145  Aspiring Human Resources Professional\n",
      "   0.145  Aspiring Human Resources Management student seeking an internship\n",
      "   0.139  Human Resources Professional\n",
      "   0.138  Aspiring Human Resources Specialist\n",
      "   0.137  Human Resources Generalist at ScottMadden, Inc.\n",
      "   0.132  Aspiring Human Resources Manager, seeking internship in Human Resources.\n",
      "   0.127  Human Resources professional for the world leader in GIS software\n",
      "\n",
      "Query: product manager\n",
      "   0.661  Business Management Major and Aspiring Human Resources Manager\n",
      "   0.630  Student at Indiana University Kokomo - Business Management - \n",
      "Retail Manager at Delphi Hardware and Paint\n",
      "   0.621  Experienced Retail Manager and aspiring Human Resources Professional\n",
      "   0.600  RRP Brand Portfolio Executive at JTI (Japan Tobacco International)\n",
      "   0.538  HR Manager at Endemol Shine North America\n",
      "   0.534  Aspiring Human Resources Manager | Graduating May 2020 | Seeking an Entry-Level Human Resources Position in St. Louis\n",
      "   0.524  Human Resources Management Major\n",
      "   0.521  Retired Army National Guard Recruiter, office manager,  seeking a position in Human Resources.\n",
      "   0.516  SVP, CHRO, Marketing & Communications, CSR Officer | ENGIE | Houston | The Woodlands | Energy | GPHR | SPHR\n",
      "   0.515  Director Of Administration at Excellence Logging\n"
     ]
    }
   ],
   "source": [
    "for q in [\"data scientist\", \"machine learning engineer\", \"backend developer\", \"product manager\"]:\n",
    "    rows, err = search_titles(q, X_glove_mean, E_glove, stoi_glove, keep_idx_glove, df, topk=10, dedupe=True)\n",
    "    print(f\"\\nQuery: {q}\")\n",
    "    if err: \n",
    "        print(\"  \", err)\n",
    "    else:\n",
    "        for t, s in rows:\n",
    "            print(f\"  {s: .3f}  {t}\")"
   ]
  },
  {
   "cell_type": "markdown",
   "id": "f8eb69d0",
   "metadata": {},
   "source": [
    "## 6) Experiment with fastText (Meta, 2016)"
   ]
  },
  {
   "cell_type": "markdown",
   "id": "ead583a0",
   "metadata": {},
   "source": [
    "**fastText**, developed by **Meta**, improves on word2vec by breaking words into smaller pieces called **subwords** (character n-grams). Instead of learning a single vector for each whole word, **fastText learns embeddings for these subword units and then combines them**. This allows it to build meaningful vectors even for rare or completely new words, because their subwords were seen during training. In practice, this makes fastText especially strong for morphologically rich languages and for handling out-of-vocabulary words."
   ]
  },
  {
   "cell_type": "markdown",
   "id": "7c8b3456",
   "metadata": {},
   "source": [
    "So:\n",
    "- **GloVe** = learns from global co-occurrence patterns (like dictionary definitions).\n",
    "- **word2vec** (SGNS) = learns from predicting local context (like guessing missing words in a sentence).\n",
    "- **fastText** = learns from word parts (like understanding new words by recognizing familiar prefixes/suffixes)."
   ]
  },
  {
   "cell_type": "markdown",
   "id": "76e09111",
   "metadata": {},
   "source": [
    "#### 6.1) Load & encode"
   ]
  },
  {
   "cell_type": "code",
   "execution_count": 38,
   "id": "20c0b68f",
   "metadata": {},
   "outputs": [],
   "source": [
    "from gensim.models.fasttext import load_facebook_vectors"
   ]
  },
  {
   "cell_type": "code",
   "execution_count": 39,
   "id": "a66b253d",
   "metadata": {},
   "outputs": [],
   "source": [
    "# Load a fastText .vec (no compiler needed)\n",
    "FASTTEXT_VEC = \"./data/wiki-news-300d-1M-subword.vec\"\n",
    "kv = KeyedVectors.load_word2vec_format(FASTTEXT_VEC, binary=False, limit=500_000)\n",
    "\n",
    "# 1) Keep only tokens that appear in kv\n",
    "needed_ft = sorted(({t for toks in df[\"tokens\"] for t in toks} | Q_TOKENS) & set(kv.key_to_index))\n",
    "\n",
    "# 2) Build stoi in the SAME order used to stack vectors\n",
    "stoi_ft = {w: i for i, w in enumerate(needed_ft)}\n",
    "\n",
    "# 3) Build E_ft aligned with stoi_ft\n",
    "E_ft = torch.from_numpy(\n",
    "    np.stack([kv.get_vector(w) for w in needed_ft]).astype(np.float32)\n",
    ")\n",
    "E_ft = E_ft / (E_ft.norm(dim=1, keepdim=True) + 1e-12)"
   ]
  },
  {
   "cell_type": "code",
   "execution_count": 40,
   "id": "ab8219d8",
   "metadata": {},
   "outputs": [
    {
     "name": "stdout",
     "output_type": "stream",
     "text": [
      "fastText encoded titles: torch.Size([104, 300]) kept: 104\n"
     ]
    }
   ],
   "source": [
    "# Encode titles (mean of word vectors), same helper as before\n",
    "vecs_ft, keep_idx_ft = [], []\n",
    "for i, toks in enumerate(df[\"tokens\"]):\n",
    "    v = encode_tokens_mean(toks, E_ft, stoi_ft)\n",
    "    if v is not None:\n",
    "        vecs_ft.append(v); keep_idx_ft.append(i)\n",
    "\n",
    "X_ft_mean = torch.stack(vecs_ft)  # rows normalized already\n",
    "print(\"fastText encoded titles:\", X_ft_mean.shape, \"kept:\", len(keep_idx_ft))"
   ]
  },
  {
   "cell_type": "code",
   "execution_count": 41,
   "id": "3bfc5a84",
   "metadata": {},
   "outputs": [
    {
     "name": "stdout",
     "output_type": "stream",
     "text": [
      "\n",
      "Query: data scientist\n",
      "   0.736  Information Systems Specialist and Programmer with a love for data and organization.\n",
      "   0.722  Junior MES Engineer| Information Systems\n",
      "   0.688  Human Resources professional for the world leader in GIS software\n",
      "   0.686  Undergraduate Research Assistant at Styczynski Lab\n",
      "   0.684  Aspiring Human Resources Specialist\n",
      "   0.674  Aspiring Human Resources Professional | An energetic and Team-Focused Leader\n",
      "   0.673  Liberal Arts Major. Aspiring Human Resources Analyst.\n",
      "   0.673  Experienced Retail Manager and aspiring Human Resources Professional\n",
      "   0.670  Human Resources Specialist at Luxottica\n",
      "   0.670  Senior Human Resources Business Partner at Heil Environmental\n",
      "\n",
      "Query: machine learning engineer\n",
      "   0.761  Student at Indiana University Kokomo - Business Management - \n",
      "Retail Manager at Delphi Hardware and Paint\n",
      "   0.758  Experienced Retail Manager and aspiring Human Resources Professional\n",
      "   0.757  Information Systems Specialist and Programmer with a love for data and organization.\n",
      "   0.755  Business Management Major and Aspiring Human Resources Manager\n",
      "   0.752  Junior MES Engineer| Information Systems\n",
      "   0.750  Human Resources professional for the world leader in GIS software\n",
      "   0.746  Senior Human Resources Business Partner at Heil Environmental\n",
      "   0.743  Aspiring Human Resources Management student seeking an internship\n",
      "   0.743  Student at Humber College and Aspiring Human Resources Generalist\n",
      "   0.738  Aspiring Human Resources Professional | An energetic and Team-Focused Leader\n",
      "\n",
      "Query: backend developer\n",
      "   0.676  Student at Indiana University Kokomo - Business Management - \n",
      "Retail Manager at Delphi Hardware and Paint\n",
      "   0.663  Information Systems Specialist and Programmer with a love for data and organization.\n",
      "   0.658  Experienced Retail Manager and aspiring Human Resources Professional\n",
      "   0.657  Business Management Major and Aspiring Human Resources Manager\n",
      "   0.647  Human Resources professional for the world leader in GIS software\n",
      "   0.645  People Development Coordinator at Ryan\n",
      "   0.640  Retired Army National Guard Recruiter, office manager,  seeking a position in Human Resources.\n",
      "   0.630  Aspiring Human Resources Professional | An energetic and Team-Focused Leader\n",
      "   0.617  Senior Human Resources Business Partner at Heil Environmental\n",
      "   0.613  Director Of Administration at Excellence Logging\n",
      "\n",
      "Query: product manager\n",
      "   0.786  Business Management Major and Aspiring Human Resources Manager\n",
      "   0.772  Experienced Retail Manager and aspiring Human Resources Professional\n",
      "   0.766  Student at Indiana University Kokomo - Business Management - \n",
      "Retail Manager at Delphi Hardware and Paint\n",
      "   0.753  Retired Army National Guard Recruiter, office manager,  seeking a position in Human Resources.\n",
      "   0.729  Information Systems Specialist and Programmer with a love for data and organization.\n",
      "   0.728  RRP Brand Portfolio Executive at JTI (Japan Tobacco International)\n",
      "   0.726  Senior Human Resources Business Partner at Heil Environmental\n",
      "   0.721  Aspiring Human Resources Professional | An energetic and Team-Focused Leader\n",
      "   0.717  Human Resources professional for the world leader in GIS software\n",
      "   0.716  Aspiring Human Resources Manager | Graduating May 2020 | Seeking an Entry-Level Human Resources Position in St. Louis\n"
     ]
    }
   ],
   "source": [
    "for q in [\"data scientist\", \"machine learning engineer\", \"backend developer\", \"product manager\"]:\n",
    "    rows, err = search_titles(q, X_ft_mean, E_ft, stoi_ft, keep_idx_ft, df, topk=10, dedupe=True)\n",
    "    print(f\"\\nQuery: {q}\")\n",
    "    if err:\n",
    "        print(\"  \", err)\n",
    "    else:\n",
    "        for t, s in rows:\n",
    "            print(f\"  {s: .3f}  {t}\")"
   ]
  },
  {
   "cell_type": "markdown",
   "id": "fc2fbc71",
   "metadata": {},
   "source": [
    "## 7) Experiment with BERT (Google, 2018)"
   ]
  },
  {
   "cell_type": "code",
   "execution_count": 42,
   "id": "1eb19fce",
   "metadata": {},
   "outputs": [
    {
     "name": "stderr",
     "output_type": "stream",
     "text": [
      "e:\\Devs\\pyEnv-1\\venvs\\Pot-Tals_3_env\\Lib\\site-packages\\tqdm\\auto.py:21: TqdmWarning: IProgress not found. Please update jupyter and ipywidgets. See https://ipywidgets.readthedocs.io/en/stable/user_install.html\n",
      "  from .autonotebook import tqdm as notebook_tqdm\n"
     ]
    }
   ],
   "source": [
    "from transformers import AutoTokenizer, AutoModel"
   ]
  },
  {
   "cell_type": "code",
   "execution_count": 43,
   "id": "3390f7f2",
   "metadata": {},
   "outputs": [],
   "source": [
    "BERT_NAME = \"bert-base-uncased\"\n",
    "tok_bert  = AutoTokenizer.from_pretrained(BERT_NAME)\n",
    "mdl_bert  = AutoModel.from_pretrained(BERT_NAME).to(device).eval()"
   ]
  },
  {
   "cell_type": "markdown",
   "id": "b39e7a28",
   "metadata": {},
   "source": [
    "#### Why no “embeddings file” like GloVe/word2vec/fastText?\n",
    "\n",
    "**Static vs contextual**. GloVe/word2vec/fastText ship a static matrix: one vector per token, stored in a big text/bin file that we load directly.\n",
    "\n",
    "**BERT is a full neural model**. It still has an embedding table inside (token + position + segment embeddings), but its outputs are contextual, The vector for “bank” changes with the sentence. So you don’t download a plain .txt of vectors, we download the entire model weights (a .bin file via Hugging Face) and then run the model to get embeddings for a sentence or token sequence."
   ]
  },
  {
   "cell_type": "code",
   "execution_count": 44,
   "id": "85d61ec3",
   "metadata": {},
   "outputs": [
    {
     "name": "stdout",
     "output_type": "stream",
     "text": [
      "torch.Size([30522, 768])\n"
     ]
    }
   ],
   "source": [
    "# token embedding table (WordPiece-level), shape [vocab_size, hidden_size]\n",
    "E_bert = mdl_bert.get_input_embeddings().weight.detach().cpu()\n",
    "print(E_bert.shape)"
   ]
  },
  {
   "cell_type": "markdown",
   "id": "77c5367f",
   "metadata": {},
   "source": [
    "…but this is subword-level (WordPiece like “##ing”, “bank”, “[UNK]”), and using it as static word vectors misses BERT’s main advantage:  **contextualization**."
   ]
  },
  {
   "cell_type": "markdown",
   "id": "fe88f6e8",
   "metadata": {},
   "source": [
    "#### 7.1) Mean/CLS pooling helpers"
   ]
  },
  {
   "cell_type": "markdown",
   "id": "99105c79",
   "metadata": {},
   "source": [
    "**Goal:** turn a sequence of token embeddings from BERT into a single fixed-size vector for similarity/search.\n",
    "\n",
    "---\n",
    "\n",
    "#### Mean Pooling\n",
    "Compute the average of the last-layer token embeddings, ignoring padding:\n",
    "$$\n",
    "\\mathbf{e}_{\\text{mean}}\n",
    "=\\frac{1}{\\sum_t m_t}\\sum_{t=1}^{T} m_t\\,\\mathbf{h}_t,\n",
    "$$\n",
    "where $\\mathbf{h}_t\\in\\mathbb{R}^H$ is the hidden state at token $t$ and $m_t\\in\\{0,1\\}$ is the attention mask (1 = real token).\n",
    "\n",
    "**Pros**\n",
    "- Uses **all** tokens; robust for short, noisy text.\n",
    "- Stable without fine-tuning; common for retrieval with base BERT.\n",
    "\n",
    "**Cons**\n",
    "- Can **dilute** key words (generic terms dominate if not IDF-weighted).\n",
    "- Treats all tokens equally unless we add weights.\n",
    "\n",
    "\n",
    "---\n",
    "\n",
    "#### `[CLS]` Pooling (use the first token)\n",
    "Take the hidden state at the special `[CLS]` position:\n",
    "$$\n",
    "\\mathbf{e}_{\\text{CLS}}=\\mathbf{h}_{\\text{[CLS]}}.\n",
    "$$\n",
    "\n",
    "**Pros**\n",
    "- Often **sharper** for short texts; designed as a sequence-level summary in many fine-tuned classifiers.\n",
    "- Single vector without averaging.\n",
    "\n",
    "**Cons**\n",
    "- In **base** BERT (no fine-tuning), `[CLS]` is **not** optimized for similarity; may be less reliable than mean for retrieval.\n",
    "- Sensitive to model fine-tuning objectives."
   ]
  },
  {
   "cell_type": "code",
   "execution_count": 45,
   "id": "97552f7d",
   "metadata": {},
   "outputs": [],
   "source": [
    "from torch.nn.functional import normalize"
   ]
  },
  {
   "cell_type": "code",
   "execution_count": 46,
   "id": "32afb7a0",
   "metadata": {},
   "outputs": [],
   "source": [
    "MAX_LEN = 32 # enough for job titles\n",
    "\n",
    "@torch.no_grad()\n",
    "def encode_bert_batch(texts, pooling='mean', normalize=True, max_length=MAX_LEN):\n",
    "    \"\"\"\n",
    "    texts: list[str] -> tensor [B, H] (L2-normalized)\n",
    "    \"\"\"\n",
    "    enc = tok_bert(\n",
    "        list(texts), \n",
    "        padding=True, \n",
    "        truncation=True, \n",
    "        max_length=max_length, \n",
    "        return_tensors=\"pt\"\n",
    "    ).to(device)\n",
    "    out = mdl_bert(**enc)  # last_hidden_state: [B, T, H]\n",
    "    H = out.last_hidden_state\n",
    "    \n",
    "    if pooling == \"mean\":\n",
    "        mask = enc[\"attention_mask\"].unsqueeze(-1)   # [B, T, 1]\n",
    "        v = (H * mask).sum(dim=1) / mask.sum(dim=1).clamp_min(1e-123)\n",
    "    elif pooling == \"cls\":\n",
    "        v = H[:,0,:]  # first token CLS\n",
    "    else:\n",
    "        raise ValueError(\"pooling must be 'mean' or 'cls'\")\n",
    "    \n",
    "    if normalize:\n",
    "        v = v / (v.norm(dim=1, keepdim=True) + 1e-12)\n",
    "    return v \n"
   ]
  },
  {
   "cell_type": "markdown",
   "id": "bf592abd",
   "metadata": {},
   "source": [
    "#### 7.2) Build title embeddings (batched)"
   ]
  },
  {
   "cell_type": "code",
   "execution_count": 47,
   "id": "c5a21349",
   "metadata": {},
   "outputs": [
    {
     "name": "stdout",
     "output_type": "stream",
     "text": [
      "BERT encoded titles: torch.Size([104, 768]) kept: 104\n"
     ]
    }
   ],
   "source": [
    "X_bert = torch.cat([\n",
    "    encode_bert_batch(df['title_text'].iloc[i:i+64],\n",
    "    pooling=\"mean\",\n",
    "    normalize=True) for i in range(0, len(df), 64)], dim=0)\n",
    "    \n",
    "keep_idx_bert = list(range(len(df)))                   # 1:1 rows with df\n",
    "print(\"BERT encoded titles:\", X_bert.shape, \"kept:\", len(keep_idx_bert))"
   ]
  },
  {
   "cell_type": "markdown",
   "id": "89b0fcf5",
   "metadata": {},
   "source": [
    "#### 7.3) Cosine search over titles with BERT"
   ]
  },
  {
   "cell_type": "code",
   "execution_count": 48,
   "id": "36bbf35e",
   "metadata": {},
   "outputs": [],
   "source": [
    "@torch.no_grad()\n",
    "def search_titles_bert(query: str,\n",
    "                       X: torch.Tensor,\n",
    "                       df: pd.DataFrame,\n",
    "                       topk: int = 10,\n",
    "                       dedupe: bool = True):\n",
    "    q = encode_bert_batch(\n",
    "        [canonicalize_title(query)],\n",
    "        pooling=\"mean\",\n",
    "        normalize=True)  # [1, H]\n",
    "    sims = (X @ q[0])                                    # [N]\n",
    "    top = torch.topk(sims, k=min(topk*3, sims.numel()))  # oversample if deduping\n",
    "\n",
    "    rows, seen = [], set()\n",
    "    for idx in top.indices.tolist():\n",
    "        title_str = df.loc[idx, \"job_title\"]\n",
    "        if dedupe and title_str in seen:\n",
    "            continue\n",
    "        seen.add(title_str)\n",
    "        rows.append((title_str, float(sims[idx].item())))\n",
    "        if len(rows) == topk:\n",
    "            break\n",
    "    return rows, None"
   ]
  },
  {
   "cell_type": "code",
   "execution_count": 49,
   "id": "3a38db48",
   "metadata": {},
   "outputs": [
    {
     "name": "stdout",
     "output_type": "stream",
     "text": [
      "\n",
      "Query: data scientist\n",
      "   0.792  Student\n",
      "   0.781  Aspiring Human Resources Professional\n",
      "   0.755  Aspiring Human Resources Specialist\n",
      "   0.737  HR Senior Specialist\n",
      "   0.727  Human Resources Professional\n",
      "   0.722  Seeking Human Resources Position\n",
      "   0.705  Seeking Human Resources Opportunities\n",
      "   0.701  People Development Coordinator at Ryan\n",
      "   0.695  Human Resources Management Major\n",
      "   0.672  Director Human Resources  at EY\n",
      "\n",
      "Query: machine learning engineer\n",
      "   0.764  Human Resources Management Major\n",
      "   0.741  Junior MES Engineer| Information Systems\n",
      "   0.740  Aspiring Human Resources Professional\n",
      "   0.730  Aspiring Human Resources Specialist\n",
      "   0.719  Human Resources Professional\n",
      "   0.718  Human Resources professional for the world leader in GIS software\n",
      "   0.704  Experienced Retail Manager and aspiring Human Resources Professional\n",
      "   0.695  Information Systems Specialist and Programmer with a love for data and organization.\n",
      "   0.693  Human Resources Generalist at ScottMadden, Inc.\n",
      "   0.692  Business Management Major and Aspiring Human Resources Manager\n",
      "\n",
      "Query: backend developer\n",
      "   0.682  People Development Coordinator at Ryan\n",
      "   0.682  Student\n",
      "   0.676  HR Senior Specialist\n",
      "   0.674  Seeking Human Resources Position\n",
      "   0.668  Aspiring Human Resources Professional\n",
      "   0.643  Aspiring Human Resources Specialist\n",
      "   0.636  Director Of Administration at Excellence Logging\n",
      "   0.627  Seeking Human Resources Opportunities\n",
      "   0.600  Human Resources Professional\n",
      "   0.593  Director Human Resources  at EY\n",
      "\n",
      "Query: product manager\n",
      "   0.741  Aspiring Human Resources Professional\n",
      "   0.729  HR Senior Specialist\n",
      "   0.728  Human Resources Professional\n",
      "   0.719  Aspiring Human Resources Specialist\n",
      "   0.717  Human Resources Management Major\n",
      "   0.717  Director Of Administration at Excellence Logging\n",
      "   0.712  People Development Coordinator at Ryan\n",
      "   0.710  Experienced Retail Manager and aspiring Human Resources Professional\n",
      "   0.702  Seeking Human Resources Position\n",
      "   0.693  Human Resources, Staffing and Recruiting Professional\n"
     ]
    }
   ],
   "source": [
    "# quick test (same queries as other families)\n",
    "for q in [\"data scientist\", \"machine learning engineer\", \"backend developer\", \"product manager\"]:\n",
    "    rows, err = search_titles_bert(q, X_bert, df, topk=10, dedupe=True)\n",
    "    print(f\"\\nQuery: {q}\")\n",
    "    if err: \n",
    "        print(\"  \", err)\n",
    "    else:\n",
    "        for t, s in rows:\n",
    "            print(f\"  {s: .3f}  {t}\")"
   ]
  },
  {
   "cell_type": "markdown",
   "id": "7cae2fb0",
   "metadata": {},
   "source": [
    "### Why base BERT underwhelms for similarity search\n",
    "\n",
    "- **Not trained for semantic similarity.** `bert-base-uncased` is a masked-LM, not a retrieval model. Without fine-tuning, it often clusters by frequent words (e.g., “human”, “resources”) rather than job-role semantics.\n",
    "- **Anisotropy problem.** Raw BERT sentence vectors occupy a narrow cone in space, so cosine scores are uniformly high and not very discriminative.\n",
    "\n",
    "---\n"
   ]
  },
  {
   "cell_type": "markdown",
   "id": "99adb8dd",
   "metadata": {},
   "source": [
    "## 8) Experiment with Sentence-BERT (Google, 2019)"
   ]
  },
  {
   "cell_type": "markdown",
   "id": "e01f9a2c",
   "metadata": {},
   "source": [
    "What it is: A Siamese/bi-encoder built on BERT/RoBERTa that’s fine-tuned for sentence similarity, producing compact embeddings (≈384–768 dims) where semantically similar texts are close.\n",
    "\n",
    "Why it matters: Unlike base BERT, SBERT is optimized for cosine similarity, ideal for retrieval, clustering, and semantic search; it scales to millions of items with ANN indexing.\n",
    "\n",
    "How to use: Encode each title with a pretrained model (e.g., all-MiniLM-L6-v2, all-mpnet-base-v2), L2-normalize, then compare with dot/cosine."
   ]
  },
  {
   "cell_type": "code",
   "execution_count": 50,
   "id": "5c5861df",
   "metadata": {},
   "outputs": [],
   "source": [
    "from sentence_transformers import SentenceTransformer"
   ]
  },
  {
   "cell_type": "code",
   "execution_count": 51,
   "id": "468bd9e6",
   "metadata": {},
   "outputs": [
    {
     "name": "stdout",
     "output_type": "stream",
     "text": [
      "SBERT encoded titles: torch.Size([104, 768]) kept: 104\n"
     ]
    }
   ],
   "source": [
    "#SBERT_NAME = \"sentence-transformers/all-MiniLM-L6-v2\"\n",
    "SBERT_NAME = \"sentence-transformers/all-mpnet-base-v2\"   # stronger for search\n",
    "\n",
    "sbert = SentenceTransformer(SBERT_NAME, device=str(device))\n",
    "\n",
    "# Uses df[\"title_text\"] prepared earlier (same cleaning/tokenization policy)\n",
    "X_sbert = sbert.encode(\n",
    "    df[\"title_text\"].tolist(),\n",
    "    convert_to_tensor=True,\n",
    "    device=str(device),\n",
    "    normalize_embeddings=True,   # L2-normalize → cosine = dot\n",
    "    batch_size=64,\n",
    "    show_progress_bar=False\n",
    ")\n",
    "keep_idx_sbert = list(range(len(df)))\n",
    "print(\"SBERT encoded titles:\", X_sbert.shape, \"kept:\", len(keep_idx_sbert))"
   ]
  },
  {
   "cell_type": "code",
   "execution_count": 52,
   "id": "6d1b42a2",
   "metadata": {},
   "outputs": [],
   "source": [
    "@torch.no_grad()\n",
    "def search_titles_sbert(query: str,\n",
    "                        X,                  # torch.Tensor [N, H], normalized\n",
    "                        df: pd.DataFrame,\n",
    "                        topk: int = 10,\n",
    "                        dedupe: bool = True):\n",
    "    q = sbert.encode(\n",
    "        [canonicalize_title(query)],\n",
    "        convert_to_tensor=True,\n",
    "        device=str(device),\n",
    "        normalize_embeddings=True\n",
    "    )                                   # [1, H]\n",
    "    sims = (X @ q[0])                   # [N], cosine = dot\n",
    "    top = torch.topk(sims, k=min(topk*3, sims.numel()))  # oversample if deduping\n",
    "\n",
    "    rows, seen = [], set()\n",
    "    for idx in top.indices.tolist():\n",
    "        title_str = df.loc[idx, \"job_title\"]\n",
    "        if dedupe and title_str in seen:\n",
    "            continue\n",
    "        seen.add(title_str)\n",
    "        rows.append((title_str, float(sims[idx].item())))\n",
    "        if len(rows) == topk:\n",
    "            break\n",
    "    return rows, None"
   ]
  },
  {
   "cell_type": "code",
   "execution_count": 60,
   "id": "38e9973d",
   "metadata": {},
   "outputs": [
    {
     "name": "stdout",
     "output_type": "stream",
     "text": [
      "\n",
      "Query: data scientist\n",
      "   0.596  Information Systems Specialist and Programmer with a love for data and organization.\n",
      "   0.495  Human Resources Professional\n",
      "   0.457  Junior MES Engineer| Information Systems\n",
      "   0.450  Aspiring Human Resources Specialist\n",
      "   0.449  Human Resources professional for the world leader in GIS software\n",
      "   0.441  HR Senior Specialist\n",
      "   0.433  Human Resources Generalist at ScottMadden, Inc.\n",
      "   0.416  Liberal Arts Major. Aspiring Human Resources Analyst.\n",
      "   0.410  Student\n",
      "   0.403  Human Resources Specialist at Luxottica\n",
      "\n",
      "Query: machine learning engineer\n",
      "   0.495  Junior MES Engineer| Information Systems\n",
      "   0.430  Information Systems Specialist and Programmer with a love for data and organization.\n",
      "   0.420  Human Resources professional for the world leader in GIS software\n",
      "   0.394  Human Resources Professional\n",
      "   0.382  Aspiring Human Resources Specialist\n",
      "   0.378  Human Resources Generalist at Loparex\n",
      "   0.372  Director Human Resources  at EY\n",
      "   0.358  Human Resources Generalist at Schwan's\n",
      "   0.358  Human Resources Management Major\n",
      "   0.347  HR Senior Specialist\n",
      "\n",
      "Query: backend developer\n",
      "   0.392  Human Resources professional for the world leader in GIS software\n",
      "   0.391  Human Resources Professional\n",
      "   0.383  Junior MES Engineer| Information Systems\n",
      "   0.374  HR Senior Specialist\n",
      "   0.372  Information Systems Specialist and Programmer with a love for data and organization.\n",
      "   0.362  Aspiring Human Resources Specialist\n",
      "   0.332  Human Resources Specialist at Luxottica\n",
      "   0.332  Human Resources Generalist at Loparex\n",
      "   0.321  Human Resources Generalist at ScottMadden, Inc.\n",
      "   0.316  Senior Human Resources Business Partner at Heil Environmental\n",
      "\n",
      "Query: product manager\n",
      "   0.523  Student at Indiana University Kokomo - Business Management - \n",
      "Retail Manager at Delphi Hardware and Paint\n",
      "   0.475  Human Resources Generalist at ScottMadden, Inc.\n",
      "   0.440  Human Resources Generalist at Schwan's\n",
      "   0.437  HR Manager at Endemol Shine North America\n",
      "   0.437  Director Human Resources  at EY\n",
      "   0.435  Human Resources Professional\n",
      "   0.423  Director Of Administration at Excellence Logging\n",
      "   0.421  RRP Brand Portfolio Executive at JTI (Japan Tobacco International)\n",
      "   0.421  Senior Human Resources Business Partner at Heil Environmental\n",
      "   0.401  SVP, CHRO, Marketing & Communications, CSR Officer | ENGIE | Houston | The Woodlands | Energy | GPHR | SPHR\n"
     ]
    }
   ],
   "source": [
    "# create a df with to output, then copy to a csv file\n",
    "OUTPUT_DIR = \"./outputs/\"\n",
    "OUTPUT_CSV = os.path.join(OUTPUT_DIR, \"sbert_ranking_output.csv\")\n",
    "\n",
    "query_rows = []\n",
    "score_rows = []\n",
    "job_title_rows = []\n",
    "for q in [\"data scientist\", \"machine learning engineer\", \"backend developer\", \"product manager\"]:\n",
    "    rows, err = search_titles_sbert(q, X_sbert, df, topk=10, dedupe=True)\n",
    "    print(f\"\\nQuery: {q}\")\n",
    "    if err:\n",
    "        print(\"  \", err)\n",
    "    else:\n",
    "        for t, s in rows:\n",
    "            query_rows.append(q)\n",
    "            score_rows.append(s)\n",
    "            job_title_rows.append(t)\n",
    "            print(f\"  {s: .3f}  {t}\")\n",
    "\n",
    "output = {'query': query_rows, 'score': score_rows, 'job_titles': job_title_rows}\n",
    "pd.DataFrame(output).to_csv(OUTPUT_CSV, index=False)"
   ]
  },
  {
   "cell_type": "markdown",
   "id": "56ef205c",
   "metadata": {},
   "source": [
    "SBERT’s top-10 skews heavily toward HR/IS titles for every query, signaling a domain mismatch and preference for generic corporate vocabulary over role intent.\n",
    "\n",
    "Similarity scores are modest (≤ 0.60) and target-aligned roles rarely surface, suggesting short-title brittleness and limited in-domain signal.\n",
    "\n",
    "Expect better relevance after domain-tuned SBERT plus title normalization (hyphens, abbreviations, multi-word variants)."
   ]
  },
  {
   "cell_type": "markdown",
   "id": "c6112d1d",
   "metadata": {},
   "source": [
    "----"
   ]
  },
  {
   "cell_type": "markdown",
   "id": "9307ee67",
   "metadata": {},
   "source": [
    "### 9) Cross-family result comparison with nDCG@k"
   ]
  },
  {
   "cell_type": "markdown",
   "id": "a9f99f73",
   "metadata": {},
   "source": [
    "We compare top-k lists from different embedding families using **normalized Discounted Cumulative Gain** (nDCG), which rewards correct **membership** and **rank order**, giving **larger weight to top positions**.\n",
    "\n",
    "For a reference list $A=(a_1,\\dots,a_k)$ and a candidate list $B$:\n",
    "- Assign a graded relevance to each $a_i$ using $B$’s rank:\n",
    "  $$\n",
    "  \\text{rel}(a_i \\mid B)=\n",
    "  \\begin{cases}\n",
    "  \\dfrac{1}{\\log_2(r_B(a_i)+1)}, & a_i \\in B\\\\[6pt]\n",
    "  0, & a_i \\notin B\n",
    "  \\end{cases}\n",
    "  $$\n",
    "- Compute DCG and the ideal DCG (IDCG) using the same relevance values sorted best-to-worst:\n",
    "  $$\n",
    "  \\mathrm{DCG}@k=\\sum_{i=1}^{k}\\frac{\\text{rel}(a_i\\mid B)}{\\log_2(i+1)},\\qquad\n",
    "  \\mathrm{IDCG}@k=\\sum_{i=1}^{m}\\frac{\\text{rel}^{\\downarrow}_i}{\\log_2(i+1)}\n",
    "  $$\n",
    "  where $m=\\min(k,|A\\cap B|)$ and $\\text{rel}^{\\downarrow}$ are the non-zero relevances in descending order.\n",
    "- Normalize:\n",
    "  $$\n",
    "  \\mathrm{nDCG}@k(A\\!\\parallel\\!B)=\\frac{\\mathrm{DCG}@k}{\\mathrm{IDCG}@k}\\in[0,1].\n",
    "  $$\n",
    "\n",
    "To remove asymmetry, we report the **symmetric** score\n",
    "$$\n",
    "\\mathrm{nDCG}^{\\text{sym}}@k=\\tfrac{1}{2}\\Big(\\mathrm{nDCG}@k(A\\!\\parallel\\!B)+\\mathrm{nDCG}@k(B\\!\\parallel\\!A)\\Big).\n",
    "$$\n",
    "\n",
    "**Why nDCG?** Unlike Overlap/Jaccard (set-based), nDCG is **rank-aware**: swapping top items hurts the score, and matches near the top count more than matches near the bottom, exactly what we want when comparing ranked retrieval results.\n"
   ]
  },
  {
   "cell_type": "code",
   "execution_count": 61,
   "id": "07786290",
   "metadata": {},
   "outputs": [],
   "source": [
    "FAMILIES = {\n",
    "    \"SGNS\": (X_sgns_mean, E_comb, stoi,          keep_idx),\n",
    "    \"W2V\" : (X_w2v_mean,  E_w2v,  stoi_w2v,      keep_idx_w2v),\n",
    "    \"GloVe\": (X_glove_mean, E_glove, stoi_glove,  keep_idx_glove),\n",
    "    \"fastText\": (X_ft_mean, E_ft,   stoi_ft,      keep_idx_ft),\n",
    "}"
   ]
  },
  {
   "cell_type": "code",
   "execution_count": 62,
   "id": "70852657",
   "metadata": {},
   "outputs": [
    {
     "name": "stdout",
     "output_type": "stream",
     "text": [
      "Stored top-k for: ['SGNS', 'W2V', 'GloVe', 'fastText']\n"
     ]
    }
   ],
   "source": [
    "K = 10\n",
    "\n",
    "results_topk = {fam: {} for fam in FAMILIES}\n",
    "\n",
    "for fam, (X, E, stoi_f, keep_idx_f) in FAMILIES.items():\n",
    "    for q in QUERIES:\n",
    "        rows, err = search_titles(q, X, E, stoi_f, keep_idx_f, df, topk=K, dedupe=True)\n",
    "        results_topk[fam][q] = [title for (title, _s) in rows] if not err else []\n",
    "\n",
    "print(\"Stored top-k for:\", list(results_topk.keys()))"
   ]
  },
  {
   "cell_type": "code",
   "execution_count": 63,
   "id": "f4f5bad1",
   "metadata": {},
   "outputs": [],
   "source": [
    "# BERT\n",
    "results_topk[\"BERT\"] = {}\n",
    "for q in QUERIES:\n",
    "    rows, err = search_titles_bert(q, X_bert, df, topk=K, dedupe=True)\n",
    "    results_topk[\"BERT\"][q] = [title for (title, _s) in rows] if not err else []\n",
    "\n",
    "# SBERT\n",
    "results_topk[\"SBERT\"] = {}\n",
    "for q in QUERIES:\n",
    "    rows, err = search_titles_sbert(q, X_sbert, df, topk=K, dedupe=True)\n",
    "    results_topk[\"SBERT\"][q] = [title for (title, _s) in rows] if not err else []"
   ]
  },
  {
   "cell_type": "code",
   "execution_count": 64,
   "id": "1515f35b",
   "metadata": {},
   "outputs": [
    {
     "data": {
      "image/png": "[encoded data removed]",
      "text/plain": [
       "<Figure size 1800x380 with 5 Axes>"
      ]
     },
     "metadata": {},
     "output_type": "display_data"
    }
   ],
   "source": [
    "# nDCG\n",
    "def _rank_map(lst, k):\n",
    "    \"\"\"1-based rank map for the first k items of lst.\"\"\"\n",
    "    return {w: i+1 for i, w in enumerate(lst[:k])}\n",
    "\n",
    "def _dcg_at_k(ref_list, cand_rank, k):\n",
    "    \"\"\"\n",
    "    ref_list: list of items (length >= k) used as the 'positions' 1..k\n",
    "    cand_rank: dict item -> rank in candidate (1-based), for items present in candidate\n",
    "    \"\"\"\n",
    "    # graded relevance from candidate rank\n",
    "    def rel_from_rank(r):\n",
    "        return 1.0 / np.log2(r + 1.0)\n",
    "\n",
    "    gains = []\n",
    "    for i, item in enumerate(ref_list[:k], start=1):\n",
    "        if item in cand_rank:\n",
    "            rel = rel_from_rank(cand_rank[item])\n",
    "        else:\n",
    "            rel = 0.0\n",
    "        gains.append(rel / np.log2(i + 1.0))\n",
    "\n",
    "    dcg = float(np.sum(gains))\n",
    "\n",
    "    # ideal DCG: sort the non-zero relevances by their value, place best at top positions\n",
    "    rels_nonzero = sorted(\n",
    "        [rel_from_rank(r) for item, r in cand_rank.items() if item in set(ref_list[:k])],\n",
    "        reverse=True\n",
    "    )\n",
    "    idcg_terms = [\n",
    "        rels_nonzero[j] / np.log2((j + 1) + 1.0)  # j starts at 0 => position j+1\n",
    "        for j in range(min(len(rels_nonzero), k))\n",
    "    ]\n",
    "    idcg = float(np.sum(idcg_terms))\n",
    "    return dcg / idcg if idcg > 0 else 0.0\n",
    "\n",
    "def ndcg_sym_at_k(list_a, list_b, k=10):\n",
    "    \"\"\"Symmetric nDCG@k between two ranked lists of titles.\"\"\"\n",
    "    rank_a = _rank_map(list_a, k)\n",
    "    rank_b = _rank_map(list_b, k)\n",
    "    # nDCG(A || B): A provides positions, B provides graded relevance via its ranks\n",
    "    ndcg_ab = _dcg_at_k(list_a, rank_b, k)\n",
    "    # nDCG(B || A): symmetrical\n",
    "    ndcg_ba = _dcg_at_k(list_b, rank_a, k)\n",
    "    return 0.5 * (ndcg_ab + ndcg_ba)\n",
    "\n",
    "def cross_matrix(results_topk, family_names, query, k=10):\n",
    "    \"\"\"Symmetric nDCG matrix for a given query across families.\"\"\"\n",
    "    n = len(family_names)\n",
    "    M = np.zeros((n, n), dtype=float)\n",
    "    for i, fa in enumerate(family_names):\n",
    "        for j, fb in enumerate(family_names):\n",
    "            A = results_topk[fa].get(query, [])\n",
    "            B = results_topk[fb].get(query, [])\n",
    "            M[i, j] = ndcg_sym_at_k(A, B, k=k)\n",
    "    return pd.DataFrame(M, index=family_names, columns=family_names)\n",
    "\n",
    "# build nDCG matrices (one per query)\n",
    "\n",
    "K = 10\n",
    "family_names = list(results_topk.keys()) \n",
    "\n",
    "M_NDCG = {q: cross_matrix(results_topk, family_names, q, k=K).values for q in QUERIES}\n",
    "\n",
    "# plotting: 1 row with 4 heatmaps + shared colorbar\n",
    "def _annotate(ax, mat):\n",
    "    m, n = mat.shape\n",
    "    mid = (mat.min() + mat.max()) / 2\n",
    "    for i in range(m):\n",
    "        for j in range(n):\n",
    "            ax.text(j, i, f\"{mat[i,j]:.2f}\",\n",
    "                    ha=\"center\", va=\"center\",\n",
    "                    fontsize=8,\n",
    "                    color=\"white\" if mat[i,j] > mid else \"black\")\n",
    "\n",
    "fig, axes = plt.subplots(\n",
    "    1, 5, figsize=(18, 3.8),\n",
    "    gridspec_kw={\"width_ratios\":[1,1,1,1,0.05], \"wspace\":0.4}\n",
    ")\n",
    "fig.suptitle(f\"Cross-family nDCG@{K} similarity of Top-10 results\", fontsize=14)\n",
    "\n",
    "vmin, vmax = 0.0, 1.0\n",
    "im = None\n",
    "for c, q in enumerate(QUERIES):\n",
    "    ax = axes[c]\n",
    "    mat = np.asarray(M_NDCG[q])\n",
    "    im = ax.imshow(mat, vmin=vmin, vmax=vmax, cmap=\"viridis\")\n",
    "    ax.set_title(q, fontsize=11)\n",
    "    ax.set_xticks(range(len(family_names)))\n",
    "    ax.set_xticklabels(family_names, rotation=45, ha=\"right\", fontsize=9)\n",
    "    ax.set_yticks(range(len(family_names)))\n",
    "    ax.set_yticklabels(family_names, fontsize=9)\n",
    "    _annotate(ax, mat)\n",
    "\n",
    "# shared colorbar in the last column\n",
    "cax = axes[-1]\n",
    "fig.colorbar(im, cax=cax)\n",
    "plt.show()\n"
   ]
  },
  {
   "cell_type": "markdown",
   "id": "dbf5f6ce",
   "metadata": {},
   "source": [
    "### General Observations about the chart: \n",
    "Static embeddings (**SGNS/W2V/GloVe/fastText**) produce very similar top-10 rankings for most queries (nDCG@10 ≈ 0.9–1.0), confirming that with decent token coverage, any of these is a strong, cheap baseline for short job titles.\n",
    "\n",
    "**SBERT** (`all-mpnet-base-v2`) tracks the static families closely and clearly outperforms **base BERT** for similarity search, making it the best “drop-in” model when we want good relevance without task-specific fine-tuning.\n",
    "\n",
    "**Base BERT** underperforms (anisotropy + not trained for similarity). It’s useful mainly after fine-tuning or with pooling/post-processing tricks.\n",
    "\n",
    "**Coverage matters**: the “*backend developer*” panel shows GloVe = 0.00 on the diagonal because both tokens are **OOV** in glove.6B.300d.txt, yielding an empty ranking and degenerate nDCG. Use a higher-coverage file (glove.840B.300d.txt) or fall back to fastText (subwords) for query-only OOVs."
   ]
  },
  {
   "cell_type": "markdown",
   "id": "8afa0049",
   "metadata": {},
   "source": [
    "### 10) General Conclusion"
   ]
  },
  {
   "cell_type": "markdown",
   "id": "fd2df63d",
   "metadata": {},
   "source": [
    "This notebook built a single, comparable pipeline to retrieve similar job titles using multiple embedding families, our custom **SGNS**, **word2vec**, **GloVe**, **fastText**, **BERT**, and **SBERT**, with the same preprocessing, cosine search, and an nDCG-style agreement metric for side-by-side ranking comparison.\n",
    "\n",
    "What we learned\n",
    "\n",
    "**Static embeddings** (SGNS/word2vec/GloVe/fastText) give very similar rankings on short titles when tokens are covered, making them strong, cheap baselines.\n",
    "\n",
    "**fastText** is the most robust static option for rare/novel words thanks to subword composition.\n",
    "\n",
    "**SBERT** is the best off-the-shelf neural choice for semantic search on short titles, **base BERT** lags without fine-tuning and benefits less from mean/CLS pooling for retrieval.\n",
    "\n",
    "Coverage matters: OOV tokens can collapse results for static models, a fallback (fastText or alternative phrasing) prevents degenerate queries.\n",
    "\n",
    "Our **mini-word2vec** (SGNS) is competitive with large pretrained static models when evaluated under the same tokenizer and scoring.\n",
    "\n",
    "**Engineering takeaways**\n",
    "\n",
    "- Keep one canonical tokenizer and L2-normalize all vectors; use mean pooling for BERT-family unless we fine-tune.\n",
    "- Subset-load large text embeddings (GloVe/fastText) to only needed tokens to save RAM.\n",
    "- Deduplicate results at display time and compute similarity with batched matrix ops for speed.\n",
    "\n",
    "**Limitations**\n",
    "\n",
    "- We compared models to each other (nDCG agreement), not to human relevance labels. Results reflect relative consistency, not absolute correctness.\n",
    "- Titles are short and domain-specific. No domain fine-tuning or IDF weighting was applied.\n"
   ]
  },
  {
   "cell_type": "markdown",
   "id": "d511126f",
   "metadata": {},
   "source": [
    "----"
   ]
  }
 ],
 "metadata": {
  "kernelspec": {
   "display_name": "Pot-Tals_3_env",
   "language": "python",
   "name": "pot-tals_3_env"
  },
  "language_info": {
   "codemirror_mode": {
    "name": "ipython",
    "version": 3
   },
   "file_extension": ".py",
   "mimetype": "text/x-python",
   "name": "python",
   "nbconvert_exporter": "python",
   "pygments_lexer": "ipython3",
   "version": "3.12.7"
  }
 },
 "nbformat": 4,
 "nbformat_minor": 5
}
