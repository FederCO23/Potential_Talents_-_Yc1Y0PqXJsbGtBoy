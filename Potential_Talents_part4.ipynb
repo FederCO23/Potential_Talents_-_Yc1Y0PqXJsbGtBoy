{
 "cells": [
  {
   "cell_type": "markdown",
   "id": "b22c4196",
   "metadata": {},
   "source": [
    "## Potential Talents - Part 4"
   ]
  },
  {
   "cell_type": "markdown",
   "id": "2956a14e",
   "metadata": {},
   "source": [
    "----"
   ]
  },
  {
   "cell_type": "markdown",
   "id": "716b8abb",
   "metadata": {},
   "source": [
    "# Job Title Similarity using LLMs-as-Rankers\n",
    "\n",
    "### Objective\n",
    "Given a query, ask a small LLM to score **all 104 job titles at once** (0–100, one score per line, same order), then rank the scores to compare the **top-10** with other results (from embeddings + cosine or other LLMs results)\n",
    "\n",
    "### Constraints\n",
    "- Local GPU: **GTX 1080 Ti**.\n",
    "- **Deterministic** generation: `do_sample=False`, `num_beams=1`.\n",
    "\n",
    "### Models (initial)\n",
    "- **1:** `microsoft/phi-3-mini-4k-instruct` (4k context, small & GPU-friendly).\n",
    "- **2:** `google/gemma-2-2b-it` (8k context, very small).\n",
    "- **3:** `qwen2.5-3B-instruct` (32k context, ~3B params, list-style outputs).\n",
    "- **4:** `moonshot/kimi-K2-(K2-0711)`\n",
    "- **5:** `meta/llama-3.2-3B-Instruct`\n",
    "- **6:** `deepseek/deepseek-v3.1-chat`\n",
    "- **7:** ``\n",
    "- **8:** `openai/chatgpt-4o`\n",
    "- (After some tests we will avoid FLAN-T5 here due to the ~512 token input limit.)\n",
    "\n",
    "### Method\n",
    "1) Load SBERT top-10 baseline (from Part 3).  \n",
    "2) Load a small **causal LM**.  \n",
    "3) Build a prompt that lists all **104** titles (numbered).  \n",
    "4) Generate **104 lines of integers**; parse → rank; print top-10; save top-10 CSV (`query,score,job_titles`).  \n",
    "5) Repeat for the 4 queries; later compute nDCG@10 and compare.\n",
    "\n"
   ]
  },
  {
   "cell_type": "markdown",
   "id": "b8e935cd",
   "metadata": {},
   "source": [
    "----\n"
   ]
  },
  {
   "cell_type": "markdown",
   "id": "7b387d87",
   "metadata": {},
   "source": [
    "### Step 0 - Imports, config, folders"
   ]
  },
  {
   "cell_type": "code",
   "execution_count": 3,
   "id": "21ce1f6e",
   "metadata": {},
   "outputs": [],
   "source": [
    "# core\n",
    "import os, json, math, re, random, time, sys\n",
    "import numpy as np\n",
    "import pandas as pd\n",
    "\n",
    "# HF\n",
    "import torch\n",
    "from transformers import AutoTokenizer, AutoModelForSeq2SeqLM, AutoModelForCausalLM, pipeline"
   ]
  },
  {
   "cell_type": "code",
   "execution_count": 4,
   "id": "2188f07b",
   "metadata": {},
   "outputs": [],
   "source": [
    "# reproducibility\n",
    "SEED = 23\n",
    "random.seed(SEED); np.random.seed(SEED); torch.manual_seed(SEED)\n",
    "\n",
    "# paths\n",
    "DATA_DIR = \"data\"\n",
    "OUT_DIR  = \"outputs\"\n",
    "os.makedirs(DATA_DIR, exist_ok=True)\n",
    "os.makedirs(OUT_DIR, exist_ok=True)\n",
    "\n",
    "QUERIES = [\"data scientist\", \"machine learning engineer\", \"backend developer\", \"product manager\"]  # same queries from Part 3"
   ]
  },
  {
   "cell_type": "markdown",
   "id": "b4d545eb",
   "metadata": {},
   "source": [
    "### Step 1 - Load titles and make a clean field"
   ]
  },
  {
   "cell_type": "code",
   "execution_count": 5,
   "id": "1d845f2c",
   "metadata": {},
   "outputs": [],
   "source": [
    "df = pd.read_csv(os.path.join(DATA_DIR, \"potential_talents.csv\"))"
   ]
  },
  {
   "cell_type": "code",
   "execution_count": 6,
   "id": "85b98037",
   "metadata": {},
   "outputs": [
    {
     "data": {
      "text/plain": [
       "(104,\n",
       " ['2019 C.T. Bauer College of Business Graduate (Magna Cum Laude) and aspiring Human Resources professional',\n",
       "  'Native English Teacher at EPIK (English Program in Korea)',\n",
       "  'Aspiring Human Resources Professional',\n",
       "  'People Development Coordinator at Ryan',\n",
       "  'Advisory Board Member at Celal Bayar University'])"
      ]
     },
     "execution_count": 6,
     "metadata": {},
     "output_type": "execute_result"
    }
   ],
   "source": [
    "titles = df[\"job_title\"].astype(str).tolist()\n",
    "len(titles), titles[:5]"
   ]
  },
  {
   "cell_type": "markdown",
   "id": "870c7ee5",
   "metadata": {},
   "source": [
    "### Step 2 - Load SBERT top-10 baseline (as-is, from the previous project part 3)"
   ]
  },
  {
   "cell_type": "code",
   "execution_count": 7,
   "id": "bfb96aa4",
   "metadata": {},
   "outputs": [
    {
     "name": "stdout",
     "output_type": "stream",
     "text": [
      "            query     score                                         job_titles\n",
      "0  data scientist  0.595830  Information Systems Specialist and Programmer ...\n",
      "1  data scientist  0.494619                       Human Resources Professional\n",
      "2  data scientist  0.456588           Junior MES Engineer| Information Systems\n",
      "Queries in baseline: ['data scientist' 'machine learning engineer' 'backend developer'\n",
      " 'product manager']\n"
     ]
    }
   ],
   "source": [
    "# Load your SBERT baseline as produced in Part 3 (no changes to schema)\n",
    "BASELINE_TOP10_CSV = os.path.join(OUT_DIR, \"sbert_ranking_output.csv\")\n",
    "base = pd.read_csv(BASELINE_TOP10_CSV)\n",
    "\n",
    "print(base.head(3))\n",
    "print(\"Queries in baseline:\", base[\"query\"].unique())"
   ]
  },
  {
   "cell_type": "markdown",
   "id": "6546e899",
   "metadata": {},
   "source": [
    "### Step 3 - Pretty printer (same style as Part 3)"
   ]
  },
  {
   "cell_type": "code",
   "execution_count": 8,
   "id": "2643cbc9",
   "metadata": {},
   "outputs": [],
   "source": [
    "def print_ranking(query, rows_df, score_col=\"score\", title_col=\"job_titles\", top_k=10):\n",
    "    print(f\"\\nQuery: {query}\")\n",
    "    for _, r in rows_df.head(top_k).iterrows():\n",
    "        print(f\"   {r[score_col]: .3f}  {r[title_col]}\")\n"
   ]
  },
  {
   "cell_type": "code",
   "execution_count": 9,
   "id": "e8800280",
   "metadata": {},
   "outputs": [
    {
     "name": "stdout",
     "output_type": "stream",
     "text": [
      "\n",
      "Query: data scientist\n",
      "    0.596  Information Systems Specialist and Programmer with a love for data and organization.\n",
      "    0.495  Human Resources Professional\n",
      "    0.457  Junior MES Engineer| Information Systems\n",
      "    0.450  Aspiring Human Resources Specialist\n",
      "    0.449  Human Resources professional for the world leader in GIS software\n",
      "    0.441  HR Senior Specialist\n",
      "    0.433  Human Resources Generalist at ScottMadden, Inc.\n",
      "    0.416  Liberal Arts Major. Aspiring Human Resources Analyst.\n",
      "    0.410  Student\n",
      "    0.403  Human Resources Specialist at Luxottica\n",
      "\n",
      "Query: machine learning engineer\n",
      "    0.596  Information Systems Specialist and Programmer with a love for data and organization.\n",
      "    0.495  Human Resources Professional\n",
      "    0.457  Junior MES Engineer| Information Systems\n",
      "    0.450  Aspiring Human Resources Specialist\n",
      "    0.449  Human Resources professional for the world leader in GIS software\n",
      "    0.441  HR Senior Specialist\n",
      "    0.433  Human Resources Generalist at ScottMadden, Inc.\n",
      "    0.416  Liberal Arts Major. Aspiring Human Resources Analyst.\n",
      "    0.410  Student\n",
      "    0.403  Human Resources Specialist at Luxottica\n",
      "\n",
      "Query: backend developer\n",
      "    0.596  Information Systems Specialist and Programmer with a love for data and organization.\n",
      "    0.495  Human Resources Professional\n",
      "    0.457  Junior MES Engineer| Information Systems\n",
      "    0.450  Aspiring Human Resources Specialist\n",
      "    0.449  Human Resources professional for the world leader in GIS software\n",
      "    0.441  HR Senior Specialist\n",
      "    0.433  Human Resources Generalist at ScottMadden, Inc.\n",
      "    0.416  Liberal Arts Major. Aspiring Human Resources Analyst.\n",
      "    0.410  Student\n",
      "    0.403  Human Resources Specialist at Luxottica\n",
      "\n",
      "Query: product manager\n",
      "    0.596  Information Systems Specialist and Programmer with a love for data and organization.\n",
      "    0.495  Human Resources Professional\n",
      "    0.457  Junior MES Engineer| Information Systems\n",
      "    0.450  Aspiring Human Resources Specialist\n",
      "    0.449  Human Resources professional for the world leader in GIS software\n",
      "    0.441  HR Senior Specialist\n",
      "    0.433  Human Resources Generalist at ScottMadden, Inc.\n",
      "    0.416  Liberal Arts Major. Aspiring Human Resources Analyst.\n",
      "    0.410  Student\n",
      "    0.403  Human Resources Specialist at Luxottica\n"
     ]
    }
   ],
   "source": [
    "for query in QUERIES:\n",
    "    print_ranking(query, base)"
   ]
  },
  {
   "cell_type": "markdown",
   "id": "f9e15710",
   "metadata": {},
   "source": [
    "### Step 4 - Experience with <img src=\"./sup_imgs/phi-3-mini.png\" width=\"225\" style=\"vertical-align: middle;\"/>"
   ]
  },
  {
   "cell_type": "markdown",
   "id": "d27da14b",
   "metadata": {},
   "source": [
    "**Phi-3 Mini**\n",
    "- **Release Date**: April 23, 2024.\n",
    "- **Architecture**: Decoder-only (autoregressive).\n",
    "- **Parameters**: ~3.8B.\n",
    "- **Layers**: 32 transformer blocks, 32 attention heads.\n",
    "- **Context Window**: 4k tokens.\n",
    "- **Tokenizer**: SentencePiece-like (subword BPE).\n",
    "- **Objective**: Next-token prediction, trained as a general causal LM.\n",
    "- **Training**: Mixture of web, code, math, scientific texts; instruction-tuned for dialogue.\n",
    "- **Efficiency**: Optimized for small GPUs (runs on 8–12GB VRAM), strong FP16/INT8 support.\n",
    "- **License**: MIT-style permissive.\n",
    "- **Notes**: Very lightweight, deterministic, good for structured tasks on consumer GPUs."
   ]
  },
  {
   "cell_type": "code",
   "execution_count": 10,
   "id": "3e5c1958",
   "metadata": {},
   "outputs": [
    {
     "name": "stdout",
     "output_type": "stream",
     "text": [
      "torch: 2.6.0+cu124\n",
      "built with CUDA: 12.4\n",
      "cuda available: True\n",
      "gpu: NVIDIA GeForce GTX 1080 Ti\n"
     ]
    }
   ],
   "source": [
    "print(\"torch:\", torch.__version__)\n",
    "print(\"built with CUDA:\", torch.version.cuda)\n",
    "print(\"cuda available:\", torch.cuda.is_available())\n",
    "if torch.cuda.is_available():\n",
    "    print(\"gpu:\", torch.cuda.get_device_name(0))"
   ]
  },
  {
   "cell_type": "code",
   "execution_count": 11,
   "id": "8ef92698",
   "metadata": {},
   "outputs": [
    {
     "data": {
      "application/vnd.jupyter.widget-view+json": {
       "model_id": "6aa4445fb75c44cfab38c4be8b2735e5",
       "version_major": 2,
       "version_minor": 0
      },
      "text/plain": [
       "Loading checkpoint shards:   0%|          | 0/2 [00:00<?, ?it/s]"
      ]
     },
     "metadata": {},
     "output_type": "display_data"
    }
   ],
   "source": [
    "MODEL_ID = \"microsoft/phi-3-mini-4k-instruct\"\n",
    "\n",
    "device = torch.device(\"cuda\" if torch.cuda.is_available() else \"cpu\")\n",
    "\n",
    "tok = AutoTokenizer.from_pretrained(MODEL_ID, use_fast=True)\n",
    "mdl = AutoModelForCausalLM.from_pretrained(\n",
    "    MODEL_ID,\n",
    "    dtype=torch.float16 if torch.cuda.is_available() else None,\n",
    ").to(\"cuda\" if torch.cuda.is_available() else \"cpu\").eval()"
   ]
  },
  {
   "cell_type": "code",
   "execution_count": 12,
   "id": "394583c4",
   "metadata": {},
   "outputs": [],
   "source": [
    "# Build a proper chat prompt\n",
    "msgs = [\n",
    "    {\"role\": \"system\", \"content\": \"You are a calculator. Reply with digits only.\"},\n",
    "    {\"role\": \"user\",   \"content\": \"Return the number 7.\"}\n",
    "]\n",
    "prompt = tok.apply_chat_template(msgs, tokenize=False, add_generation_prompt=True)\n"
   ]
  },
  {
   "cell_type": "code",
   "execution_count": 13,
   "id": "2ca4e377",
   "metadata": {},
   "outputs": [],
   "source": [
    "# Encode & generate (greedy)\n",
    "inputs = tok(prompt, return_tensors=\"pt\").to(mdl.device)\n",
    "eos = [tok.eos_token_id]\n",
    "try:\n",
    "    eos.append(tok.convert_tokens_to_ids(\"<|end|>\"))\n",
    "except Exception:\n",
    "    pass"
   ]
  },
  {
   "cell_type": "code",
   "execution_count": 14,
   "id": "82e8d1b5",
   "metadata": {},
   "outputs": [],
   "source": [
    "gen = mdl.generate(\n",
    "    **inputs,\n",
    "    do_sample=False,\n",
    "    num_beams=1,\n",
    "    max_new_tokens=3,\n",
    "    eos_token_id=eos,\n",
    ")\n"
   ]
  },
  {
   "cell_type": "code",
   "execution_count": 15,
   "id": "27e410f2",
   "metadata": {},
   "outputs": [
    {
     "name": "stdout",
     "output_type": "stream",
     "text": [
      "7\n"
     ]
    }
   ],
   "source": [
    "out = tok.decode(gen[0][inputs[\"input_ids\"].shape[1]:], skip_special_tokens=True).strip()\n",
    "print(out)  # -> 7"
   ]
  },
  {
   "cell_type": "markdown",
   "id": "699f9861",
   "metadata": {},
   "source": [
    "### Step 5 — turn LLM into a job title ranker"
   ]
  },
  {
   "cell_type": "markdown",
   "id": "96e8837f",
   "metadata": {},
   "source": [
    "We will turn the LLM into a ranker by asking it to assign an integer score (0–100) to each raw job title for a given query.\n"
   ]
  },
  {
   "cell_type": "code",
   "execution_count": 16,
   "id": "e07e1c27",
   "metadata": {},
   "outputs": [],
   "source": [
    "def build_prompt_all_chat_phi(query: str, titles: list[str]) -> str:\n",
    "    lines = \"\\n\".join(f\"{i+1}) {t}\" for i, t in enumerate(titles))\n",
    "    rubric = (\n",
    "        \"You are a recruiter scoring job-title similarity to the query.\\n\"\n",
    "        \"Rate each candidate with an integer 0–100 using the FULL scale:\\n\"\n",
    "        \" • 90–100 = exact/near-exact role match\\n\"\n",
    "        \" • 70–89  = same discipline or very similar role\\n\"\n",
    "        \" • 40–69  = related/adjacent\\n\"\n",
    "        \" • 10–39  = mostly unrelated\\n\"\n",
    "        \" • 0–9    = completely unrelated\\n\"\n",
    "        \"Use diverse scores; do NOT give 0 or 100 to many candidates.\\n\"\n",
    "        \"Ignore employer names, locations, programs.\\n\"\n",
    "        \"Output EXACTLY one integer per line, in the SAME ORDER as the candidates. No words, no punctuation.\"\n",
    "    )\n",
    "    # Non-extreme example\n",
    "    example = \"Example for 3 candidates:\\n82\\n41\\n7\"\n",
    "    user = f'Query: \"{query}\"\\n\\nCandidates:\\n{lines}\\n\\n{example}'\n",
    "    msgs = [{\"role\": \"system\", \"content\": rubric},\n",
    "            {\"role\": \"user\",   \"content\": user}]\n",
    "    return tok.apply_chat_template(msgs, tokenize=False, add_generation_prompt=True)\n",
    "    \n"
   ]
  },
  {
   "cell_type": "code",
   "execution_count": 17,
   "id": "9fd5fca8",
   "metadata": {},
   "outputs": [],
   "source": [
    "def parse_scores_n(out: str, n: int) -> list[int]:\n",
    "    # prefer last int per non-empty line; fallback to last N ints in whole text\n",
    "    lines = [l.strip() for l in out.splitlines() if l.strip()]\n",
    "    scores = []\n",
    "    \n",
    "    for line in lines:\n",
    "        ints = re.findall(r\"-?\\d+\", line)\n",
    "        if ints:\n",
    "            scores.append(int(ints[-1]))\n",
    "        if len(scores) >= n:\n",
    "            break\n",
    "        \n",
    "    if len(scores) < n:\n",
    "        all_ints = [int(x) for x in re.findall(r\"-?\\d+\", out)]\n",
    "        scores = all_ints[-n:]\n",
    "        \n",
    "    scores = [max(0, min(100, int(s))) for s in scores]\n",
    "    \n",
    "    # if still short, add a padding\n",
    "    if len(scores) < n:  \n",
    "        scores += [0] * (n - len(scores))\n",
    "    return scores[:n]"
   ]
  },
  {
   "cell_type": "code",
   "execution_count": 18,
   "id": "b170f01b",
   "metadata": {},
   "outputs": [],
   "source": [
    "def score_all_titles_once(query: str,\n",
    "                          titles: list[str],\n",
    "                          max_new_tokens: int = 300,\n",
    "                          build_fn=None):\n",
    "    build_fn = build_fn or build_prompt_all_chat_phi\n",
    "    prompt = build_fn(query, titles)\n",
    "    print(\"Prompt tokens:\", len(tok(prompt)[\"input_ids\"]))\n",
    "    inputs = tok(prompt, return_tensors=\"pt\").to(mdl.device)\n",
    "    gen = mdl.generate(\n",
    "        **inputs,\n",
    "        do_sample=False,\n",
    "        num_beams=1,\n",
    "        max_new_tokens=max_new_tokens,\n",
    "        eos_token_id=[tok.eos_token_id],\n",
    "        min_new_tokens=min(len(titles), max_new_tokens-1),\n",
    "    )\n",
    "    out_text = tok.decode(gen[0][inputs[\"input_ids\"].shape[1]:], skip_special_tokens=True)\n",
    "    scores = parse_scores_n(out_text, len(titles))\n",
    "    df = pd.DataFrame({\"idx\": range(len(titles)), \"score\": scores})\n",
    "    df[\"job_titles\"] = [titles[i] for i in df[\"idx\"]]\n",
    "    df = df.sort_values(\"score\", ascending=False).reset_index(drop=True)\n",
    "    return df, out_text\n",
    "\n"
   ]
  },
  {
   "cell_type": "markdown",
   "id": "aa8ee9d3",
   "metadata": {},
   "source": [
    "Test **build_prompt_all_chat**, **parse_scores_n** and **score_all_tittles_once**"
   ]
  },
  {
   "cell_type": "code",
   "execution_count": 19,
   "id": "0e1c94d9",
   "metadata": {},
   "outputs": [
    {
     "name": "stdout",
     "output_type": "stream",
     "text": [
      "=== DEMO PROMPT (first 30 lines) ===\n",
      "<|system|>\n",
      "You are a recruiter scoring job-title similarity to the query.\n",
      "Rate each candidate with an integer 0–100 using the FULL scale:\n",
      " • 90–100 = exact/near-exact role match\n",
      " • 70–89  = same discipline or very similar role\n",
      " • 40–69  = related/adjacent\n",
      " • 10–39  = mostly unrelated\n",
      " • 0–9    = completely unrelated\n",
      "Use diverse scores; do NOT give 0 or 100 to many candidates.\n",
      "Ignore employer names, locations, programs.\n",
      "Output EXACTLY one integer per line, in the SAME ORDER as the candidates. No words, no punctuation.<|end|>\n",
      "<|user|>\n",
      "Query: \"data scientist\"\n",
      "\n",
      "Candidates:\n",
      "1) 2019 C.T. Bauer College of Business Graduate (Magna Cum Laude) and aspiring Human Resources professional\n",
      "2) Native English Teacher at EPIK (English Program in Korea)\n",
      "3) Aspiring Human Resources Professional\n",
      "4) People Development Coordinator at Ryan\n",
      "5) Advisory Board Member at Celal Bayar University\n",
      "\n",
      "Example for 3 candidates:\n",
      "82\n",
      "41\n",
      "7<|end|>\n",
      "<|assistant|>\n",
      "Token count (subset): 279\n"
     ]
    }
   ],
   "source": [
    "test_query = \"data scientist\"\n",
    "\n",
    "# A Tiny subset to inspect everything\n",
    "subset = titles[:5]\n",
    "\n",
    "demo_prompt = build_prompt_all_chat_phi(test_query, subset)\n",
    "print(\"=== DEMO PROMPT (first 30 lines) ===\")\n",
    "print(\"\\n\".join(demo_prompt.splitlines()[:30]))\n",
    "print(\"Token count (subset):\", len(tok(demo_prompt)[\"input_ids\"]))\n"
   ]
  },
  {
   "cell_type": "code",
   "execution_count": 20,
   "id": "f0dd40f0",
   "metadata": {},
   "outputs": [
    {
     "name": "stdout",
     "output_type": "stream",
     "text": [
      "Prompt tokens: 279\n",
      "\n",
      "=== RAW MODEL OUTPUT (subset) ===\n",
      "0\n",
      "0\n",
      "7\n",
      "41\n",
      "0\n"
     ]
    }
   ],
   "source": [
    "df_sub, raw_sub = score_all_titles_once(test_query, subset, max_new_tokens=60)\n",
    "print(\"\\n=== RAW MODEL OUTPUT (subset) ===\")\n",
    "print(raw_sub)"
   ]
  },
  {
   "cell_type": "code",
   "execution_count": 21,
   "id": "f5738ad5",
   "metadata": {},
   "outputs": [
    {
     "name": "stdout",
     "output_type": "stream",
     "text": [
      "\n",
      "Parsed scores (subset): [0, 0, 7, 41, 0]\n",
      "\n",
      "Paired (score, title) in ranked order:\n",
      " 41  People Development Coordinator at Ryan\n",
      "  7  Aspiring Human Resources Professional\n",
      "  0  2019 C.T. Bauer College of Business Graduate (Magna Cum Laude) and aspiring Human Resources professional\n",
      "  0  Native English Teacher at EPIK (English Program in Korea)\n",
      "  0  Advisory Board Member at Celal Bayar University\n"
     ]
    }
   ],
   "source": [
    "scores_sub = parse_scores_n(raw_sub, len(subset))\n",
    "print(\"\\nParsed scores (subset):\", scores_sub)\n",
    "print(\"\\nPaired (score, title) in ranked order:\")\n",
    "# the output DataFrame from `socre_all_titles_once`, df_sub, is sorted in not ascending order\n",
    "for _, r in df_sub.iterrows():\n",
    "    print(f\"{r['score']:>3}  {r['job_titles']}\")"
   ]
  },
  {
   "cell_type": "code",
   "execution_count": 22,
   "id": "89bafef0",
   "metadata": {},
   "outputs": [
    {
     "name": "stdout",
     "output_type": "stream",
     "text": [
      "\n",
      "Token count (full): 1928\n"
     ]
    }
   ],
   "source": [
    "# B) One full run (preview only; avoids flooding output)\n",
    "full_prompt = build_prompt_all_chat_phi(test_query, titles)\n",
    "print(\"\\nToken count (full):\", len(tok(full_prompt)[\"input_ids\"]))"
   ]
  },
  {
   "cell_type": "code",
   "execution_count": 23,
   "id": "2197f9fd",
   "metadata": {},
   "outputs": [],
   "source": [
    "# truncation of long strings\n",
    "pd.set_option(\"display.max_colwidth\", None)\n",
    "pd.set_option(\"display.width\", 200)\n"
   ]
  },
  {
   "cell_type": "code",
   "execution_count": 24,
   "id": "1d261d81",
   "metadata": {},
   "outputs": [
    {
     "name": "stdout",
     "output_type": "stream",
     "text": [
      "Prompt tokens: 1928\n",
      "\n",
      "Full run: got 104 scores.\n",
      "Top-3 preview:\n",
      "   score                                                                                                job_titles\n",
      "0    100                                         Student at Humber College and Aspiring Human Resources Generalist\n",
      "1    100                                                           Advisory Board Member at Celal Bayar University\n",
      "2    100                                                                     Aspiring Human Resources Professional\n",
      "3     90                                                                       Aspiring Human Resources Specialist\n",
      "4     89                                         Student at Humber College and Aspiring Human Resources Generalist\n",
      "5     74                                                                     Aspiring Human Resources Professional\n",
      "6     72                                                 Native English Teacher at EPIK (English Program in Korea)\n",
      "7     70  2019 C.T. Bauer College of Business Graduate (Magna Cum Laude) and aspiring Human Resources professional\n",
      "8     70                                                                                      HR Senior Specialist\n",
      "9     69                                                                             Student at Chapman University\n"
     ]
    }
   ],
   "source": [
    "df_full, raw_full = score_all_titles_once(test_query, titles, max_new_tokens=300)\n",
    "print(\"\\nFull run: got\", len(df_full), \"scores.\")\n",
    "print(\"Top-3 preview:\")\n",
    "print(df_full.head(10)[[\"score\", \"job_titles\"]])"
   ]
  },
  {
   "cell_type": "code",
   "execution_count": 25,
   "id": "5ce5f589",
   "metadata": {},
   "outputs": [],
   "source": [
    "def print_ranking(query, rows_df, top_k=10):\n",
    "    print(f\"\\nQuery: {query}\")\n",
    "    for _, r in rows_df.head(top_k).iterrows():\n",
    "        print(f\"   {r['score']/100: .3f}  {r['job_titles']}\")\n",
    "\n",
    "def run_query_full(queries: list[str],\n",
    "                   model_tag: str = \"phi3_mini_4k\",\n",
    "                   build_prompt_fn=None):\n",
    "    out_dir = os.path.join(OUT_DIR, \"llm\"); os.makedirs(out_dir, exist_ok=True)\n",
    "    top10_blocks = []\n",
    "    for query in queries:\n",
    "        df_rank, raw = score_all_titles_once(query, titles, build_fn=build_prompt_fn)\n",
    "        print_ranking(query, df_rank, top_k=10)\n",
    "        df_q = df_rank.head(10)[[\"score\", \"job_titles\"]].copy()\n",
    "        df_q.insert(0, \"query\", query)\n",
    "        top10_blocks.append(df_q)\n",
    "    top10 = pd.concat(top10_blocks, ignore_index=True)\n",
    "    path = os.path.join(out_dir, f\"llm_top10__{model_tag}__all_queries.csv\")\n",
    "    top10.to_csv(path, index=False)\n",
    "    print(\"Saved:\", path)\n",
    "    return top10, path"
   ]
  },
  {
   "cell_type": "code",
   "execution_count": 26,
   "id": "8de3570e",
   "metadata": {},
   "outputs": [
    {
     "name": "stdout",
     "output_type": "stream",
     "text": [
      "Prompt tokens: 1928\n",
      "\n",
      "Query: data scientist\n",
      "    1.000  Student at Humber College and Aspiring Human Resources Generalist\n",
      "    1.000  Advisory Board Member at Celal Bayar University\n",
      "    1.000  Aspiring Human Resources Professional\n",
      "    0.900  Aspiring Human Resources Specialist\n",
      "    0.890  Student at Humber College and Aspiring Human Resources Generalist\n",
      "    0.740  Aspiring Human Resources Professional\n",
      "    0.720  Native English Teacher at EPIK (English Program in Korea)\n",
      "    0.700  2019 C.T. Bauer College of Business Graduate (Magna Cum Laude) and aspiring Human Resources professional\n",
      "    0.700  HR Senior Specialist\n",
      "    0.690  Student at Chapman University\n",
      "Prompt tokens: 1928\n",
      "\n",
      "Query: machine learning engineer\n",
      "    1.000  Student at Humber College and Aspiring Human Resources Generalist\n",
      "    1.000  Advisory Board Member at Celal Bayar University\n",
      "    1.000  Aspiring Human Resources Professional\n",
      "    0.900  Aspiring Human Resources Specialist\n",
      "    0.890  Student at Humber College and Aspiring Human Resources Generalist\n",
      "    0.740  Aspiring Human Resources Professional\n",
      "    0.720  Native English Teacher at EPIK (English Program in Korea)\n",
      "    0.700  2019 C.T. Bauer College of Business Graduate (Magna Cum Laude) and aspiring Human Resources professional\n",
      "    0.700  HR Senior Specialist\n",
      "    0.690  Student at Chapman University\n",
      "Prompt tokens: 1927\n",
      "\n",
      "Query: backend developer\n",
      "    1.000  Advisory Board Member at Celal Bayar University\n",
      "    0.750  Aspiring Human Resources Specialist\n",
      "    0.700  2019 C.T. Bauer College of Business Graduate (Magna Cum Laude) and aspiring Human Resources professional\n",
      "    0.700  Aspiring Human Resources Professional\n",
      "    0.700  People Development Coordinator at Ryan\n",
      "    0.700  Native English Teacher at EPIK (English Program in Korea)\n",
      "    0.700  SVP, CHRO, Marketing & Communications, CSR Officer | ENGIE | Houston | The Woodlands | Energy | GPHR | SPHR\n",
      "    0.700  Seeking Human Resources HRIS and Generalist Positions\n",
      "    0.700  Native English Teacher at EPIK (English Program in Korea)\n",
      "    0.700  People Development Coordinator at Ryan\n",
      "Prompt tokens: 1927\n",
      "\n",
      "Query: product manager\n",
      "    1.000  Student at Humber College and Aspiring Human Resources Generalist\n",
      "    1.000  Advisory Board Member at Celal Bayar University\n",
      "    1.000  Aspiring Human Resources Professional\n",
      "    0.900  2019 C.T. Bauer College of Business Graduate (Magna Cum Laude) and aspiring Human Resources professional\n",
      "    0.900  Aspiring Human Resources Specialist\n",
      "    0.900  Aspiring Human Resources Professional\n",
      "    0.890  Student at Humber College and Aspiring Human Resources Generalist\n",
      "    0.700  HR Senior Specialist\n",
      "    0.690  Student at Chapman University\n",
      "    0.410  Native English Teacher at EPIK (English Program in Korea)\n",
      "Saved: outputs\\llm\\llm_top10__phi3_mini_4k__listwise__all_queries.csv\n"
     ]
    }
   ],
   "source": [
    "top10_phi, path_phi = run_query_full(\n",
    "    QUERIES,\n",
    "    model_tag=\"phi3_mini_4k__listwise\",\n",
    "    build_prompt_fn=build_prompt_all_chat_phi\n",
    ")\n"
   ]
  },
  {
   "cell_type": "markdown",
   "id": "86751029",
   "metadata": {},
   "source": [
    "----"
   ]
  },
  {
   "cell_type": "markdown",
   "id": "4bbc3436",
   "metadata": {},
   "source": [
    "### Step 6 - Experience with Gemma-2-2b-it   <img src=\"./sup_imgs/gemma2.webp\" width=\"225\" style=\"vertical-align: middle;\"/>"
   ]
  },
  {
   "cell_type": "markdown",
   "id": "a89602a3",
   "metadata": {},
   "source": [
    "**Gemma-2-2B-IT (Google)**\n",
    "- **Release Date**: June 27, 2024 (Gemma 2 family launch).\n",
    "- **Architecture**: Decoder-only (autoregressive).\n",
    "- **Parameters**: ~2.6B.\n",
    "- **Layers**: ~26 transformer layers (with RoPE).\n",
    "- **Context Window**: 8k tokens.\n",
    "- **Tokenizer**: SentencePiece (same family as PaLM-2 / Gemini).\n",
    "- **Objective**: Next-token prediction with instruction-tuning.\n",
    "- **Training**: Web-scale datasets filtered for quality, multilingual corpora.\n",
    "- **Efficiency**: Ultra-compact, designed for edge devices; runs well on 6–8GB GPUs.\n",
    "- **License**: Apache 2.0 (permissive).\n",
    "- *Notes*: Very small but instruction-tuned, produces stable integer list outputs if well-prompted."
   ]
  },
  {
   "cell_type": "markdown",
   "id": "75339a6d",
   "metadata": {},
   "source": [
    "Free the GPU's allocated memory:"
   ]
  },
  {
   "cell_type": "code",
   "execution_count": 27,
   "id": "c681f9ca",
   "metadata": {},
   "outputs": [],
   "source": [
    "import gc"
   ]
  },
  {
   "cell_type": "code",
   "execution_count": 28,
   "id": "0d273108",
   "metadata": {},
   "outputs": [],
   "source": [
    "def free_GPU_memory():\n",
    "    def print_vram(prefix=\"\"):\n",
    "        if not torch.cuda.is_available():\n",
    "            print(prefix + \"CUDA not available\")\n",
    "            return\n",
    "        torch.cuda.synchronize()\n",
    "        alloc = torch.cuda.memory_allocated() / (1024**2)      # MiB\n",
    "        reserv = torch.cuda.memory_reserved() / (1024**2)      # MiB\n",
    "        total = torch.cuda.get_device_properties(0).total_memory / (1024**2)\n",
    "        print(f\"\\n{prefix}allocated: {alloc:.1f} MiB | reserved: {reserv:.1f} MiB | total: {total:,.0f} MiB\")\n",
    "\n",
    "    # Print memory allocation before freeing it\n",
    "    print(\"Measure memory usage before and after freeing it\")\n",
    "    print_vram(\"Before:\\n\")\n",
    "\n",
    "    # move model to CPU + delete big refs\n",
    "    try: mdl.to(\"cpu\")\n",
    "    except: pass\n",
    "    # free memory\n",
    "    for name in (\"pipe\",\"mdl\",\"tok\",\"inputs\",\"gen\"):\n",
    "        if name in globals(): del globals()[name]\n",
    "\n",
    "    gc.collect()\n",
    "    torch.cuda.empty_cache()\n",
    "    torch.cuda.ipc_collect()\n",
    "    print_vram(\"After:\\n\")\n"
   ]
  },
  {
   "cell_type": "code",
   "execution_count": 29,
   "id": "34982006",
   "metadata": {},
   "outputs": [
    {
     "name": "stdout",
     "output_type": "stream",
     "text": [
      "Measure memory usage before and after freeing it\n",
      "\n",
      "Before:\n",
      "allocated: 7296.5 MiB | reserved: 8596.0 MiB | total: 11,264 MiB\n",
      "\n",
      "After:\n",
      "allocated: 8.1 MiB | reserved: 20.0 MiB | total: 11,264 MiB\n"
     ]
    }
   ],
   "source": [
    "free_GPU_memory()"
   ]
  },
  {
   "cell_type": "code",
   "execution_count": 30,
   "id": "32ee0d07",
   "metadata": {},
   "outputs": [
    {
     "data": {
      "application/vnd.jupyter.widget-view+json": {
       "model_id": "84822b251a724d108ca3cafe85c3d4de",
       "version_major": 2,
       "version_minor": 0
      },
      "text/plain": [
       "Loading checkpoint shards:   0%|          | 0/2 [00:00<?, ?it/s]"
      ]
     },
     "metadata": {},
     "output_type": "display_data"
    },
    {
     "name": "stderr",
     "output_type": "stream",
     "text": [
      "Device set to use cuda:0\n"
     ]
    }
   ],
   "source": [
    "MODEL_ID = \"google/gemma-2-2b-it\"\n",
    "HF_TOKEN = os.getenv(\"llm_gemma\")\n",
    "\n",
    "tok = AutoTokenizer.from_pretrained(MODEL_ID, use_fast=True)\n",
    "mdl = AutoModelForCausalLM.from_pretrained(\n",
    "    MODEL_ID,\n",
    "    dtype=torch.float16 if device.type==\"cuda\" else None,\n",
    "    token=HF_TOKEN\n",
    ").to(device).eval()\n",
    "\n",
    "if tok.pad_token_id is None:\n",
    "    tok.pad_token = tok.eos_token\n",
    "\n",
    "pipe = pipeline(\"text-generation\", model=mdl, tokenizer=tok, device=0 if device.type==\"cuda\" else -1)"
   ]
  },
  {
   "cell_type": "markdown",
   "id": "9d27f0eb",
   "metadata": {},
   "source": [
    "Define a newer **prompt builder** function with a one-shot prompt and being more specific with the matching job titles. Also it drops the `system role` options that we used with Phi-3:"
   ]
  },
  {
   "cell_type": "code",
   "execution_count": 31,
   "id": "0ccf6aec",
   "metadata": {},
   "outputs": [],
   "source": [
    "\n",
    "def build_prompt_all_chat_gemma(query: str, titles: list[str]) -> str:\n",
    "    lines = \"\\n\".join(f\"{i+1}) {t}\" for i, t in enumerate(titles))\n",
    "    rubric = (\n",
    "        \"You are a recruiter scoring job-title similarity to the query.\\n\"\n",
    "        \"Rate each candidate with an integer between zero and one hundred using the full scale.\\n\"\n",
    "        \"Use diverse scores; avoid giving many zeros or many hundreds.\\n\"\n",
    "        \"Ignore employer names, locations, and programs.\\n\"\n",
    "        \"Return EXACTLY one integer per line in the SAME ORDER as the candidates.\\n\"\n",
    "        \"No words, no punctuation, no numbering.\\n\"\n",
    "    )\n",
    "    user_text = f'Query: \"{query}\"\\n\\nCandidates:\\n{lines}\\n\\nSCORES:'\n",
    "    # Gemma’s template may not support a system role → fold rubric into the user turn\n",
    "    msgs = [{\"role\": \"user\", \"content\": rubric + \"\\n\\n\" + user_text}]\n",
    "    return tok.apply_chat_template(msgs, tokenize=False, add_generation_prompt=True)"
   ]
  },
  {
   "cell_type": "code",
   "execution_count": 32,
   "id": "c8ee904a",
   "metadata": {},
   "outputs": [
    {
     "name": "stdout",
     "output_type": "stream",
     "text": [
      "Prompt tokens: 1583\n",
      "\n",
      "Query: data scientist\n",
      "    0.200  2019 C.T. Bauer College of Business Graduate (Magna Cum Laude) and aspiring Human Resources professional\n",
      "    0.100  Native English Teacher at EPIK (English Program in Korea)\n",
      "    0.100  Aspiring Human Resources Professional\n",
      "    0.100  People Development Coordinator at Ryan\n",
      "    0.100  Advisory Board Member at Celal Bayar University\n",
      "    0.100  Aspiring Human Resources Specialist\n",
      "    0.100  Student at Humber College and Aspiring Human Resources Generalist\n",
      "    0.100  HR Senior Specialist\n",
      "    0.100  Student at Humber College and Aspiring Human Resources Generalist\n",
      "    0.100  Seeking Human Resources HRIS and Generalist Positions\n",
      "Prompt tokens: 1584\n",
      "\n",
      "Query: machine learning engineer\n",
      "    0.200  2019 C.T. Bauer College of Business Graduate (Magna Cum Laude) and aspiring Human Resources professional\n",
      "    0.100  Native English Teacher at EPIK (English Program in Korea)\n",
      "    0.100  Aspiring Human Resources Professional\n",
      "    0.100  People Development Coordinator at Ryan\n",
      "    0.100  Advisory Board Member at Celal Bayar University\n",
      "    0.100  Aspiring Human Resources Specialist\n",
      "    0.100  Student at Humber College and Aspiring Human Resources Generalist\n",
      "    0.100  HR Senior Specialist\n",
      "    0.100  Student at Humber College and Aspiring Human Resources Generalist\n",
      "    0.100  Seeking Human Resources HRIS and Generalist Positions\n",
      "Prompt tokens: 1583\n",
      "\n",
      "Query: backend developer\n",
      "    0.200  2019 C.T. Bauer College of Business Graduate (Magna Cum Laude) and aspiring Human Resources professional\n",
      "    0.100  Native English Teacher at EPIK (English Program in Korea)\n",
      "    0.100  Aspiring Human Resources Professional\n",
      "    0.100  People Development Coordinator at Ryan\n",
      "    0.100  Advisory Board Member at Celal Bayar University\n",
      "    0.100  Aspiring Human Resources Specialist\n",
      "    0.100  Student at Humber College and Aspiring Human Resources Generalist\n",
      "    0.100  HR Senior Specialist\n",
      "    0.100  Student at Humber College and Aspiring Human Resources Generalist\n",
      "    0.100  Seeking Human Resources HRIS and Generalist Positions\n",
      "Prompt tokens: 1583\n",
      "\n",
      "Query: product manager\n",
      "    0.300  Native English Teacher at EPIK (English Program in Korea)\n",
      "    0.250  2019 C.T. Bauer College of Business Graduate (Magna Cum Laude) and aspiring Human Resources professional\n",
      "    0.250  People Development Coordinator at Ryan\n",
      "    0.250  Aspiring Human Resources Specialist\n",
      "    0.200  Aspiring Human Resources Professional\n",
      "    0.200  Advisory Board Member at Celal Bayar University\n",
      "    0.200  Student at Humber College and Aspiring Human Resources Generalist\n",
      "    0.200  HR Senior Specialist\n",
      "    0.200  Student at Humber College and Aspiring Human Resources Generalist\n",
      "    0.200  Seeking Human Resources HRIS and Generalist Positions\n",
      "Saved: outputs\\llm\\llm_top10__gemma-2-2b-it__listwise__all_queries.csv\n"
     ]
    }
   ],
   "source": [
    "top10_gemma, path_gemma = run_query_full(\n",
    "    QUERIES,\n",
    "    model_tag=\"gemma-2-2b-it__listwise\",\n",
    "    build_prompt_fn=build_prompt_all_chat_gemma\n",
    ")"
   ]
  },
  {
   "cell_type": "markdown",
   "id": "9faf58ee",
   "metadata": {},
   "source": [
    "----"
   ]
  },
  {
   "cell_type": "markdown",
   "id": "3dc2dd09",
   "metadata": {},
   "source": [
    "### Step 7 - Experience with Qwen2.5-3B-Instruct from <img src=\"./sup_imgs/Qwen_Logo.svg.png\" width=\"175\" style=\"vertical-align: middle;\"/>"
   ]
  },
  {
   "cell_type": "markdown",
   "id": "561f3a4d",
   "metadata": {},
   "source": [
    "**Qwen2.5-3B-Instruct (Alibaba / Qwen Team)**\n",
    "- **Release Date**: September 5, 2024 (Qwen2.5 family release).\n",
    "- **Architecture**: Decoder-only (autoregressive).\n",
    "- **Parameters**: ~2.7–3B.\n",
    "- **Layers**: 28 transformer layers, 32 attention heads.\n",
    "- **Context Window**: 32k tokens (longest among your three).\n",
    "- **Tokenizer**: Custom BPE with multilingual coverage.\n",
    "- **Objective**: Next-token prediction, instruction-tuned with ChatML formatting.\n",
    "- **Training**: Massive multilingual web + code datasets, plus safety/alignment finetuning.\n",
    "- **Efficiency**: Larger context needs more VRAM, but still runnable on 12GB with FP16/INT8.\n",
    "- **License**: Apache 2.0.\n",
    "- *Notes*: Very strong for structured outputs (list-style, JSON); context length makes it robust for 104-title scoring."
   ]
  },
  {
   "cell_type": "code",
   "execution_count": 33,
   "id": "a40cf0f8",
   "metadata": {},
   "outputs": [
    {
     "name": "stdout",
     "output_type": "stream",
     "text": [
      "Measure memory usage before and after freeing it\n",
      "\n",
      "Before:\n",
      "allocated: 4995.6 MiB | reserved: 5710.0 MiB | total: 11,264 MiB\n",
      "\n",
      "After:\n",
      "allocated: 8.1 MiB | reserved: 20.0 MiB | total: 11,264 MiB\n"
     ]
    }
   ],
   "source": [
    "free_GPU_memory()"
   ]
  },
  {
   "cell_type": "code",
   "execution_count": 34,
   "id": "552fa1b0",
   "metadata": {},
   "outputs": [
    {
     "data": {
      "application/vnd.jupyter.widget-view+json": {
       "model_id": "aaada3f321aa4cfc98fe500253597a64",
       "version_major": 2,
       "version_minor": 0
      },
      "text/plain": [
       "Loading checkpoint shards:   0%|          | 0/2 [00:00<?, ?it/s]"
      ]
     },
     "metadata": {},
     "output_type": "display_data"
    }
   ],
   "source": [
    "MODEL_ID = \"Qwen/Qwen2.5-3B-Instruct\"\n",
    "\n",
    "tok = AutoTokenizer.from_pretrained(MODEL_ID, use_fast=True)\n",
    "mdl = AutoModelForCausalLM.from_pretrained(\n",
    "    MODEL_ID,\n",
    "    dtype=torch.float16 if torch.cuda.is_available() else None,\n",
    ").to(\"cuda\" if torch.cuda.is_available() else \"cpu\").eval()\n",
    "\n",
    "if tok.pad_token_id is None:\n",
    "    tok.pad_token = tok.eos_token\n"
   ]
  },
  {
   "cell_type": "code",
   "execution_count": 35,
   "id": "079e660b",
   "metadata": {},
   "outputs": [],
   "source": [
    "# Qwen-specific prompt builder (ChatML-friendly, explicit N, hard stop)\n",
    "def build_prompt_all_chat_qwen(query: str, titles: list[str]) -> str:\n",
    "    n = len(titles)\n",
    "    lines = \"\\n\".join(f\"{i}) {t}\" for i, t in enumerate(titles, start=1))\n",
    "\n",
    "    rubric = (\n",
    "        \"You are a recruiter scoring job-title similarity to the query.\\n\"\n",
    "        \"Score each candidate with an integer 0–100 using the FULL scale:\\n\"\n",
    "        \"  90–100 = exact/near-exact role match\\n\"\n",
    "        \"  70–89  = same discipline or very similar role\\n\"\n",
    "        \"  40–69  = related/adjacent\\n\"\n",
    "        \"  20–39  = mostly unrelated\\n\"\n",
    "        \"  0–19   = completely unrelated\\n\"\n",
    "        \"Rules:\\n\"\n",
    "        \" - Prefer same functional domain as the query.\\n\"\n",
    "        \" - If the query is technical (data/ML/backend), HR/People titles are mostly unrelated.\\n\"\n",
    "        \" - Titles with 'Student' or 'Aspiring' get lower scores unless they explicitly match the role.\\n\"\n",
    "        f\"Output EXACTLY {n} integers, one per line, in the SAME ORDER as the candidates.\\n\"\n",
    "        \"No words, no commas, no numbering, no punctuation.\\n\"\n",
    "        f\"After the {n}th line, output the token <END> and stop.\"\n",
    "    )\n",
    "\n",
    "    # very small one-shot to demonstrate format (3 lines + <END>)\n",
    "    # keep it generic so it transfers across queries\n",
    "    example = (\n",
    "        \"Example (3 candidates):\\n\"\n",
    "        \"Candidates:\\n\"\n",
    "        \"1) Senior Data Scientist\\n\"\n",
    "        \"2) HR Coordinator\\n\"\n",
    "        \"3) Retail Cashier\\n\"\n",
    "        \"Expected output:\\n\"\n",
    "        \"95\\n\"\n",
    "        \"20\\n\"\n",
    "        \"0\\n\"\n",
    "        \"<END>\"\n",
    "    )\n",
    "\n",
    "    user_text = (\n",
    "        f\"{rubric}\\n\\n\"\n",
    "        f'Query: \"{query}\"\\n\\n'\n",
    "        f\"Candidates:\\n{lines}\\n\\n\"\n",
    "        f\"{example}\"\n",
    "    )\n",
    "\n",
    "    # Qwen supports system; if anything fails, fall back to user-only.\n",
    "    msgs_sys = [\n",
    "        {\"role\": \"system\", \"content\": \"You are precise and output only the requested numbers.\"},\n",
    "        {\"role\": \"user\",   \"content\": user_text},\n",
    "    ]\n",
    "    msgs_user = [{\"role\": \"user\", \"content\": user_text}]  # fallback\n",
    "\n",
    "    try:\n",
    "        return tok.apply_chat_template(msgs_sys, tokenize=False, add_generation_prompt=True)\n",
    "    except Exception:\n",
    "        return tok.apply_chat_template(msgs_user, tokenize=False, add_generation_prompt=True)\n"
   ]
  },
  {
   "cell_type": "code",
   "execution_count": 36,
   "id": "23b2a4f9",
   "metadata": {},
   "outputs": [
    {
     "name": "stderr",
     "output_type": "stream",
     "text": [
      "The following generation flags are not valid and may be ignored: ['temperature', 'top_p', 'top_k']. Set `TRANSFORMERS_VERBOSITY=info` for more details.\n"
     ]
    },
    {
     "name": "stdout",
     "output_type": "stream",
     "text": [
      "Prompt tokens: 1774\n",
      "\n",
      "Query: data scientist\n",
      "    0.900  2019 C.T. Bauer College of Business Graduate (Magna Cum Laude) and aspiring Human Resources professional\n",
      "    0.900  People Development Coordinator at Ryan\n",
      "    0.900  Student at Humber College and Aspiring Human Resources Generalist\n",
      "    0.900  People Development Coordinator at Ryan\n",
      "    0.900  2019 C.T. Bauer College of Business Graduate (Magna Cum Laude) and aspiring Human Resources professional\n",
      "    0.900  Native English Teacher at EPIK (English Program in Korea)\n",
      "    0.900  Human Resources Coordinator at InterContinental Buckhead Atlanta\n",
      "    0.900  Seeking Human Resources HRIS and Generalist Positions\n",
      "    0.900  People Development Coordinator at Ryan\n",
      "    0.900  Student at Humber College and Aspiring Human Resources Generalist\n",
      "Prompt tokens: 1775\n",
      "\n",
      "Query: machine learning engineer\n",
      "    0.900  2019 C.T. Bauer College of Business Graduate (Magna Cum Laude) and aspiring Human Resources professional\n",
      "    0.400  People Development Coordinator at Ryan\n",
      "    0.000  Native English Teacher at EPIK (English Program in Korea)\n",
      "    0.000  Aspiring Human Resources Professional\n",
      "    0.000  Advisory Board Member at Celal Bayar University\n",
      "    0.000  Aspiring Human Resources Specialist\n",
      "    0.000  Student at Humber College and Aspiring Human Resources Generalist\n",
      "    0.000  HR Senior Specialist\n",
      "    0.000  Student at Humber College and Aspiring Human Resources Generalist\n",
      "    0.000  Seeking Human Resources HRIS and Generalist Positions\n",
      "Prompt tokens: 1774\n",
      "\n",
      "Query: backend developer\n",
      "    0.900  2019 C.T. Bauer College of Business Graduate (Magna Cum Laude) and aspiring Human Resources professional\n",
      "    0.900  People Development Coordinator at Ryan\n",
      "    0.900  Student at Humber College and Aspiring Human Resources Generalist\n",
      "    0.900  People Development Coordinator at Ryan\n",
      "    0.900  2019 C.T. Bauer College of Business Graduate (Magna Cum Laude) and aspiring Human Resources professional\n",
      "    0.900  Native English Teacher at EPIK (English Program in Korea)\n",
      "    0.900  Human Resources Coordinator at InterContinental Buckhead Atlanta\n",
      "    0.900  Seeking Human Resources HRIS and Generalist Positions\n",
      "    0.900  People Development Coordinator at Ryan\n",
      "    0.900  Student at Humber College and Aspiring Human Resources Generalist\n",
      "Prompt tokens: 1774\n",
      "\n",
      "Query: product manager\n",
      "    0.900  2019 C.T. Bauer College of Business Graduate (Magna Cum Laude) and aspiring Human Resources professional\n",
      "    0.900  People Development Coordinator at Ryan\n",
      "    0.900  Student at Humber College and Aspiring Human Resources Generalist\n",
      "    0.900  People Development Coordinator at Ryan\n",
      "    0.900  2019 C.T. Bauer College of Business Graduate (Magna Cum Laude) and aspiring Human Resources professional\n",
      "    0.900  Native English Teacher at EPIK (English Program in Korea)\n",
      "    0.900  Human Resources Coordinator at InterContinental Buckhead Atlanta\n",
      "    0.900  Seeking Human Resources HRIS and Generalist Positions\n",
      "    0.900  People Development Coordinator at Ryan\n",
      "    0.900  Student at Humber College and Aspiring Human Resources Generalist\n",
      "Saved: outputs\\llm\\llm_top10__qwen2.5-3b-instruct__listwise__all_queries.csv\n"
     ]
    }
   ],
   "source": [
    "top10_qwen, path_qwen = run_query_full(\n",
    "    QUERIES,\n",
    "    model_tag=\"qwen2.5-3b-instruct__listwise\",\n",
    "    build_prompt_fn=build_prompt_all_chat_qwen\n",
    ")"
   ]
  },
  {
   "cell_type": "markdown",
   "id": "ffcb4251",
   "metadata": {},
   "source": [
    "----"
   ]
  },
  {
   "cell_type": "markdown",
   "id": "c4a02d1b",
   "metadata": {},
   "source": [
    "### Step 8 - Experience with Kimi K2 from <img src=\"./sup_imgs/moonshot_AI.png\" width=\"175\" style=\"vertical-align: middle;\"/>"
   ]
  },
  {
   "cell_type": "markdown",
   "id": "519ce568",
   "metadata": {},
   "source": [
    "**Kimi K2 (K2-0711) / Moonshot AI**\n",
    "- **Release Date**: July 11, 2025.\n",
    "- **Architecture**: Mixture-of-Experts (MoE) Transformer with MLA (Multi-head Latent Attention)\n",
    "- **Parameters**: ~1T total, ~32B activated (MoE).\n",
    "- **Layers**: 61 total (including 1 dense layer); 64 attention heads; 384 experts; 8 selected experts per token; 1 shared expert.\n",
    "- **Context Window**: 256K tokens (longest among your three).\n",
    "- **Tokenizer**: Custom tokenizer; covab size 160K.\n",
    "- **Objective**: Language Modeling (causal/next-token) with multi-stage post-training focused on agentic capabilities (tool use, planning) using RL variants.\n",
    "- **Training**: Pre-trained on 15.T tokens with the MuonChip optimizer; post-training includes large-scale agentic data synthesis and RLVR + self-critique.\n",
    "- **Efficiency**: MoE with 32B active params; block-FP8 checkpointsl recommended engines include vLLM, SGLang, KTransformers, TensorRT-LLM\n",
    "- **License**: Modified MIT (code and weights)\n",
    "- *Notes*: OpenAI/Anthropic-compatible API available via platform.moonshot.ai; recommended temperature ~ 0.6 for Instruct variants; strong tool-calling support."
   ]
  },
  {
   "cell_type": "code",
   "execution_count": 37,
   "id": "fbab0f3f",
   "metadata": {},
   "outputs": [
    {
     "name": "stdout",
     "output_type": "stream",
     "text": [
      "Measure memory usage before and after freeing it\n",
      "\n",
      "Before:\n",
      "allocated: 6002.6 MiB | reserved: 6798.0 MiB | total: 11,264 MiB\n",
      "\n",
      "After:\n",
      "allocated: 8.1 MiB | reserved: 20.0 MiB | total: 11,264 MiB\n"
     ]
    }
   ],
   "source": [
    "free_GPU_memory()"
   ]
  },
  {
   "cell_type": "code",
   "execution_count": 38,
   "id": "1de0a2e8",
   "metadata": {},
   "outputs": [],
   "source": [
    "from openai import OpenAI\n",
    "from typing import List, Tuple\n",
    "from dotenv import load_dotenv"
   ]
  },
  {
   "cell_type": "markdown",
   "id": "b709f5cc",
   "metadata": {},
   "source": [
    "For this model we will use the **MOONSHOT API**. Therefor, we will read the API KEY from the .env file"
   ]
  },
  {
   "cell_type": "code",
   "execution_count": 39,
   "id": "2ca16f34",
   "metadata": {},
   "outputs": [],
   "source": [
    "load_dotenv()\n",
    "api_key = os.getenv(\"MOONSHOT_API_KEY\")\n",
    "base_url = os.getenv(\"MOONSHOT_API_BASE\", \"https://api.moonshot.ai/v1\")\n",
    "if not api_key:\n",
    "    raise RuntimeError(\"MOONSHOT_API_KEY is not set. Check your .env or environment.\")\n",
    "\n",
    "client = OpenAI(api_key=api_key, base_url=base_url)"
   ]
  },
  {
   "cell_type": "code",
   "execution_count": 40,
   "id": "90bfbbe7",
   "metadata": {},
   "outputs": [],
   "source": [
    "# Choose model (check Moonshot platform for latest stable/previews)\n",
    "KIMI_MODEL_ID = os.getenv(\"KIMI_MODEL_ID\", \"kimi-k2-0905-preview\")"
   ]
  },
  {
   "cell_type": "markdown",
   "id": "9f565ce4",
   "metadata": {},
   "source": [
    "##### Here we add a thin **Kimi (Moonshot)** adapter so the evaluation pipeline stays identical to previous local HF models: same rubric/prompt format, same strict parser (`parse_scores_n` → exactly **N** integers 0–100), same **ranking/CSV artifacts**, and **temperature=0** for determinism. \n",
    "\n",
    "##### The only change is the generation call (OpenAI-compatible Chat Completions API) wrapped by `score_all_titles_once_kimi` and `run_query_full_kimi`. This preserves apples-to-apples comparisons against Reference-A (ChatGPT-5) while letting swap models with just the prompt builder and the scorer entry point."
   ]
  },
  {
   "cell_type": "code",
   "execution_count": 41,
   "id": "79dd7d99",
   "metadata": {},
   "outputs": [],
   "source": [
    "# Kimi prompt builder (simple, parser-friendly, same rubric)\n",
    "def build_scoring_prompt_kimi(query: str, candidates: list[str]) -> str:\n",
    "    n = len(candidates)\n",
    "    header = (\n",
    "        \"You are a recruiter scoring job-title similarity to the query\\n\"\n",
    "        \"Rate each candidate with an integer 0–100 using the FULL scale:\\n\"\n",
    "        \"• 90–100 = exact/near-exact role match\\n\"\n",
    "        \"• 70–89  = same discipline or very similar role\\n\"\n",
    "        \"• 40–69  = related/adjacent\\n\"\n",
    "        \"• 10–39  = mostly unrelated\\n\"\n",
    "        \"• 0–9    = completely unrelated\\n\"\n",
    "        \"Use diverse scores; do NOT give 0 or 100 to many candidates.\\n\"\n",
    "        \"Ignore employer names, locations, programs.\\n\"\n",
    "        f\"Output EXACTLY {n} integers, one per line, in the SAME ORDER as the candidates.\\n\"\n",
    "        \"Integers ONLY (no decimals, no percentages, no words, no punctuation).\\n\\n\"\n",
    "        \"Example for 3 candidates:\\n82\\n41\\n7\\n\"\n",
    "        \"---\\n\"\n",
    "    )\n",
    "    return header + f'Query: \"{query}\"\\nCandidates:\\n' + \"\\n\".join(candidates)"
   ]
  },
  {
   "cell_type": "code",
   "execution_count": 42,
   "id": "3f17ac22",
   "metadata": {},
   "outputs": [],
   "source": [
    "# Kimi scorer (adapter with same return shape as your local scorer)\n",
    "def score_all_titles_once_kimi(query: str,\n",
    "                               titles: list[str],\n",
    "                               max_new_tokens: int = 1200,\n",
    "                               build_fn=build_scoring_prompt_kimi):\n",
    "    prompt = build_fn(query, titles)\n",
    "    resp = client.chat.completions.create(\n",
    "        model=KIMI_MODEL_ID,         \n",
    "        temperature=0.1,\n",
    "        top_p=1.0,\n",
    "        frequency_penalty=0.2,\n",
    "        max_tokens=max_new_tokens,\n",
    "        messages=[{\"role\": \"user\", \"content\": prompt}],\n",
    "    )\n",
    "    # debug code\n",
    "    # raw = resp.choices[0].message.content or \"\"\n",
    "    # lines = [ln for ln in raw.splitlines() if ln.strip()]\n",
    "    # print(\"parsed_ints:\", sum(ln.strip().isdigit() for ln in lines))\n",
    "    # print(\"unique_ints:\", len({int(ln.strip()) for ln in lines if ln.strip().isdigit()}))\n",
    "\n",
    "    out_text = resp.choices[0].message.content or \"\"\n",
    "    scores = parse_scores_n(out_text, len(titles))   # reuse the original parser\n",
    "    df = pd.DataFrame({\"idx\": range(len(titles)), \"score\": scores})\n",
    "    df[\"job_titles\"] = [titles[i] for i in df[\"idx\"]]\n",
    "    df = df.sort_values(\"score\", ascending=False).reset_index(drop=True)\n",
    "    return df, out_text"
   ]
  },
  {
   "cell_type": "code",
   "execution_count": 43,
   "id": "e142dfeb",
   "metadata": {},
   "outputs": [],
   "source": [
    "# Wrapper runner mirroring the run_query_full original function\n",
    "def run_query_full_kimi(queries: list[str],\n",
    "                        model_tag: str = \"kimi-k2-0905\",\n",
    "                        build_prompt_fn=build_scoring_prompt_kimi):\n",
    "    out_dir = os.path.join(OUT_DIR, \"llm\"); os.makedirs(out_dir, exist_ok=True)\n",
    "    top10_blocks = []\n",
    "    for query in queries:\n",
    "        df_rank, raw = score_all_titles_once_kimi(query, titles, build_fn=build_prompt_fn)\n",
    "        print_ranking(query, df_rank, top_k=10)   # <- reuse pretty-printer\n",
    "        df_q = df_rank.head(10)[[\"score\", \"job_titles\"]].copy()\n",
    "        df_q.insert(0, \"query\", query)\n",
    "        top10_blocks.append(df_q)\n",
    "    top10 = pd.concat(top10_blocks, ignore_index=True)\n",
    "    path = os.path.join(out_dir, f\"llm_top10__{model_tag}__all_queries.csv\")\n",
    "    top10.to_csv(path, index=False)\n",
    "    print(\"Saved:\", path)\n",
    "    return top10, path"
   ]
  },
  {
   "cell_type": "code",
   "execution_count": 44,
   "id": "a80ff3d9",
   "metadata": {},
   "outputs": [
    {
     "name": "stdout",
     "output_type": "stream",
     "text": [
      "\n",
      "Query: data scientist\n",
      "    0.080  People Development Coordinator at Ryan\n",
      "    0.070  Aspiring Human Resources Professional\n",
      "    0.060  2019 C.T. Bauer College of Business Graduate (Magna Cum Laude) and aspiring Human Resources professional\n",
      "    0.060  SVP, CHRO, Marketing & Communications, CSR Officer | ENGIE | Houston | The Woodlands | Energy | GPHR | SPHR\n",
      "    0.060  Seeking Human Resources HRIS and Generalist Positions\n",
      "    0.060  Native English Teacher at EPIK (English Program in Korea)\n",
      "    0.060  2019 C.T. Bauer College of Business Graduate (Magna Cum Laude) and aspiring Human Resources professional\n",
      "    0.050  Student at Humber College and Aspiring Human Resources Generalist\n",
      "    0.050  SVP, CHRO, Marketing & Communications, CSR Officer | ENGIE | Houston | The Woodlands | Energy | GPHR | SPHR\n",
      "    0.050  Student at Humber College and Aspiring Human Resources Generalist\n",
      "\n",
      "Query: machine learning engineer\n",
      "    0.090  Retired Army National Guard Recruiter, office manager,  seeking a position in Human Resources.\n",
      "    0.080  Director of Human Resources North America, Groupe Beneteau\n",
      "    0.070  Human Resources Specialist at Luxottica\n",
      "    0.060  Aspiring Human Resources Professional\n",
      "    0.060  People Development Coordinator at Ryan\n",
      "    0.060  SVP, CHRO, Marketing & Communications, CSR Officer | ENGIE | Houston | The Woodlands | Energy | GPHR | SPHR\n",
      "    0.060  Human Resources, Staffing and Recruiting Professional\n",
      "    0.060  Student at Chapman University\n",
      "    0.050  Aspiring Human Resources Management student seeking an internship\n",
      "    0.050  People Development Coordinator at Ryan\n",
      "\n",
      "Query: backend developer\n",
      "    0.080  Human Resources Specialist at Luxottica\n",
      "    0.070  SVP, CHRO, Marketing & Communications, CSR Officer | ENGIE | Houston | The Woodlands | Energy | GPHR | SPHR\n",
      "    0.070  Director of Human Resources North America, Groupe Beneteau\n",
      "    0.060  SVP, CHRO, Marketing & Communications, CSR Officer | ENGIE | Houston | The Woodlands | Energy | GPHR | SPHR\n",
      "    0.060  SVP, CHRO, Marketing & Communications, CSR Officer | ENGIE | Houston | The Woodlands | Energy | GPHR | SPHR\n",
      "    0.060  Human Resources, Staffing and Recruiting Professional\n",
      "    0.060  Student at Chapman University\n",
      "    0.060  Aspiring Human Resources Specialist\n",
      "    0.060  Human Resources Coordinator at InterContinental Buckhead Atlanta\n",
      "    0.050  HR Senior Specialist\n",
      "\n",
      "Query: product manager\n",
      "    0.320  Human Resources professional for the world leader in GIS software\n",
      "    0.310  HR Manager at Endemol Shine North America\n",
      "    0.300  Aspiring Human Resources Professional | An energetic and Team-Focused Leader\n",
      "    0.290  Senior Human Resources Business Partner at Heil Environmental\n",
      "    0.280  Junior MES Engineer| Information Systems\n",
      "    0.270  Liberal Arts Major. Aspiring Human Resources Analyst.\n",
      "    0.260  Human Resources Generalist at Schwan's\n",
      "    0.250  Human Resources|\n",
      "Conflict Management|\n",
      "Policies & Procedures|Talent Management|Benefits & Compensation\n",
      "    0.240  Aspiring Human Resources Professional | Passionate about helping to create an inclusive and engaging work environment\n",
      "    0.230  Nortia Staffing is seeking Human Resources, Payroll & Administrative Professionals!!  (408) 709-2621\n",
      "Saved: outputs\\llm\\llm_top10__kimi-k2-0905-preview__listwise__all_queries.csv\n"
     ]
    }
   ],
   "source": [
    "top10_kimi, path_kimi = run_query_full_kimi(\n",
    "    QUERIES,\n",
    "    model_tag=\"kimi-k2-0905-preview__listwise\",\n",
    "    build_prompt_fn=build_scoring_prompt_kimi\n",
    ")"
   ]
  },
  {
   "cell_type": "markdown",
   "id": "c8e220c7",
   "metadata": {},
   "source": [
    "---"
   ]
  },
  {
   "cell_type": "markdown",
   "id": "d45320d2",
   "metadata": {},
   "source": [
    "### Step 9 - Experience with <img src=\"./sup_imgs/LLaMA3.png\" alt=\"DeepSeek Logo\" width=\"175\" style=\"vertical-align: middle;\"/>"
   ]
  },
  {
   "cell_type": "markdown",
   "id": "2702356e",
   "metadata": {},
   "source": [
    "**LLaMA 3.2 3B Instruct / Meta AI**\n",
    "- **Release Date**: September 25, 2024.\n",
    "- **Architecture**: Autoregressive (decoder-only) Transformer with Grouped-Query Attention (GQA) and RoPE  .\n",
    "- **Parameters**: ~3.21B\n",
    "- **Layers**: 28 transformer layers, 24 attention heads, 8 KV heads, hidden size 3072 (per model configs) \n",
    "- **Context Window**: 128K tokens\n",
    "- **Tokenizer**: Llama-3 tokenizer (BPE) with 128,256 vocab size (vs. 32K in Llama 2).\n",
    "- **Objective**: Causal next-token LM; instruction models aligned for dialogue/agentic tasks.\n",
    "- **Training**: Pretrained on up to ~9T+ tokens; for 1B/3B, destillation from Llama 3.1 8B/70B was used; knowledge cutoff Dec 2023.\n",
    "- **Efficiency**: Designed for edge/on-device and small-GPU use; keeps the long 128 K context for large candidate lists.\n",
    "- **License**: Llama 3.2 Community License.\n",
    "- *Notes*: Use recent Transformers with the official Llama 3.x chat template for best adherence to constrained outputs."
   ]
  },
  {
   "cell_type": "code",
   "execution_count": 45,
   "id": "e1fa4d1f",
   "metadata": {},
   "outputs": [
    {
     "name": "stdout",
     "output_type": "stream",
     "text": [
      "Measure memory usage before and after freeing it\n",
      "\n",
      "Before:\n",
      "allocated: 8.1 MiB | reserved: 20.0 MiB | total: 11,264 MiB\n",
      "\n",
      "After:\n",
      "allocated: 8.1 MiB | reserved: 20.0 MiB | total: 11,264 MiB\n"
     ]
    }
   ],
   "source": [
    "free_GPU_memory()"
   ]
  },
  {
   "cell_type": "markdown",
   "id": "0d0efe74",
   "metadata": {},
   "source": [
    "#### **\\\\!/** Note on running LLaMA locally (Windows, VRAM, and speed)\n",
    "\n",
    "I first tried `Llama 3.1 8B Instruct` in FP16/BF16 on Windows. With my GPU (~11 GB VRAM), the model didn’t fit, so device_map=\"auto\" offloaded layers to CPU.\n",
    "Result: **generation became very slow** (one run sat for ~28 minutes) because most of the compute happened on the CPU instead of the GPU.\n",
    "\n",
    "I also considered 4-bit quantization to fit 8B, but on Windows the **`bitsandbytes`** wheel isn’t reliably available/officially supported. It’s easier on Linux, but I’m avoiding that detour for now.\n",
    "\n",
    "Decision: switch to **`LLaMA 3 (3.2) 3B Instruct`**, which fits comfortably in ~11 GB and runs on the GPU at normal speed (no offload)."
   ]
  },
  {
   "cell_type": "code",
   "execution_count": 46,
   "id": "246ee62b",
   "metadata": {},
   "outputs": [
    {
     "data": {
      "application/vnd.jupyter.widget-view+json": {
       "model_id": "4b300aba06bf462cb3a21e70b7997ca1",
       "version_major": 2,
       "version_minor": 0
      },
      "text/plain": [
       "Loading checkpoint shards:   0%|          | 0/2 [00:00<?, ?it/s]"
      ]
     },
     "metadata": {},
     "output_type": "display_data"
    }
   ],
   "source": [
    "# Model: 3B Instruct (works well on ~11 GB VRAM)\n",
    "MODEL_ID = \"meta-llama/Llama-3.2-3B-Instruct\"\n",
    "\n",
    "tok = AutoTokenizer.from_pretrained(MODEL_ID, token=os.getenv(\"HF_TOKEN\"), use_fast=True)\n",
    "\n",
    "mdl = AutoModelForCausalLM.from_pretrained(\n",
    "    MODEL_ID,\n",
    "    dtype=torch.bfloat16 if torch.cuda.is_available() else None,  # or torch.float16\n",
    "    device_map=\"auto\",\n",
    "    token=os.getenv(\"HF_TOKEN\"),\n",
    "    #attn_implementation=\"flash_attention_2\",  # let Transformers pick SDPA/eager automatically\n",
    ").eval()\n",
    "\n",
    "if tok.pad_token_id is None:\n",
    "    tok.pad_token = tok.eos_token"
   ]
  },
  {
   "cell_type": "code",
   "execution_count": 47,
   "id": "72271351",
   "metadata": {},
   "outputs": [],
   "source": [
    "# LLaMA prompt builder (same simple rubric + 3-line example)\n",
    "def build_prompt_all_chat_llama(query: str, titles: list[str]) -> str:\n",
    "    n = len(titles)\n",
    "    rubric = (\n",
    "        \"You are a recruiter scoring job-title similarity to the query.\\n\"\n",
    "        \"Rate each candidate with an integer 0–100 using the FULL scale:\\n\"\n",
    "        \"• 90–100 = exact/near-exact • 70–89 = very similar • 40–69 = related\\n\"\n",
    "        \"• 10–39 = mostly unrelated • 0–9 = unrelated\\n\"\n",
    "        f\"Output EXACTLY {n} integers, one per line, in the SAME ORDER as the candidates.\\n\"\n",
    "        \"Integers ONLY (no decimals, no words, no punctuation). Use the full range; avoid identical scores.\\n\\n\"\n",
    "        f'Query: \"{query}\"\\n'\n",
    "        \"Candidates:\\n\" + \"\\n\".join(titles)\n",
    "    )\n",
    "    messages = [\n",
    "        {\"role\": \"system\", \"content\": \"You are precise and output only the requested integers.\"},\n",
    "        {\"role\": \"user\", \"content\": rubric},\n",
    "    ]\n",
    "    try:\n",
    "        return tok.apply_chat_template(messages, tokenize=False, add_generation_prompt=True)\n",
    "    except Exception:\n",
    "        return rubric\n"
   ]
  },
  {
   "cell_type": "markdown",
   "id": "bdc42160",
   "metadata": {},
   "source": [
    "#### The rationale for introducing the new pairwise scoring functions:\n",
    "\n",
    "With small local models (e.g., LLaMA-3.2-3B on ~11 GB VRAM), the original *listwise prompt*,“scoring all 104 titles at once”, is brittle. The model must hold a long rubric plus 100+ candidates and emit exactly 104 integers in order. In practice this led to early stopping, example-echoing, flat/identical scores across queries, and heavy parser padding with zeros.\n",
    "\n",
    "**The new design scores one title at a time**: one compact prompt per (query, title) returning a single integer (0–100). This drastically lowers the cognitive and formatting burden, so the 3B model gives stable, query-dependent scores with greedy decoding. A simple one-int parser replaces the fragile N-line parser, and the final ranking comes from sorting the 104 individual scores.\n",
    "\n",
    "To **balance quality vs. cost**, we’ll use a hybrid approach:\n",
    "• For local small LMs → pairwise (robust, accurate on the available hardware).\n",
    "• For hosted/strong LMs (DeepSeek R1, ChatGPT-class, Kimi K2, etc.) → **listwise** (one shot per query is cheaper and fast, and these models follow the rubric well).\n"
   ]
  },
  {
   "cell_type": "code",
   "execution_count": 49,
   "id": "90d6b4f1",
   "metadata": {},
   "outputs": [],
   "source": [
    "# Single-candidate prompt (zero-shot, integers only)\n",
    "def build_prompt_single_llama(query: str, title: str) -> str:\n",
    "    n = 1\n",
    "    instr = (\n",
    "        \"You are a recruiter scoring job-title similarity to the query.\\n\"\n",
    "        \"Return EXACTLY one integer 0–100.\\n\"\n",
    "        \"Scale:\\n\"\n",
    "        \" • 90–100 = exact/near-exact\\n\"\n",
    "        \" • 70–89  = very similar\\n\"\n",
    "        \" • 40–69  = related/adjacent\\n\"\n",
    "        \" • 10–39  = mostly unrelated\\n\"\n",
    "        \" • 0–9    = unrelated\\n\"\n",
    "        \"Return the integer ONLY (no words, no punctuation, no decimals).\"\n",
    "    )\n",
    "    user = f'Query: \"{query}\"\\nCandidate:\\n{title}'\n",
    "    messages = [\n",
    "        {\"role\": \"system\", \"content\": instr},\n",
    "        {\"role\": \"user\",   \"content\": user},\n",
    "    ]\n",
    "    try:\n",
    "        return tok.apply_chat_template(messages, tokenize=False, add_generation_prompt=True)\n",
    "    except Exception:\n",
    "        return instr + \"\\n\\n\" + user\n",
    "\n",
    "# Parse exactly one integer\n",
    "def parse_one_int(text: str) -> int:\n",
    "    import re\n",
    "    m = re.findall(r\"-?\\d+\", text)\n",
    "    if not m: \n",
    "        return 0\n",
    "    x = int(m[-1])\n",
    "    return max(0, min(100, x))\n",
    "\n",
    "# Pairwise scorer that preserves your downstream format\n",
    "def score_titles_llama_pairwise(query: str, all_titles: list[str], max_new_tokens: int = 8):\n",
    "    rows = []\n",
    "    for i, title in enumerate(all_titles):\n",
    "        prompt = build_prompt_single_llama(query, title)\n",
    "        inputs = tok(prompt, return_tensors=\"pt\").to(mdl.device)\n",
    "        out_ids = mdl.generate(\n",
    "            **inputs,\n",
    "            do_sample=False,\n",
    "            num_beams=1,\n",
    "            max_new_tokens=max_new_tokens,\n",
    "            pad_token_id=tok.eos_token_id,\n",
    "            use_cache=True,\n",
    "        )\n",
    "        out_txt = tok.decode(out_ids[0][inputs[\"input_ids\"].shape[1]:], skip_special_tokens=True)\n",
    "        score = parse_one_int(out_txt)\n",
    "        rows.append({\"idx\": i, \"score\": score, \"job_titles\": title})\n",
    "\n",
    "    df = pd.DataFrame(rows).sort_values(\"score\", ascending=False).reset_index(drop=True)\n",
    "    return df\n",
    "\n",
    "# Runner that matches your existing CSV artifact shape\n",
    "def run_query_full_llama_pairwise(queries: list[str], model_tag: str = \"llama-3.2-3b-instruct-pairwise\"):\n",
    "    out_dir = os.path.join(OUT_DIR, \"llm\"); os.makedirs(out_dir, exist_ok=True)\n",
    "    top10_blocks = []\n",
    "    for q in queries:\n",
    "        df_rank = score_titles_llama_pairwise(q, titles)\n",
    "        print_ranking(q, df_rank, top_k=10)\n",
    "        df_q = df_rank.head(10)[[\"score\", \"job_titles\"]].copy()\n",
    "        df_q.insert(0, \"query\", q)\n",
    "        top10_blocks.append(df_q)\n",
    "    top10 = pd.concat(top10_blocks, ignore_index=True)\n",
    "    path = os.path.join(out_dir, f\"llm_top10__{model_tag}__all_queries.csv\")\n",
    "    top10.to_csv(path, index=False)\n",
    "    print(\"Saved:\", path)\n",
    "    return top10, path\n"
   ]
  },
  {
   "cell_type": "code",
   "execution_count": 50,
   "id": "b826a9d4",
   "metadata": {},
   "outputs": [
    {
     "name": "stderr",
     "output_type": "stream",
     "text": [
      "The following generation flags are not valid and may be ignored: ['temperature', 'top_p']. Set `TRANSFORMERS_VERBOSITY=info` for more details.\n"
     ]
    },
    {
     "name": "stdout",
     "output_type": "stream",
     "text": [
      "\n",
      "Query: data scientist\n",
      "    0.700  Business Intelligence and Analytics at Travelers\n",
      "    0.390  Junior MES Engineer| Information Systems\n",
      "    0.300  Information Systems Specialist and Programmer with a love for data and organization.\n",
      "    0.300  Human Resources|\n",
      "Conflict Management|\n",
      "Policies & Procedures|Talent Management|Benefits & Compensation\n",
      "    0.100  2019 C.T. Bauer College of Business Graduate (Magna Cum Laude) and aspiring Human Resources professional\n",
      "    0.100  Aspiring Human Resources Professional\n",
      "    0.100  People Development Coordinator at Ryan\n",
      "    0.100  Aspiring Human Resources Specialist\n",
      "    0.100  Student at Humber College and Aspiring Human Resources Generalist\n",
      "    0.100  People Development Coordinator at Ryan\n",
      "\n",
      "Query: machine learning engineer\n",
      "    0.400  Junior MES Engineer| Information Systems\n",
      "    0.390  Business Intelligence and Analytics at Travelers\n",
      "    0.300  Information Systems Specialist and Programmer with a love for data and organization.\n",
      "    0.100  Seeking Human Resources HRIS and Generalist Positions\n",
      "    0.100  Student at Chapman University\n",
      "    0.100  SVP, CHRO, Marketing & Communications, CSR Officer | ENGIE | Houston | The Woodlands | Energy | GPHR | SPHR\n",
      "    0.100  Student at Chapman University\n",
      "    0.100  Seeking Human Resources HRIS and Generalist Positions\n",
      "    0.100  Student at Chapman University\n",
      "    0.100  SVP, CHRO, Marketing & Communications, CSR Officer | ENGIE | Houston | The Woodlands | Energy | GPHR | SPHR\n",
      "\n",
      "Query: backend developer\n",
      "    0.400  Information Systems Specialist and Programmer with a love for data and organization.\n",
      "    0.390  Junior MES Engineer| Information Systems\n",
      "    0.390  Business Intelligence and Analytics at Travelers\n",
      "    0.300  Human Resources|\n",
      "Conflict Management|\n",
      "Policies & Procedures|Talent Management|Benefits & Compensation\n",
      "    0.100  People Development Coordinator at Ryan\n",
      "    0.100  HR Senior Specialist\n",
      "    0.100  Student at Humber College and Aspiring Human Resources Generalist\n",
      "    0.100  Aspiring Human Resources Specialist\n",
      "    0.100  People Development Coordinator at Ryan\n",
      "    0.100  Aspiring Human Resources Specialist\n",
      "\n",
      "Query: product manager\n",
      "    0.700  RRP Brand Portfolio Executive at JTI (Japan Tobacco International)\n",
      "    0.700  Business Intelligence and Analytics at Travelers\n",
      "    0.600  Human Resources|\n",
      "Conflict Management|\n",
      "Policies & Procedures|Talent Management|Benefits & Compensation\n",
      "    0.400  SVP, CHRO, Marketing & Communications, CSR Officer | ENGIE | Houston | The Woodlands | Energy | GPHR | SPHR\n",
      "    0.400  SVP, CHRO, Marketing & Communications, CSR Officer | ENGIE | Houston | The Woodlands | Energy | GPHR | SPHR\n",
      "    0.400  SVP, CHRO, Marketing & Communications, CSR Officer | ENGIE | Houston | The Woodlands | Energy | GPHR | SPHR\n",
      "    0.400  SVP, CHRO, Marketing & Communications, CSR Officer | ENGIE | Houston | The Woodlands | Energy | GPHR | SPHR\n",
      "    0.400  Student at Indiana University Kokomo - Business Management - \n",
      "Retail Manager at Delphi Hardware and Paint\n",
      "    0.390  Experienced Retail Manager and aspiring Human Resources Professional\n",
      "    0.390  Director Of Administration at Excellence Logging\n",
      "Saved: outputs\\llm\\llm_top10__llama-3.2-3b-instruct-pairwise__all_queries.csv\n"
     ]
    }
   ],
   "source": [
    "top10_llama, path_llama = run_query_full_llama_pairwise(\n",
    "    QUERIES,\n",
    "    model_tag=\"llama-3.2-3b-instruct-pairwise\",\n",
    ")\n"
   ]
  },
  {
   "cell_type": "markdown",
   "id": "f5cb04f6",
   "metadata": {},
   "source": [
    "---"
   ]
  },
  {
   "cell_type": "markdown",
   "id": "1ce9b76e",
   "metadata": {},
   "source": [
    "### Step 10 - Experience with DeepSeek Chat API <img src=\"./sup_imgs/DeepSeek_logo.svg.png\" alt=\"DeepSeek Logo\" width=\"208\" style=\"vertical-align: middle;\"/>\n"
   ]
  },
  {
   "cell_type": "markdown",
   "id": "796dab05",
   "metadata": {},
   "source": [
    "**DeepSeek V3.1 dual mode (reasoning and chat)  / DeepSeek**\n",
    "\n",
    "- For this project we used the `chat` mode.\n",
    "- **Release Date**: August, 2025.\n",
    "- **Architecture**: Autoregressive (decoder-only) Transformer, instruction-tuned for dialogue and tool-use.\n",
    "- **Parameters**: Not public\n",
    "- **Layers**: Not public        \n",
    "- **Context Window**: Defined by the active backend model and shown in the API docs/dashboard; plan for large but finite limits (tens of thousands of tokens, exact value depends on the current deployment).\n",
    "- **Tokenizer**: Proprietary tokenizer exposed through an OpenAI-compatible API interface (token counting/usage returned by the API).\n",
    "- **Objective**: Next-token prediction with instruction-tuning; optimized for helpful, harmless, and concise chat completions.\n",
    "- **Training**: Large-scale mixed corpora (web, code, multilingual) plus post-training alignment; exact datasets and recipe not publicly detailed.\n",
    "- **Efficiency**: Fully hosted, no local VRAM needed. Use streaming for long responses and keep temperature=0 for deterministic, parser-friendly outputs; control cost via prompt length/top-k prefiltering.\n",
    "- **License**: Access governed by DeepSeek API Terms of Use (hosted model; weights not distributed).\n",
    "- *Notes*: Works well with OpenAI-style Chat Completions clients. This model is the one powering the current DeepSeek Chat experience."
   ]
  },
  {
   "cell_type": "code",
   "execution_count": 51,
   "id": "ef0bb035",
   "metadata": {},
   "outputs": [
    {
     "name": "stdout",
     "output_type": "stream",
     "text": [
      "Measure memory usage before and after freeing it\n",
      "\n",
      "Before:\n",
      "allocated: 6136.0 MiB | reserved: 6182.0 MiB | total: 11,264 MiB\n",
      "\n",
      "After:\n",
      "allocated: 8.1 MiB | reserved: 20.0 MiB | total: 11,264 MiB\n"
     ]
    }
   ],
   "source": [
    "free_GPU_memory()"
   ]
  },
  {
   "cell_type": "code",
   "execution_count": 52,
   "id": "2299ec6e",
   "metadata": {},
   "outputs": [],
   "source": [
    "# Load env + build client\n",
    "load_dotenv()\n",
    "DS_API_KEY  = os.getenv(\"DEEPSEEK_API_KEY\")\n",
    "DS_API_BASE = os.getenv(\"DEEPSEEK_API_BASE\")\n",
    "\n",
    "if not DS_API_KEY:\n",
    "    raise RuntimeError(\"DEEPSEEK_API_KEY is not set. Add it to your .env\")"
   ]
  },
  {
   "cell_type": "code",
   "execution_count": 53,
   "id": "2db2066b",
   "metadata": {},
   "outputs": [],
   "source": [
    "client_ds = OpenAI(api_key=DS_API_KEY, base_url=DS_API_BASE)"
   ]
  },
  {
   "cell_type": "code",
   "execution_count": 54,
   "id": "e9a0c61a",
   "metadata": {},
   "outputs": [
    {
     "name": "stdout",
     "output_type": "stream",
     "text": [
      "['deepseek-chat', 'deepseek-reasoner']\n"
     ]
    }
   ],
   "source": [
    "models = [m.id for m in client_ds.models.list().data]\n",
    "print(models)"
   ]
  },
  {
   "cell_type": "code",
   "execution_count": 55,
   "id": "7c573b88",
   "metadata": {},
   "outputs": [],
   "source": [
    "import concurrent.futures as cf"
   ]
  },
  {
   "cell_type": "markdown",
   "id": "02a12563",
   "metadata": {},
   "source": [
    "`concurrent.futures` is a built-in Python 3 module for simple parallelism.\n",
    "It gives us an easy API (submit, map) to run many tasks concurrently and gather results as they finish."
   ]
  },
  {
   "cell_type": "markdown",
   "id": "d918e61a",
   "metadata": {},
   "source": [
    "The following section defines the three main functions we will use when working with OpenAI-compatible APIs, including DeepSeek, Grok, and ChatGPT."
   ]
  },
  {
   "cell_type": "code",
   "execution_count": 56,
   "id": "70db34b3",
   "metadata": {},
   "outputs": [],
   "source": [
    "try:\n",
    "    # OpenAI 1.x names\n",
    "    from openai import RateLimitError, APITimeoutError, APIConnectionError, APIStatusError\n",
    "except Exception:\n",
    "    RateLimitError = APITimeoutError = APIConnectionError = APIStatusError = Exception"
   ]
  },
  {
   "cell_type": "code",
   "execution_count": 57,
   "id": "86f69785",
   "metadata": {},
   "outputs": [],
   "source": [
    "def build_prompt_single_ds(query: str, title: str) -> list[dict]:\n",
    "    rubric = (\n",
    "        \"You are a recruiter scoring job-title similarity to the query.\\n\"\n",
    "        \"Return EXACTLY one integer 0–100 on a single line.\\n\"\n",
    "        \"Digits only. No words. No punctuation. No explanation.\\n\"\n",
    "        \"\\n\"\n",
    "        \"Scale:\\n\"\n",
    "        \"  90–100 = exact/near-exact role match\\n\"\n",
    "        \"  70–89  = very similar, same discipline\\n\"\n",
    "        \"  40–69  = related/adjacent\\n\"\n",
    "        \"  10–39  = mostly unrelated\\n\"\n",
    "        \"  0–9    = unrelated or not a real job title\\n\"\n",
    "        \"\\n\"\n",
    "        \"Guidelines:\\n\"\n",
    "        \"  • For technical queries (data scientist, machine learning engineer, backend developer),\\n\"\n",
    "        \"    HR/People/Recruiting/Education roles are 0–10.\\n\"\n",
    "        \"  • If it looks like a slogan/sentence/company/org (not a job title), score 0–10.\\n\"\n",
    "        \"  • If title includes Student/Intern/Aspiring, subtract ~20 (min 0) unless it directly matches the role.\\n\"\n",
    "        \"  • Use the full scale. Do NOT default to 5; use 0 when clearly unrelated.\\n\"\n",
    "        \"\\n\"\n",
    "        \"Examples:\\n\"\n",
    "        \"  Query: \\\"data scientist\\\"         | Candidate: Senior Data Scientist           → 95\\n\"\n",
    "        \"  Query: \\\"data scientist\\\"         | Candidate: Undergraduate Research Assistant → 55\\n\"\n",
    "        \"  Query: \\\"data scientist\\\"         | Candidate: HR Coordinator                  → 0\\n\"\n",
    "        \"  Query: \\\"backend developer\\\"      | Candidate: Junior Backend Engineer         → 85\\n\"\n",
    "        \"  Query: \\\"product manager\\\"        | Candidate: Technical Product Manager       → 90\\n\"\n",
    "        \"  Query: \\\"product manager\\\"        | Candidate: Retail Store Manager            → 35\\n\"\n",
    "    )\n",
    "    user = f'Query: \"{query}\"\\nCandidate: {title}\\nScore:'\n",
    "    return [\n",
    "        {\"role\": \"system\", \"content\": rubric},\n",
    "        {\"role\": \"user\", \"content\": user},\n",
    "    ]\n",
    "\t\n",
    "build_prompt_single_pairwise = build_prompt_single_ds\n",
    "_parse_one_int = parse_one_int\n",
    "\n",
    "# Generic pairwise scorer for ANY OpenAI-compatible client\n",
    "def score_titles_pairwise_openai_like(\n",
    "    query: str,\n",
    "    all_titles: list[str],\n",
    "    *,\n",
    "    client,\n",
    "    model: str,\n",
    "    build_prompt_fn=build_prompt_single_pairwise,\n",
    "    max_new_tokens: int = 4,      \n",
    "    temperature: float = 0.0,     # ↓ deterministic & cheaper sampling\n",
    "    top_p: float = 1.0,\n",
    "    concurrency: int = 2,         # keep low to respect TPM\n",
    "    debug_first_n: int = 0,\n",
    "    _pace_seconds: float = 0.05    # tiny stagger to avoid bursts\n",
    "):\n",
    "    def _call_with_retries(messages):\n",
    "        for attempt in range(6):\n",
    "            try:\n",
    "                return client.chat.completions.create(\n",
    "                    model=model,\n",
    "                    messages=messages,\n",
    "                    temperature=temperature,\n",
    "                    top_p=top_p,\n",
    "                    max_tokens=max_new_tokens,\n",
    "                )\n",
    "            except (RateLimitError, APITimeoutError, APIConnectionError, APIStatusError) as e:\n",
    "                # Parse \"try again in 489ms\" if present; else exponential backoff\n",
    "                m = re.search(r\"try again in\\s+(\\d+)ms\", str(e), re.I)\n",
    "                wait = (int(m.group(1))/1000.0) if m else (0.5 * (2 ** attempt))\n",
    "                time.sleep(min(wait + random.uniform(0, 0.2), 8.0))\n",
    "\n",
    "    def _score_one(i_title):\n",
    "        i, title = i_title\n",
    "        msgs = build_prompt_fn(query, title)\n",
    "        resp = _call_with_retries(msgs)\n",
    "        raw = (resp.choices[0].message.content or \"\").strip()\n",
    "        score = _parse_one_int(raw)\n",
    "        if i < debug_first_n:\n",
    "            print(f\"\\n[debug] idx={i}\\nPROMPT:\\n{msgs}\\nRAW:\\n{raw}\\nPARSED={score}\\n\")\n",
    "        # tiny pacing to smooth bursts across threads\n",
    "        if _pace_seconds:\n",
    "            time.sleep(_pace_seconds)\n",
    "        return {\"idx\": i, \"score\": score, \"job_titles\": title}\n",
    "\n",
    "    rows = []\n",
    "    items = list(enumerate(all_titles))\n",
    "    with cf.ThreadPoolExecutor(max_workers=min(concurrency, len(items))) as ex:\n",
    "        for row in ex.map(_score_one, items):\n",
    "            rows.append(row)\n",
    "\n",
    "    df = pd.DataFrame(rows).sort_values(\"score\", ascending=False).reset_index(drop=True)\n",
    "    return df\n",
    "\n",
    "\n",
    "# Generic runner that writes the same CSV artifact\n",
    "def run_query_full_pairwise_openai_like(\n",
    "    queries: list[str],\n",
    "    *,\n",
    "    client,\n",
    "    model: str,\n",
    "    model_tag: str,\n",
    "    top_k: int = 10,\n",
    "    concurrency: int = 6,\n",
    "    debug_first_n: int = 3\n",
    "):\n",
    "    out_dir = os.path.join(OUT_DIR, \"llm\"); os.makedirs(out_dir, exist_ok=True)\n",
    "    top10_blocks = []\n",
    "    for q in queries:\n",
    "        df_rank = score_titles_pairwise_openai_like(\n",
    "            q, titles,\n",
    "            client=client,\n",
    "            model=model,\n",
    "            build_prompt_fn=build_prompt_single_pairwise,\n",
    "            concurrency=concurrency,\n",
    "            debug_first_n=debug_first_n\n",
    "        )\n",
    "        print_ranking(q, df_rank, top_k=top_k)  # <- the existing pretty-printer\n",
    "        df_q = df_rank.head(top_k)[[\"score\", \"job_titles\"]].copy()\n",
    "        df_q.insert(0, \"query\", q)\n",
    "        top10_blocks.append(df_q)\n",
    "\n",
    "    top10 = pd.concat(top10_blocks, ignore_index=True)\n",
    "    path = os.path.join(out_dir, f\"llm_top10__{model_tag}__pairwise__all_queries.csv\")\n",
    "    top10.to_csv(path, index=False)\n",
    "    print(\"Saved:\", path)\n",
    "    return top10, path\n"
   ]
  },
  {
   "cell_type": "code",
   "execution_count": 58,
   "id": "71d8bf3f",
   "metadata": {},
   "outputs": [
    {
     "name": "stdout",
     "output_type": "stream",
     "text": [
      "\n",
      "[debug] idx=0\n",
      "PROMPT:\n",
      "[{'role': 'system', 'content': 'You are a recruiter scoring job-title similarity to the query.\\nReturn EXACTLY one integer 0–100 on a single line.\\nDigits only. No words. No punctuation. No explanation.\\n\\nScale:\\n  90–100 = exact/near-exact role match\\n  70–89  = very similar, same discipline\\n  40–69  = related/adjacent\\n  10–39  = mostly unrelated\\n  0–9    = unrelated or not a real job title\\n\\nGuidelines:\\n  • For technical queries (data scientist, machine learning engineer, backend developer),\\n    HR/People/Recruiting/Education roles are 0–10.\\n  • If it looks like a slogan/sentence/company/org (not a job title), score 0–10.\\n  • If title includes Student/Intern/Aspiring, subtract ~20 (min 0) unless it directly matches the role.\\n  • Use the full scale. Do NOT default to 5; use 0 when clearly unrelated.\\n\\nExamples:\\n  Query: \"data scientist\"         | Candidate: Senior Data Scientist           → 95\\n  Query: \"data scientist\"         | Candidate: Undergraduate Research Assistant → 55\\n  Query: \"data scientist\"         | Candidate: HR Coordinator                  → 0\\n  Query: \"backend developer\"      | Candidate: Junior Backend Engineer         → 85\\n  Query: \"product manager\"        | Candidate: Technical Product Manager       → 90\\n  Query: \"product manager\"        | Candidate: Retail Store Manager            → 35\\n'}, {'role': 'user', 'content': 'Query: \"data scientist\"\\nCandidate: 2019 C.T. Bauer College of Business Graduate (Magna Cum Laude) and aspiring Human Resources professional\\nScore:'}]\n",
      "RAW:\n",
      "0\n",
      "PARSED=0\n",
      "\n",
      "\n",
      "Query: data scientist\n",
      "    0.700  Business Intelligence and Analytics at Travelers\n",
      "    0.550  Undergraduate Research Assistant at Styczynski Lab\n",
      "    0.300  Junior MES Engineer| Information Systems\n",
      "    0.100  Student\n",
      "    0.000  2019 C.T. Bauer College of Business Graduate (Magna Cum Laude) and aspiring Human Resources professional\n",
      "    0.000  Native English Teacher at EPIK (English Program in Korea)\n",
      "    0.000  Aspiring Human Resources Professional\n",
      "    0.000  People Development Coordinator at Ryan\n",
      "    0.000  Student at Humber College and Aspiring Human Resources Generalist\n",
      "    0.000  Seeking Human Resources HRIS and Generalist Positions\n",
      "\n",
      "[debug] idx=0\n",
      "PROMPT:\n",
      "[{'role': 'system', 'content': 'You are a recruiter scoring job-title similarity to the query.\\nReturn EXACTLY one integer 0–100 on a single line.\\nDigits only. No words. No punctuation. No explanation.\\n\\nScale:\\n  90–100 = exact/near-exact role match\\n  70–89  = very similar, same discipline\\n  40–69  = related/adjacent\\n  10–39  = mostly unrelated\\n  0–9    = unrelated or not a real job title\\n\\nGuidelines:\\n  • For technical queries (data scientist, machine learning engineer, backend developer),\\n    HR/People/Recruiting/Education roles are 0–10.\\n  • If it looks like a slogan/sentence/company/org (not a job title), score 0–10.\\n  • If title includes Student/Intern/Aspiring, subtract ~20 (min 0) unless it directly matches the role.\\n  • Use the full scale. Do NOT default to 5; use 0 when clearly unrelated.\\n\\nExamples:\\n  Query: \"data scientist\"         | Candidate: Senior Data Scientist           → 95\\n  Query: \"data scientist\"         | Candidate: Undergraduate Research Assistant → 55\\n  Query: \"data scientist\"         | Candidate: HR Coordinator                  → 0\\n  Query: \"backend developer\"      | Candidate: Junior Backend Engineer         → 85\\n  Query: \"product manager\"        | Candidate: Technical Product Manager       → 90\\n  Query: \"product manager\"        | Candidate: Retail Store Manager            → 35\\n'}, {'role': 'user', 'content': 'Query: \"machine learning engineer\"\\nCandidate: 2019 C.T. Bauer College of Business Graduate (Magna Cum Laude) and aspiring Human Resources professional\\nScore:'}]\n",
      "RAW:\n",
      "0\n",
      "PARSED=0\n",
      "\n",
      "\n",
      "Query: machine learning engineer\n",
      "    0.550  Undergraduate Research Assistant at Styczynski Lab\n",
      "    0.400  Junior MES Engineer| Information Systems\n",
      "    0.400  Business Intelligence and Analytics at Travelers\n",
      "    0.100  Student\n",
      "    0.000  2019 C.T. Bauer College of Business Graduate (Magna Cum Laude) and aspiring Human Resources professional\n",
      "    0.000  Native English Teacher at EPIK (English Program in Korea)\n",
      "    0.000  Aspiring Human Resources Professional\n",
      "    0.000  People Development Coordinator at Ryan\n",
      "    0.000  Student at Humber College and Aspiring Human Resources Generalist\n",
      "    0.000  Seeking Human Resources HRIS and Generalist Positions\n",
      "\n",
      "[debug] idx=0\n",
      "PROMPT:\n",
      "[{'role': 'system', 'content': 'You are a recruiter scoring job-title similarity to the query.\\nReturn EXACTLY one integer 0–100 on a single line.\\nDigits only. No words. No punctuation. No explanation.\\n\\nScale:\\n  90–100 = exact/near-exact role match\\n  70–89  = very similar, same discipline\\n  40–69  = related/adjacent\\n  10–39  = mostly unrelated\\n  0–9    = unrelated or not a real job title\\n\\nGuidelines:\\n  • For technical queries (data scientist, machine learning engineer, backend developer),\\n    HR/People/Recruiting/Education roles are 0–10.\\n  • If it looks like a slogan/sentence/company/org (not a job title), score 0–10.\\n  • If title includes Student/Intern/Aspiring, subtract ~20 (min 0) unless it directly matches the role.\\n  • Use the full scale. Do NOT default to 5; use 0 when clearly unrelated.\\n\\nExamples:\\n  Query: \"data scientist\"         | Candidate: Senior Data Scientist           → 95\\n  Query: \"data scientist\"         | Candidate: Undergraduate Research Assistant → 55\\n  Query: \"data scientist\"         | Candidate: HR Coordinator                  → 0\\n  Query: \"backend developer\"      | Candidate: Junior Backend Engineer         → 85\\n  Query: \"product manager\"        | Candidate: Technical Product Manager       → 90\\n  Query: \"product manager\"        | Candidate: Retail Store Manager            → 35\\n'}, {'role': 'user', 'content': 'Query: \"backend developer\"\\nCandidate: 2019 C.T. Bauer College of Business Graduate (Magna Cum Laude) and aspiring Human Resources professional\\nScore:'}]\n",
      "RAW:\n",
      "0\n",
      "PARSED=0\n",
      "\n",
      "\n",
      "Query: backend developer\n",
      "    0.700  Information Systems Specialist and Programmer with a love for data and organization.\n",
      "    0.550  Undergraduate Research Assistant at Styczynski Lab\n",
      "    0.400  Junior MES Engineer| Information Systems\n",
      "    0.100  Student\n",
      "    0.100  Business Intelligence and Analytics at Travelers\n",
      "    0.000  2019 C.T. Bauer College of Business Graduate (Magna Cum Laude) and aspiring Human Resources professional\n",
      "    0.000  Aspiring Human Resources Professional\n",
      "    0.000  Native English Teacher at EPIK (English Program in Korea)\n",
      "    0.000  Student at Humber College and Aspiring Human Resources Generalist\n",
      "    0.000  Seeking Human Resources HRIS and Generalist Positions\n",
      "\n",
      "[debug] idx=0\n",
      "PROMPT:\n",
      "[{'role': 'system', 'content': 'You are a recruiter scoring job-title similarity to the query.\\nReturn EXACTLY one integer 0–100 on a single line.\\nDigits only. No words. No punctuation. No explanation.\\n\\nScale:\\n  90–100 = exact/near-exact role match\\n  70–89  = very similar, same discipline\\n  40–69  = related/adjacent\\n  10–39  = mostly unrelated\\n  0–9    = unrelated or not a real job title\\n\\nGuidelines:\\n  • For technical queries (data scientist, machine learning engineer, backend developer),\\n    HR/People/Recruiting/Education roles are 0–10.\\n  • If it looks like a slogan/sentence/company/org (not a job title), score 0–10.\\n  • If title includes Student/Intern/Aspiring, subtract ~20 (min 0) unless it directly matches the role.\\n  • Use the full scale. Do NOT default to 5; use 0 when clearly unrelated.\\n\\nExamples:\\n  Query: \"data scientist\"         | Candidate: Senior Data Scientist           → 95\\n  Query: \"data scientist\"         | Candidate: Undergraduate Research Assistant → 55\\n  Query: \"data scientist\"         | Candidate: HR Coordinator                  → 0\\n  Query: \"backend developer\"      | Candidate: Junior Backend Engineer         → 85\\n  Query: \"product manager\"        | Candidate: Technical Product Manager       → 90\\n  Query: \"product manager\"        | Candidate: Retail Store Manager            → 35\\n'}, {'role': 'user', 'content': 'Query: \"product manager\"\\nCandidate: 2019 C.T. Bauer College of Business Graduate (Magna Cum Laude) and aspiring Human Resources professional\\nScore:'}]\n",
      "RAW:\n",
      "0\n",
      "PARSED=0\n",
      "\n",
      "\n",
      "Query: product manager\n",
      "    0.400  RRP Brand Portfolio Executive at JTI (Japan Tobacco International)\n",
      "    0.400  Information Systems Specialist and Programmer with a love for data and organization.\n",
      "    0.400  Business Intelligence and Analytics at Travelers\n",
      "    0.400  Undergraduate Research Assistant at Styczynski Lab\n",
      "    0.350  Student at Indiana University Kokomo - Business Management - \n",
      "Retail Manager at Delphi Hardware and Paint\n",
      "    0.200  Junior MES Engineer| Information Systems\n",
      "    0.100  Aspiring Human Resources Specialist\n",
      "    0.100  Advisory Board Member at Celal Bayar University\n",
      "    0.100  Aspiring Human Resources Specialist\n",
      "    0.100  Advisory Board Member at Celal Bayar University\n",
      "Saved: outputs\\llm\\llm_top10__deepseek-chat__pairwise__pairwise__all_queries.csv\n"
     ]
    }
   ],
   "source": [
    "top10_grok_pairwise, path_grok_pairwise = run_query_full_pairwise_openai_like(\n",
    "    QUERIES,\n",
    "    client=client_ds,               \n",
    "    model=\"deepseek-chat\",              \n",
    "    model_tag=\"deepseek-chat__pairwise\",\n",
    "    concurrency=6,\n",
    "    debug_first_n=1\n",
    ")"
   ]
  },
  {
   "cell_type": "markdown",
   "id": "074684b9",
   "metadata": {},
   "source": [
    "---"
   ]
  },
  {
   "cell_type": "markdown",
   "id": "0763c628",
   "metadata": {},
   "source": [
    "### Step 11 - Experience with GROK from xAI <img src=\"./sup_imgs/Grok-feb-2025-logo.svg.png\" width=\"208\" style=\"vertical-align: middle;\"/>"
   ]
  },
  {
   "cell_type": "markdown",
   "id": "44fc815b",
   "metadata": {},
   "source": [
    "**Grok 4 Fast**\n",
    "\n",
    "- Mode used in this project: `reasoning`\n",
    "- **Release Date**: September, 2025.\n",
    "- **Architecture**: Unified autoregressive transformer, capable of both fast-response (non-reasoning) and deeper reasoning within a single model (steered by prompts)\n",
    "- **Parameters**: Not publicly disclosed\n",
    "- **Layers**: Not publicly disclosed        \n",
    "- **Context Window**: ~ 2,000,000 tokens\n",
    "- **Tokenizer**: Proprietary tokenizer exposed via xAI API, with token usage / counting returned by the API\n",
    "- **Objective**: Next-token prediction with prompt steering for depth, optimized for efficiency and cost-effectiveness while retaining strong reasoning capability.\n",
    "- **Training**: Large-scale corpora plus training for tool use (search, web browsing) and internal reasoning efficiency (RL-based methods)\n",
    "- **Efficiency**: Hosted model (no local VRAM needed). Emphesizes lower internal \"thinking token\" usage (~40% fewer thinking tokens vs Grok 4) to reduce cost-per-task. Supports streaming, prompt-level control over depth of reasoning.\n",
    "- **License**: Access governed by xAI / Grok API terms (hosted model; weights not publicly distributed)\n",
    "- *Notes*: \n",
    "  - Two API variants: `grok-4-fast-reasoning` and `grok-4-fast-non-reasoning`\n",
    "  - Designed for cost-efficient, high-throughput reasoning and search tasks. This model can dynamically adapt between fast answers and deeper chains of thought depending on prompt demands."
   ]
  },
  {
   "cell_type": "code",
   "execution_count": 59,
   "id": "46120d53",
   "metadata": {},
   "outputs": [],
   "source": [
    "# Load env + build client\n",
    "load_dotenv()\n",
    "XAI_API_KEY  = os.getenv(\"XAI_API_KEY\")\n",
    "XAI_API_BASE = os.getenv(\"XAI_API_BASE\")\n",
    "\n",
    "if not DS_API_KEY:\n",
    "    raise RuntimeError(\"XAI_API_KEY is not set. Add it to your .env\")"
   ]
  },
  {
   "cell_type": "code",
   "execution_count": 60,
   "id": "0324adba",
   "metadata": {},
   "outputs": [
    {
     "name": "stdout",
     "output_type": "stream",
     "text": [
      "4\n"
     ]
    }
   ],
   "source": [
    "client_grok = OpenAI(\n",
    "    api_key=XAI_API_KEY,\n",
    "    base_url=XAI_API_BASE\n",
    ")\n",
    "\n",
    "resp = client_grok.chat.completions.create(\n",
    "    model=\"grok-4-fast-reasoning\",\n",
    "    messages=[{\"role\": \"user\", \"content\": \"Return the number 4.\"}],\n",
    "    max_tokens=8,\n",
    "    temperature=0,\n",
    ")\n",
    "print(resp.choices[0].message.content)"
   ]
  },
  {
   "cell_type": "code",
   "execution_count": 61,
   "id": "4d8f4b41",
   "metadata": {},
   "outputs": [],
   "source": [
    "GROK_MODEL_ID = os.getenv(\"GROK_MODEL_ID\", \"grok-4-fast-reasoning\")  # or \"grok-4o\", \"grok-4\"\n"
   ]
  },
  {
   "cell_type": "code",
   "execution_count": 62,
   "id": "f0640806",
   "metadata": {},
   "outputs": [
    {
     "name": "stdout",
     "output_type": "stream",
     "text": [
      "\n",
      "Query: data scientist\n",
      "    0.750  Business Intelligence and Analytics at Travelers\n",
      "    0.600  Information Systems Specialist and Programmer with a love for data and organization.\n",
      "    0.550  Undergraduate Research Assistant at Styczynski Lab\n",
      "    0.450  Junior MES Engineer| Information Systems\n",
      "    0.000  2019 C.T. Bauer College of Business Graduate (Magna Cum Laude) and aspiring Human Resources professional\n",
      "    0.000  Native English Teacher at EPIK (English Program in Korea)\n",
      "    0.000  Aspiring Human Resources Professional\n",
      "    0.000  People Development Coordinator at Ryan\n",
      "    0.000  Student at Humber College and Aspiring Human Resources Generalist\n",
      "    0.000  Seeking Human Resources HRIS and Generalist Positions\n",
      "\n",
      "Query: machine learning engineer\n",
      "    0.550  Undergraduate Research Assistant at Styczynski Lab\n",
      "    0.500  Business Intelligence and Analytics at Travelers\n",
      "    0.450  Information Systems Specialist and Programmer with a love for data and organization.\n",
      "    0.400  Junior MES Engineer| Information Systems\n",
      "    0.000  2019 C.T. Bauer College of Business Graduate (Magna Cum Laude) and aspiring Human Resources professional\n",
      "    0.000  Native English Teacher at EPIK (English Program in Korea)\n",
      "    0.000  Aspiring Human Resources Professional\n",
      "    0.000  People Development Coordinator at Ryan\n",
      "    0.000  Student at Humber College and Aspiring Human Resources Generalist\n",
      "    0.000  Seeking Human Resources HRIS and Generalist Positions\n",
      "\n",
      "Query: backend developer\n",
      "    0.700  Information Systems Specialist and Programmer with a love for data and organization.\n",
      "    0.550  Junior MES Engineer| Information Systems\n",
      "    0.550  Undergraduate Research Assistant at Styczynski Lab\n",
      "    0.450  Business Intelligence and Analytics at Travelers\n",
      "    0.050  Student at Indiana University Kokomo - Business Management - \n",
      "Retail Manager at Delphi Hardware and Paint\n",
      "    0.000  2019 C.T. Bauer College of Business Graduate (Magna Cum Laude) and aspiring Human Resources professional\n",
      "    0.000  Aspiring Human Resources Professional\n",
      "    0.000  Native English Teacher at EPIK (English Program in Korea)\n",
      "    0.000  Student at Humber College and Aspiring Human Resources Generalist\n",
      "    0.000  Seeking Human Resources HRIS and Generalist Positions\n",
      "\n",
      "Query: product manager\n",
      "    0.800  RRP Brand Portfolio Executive at JTI (Japan Tobacco International)\n",
      "    0.450  Business Intelligence and Analytics at Travelers\n",
      "    0.300  Director Of Administration at Excellence Logging\n",
      "    0.250  Experienced Retail Manager and aspiring Human Resources Professional\n",
      "    0.250  People Development Coordinator at Ryan\n",
      "    0.250  Undergraduate Research Assistant at Styczynski Lab\n",
      "    0.250  Junior MES Engineer| Information Systems\n",
      "    0.200  Admissions Representative at Community medical center long beach\n",
      "    0.200  Senior Human Resources Business Partner at Heil Environmental\n",
      "    0.150  People Development Coordinator at Ryan\n",
      "Saved: outputs\\llm\\llm_top10__grok-4-fast__pairwise__all_queries.csv\n"
     ]
    }
   ],
   "source": [
    "top10_grok_pairwise, path_grok_pairwise = run_query_full_pairwise_openai_like(\n",
    "    QUERIES,\n",
    "    client=client_grok,               \n",
    "    model=GROK_MODEL_ID,              \n",
    "    model_tag=\"grok-4-fast\",\n",
    "    concurrency=6,\n",
    "    debug_first_n=0\n",
    ")"
   ]
  },
  {
   "cell_type": "markdown",
   "id": "e1975c03",
   "metadata": {},
   "source": [
    "---"
   ]
  },
  {
   "cell_type": "markdown",
   "id": "bf529ec3",
   "metadata": {},
   "source": [
    "### Step 12 - Experience with ChatGPT / OpenAI <img src=\"./sup_imgs/ChatGPT-Logo.svg.webp\" width=\"75\" style=\"vertical-align: middle;\"/>"
   ]
  },
  {
   "cell_type": "markdown",
   "id": "a532d4fb",
   "metadata": {},
   "source": [
    "**ChatGPT-4o (Omni) / OpenAI**\n",
    "\n",
    "- **Release Date**: May, 2024.\n",
    "- **Architecture**: Multimodal autoregressive (decoder-only) Transformer, instruction-tuned for text, vision and audio; optimized for dialogue and tool use.\n",
    "- **Parameters**: Not disclosed\n",
    "- **Layers**: Not disclosed\n",
    "- **Context Window**: Up to 128k tokens (depends on deployement tier; see API docs/dashboard)\n",
    "- **Tokenizer**: Proprietary OpenAI tokenizer (token usage/counts returned by the API)\n",
    "- **Objective**: Next-token prediction with instruction tuning; optimized for safe, useful, and concise multimodal outputs.\n",
    "- **Training**: Large-scale, multimodal corpora (text, code, images, audio) combined with alignment/post-training; exact datasets and recipe not publicly detailed.\n",
    "- **Efficiency**: Fully hosted. No local VRAM required. Supports real-time streaming across medalities. Deterministic behavior can be encouraged with\n",
    "`temperature=0`. Costs can be managed via context length and batching.\n",
    "- **License**: Access governed by OpenAI API Terms of Use (hosted model; weights not publicly available)\n",
    "- *Notes*: Serves as the default GPT-4 tier in the ChatGPT product. Designed for seamless use with OpenAI-style Chat Completions and multimodal endpoints."
   ]
  },
  {
   "cell_type": "code",
   "execution_count": 63,
   "id": "8a24a3d1",
   "metadata": {},
   "outputs": [],
   "source": [
    "# Load env + build client\n",
    "load_dotenv()\n",
    "OPENAI_API_KEY  = os.getenv(\"OPENAI_API_KEY\")\n",
    "OPENAI_MODEL_ID = \"gpt-4o\"  # set \"gpt-5\" here if you have access"
   ]
  },
  {
   "cell_type": "code",
   "execution_count": 64,
   "id": "879d95e5",
   "metadata": {},
   "outputs": [
    {
     "name": "stdout",
     "output_type": "stream",
     "text": [
      "7\n"
     ]
    }
   ],
   "source": [
    "client_oa = OpenAI(api_key=os.getenv(\"OPENAI_API_KEY\"), max_retries=3)  # no base_url needed for OpenAI\n",
    "\n",
    "resp = client_oa.chat.completions.create(\n",
    "    model=OPENAI_MODEL_ID,\n",
    "    messages=[\n",
    "        {\"role\": \"system\", \"content\": \"Reply with digits only.\"},\n",
    "        {\"role\": \"user\", \"content\": \"Return the number 7.\"}\n",
    "    ],\n",
    "    temperature=0.0,\n",
    "    max_tokens=5,\n",
    ")\n",
    "print(resp.choices[0].message.content)  # -> 7"
   ]
  },
  {
   "cell_type": "code",
   "execution_count": 65,
   "id": "06c66ba4",
   "metadata": {},
   "outputs": [],
   "source": [
    "import time, random, re"
   ]
  },
  {
   "cell_type": "code",
   "execution_count": 66,
   "id": "95b2229b",
   "metadata": {},
   "outputs": [
    {
     "name": "stdout",
     "output_type": "stream",
     "text": [
      "\n",
      "Query: data scientist\n",
      "    0.650  Business Intelligence and Analytics at Travelers\n",
      "    0.550  Undergraduate Research Assistant at Styczynski Lab\n",
      "    0.400  Junior MES Engineer| Information Systems\n",
      "    0.400  Information Systems Specialist and Programmer with a love for data and organization.\n",
      "    0.100  Advisory Board Member at Celal Bayar University\n",
      "    0.100  Advisory Board Member at Celal Bayar University\n",
      "    0.100  Advisory Board Member at Celal Bayar University\n",
      "    0.100  Student at Chapman University\n",
      "    0.100  2019 C.T. Bauer College of Business Graduate (Magna Cum Laude) and aspiring Human Resources professional\n",
      "    0.100  Student at Indiana University Kokomo - Business Management - \n",
      "Retail Manager at Delphi Hardware and Paint\n",
      "\n",
      "Query: machine learning engineer\n",
      "    0.550  Undergraduate Research Assistant at Styczynski Lab\n",
      "    0.400  Business Intelligence and Analytics at Travelers\n",
      "    0.400  Information Systems Specialist and Programmer with a love for data and organization.\n",
      "    0.400  Junior MES Engineer| Information Systems\n",
      "    0.100  Advisory Board Member at Celal Bayar University\n",
      "    0.100  Student at Chapman University\n",
      "    0.100  Student at Chapman University\n",
      "    0.100  Student at Chapman University\n",
      "    0.100  Student at Chapman University\n",
      "    0.100  Experienced Retail Manager and aspiring Human Resources Professional\n",
      "\n",
      "Query: backend developer\n",
      "    0.400  Junior MES Engineer| Information Systems\n",
      "    0.400  Information Systems Specialist and Programmer with a love for data and organization.\n",
      "    0.400  Business Intelligence and Analytics at Travelers\n",
      "    0.400  Undergraduate Research Assistant at Styczynski Lab\n",
      "    0.100  Student at Chapman University\n",
      "    0.100  Experienced Retail Manager and aspiring Human Resources Professional\n",
      "    0.100  Student at Chapman University\n",
      "    0.100  Student at Chapman University\n",
      "    0.100  Student at Chapman University\n",
      "    0.100  Student\n",
      "\n",
      "Query: product manager\n",
      "    0.600  Business Intelligence and Analytics at Travelers\n",
      "    0.400  Junior MES Engineer| Information Systems\n",
      "    0.400  Undergraduate Research Assistant at Styczynski Lab\n",
      "    0.350  Student at Indiana University Kokomo - Business Management - \n",
      "Retail Manager at Delphi Hardware and Paint\n",
      "    0.300  RRP Brand Portfolio Executive at JTI (Japan Tobacco International)\n",
      "    0.300  Information Systems Specialist and Programmer with a love for data and organization.\n",
      "    0.200  Experienced Retail Manager and aspiring Human Resources Professional\n",
      "    0.100  2019 C.T. Bauer College of Business Graduate (Magna Cum Laude) and aspiring Human Resources professional\n",
      "    0.100  People Development Coordinator at Ryan\n",
      "    0.100  Aspiring Human Resources Professional\n",
      "Saved: outputs\\llm\\llm_top10__gpt-4o__pairwise__pairwise__all_queries.csv\n"
     ]
    }
   ],
   "source": [
    "top10_grok_pairwise, path_grok_pairwise = run_query_full_pairwise_openai_like(\n",
    "    QUERIES,\n",
    "    client=client_oa,\n",
    "    model=OPENAI_MODEL_ID,\n",
    "    model_tag=\"gpt-4o__pairwise\",\n",
    "    concurrency=2,\n",
    "    debug_first_n=0\n",
    ")"
   ]
  },
  {
   "cell_type": "markdown",
   "id": "8353b291",
   "metadata": {},
   "source": [
    "---"
   ]
  },
  {
   "cell_type": "markdown",
   "id": "3c99fe44",
   "metadata": {},
   "source": [
    "### Cross-Model Evaluation using nDCG@10 Similarity"
   ]
  },
  {
   "cell_type": "markdown",
   "id": "e0b36847",
   "metadata": {},
   "source": [
    "To better understand how different LLMs (and SBERT as baseline) behave when ranking job titles against a given query, we need a way to compare their top-10 predictions. Simply checking overlap is not enough, some models may agree on the most relevant items but order them differently, while others may surface completely different candidates.\n",
    "\n",
    "To capture both relevance agreement and ranking order similarity, we use the **Normalized Discounted Cumulative Gain (nDCG)** metric. By computing cross-family nDCG@10 similarity matrices, we can directly measure how consistent each pair of models is when producing their top-10 lists across different queries."
   ]
  },
  {
   "cell_type": "markdown",
   "id": "f8714a97",
   "metadata": {},
   "source": [
    "#### Mathematical Intuition about nDCG@10 (Reference-Rank Gains)\n",
    "\n",
    "We use **normalized Discounted Cumulative Gain** (nDCG) with **reference-rank gains** to compare top-$k$ lists.  \n",
    "This version rewards both **membership** (same items) and **order agreement** (correct relative positions), while giving **larger weight to higher ranks**.\n",
    "\n",
    "For a candidate list $C=(c_1,\\dots,c_k)$ evaluated against a reference list $R=(r_1,\\dots,r_k)$:\n",
    "\n",
    "- Each item $x \\in R$ is assigned a **gain** based on its rank in the reference:  \n",
    "\n",
    "$$\n",
    "g(x) = \\frac{1}{\\log_2(r_R(x)+1)}\n",
    "$$\n",
    "\n",
    "where $r_R(x)$ is the position of $x$ in the reference.\n",
    "\n",
    "- The **discounted cumulative gain (DCG)** up to position $k$ is:\n",
    "\n",
    "$$\n",
    "\\text{DCG@k} = \\sum_{i=1}^{k} \\frac{g(c_i)}{\\log_2(i+1)}\n",
    "$$\n",
    "\n",
    "- The **ideal DCG (IDCG)** is the maximum possible DCG, obtained when the candidate perfectly matches the reference order:\n",
    "\n",
    "$$\n",
    "\\text{IDCG@k} = \\max_{\\pi} \\text{DCG@k}(\\pi)\n",
    "$$\n",
    "\n",
    "- The **normalized DCG** is then:\n",
    "\n",
    "$$\n",
    "\\text{nDCG@k} = \\frac{\\text{DCG@k}}{\\text{IDCG@k}}\n",
    "$$\n",
    "\n",
    "---\n",
    "\n",
    "### Numeric Example (4 elements)\n",
    "\n",
    "Reference:  \n",
    "$$\n",
    "R = [A, B, C, D]\n",
    "$$\n",
    "\n",
    "Candidate 1:  \n",
    "$$\n",
    "C_1 = [A, C, B, D]\n",
    "$$\n",
    "\n",
    "Candidate 2:  \n",
    "$$\n",
    "C_2 = [D, C, B, A]\n",
    "$$\n",
    "\n",
    "**Step 1. Gains from the reference**  \n",
    "- $g(A)=1/\\log_2(2)=1.000$  \n",
    "- $g(B)=1/\\log_2(3)=0.631$  \n",
    "- $g(C)=1/\\log_2(4)=0.500$  \n",
    "- $g(D)=1/\\log_2(5)=0.431$  \n",
    "\n",
    "**Step 2. IDCG@4** (ideal ordering = reference)  \n",
    "$$\n",
    "\\text{IDCG@4} = 1.000/1 + 0.631/1.585 + 0.500/2 + 0.431/2.322 \\approx 1.669\n",
    "$$\n",
    "\n",
    "**Step 3. DCG for C₁**  \n",
    "$$\n",
    "\\text{DCG@4}(C_1) = \n",
    "1.000/1 +\n",
    "0.500/1.585 +\n",
    "0.631/2 +\n",
    "0.431/2.322\n",
    "\\approx 1.280\n",
    "$$\n",
    "\n",
    "So:  \n",
    "$$\n",
    "\\text{nDCG@4}(C_1) = 1.280 / 1.669 \\approx 0.77\n",
    "$$\n",
    "\n",
    "**Step 4. DCG for C₂**  \n",
    "$$\n",
    "\\text{DCG@4}(C_2) = \n",
    "0.431/1 +\n",
    "0.500/1.585 +\n",
    "0.631/2 +\n",
    "1.000/2.322\n",
    "\\approx 1.109\n",
    "$$\n",
    "\n",
    "So:  \n",
    "$$\n",
    "\\text{nDCG@4}(C_2) = 1.109 / 1.669 \\approx 0.66\n",
    "$$\n",
    "\n",
    "---\n",
    "\n",
    "### Interpretation\n",
    "- $C_1$ has $\\text{nDCG@4} \\approx 0.77$ → mostly correct but with a swap.  \n",
    "- $C_2$ has $\\text{nDCG@4} \\approx 0.66$ → all items present but strongly reversed order, so it scores lower.  \n",
    "\n",
    "👉 Using **reference-rank gains**, nDCG fairly penalizes inversions and rewards correct ordering, solving the problem of binary relevance.  \n"
   ]
  },
  {
   "cell_type": "code",
   "execution_count": 79,
   "id": "5503d655",
   "metadata": {},
   "outputs": [],
   "source": [
    "import os, re, math, pathlib\n",
    "from typing import Dict, List\n",
    "import matplotlib.pyplot as plt\n",
    "#from matplotlib.transforms import Bbox"
   ]
  },
  {
   "cell_type": "code",
   "execution_count": 100,
   "id": "3247768d",
   "metadata": {},
   "outputs": [],
   "source": [
    "# Paths\n",
    "OUT_DIR = \"outputs\"\n",
    "LLM_DIR = os.path.join(OUT_DIR, \"llm\")\n",
    "SBERT_PATH = os.path.join(OUT_DIR, \"sbert_ranking_output.csv\")\n",
    "\n",
    "# Settings\n",
    "# number of top ranking positions\n",
    "K = 10 \n",
    "# Order by: the embedding family, local run models, api accessed models\n",
    "DISPLAY_ORDER = ['SBERT', 'phi3-mini', 'gemma-2', 'qwen2.5', 'llama-3.2', 'kimi-k2', 'deepseek-chat', 'grok-4', 'chatgpt-4o']\n",
    "FIGSIZE = (16, 9)\n",
    "\n",
    "# Map filename tags -> display names used above\n",
    "TAG_TO_DISPLAY = {\n",
    "    \"phi3_mini_4k__listwise\": \"phi3-mini\",\n",
    "    \"gemma-2-2b-it__listwise\": \"gemma-2\",\n",
    "    \"qwen2.5-3b-instruct__listwise\": \"qwen2.5\",\n",
    "    \"llama-3.2-3b-instruct-pairwise\": \"llama-3.2\",\n",
    "    \"kimi-k2-0905-preview__listwise\": \"kimi-k2\",\n",
    "    \"deepseek-chat__pairwise\": \"deepseek-chat\",\n",
    "    \"grok-4-fast\": \"grok-4\",\n",
    "    \"gpt-4o__pairwise\": \"chatgpt-4o\",\n",
    "    # loose alternates\n",
    "    \"phi3_mini_4k\": \"phi3-mini\",\n",
    "    \"gemma-2-2b-it\": \"gemma-2\",\n",
    "    \"qwen2.5-3b-instruct\": \"qwen2.5\",\n",
    "    \"kimi-k2-0905-preview\": \"kimi-k2\",\n",
    "    \"grok-4\": \"grok-4\",\n",
    "    \"gpt-4o\": \"chatgpt-4o\",\n",
    "}\n",
    "\n",
    "def _position_discount(i: int) -> float:\n",
    "    # i is 1-based rank position\n",
    "    return 1.0 / math.log2(i + 1)\n",
    "\n",
    "def _build_reference_gains(truth: List[str], k: int) -> Dict[str, float]:\n",
    "    \"\"\"\n",
    "    Gains from the *reference* rank:\n",
    "      g(x) = 1/log2(rank_in_ref + 1)\n",
    "    Only the top-k of the reference contribute gains.\n",
    "    \"\"\"\n",
    "    gains: Dict[str, float] = {}\n",
    "    for rank, item in enumerate(truth[:k], start=1):\n",
    "        gains[item] = _position_discount(rank)\n",
    "    return gains\n",
    "\n",
    "def _dcg_with_gains(pred: List[str], gains: Dict[str, float], k: int) -> float:\n",
    "    \"\"\"\n",
    "    DCG using *graded* gains defined by the reference list, discounted by\n",
    "    the *predicted* position.\n",
    "    \"\"\"\n",
    "    dcg = 0.0\n",
    "    for i, item in enumerate(pred[:k], start=1):\n",
    "        rel = gains.get(item, 0.0)          # 0 if item not in reference@k\n",
    "        dcg += rel * _position_discount(i)  # discount by predicted position\n",
    "    return dcg\n",
    "\n",
    "def _idcg_with_gains(gains: Dict[str, float], k: int) -> float:\n",
    "    \"\"\"\n",
    "    Ideal DCG: assign the largest gains to the top discounted positions.\n",
    "    \"\"\"\n",
    "    rels = sorted(gains.values(), reverse=True)[:k]\n",
    "    return sum(rel * _position_discount(i) for i, rel in enumerate(rels, start=1))\n",
    "\n",
    "def ndcg_at_k(pred: List[str], truth: List[str], k: int = 10) -> float:\n",
    "    \"\"\"\n",
    "    Order-sensitive nDCG@k using *reference-rank graded gains*.\n",
    "    \"\"\"\n",
    "    gains = _build_reference_gains(truth, k)\n",
    "    dcg = _dcg_with_gains(pred, gains, k)\n",
    "    idcg = _idcg_with_gains(gains, k)\n",
    "    return (dcg / idcg) if idcg > 0 else 0.0\n",
    "\n",
    "def symmetric_ndcg_at_k(a: List[str], b: List[str], k: int = 10) -> float:\n",
    "    \"\"\"\n",
    "    Symmetric average: nDCG(a | gains-from-b) and nDCG(b | gains-from-a).\n",
    "    \"\"\"\n",
    "    return 0.5 * (ndcg_at_k(a, b, k) + ndcg_at_k(b, a, k))\n"
   ]
  },
  {
   "cell_type": "code",
   "execution_count": 101,
   "id": "1f9769be",
   "metadata": {},
   "outputs": [],
   "source": [
    "# Loading results\n",
    "def extract_model_tag(path: str) -> str:\n",
    "    name = pathlib.Path(path).name\n",
    "    m = re.search(r\"llm_top10__([^_][\\w\\-\\.\\+]+?)__.*\\.csv$\", name)\n",
    "    return m.group(1) if m else name.replace(\".csv\",\"\")\n",
    "\n",
    "def map_tag_to_display(tag: str) -> str:\n",
    "    if tag in TAG_TO_DISPLAY: return TAG_TO_DISPLAY[tag]\n",
    "    low = tag.lower()\n",
    "    if \"phi3\" in low: return \"phi3-mini\"\n",
    "    if \"gemma-2\" in low: return \"gemma-2\"\n",
    "    if \"qwen2.5\" in low or \"qwen-2.5\" in low: return \"qwen2.5\"\n",
    "    if \"llama-3.2\" in low: return \"llama-3.2\"\n",
    "    if \"kimi\" in low or \"moonshot\" in low: return \"kimi-k2\"\n",
    "    if \"deepseek\" in low: return \"deepseek-chat\"\n",
    "    if \"grok\" in low: return \"grok-4\"\n",
    "    if \"gpt-4o\" in low or \"chatgpt-4o\" in low: return \"chatgpt-4o\"\n",
    "    return tag\n",
    "\n",
    "def load_llm_top10_files(llm_dir: str) -> Dict[str, pd.DataFrame]:\n",
    "    models = {}\n",
    "    if os.path.isdir(llm_dir):\n",
    "        for f in os.listdir(llm_dir):\n",
    "            if f.startswith(\"llm_top10__\") and f.endswith(\".csv\"):\n",
    "                p = os.path.join(llm_dir, f)\n",
    "                try:\n",
    "                    df = pd.read_csv(p)\n",
    "                    if {\"query\",\"job_titles\"}.issubset(df.columns):\n",
    "                        tag = map_tag_to_display(extract_model_tag(p))\n",
    "                        models[tag] = df.copy()\n",
    "                except Exception as e:\n",
    "                    print(f\"Warning reading {p}: {e}\")\n",
    "    return models\n",
    "\n",
    "def load_sbert_baseline(path: str) -> Dict[str, pd.DataFrame]:\n",
    "    models = {}\n",
    "    if os.path.isfile(path):\n",
    "        try:\n",
    "            df = pd.read_csv(path)\n",
    "            if {\"query\",\"job_titles\"}.issubset(df.columns):\n",
    "                models[\"SBERT\"] = df.copy()\n",
    "        except Exception as e:\n",
    "            print(f\"Warning reading SBERT CSV: {e}\")\n",
    "    return models\n",
    "\n",
    "def build_topk_by_query(model_frames: Dict[str, pd.DataFrame], k:int=10) -> Dict[str, Dict[str, List[str]]]:\n",
    "    out = {}\n",
    "    for model, df in model_frames.items():\n",
    "        per_q = {}\n",
    "        for q, g in df.groupby(\"query\"):\n",
    "            g2 = g.sort_values(\"score\", ascending=False) if \"score\" in g.columns else g\n",
    "            per_q[str(q)] = g2[\"job_titles\"].astype(str).head(k).tolist()\n",
    "        out[model] = per_q\n",
    "    return out\n",
    "\n",
    "def compute_matrix_for_query(q: str, topk_by_model: Dict[str, Dict[str, List[str]]], order: List[str]) -> pd.DataFrame:\n",
    "    present = [m for m in order if m in topk_by_model]   # keep requested order, drop missing\n",
    "    n = len(present)\n",
    "    mat = np.zeros((n, n), dtype=float)\n",
    "    for i, mi in enumerate(present):\n",
    "        li = topk_by_model[mi].get(q, [])\n",
    "        for j, mj in enumerate(present):\n",
    "            lj = topk_by_model[mj].get(q, [])\n",
    "            mat[i, j] = 1.0 if i == j else (symmetric_ndcg_at_k(li, lj, K) if li and lj else np.nan)\n",
    "    return pd.DataFrame(mat, index=present, columns=present)\n",
    "\n"
   ]
  },
  {
   "cell_type": "code",
   "execution_count": 102,
   "id": "e93fc271",
   "metadata": {},
   "outputs": [],
   "source": [
    "# Build the matrices\n",
    "llm_models = load_llm_top10_files(LLM_DIR)\n",
    "sbert_model = load_sbert_baseline(SBERT_PATH)\n",
    "all_models = {**sbert_model, **llm_models}\n",
    "\n",
    "if not all_models:\n",
    "    raise FileNotFoundError(\n",
    "        \"No CSVs found.\\n\"\n",
    "        f\"- SBERT: {SBERT_PATH}\\n\"\n",
    "        f\"- LLMs : {LLM_DIR}/llm_top10__*.csv\"\n",
    "    )\n",
    "\n",
    "# Query order = first seen across models\n",
    "queries = []\n",
    "for df in all_models.values():\n",
    "    for q in df[\"query\"].unique():\n",
    "        if q not in queries:\n",
    "            queries.append(q)\n",
    "\n"
   ]
  },
  {
   "cell_type": "code",
   "execution_count": 103,
   "id": "d2087b11",
   "metadata": {},
   "outputs": [
    {
     "data": {
      "image/png": "[encoded data removed]",
      "text/plain": [
       "<Figure size 1600x900 with 5 Axes>"
      ]
     },
     "metadata": {},
     "output_type": "display_data"
    }
   ],
   "source": [
    "# PLOT\n",
    "topk_by_model = build_topk_by_query(all_models, k=K)\n",
    "\n",
    "# pick first 4 queries for the 2×2\n",
    "selected = queries[:4]\n",
    "\n",
    "# Single figure with 2×2 subplots\n",
    "fig, axes = plt.subplots(2, 2, figsize=(16, 9), constrained_layout=False)\n",
    "axes = axes.flatten()\n",
    "\n",
    "last_im = None\n",
    "for ax, q in zip(axes, selected):\n",
    "    mat = compute_matrix_for_query(q, topk_by_model, DISPLAY_ORDER)\n",
    "    im = ax.imshow(mat.values, vmin=0.0, vmax=1.0, interpolation=\"nearest\", aspect=\"auto\")\n",
    "    last_im = im\n",
    "\n",
    "    ax.set_xticks(range(len(mat.columns)))\n",
    "    ax.set_xticklabels(mat.columns, rotation=45, ha=\"right\")\n",
    "    ax.set_yticks(range(len(mat.index)))\n",
    "    ax.set_yticklabels(mat.index)\n",
    "    ax.set_title(q)\n",
    "\n",
    "    ax.set_xticks(np.arange(-.5, len(mat.columns), 1), minor=True)\n",
    "    ax.set_yticks(np.arange(-.5, len(mat.index), 1), minor=True)\n",
    "    ax.grid(which=\"minor\", linestyle=\"-\", linewidth=0.5, alpha=0.3)\n",
    "    ax.tick_params(which=\"both\", length=0)\n",
    "    \n",
    "    for i in range(mat.shape[0]):\n",
    "        for j in range(mat.shape[1]):\n",
    "            ax.text(j, i, f\"{mat.values[i, j]:.2f}\",\n",
    "                    ha=\"center\", va=\"center\", color=\"white\", fontsize=7)\n",
    "\n",
    "# hide any unused axes if <4 queries\n",
    "for ax in axes[len(selected):]:\n",
    "    ax.axis(\"off\")\n",
    "\n",
    "# lay out subplots and LEAVE room on the right\n",
    "fig.suptitle(\"Cross-family nDCG@10 similarity of Top-10 results\", fontsize=14, y=0.98)\n",
    "fig.tight_layout(rect=[0.03, 0.06, 0.88, 0.93])  # <-- reserve right margin\n",
    "\n",
    "# add a DEDICATED colorbar axis (x0, y0, width, height in figure coords)\n",
    "cbar_ax = fig.add_axes([0.90, 0.15, 0.02, 0.70])  # right-side, tall & thin\n",
    "cbar = fig.colorbar(last_im, cax=cbar_ax)\n",
    "cbar.ax.set_ylabel(\"symmetric nDCG@10\", rotation=270, labelpad=12)\n",
    "\n",
    "\n",
    "plt.show()\n"
   ]
  },
  {
   "cell_type": "markdown",
   "id": "bdde7986",
   "metadata": {},
   "source": [
    "### Conclusion\n",
    "\n",
    "The cross-family similarity matrices reveal that **smaller LLMs run locally** (Phi-3, Gemma-2, Qwen2.5, Llama-3.2) achieve **considerable agreement** in their top-10 rankings, especially under **listwise prompting**.  \n",
    "In contrast, rankings derived from **SBERT embeddings with cosine similarity** diverge more strongly from LLM-based outputs.  \n",
    "Meanwhile, **DeepSeek, Grok, and ChatGPT-4o** show **relevant alignment with each other**, reflecting their **pairwise prompt setup**.\n",
    "\n",
    "👏🦙 Notably, **LLaMA-3**, even when prompted listwise, reaches a **similar agreement level to larger API-based LLMs**, highlighting its strong performance.  \n",
    "\n"
   ]
  },
  {
   "cell_type": "markdown",
   "id": "90b76db9",
   "metadata": {},
   "source": [
    "---"
   ]
  }
 ],
 "metadata": {
  "kernelspec": {
   "display_name": "Pot_Tals_LLM_Env",
   "language": "python",
   "name": "pot-tals_llm_env"
  },
  "language_info": {
   "codemirror_mode": {
    "name": "ipython",
    "version": 3
   },
   "file_extension": ".py",
   "mimetype": "text/x-python",
   "name": "python",
   "nbconvert_exporter": "python",
   "pygments_lexer": "ipython3",
   "version": "3.12.7"
  }
 },
 "nbformat": 4,
 "nbformat_minor": 5
}
